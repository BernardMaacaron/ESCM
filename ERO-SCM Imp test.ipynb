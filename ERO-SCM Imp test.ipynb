{
 "cells": [
  {
   "cell_type": "code",
   "execution_count": 11,
   "id": "6d126ffc",
   "metadata": {},
   "outputs": [],
   "source": [
    "from brian2 import *\n",
    "# set_device('cpp_standalone') # for faster execution - builds a standalone C++ program\n",
    "\n",
    "import NeuronEquations\n",
    "import BrianHF\n",
    "import numpy as np\n",
    "\n",
    "from bimvee.importAe import importAe\n",
    "from EvCamDatabase import DAVIS_346B\n",
    "\n",
    "import os\n",
    "import gc\n",
    "import time\n",
    "\n",
    "# TODO XXX: Turn all lists into numpy arrays for the sake of memory efficiency"
   ]
  },
  {
   "cell_type": "code",
   "execution_count": 12,
   "id": "f3dc1209",
   "metadata": {},
   "outputs": [],
   "source": [
    "# XXX: Extract the event stream using bimvee - needs refactoring to be more general\n",
    "# grid_width, grid_height= ATIS_GEN3['width'], ATIS_GEN3['height']\n",
    "# filePath = 'massi'\n",
    "# events = importAe(filePathOrName=filePath)\n",
    "# eventStream = events['data']['ch0']['dvs']"
   ]
  },
  {
   "cell_type": "code",
   "execution_count": 13,
   "id": "1aea5bd2",
   "metadata": {},
   "outputs": [
    {
     "name": "stdout",
     "output_type": "stream",
     "text": [
      "{'filePathOrName': 'MVSEC_short_outdoor'}\n",
      "{'filePathOrName': 'MVSEC_short_outdoor'}\n",
      "{'filePathOrName': 'MVSEC_short_outdoor/rightdvs'}\n",
      "{'filePathOrName': 'MVSEC_short_outdoor/rightdvs'}\n",
      "importIitYarp trying path: MVSEC_short_outdoor/rightdvs\n"
     ]
    },
    {
     "name": "stderr",
     "output_type": "stream",
     "text": [
      "100%|██████████| 38024/38024 [00:05<00:00, 6855.72it/s] \n"
     ]
    },
    {
     "name": "stdout",
     "output_type": "stream",
     "text": [
      "Examining info.log: MVSEC_short_outdoor/rightdvs/info.log\n",
      "{'filePathOrName': 'MVSEC_short_outdoor/leftdvs'}\n",
      "{'filePathOrName': 'MVSEC_short_outdoor/leftdvs'}\n",
      "importIitYarp trying path: MVSEC_short_outdoor/leftdvs\n"
     ]
    },
    {
     "name": "stderr",
     "output_type": "stream",
     "text": [
      "100%|██████████| 38292/38292 [00:06<00:00, 5870.83it/s] \n"
     ]
    },
    {
     "name": "stdout",
     "output_type": "stream",
     "text": [
      "Examining info.log: MVSEC_short_outdoor/leftdvs/info.log\n",
      "\n"
     ]
    }
   ],
   "source": [
    "grid_width, grid_height= DAVIS_346B['width'], DAVIS_346B['height']\n",
    "filePath = 'MVSEC_short_outdoor'\n",
    "events = importAe(filePathOrName=filePath)\n",
    "try:\n",
    "    eventStream = events[0]['data']['left']['dvs']\n",
    "except:\n",
    "    eventStream = events[0]['data']['right']['dvs']\n",
    "eventStream.popitem()\n",
    "print()"
   ]
  },
  {
   "cell_type": "markdown",
   "id": "93bd1f3c",
   "metadata": {},
   "source": [
    "## Steps for the setting up the network:\n",
    "1. Generate the input spikes\n",
    "2. Set the parameters for the Simulation and Network (Neurons, Synapses, etc.)\n",
    "3. Prepare the directory structure for saving the results\n",
    "4. Create the neuron group(s)\n",
    "5. Create the synapses\n",
    "6. Connect the synapses\n",
    "7. Define the weights of the synapses\n",
    "8. Set up monitors according to need\n",
    "9. Run the simulation\n",
    "10. (Optional) Visualize the results\n"
   ]
  },
  {
   "cell_type": "markdown",
   "id": "8dfa559a",
   "metadata": {},
   "source": [
    "### 1. Generate the input spikes from the event stream\n",
    "###### Brian Simulation Scope"
   ]
  },
  {
   "cell_type": "code",
   "execution_count": 14,
   "id": "553dd49b",
   "metadata": {},
   "outputs": [
    {
     "name": "stdout",
     "output_type": "stream",
     "text": [
      "Extracting the event data...\n",
      "Polarity was chosen to be ignored. All events are extracted.\n",
      "Selecting a percentage of the spikes at regular intervals... Percentage:  100.0 %\n",
      "The maximum x index 345 while the width is 346\n",
      "The maximum y index 259 while the height is 260\n",
      "The x,y and time stamp indices are equal, the data is correct.\n",
      "Checking for duplicate pairs...\n",
      "Duplicate pairs found. Total Number of duplicates: 247\n",
      "Total number of pairs/spikes after removing duplicates: 6918692 pairs.\n",
      "The maximum time stamp (scaled) 19999.922 ms.\n",
      "The recommended simulation time (scaled) is 20000.0 ms.\n",
      "The minimum time step (scaled) is 0.4989999999988868 ms.\n",
      "The recommended clock time step (scaled) is 0.5 ms.\n",
      "Input event stream successfully converted to spike trains\n",
      "\n"
     ]
    }
   ],
   "source": [
    "# HACK XXX: The input is now not in real time, must be fixed eventually to process real time event data\n",
    "# IMPORTANT NOTE: Output is float, so we need to convert to Quantities (i.e give them units)\n",
    "\n",
    "# Simulation Parameters\n",
    "defaultclock.dt = 0.1*ms\n",
    "samplePerc = 1.0\n",
    "SaveNumpyFrames = False\n",
    "GenerateGIFs = False\n",
    "GenerateVideos = True\n",
    "\n",
    "GenerateInputVisuals = False\n",
    "GenerateOutputVisuals = False\n",
    "\n",
    "simTime, clockStep, inputSpikesGen = BrianHF.event_to_spike(eventStream, grid_width, grid_height,\n",
    "                                                            dt = defaultclock.dt, timeScale = 1.0, samplePercentage=samplePerc, interSpikeTiming=None)\n",
    "# defaultclock.dt = clockStep*ms\n",
    "print(\"Input event stream successfully converted to spike trains\\n\")"
   ]
  },
  {
   "cell_type": "markdown",
   "id": "2657cbf5",
   "metadata": {},
   "source": [
    "### 2. Set the parameters for the Simulation and Network (Neurons, Synapses, etc.)\n",
    "Parameter values can be tuned per namespace (this is done for clarity purposes)."
   ]
  },
  {
   "cell_type": "code",
   "execution_count": 15,
   "id": "9376017c",
   "metadata": {},
   "outputs": [
    {
     "data": {
      "text/plain": [
       "{'tau': 200. * usecond,\n",
       " 'vt': 0.1,\n",
       " 'vr': 0.0,\n",
       " 'P': 0,\n",
       " 'incoming_spikes': 0,\n",
       " 'method_Neuron': 'exact',\n",
       " 'Num_Neighbours': 8,\n",
       " 'beta': 0.4,\n",
       " 'Wi': 0.6,\n",
       " 'Wk': -4.25,\n",
       " 'method_Syn': 'exact',\n",
       " 'Sim_Clock': 100. * usecond,\n",
       " 'Sample_Perc': 1.0}"
      ]
     },
     "metadata": {},
     "output_type": "display_data"
    }
   ],
   "source": [
    "# NOTE: The values are unitless for now, time constants are in ms simply to be able to tune to the simulation clock\n",
    "\n",
    "# Neuron Parameters\n",
    "N_Neurons = grid_width * grid_height    # Number of neurons\n",
    "\n",
    "Neuron_Params = {'tau': 0.2*ms, 'vt': 0.1, 'vr': 0.0, 'P': 0, 'incoming_spikes': 0, 'method_Neuron': 'exact'}\n",
    "tau = Neuron_Params['tau']\n",
    "vt = Neuron_Params['vt']\n",
    "vr = Neuron_Params['vr']\n",
    "P = Neuron_Params['P']\n",
    "incoming_spikes = Neuron_Params['incoming_spikes']\n",
    "\n",
    "Eqs_Neurons = NeuronEquations.EQ_SCM_IF    # Neurons Equation\n",
    " \n",
    "# Synapse Parameters\n",
    "'''\n",
    "Neighborhood Size (num_Neighbors) - Affects the number of neighbors a central neuron based on the L1 Distance\n",
    "Neighboring Neurons --> (abs(X_pre - X_post) <= Num_Neighbours  and abs(Y_pre - Y_post) <= Num_Neighbours)\n",
    "'''\n",
    "Syn_Params = {'Num_Neighbours' : 8, 'beta': 0.4, 'Wi': 0.6, 'Wk': -4.25, 'method_Syn': 'exact'}\n",
    "Num_Neighbours = Syn_Params['Num_Neighbours']\n",
    "beta = Syn_Params['beta']\n",
    "Wi = Syn_Params['Wi']\n",
    "Wk = Syn_Params['Wk']\n",
    "\n",
    "# Generate the dictionary of parameters for the network\n",
    "networkParams = {**Neuron_Params, **Syn_Params, 'Sim_Clock': defaultclock.dt, 'Sample_Perc': samplePerc}\n",
    "display(networkParams)"
   ]
  },
  {
   "cell_type": "markdown",
   "id": "8bf75640",
   "metadata": {},
   "source": [
    "### 3. Prepare the directory structure for saving the results"
   ]
  },
  {
   "cell_type": "code",
   "execution_count": 16,
   "id": "3f49d544",
   "metadata": {},
   "outputs": [],
   "source": [
    "resultPath = 'SimulationResults'\n",
    "inputStr = BrianHF.filePathGenerator('SCM_IF_IN_TEMP', networkParams).replace(\" \", \"\")\n",
    "outputStr = BrianHF.filePathGenerator('SCM_IF_OUT_TEMP', networkParams).replace(\" \", \"\")\n",
    "\n",
    "# Create the folder if it doesn't exist\n",
    "if not os.path.exists(resultPath):\n",
    "    os.makedirs(resultPath)\n",
    "\n",
    "logPath = os.path.join('YarpSpikeLog', outputStr)\n",
    "# Create the subfolders if they don't exist\n",
    "subfolders = [logPath, 'spikeFrames', 'numpyFrames', 'gifs', 'videos']\n",
    "for subfolder in subfolders:\n",
    "    subfolderPath = os.path.join(resultPath, subfolder)\n",
    "    if not os.path.exists(subfolderPath):\n",
    "        os.makedirs(subfolderPath)"
   ]
  },
  {
   "cell_type": "markdown",
   "id": "2107c362",
   "metadata": {},
   "source": [
    "### 4. Create the neuron group(s)"
   ]
  },
  {
   "cell_type": "code",
   "execution_count": 17,
   "id": "4ac05e13",
   "metadata": {},
   "outputs": [
    {
     "name": "stdout",
     "output_type": "stream",
     "text": [
      "Creating Neuron Groups...\n"
     ]
    }
   ],
   "source": [
    "print('Creating Neuron Groups...')"
   ]
  },
  {
   "cell_type": "code",
   "execution_count": 18,
   "id": "a7dda104",
   "metadata": {},
   "outputs": [],
   "source": [
    "# TODO XXX: The events are running on the clockStep, I should at least fix them to use the (event_driven) setting in Brian2\n",
    "neuronsGrid = NeuronGroup(N_Neurons, Eqs_Neurons, threshold='v>vt',\n",
    "                            reset='''\n",
    "                            v = vr\n",
    "                            incoming_spikes_post = 0\n",
    "                            ''',\n",
    "                            refractory='0.01*ms',\n",
    "                            events={'P_ON': 'v > vt', 'P_OFF': '(timestep(t - lastspike, dt) > timestep(dt, dt) and v <= vt)'},\n",
    "                            method= Neuron_Params['method_Neuron'],\n",
    "                            namespace=Neuron_Params)\n",
    "\n",
    "\n",
    "# Define the created events, the actions to be taken as well as when they should be evaluated and executed\n",
    "neuronsGrid.set_event_schedule('P_ON', when = 'after_thresholds')\n",
    "neuronsGrid.run_on_event('P_ON', 'P = 1' , when = 'after_thresholds')\n",
    "neuronsGrid.set_event_schedule('P_OFF', when = 'groups')\n",
    "neuronsGrid.run_on_event('P_OFF', 'P = 0', when = 'groups')\n",
    "\n",
    "# FIXME: Verify the grid coordinates and assign the X and Y values to the neurons accordingly\n",
    "# Generate x and y values for each neuron\n",
    "# x_values = np.repeat(np.arange(grid_width), grid_height)\n",
    "# y_values = np.tile(np.arange(grid_height), grid_width)\n",
    "y_values, x_values = divmod(neuronsGrid.i, grid_width)\n",
    "neuronsGrid.X = x_values\n",
    "neuronsGrid.Y = y_values"
   ]
  },
  {
   "cell_type": "code",
   "execution_count": 19,
   "id": "7f1e7136",
   "metadata": {},
   "outputs": [
    {
     "name": "stdout",
     "output_type": "stream",
     "text": [
      "Neuron Groups created successfully\n",
      "\n"
     ]
    }
   ],
   "source": [
    "print('Neuron Groups created successfully\\n')"
   ]
  },
  {
   "cell_type": "markdown",
   "id": "8891d013",
   "metadata": {},
   "source": [
    "#### 5. Create the synapses"
   ]
  },
  {
   "cell_type": "code",
   "execution_count": 20,
   "id": "56c583e8",
   "metadata": {},
   "outputs": [
    {
     "name": "stdout",
     "output_type": "stream",
     "text": [
      "Creating Synapse Connections...\n"
     ]
    }
   ],
   "source": [
    "print('Creating Synapse Connections...')"
   ]
  },
  {
   "cell_type": "code",
   "execution_count": 21,
   "id": "29fdf2b2",
   "metadata": {},
   "outputs": [],
   "source": [
    "Syn_Input_Neurons = Synapses(inputSpikesGen, neuronsGrid,\n",
    "                             'beta : 1 (constant)',\n",
    "                             on_pre='ExtIn_post = beta',\n",
    "                             method='exact',\n",
    "                             namespace=Syn_Params)\n",
    "\n",
    "# NOTE: In hopes of reducing simulation time, I am using _pre keyword to avoid the need for an autapse. Hence only one Synapse group is needed\n",
    "Syn_Neurons_Neurons = Synapses(neuronsGrid, neuronsGrid,\n",
    "                               '''\n",
    "                               Wi : 1\n",
    "                               Wk : 1\n",
    "                               ''',\n",
    "                               on_pre={\n",
    "                                   'pre':'incoming_spikes_post += 1; Exc_pre = Wi',\n",
    "                                   'pre_2': 'Inh_post = P_post * Wk * incoming_spikes_post'},\n",
    "                               method= 'exact',\n",
    "                               namespace=Syn_Params)"
   ]
  },
  {
   "cell_type": "markdown",
   "id": "b604ddbd",
   "metadata": {},
   "source": [
    "### 6. Connect the synapses"
   ]
  },
  {
   "cell_type": "code",
   "execution_count": 22,
   "id": "8598a6e7",
   "metadata": {},
   "outputs": [],
   "source": [
    "# Connect the first synapses from input to G_neurons on a 1 to 1 basis\n",
    "Syn_Input_Neurons.connect(j='i') \n",
    "Syn_Input_Neurons.beta = beta"
   ]
  },
  {
   "cell_type": "code",
   "execution_count": 23,
   "id": "1579b974",
   "metadata": {},
   "outputs": [],
   "source": [
    "''' NOTE: The following code implements the connections for the Neurons to Neurons synapses\n",
    "which as mentioned before implicitly includes the autapses.\n",
    "The code below is a faster implementation of:\n",
    "    Syn_Neurons_Neurons.connect(condition='i != j and abs(X_pre - X_post) <= Num_Neighbours and abs(Y_pre - Y_post) <= Num_Neighbours')\n",
    "'''\n",
    "\n",
    "indexes_i, indexes_j = BrianHF.calculate_ChebyshevNeighbours(neuronsGrid, Num_Neighbours)\n",
    "Syn_Neurons_Neurons.connect(i=indexes_i, j=indexes_j)\n",
    "Syn_Neurons_Neurons.Wi = Wi\n",
    "Syn_Neurons_Neurons.Wk = Wk"
   ]
  },
  {
   "cell_type": "code",
   "execution_count": 24,
   "id": "19df3cfa",
   "metadata": {},
   "outputs": [
    {
     "name": "stdout",
     "output_type": "stream",
     "text": [
      "Synapse Connections created successfully\n",
      "\n"
     ]
    }
   ],
   "source": [
    "print('Synapse Connections created successfully\\n')"
   ]
  },
  {
   "cell_type": "markdown",
   "id": "3286d5af",
   "metadata": {},
   "source": [
    "### 7. Set up monitors"
   ]
  },
  {
   "cell_type": "code",
   "execution_count": 25,
   "id": "8a81bd76",
   "metadata": {},
   "outputs": [],
   "source": [
    "if GenerateInputVisuals:\n",
    "    SpikeMon_Input = SpikeMonitor(inputSpikesGen)    # Monitor the spikes from the input\n",
    "\n",
    "# IMPORTANT NOTE: The SpikeMonitor for the active neurons is moved to the simulation block to avoid memory issues.\n",
    "# The data is now broken down into smaller chunks and saved to disk\n",
    "\n",
    "# StateMon_Neurons = StateMonitor(neuronsGrid, variables=True, record=True)    # Monitor the state variables - True for all variables. NOTE: WARNING!! Excessive memory usage"
   ]
  },
  {
   "cell_type": "markdown",
   "id": "3acb171a",
   "metadata": {},
   "source": [
    "### 8. Run the simulation"
   ]
  },
  {
   "cell_type": "code",
   "execution_count": 26,
   "id": "093e24e3",
   "metadata": {},
   "outputs": [
    {
     "name": "stdout",
     "output_type": "stream",
     "text": [
      "Starting simulation - Total time:  20. s\n",
      "\n",
      "Running simulation chunk 1/10 for 2000.0 ms\n",
      "Running in a Jupyter notebook\n",
      "Starting simulation at t=0. s for a duration of 2. s\n",
      "0.7191 s (35%) simulated in 5s, estimated 9s remaining.\n",
      "1.2082 s (60%) simulated in 10s, estimated 7s remaining.\n",
      "1.6199 s (80%) simulated in 15s, estimated 4s remaining.\n",
      "1.9954 s (99%) simulated in 20s, estimated < 1s remaining.\n",
      "2. s (100%) simulated in 20s\n",
      "\n",
      "Running simulation chunk 2/10 for 2000.0 ms\n",
      "Running in a Jupyter notebook\n",
      "Starting simulation at t=2. s for a duration of 2. s\n",
      "0.3229 s (16%) simulated in 5s, estimated 26s remaining.\n",
      "0.6164 s (30%) simulated in 10s, estimated 22s remaining.\n",
      "0.8818 s (44%) simulated in 15s, estimated 19s remaining.\n",
      "1.1142 s (55%) simulated in 20s, estimated 16s remaining.\n",
      "1.3172 s (65%) simulated in 25s, estimated 13s remaining.\n",
      "1.5014 s (75%) simulated in 30s, estimated 10s remaining.\n",
      "1.6692 s (83%) simulated in 35s, estimated 7s remaining.\n",
      "1.8217 s (91%) simulated in 40s, estimated 4s remaining.\n",
      "1.9668 s (98%) simulated in 45s, estimated 1s remaining.\n",
      "2. s (100%) simulated in 46s\n",
      "\n",
      "Running simulation chunk 3/10 for 2000.0 ms\n",
      "Running in a Jupyter notebook\n",
      "Starting simulation at t=4. s for a duration of 2. s\n",
      "125.6 ms (6%) simulated in 5s, estimated 1m 15s remaining.\n",
      "246. ms (12%) simulated in 10s, estimated 1m 11s remaining.\n",
      "0.3619 s (18%) simulated in 15s, estimated 1m 8s remaining.\n",
      "0.474 s (23%) simulated in 20s, estimated 1m 4s remaining.\n",
      "0.5812 s (29%) simulated in 25s, estimated 1m 1s remaining.\n",
      "0.6863 s (34%) simulated in 30s, estimated 57s remaining.\n",
      "0.7896 s (39%) simulated in 35s, estimated 54s remaining.\n",
      "0.8946 s (44%) simulated in 40s, estimated 49s remaining.\n",
      "0.9979 s (49%) simulated in 45s, estimated 45s remaining.\n",
      "1.0976 s (54%) simulated in 50s, estimated 41s remaining.\n",
      "1.1975 s (59%) simulated in 55s, estimated 37s remaining.\n",
      "1.2977 s (64%) simulated in 1m 0s, estimated 32s remaining.\n",
      "1.3979 s (69%) simulated in 1m 5s, estimated 28s remaining.\n",
      "1.4977 s (74%) simulated in 1m 10s, estimated 23s remaining.\n",
      "1.5958 s (79%) simulated in 1m 15s, estimated 19s remaining.\n",
      "1.6916 s (84%) simulated in 1m 20s, estimated 15s remaining.\n",
      "1.7845 s (89%) simulated in 1m 25s, estimated 10s remaining.\n",
      "1.8761 s (93%) simulated in 1m 30s, estimated 6s remaining.\n",
      "1.966 s (98%) simulated in 1m 35s, estimated 2s remaining.\n",
      "2. s (100%) simulated in 1m 36s\n",
      "\n",
      "Running simulation chunk 4/10 for 2000.0 ms\n",
      "Running in a Jupyter notebook\n",
      "Starting simulation at t=6. s for a duration of 2. s\n",
      "87.3 ms (4%) simulated in 5s, estimated 1m 50s remaining.\n",
      "168.1 ms (8%) simulated in 10s, estimated 1m 49s remaining.\n",
      "252.5 ms (12%) simulated in 15s, estimated 1m 44s remaining.\n",
      "0.3365 s (16%) simulated in 20s, estimated 1m 39s remaining.\n",
      "0.4188 s (20%) simulated in 25s, estimated 1m 34s remaining.\n",
      "0.4954 s (24%) simulated in 30s, estimated 1m 31s remaining.\n",
      "0.5743 s (28%) simulated in 35s, estimated 1m 27s remaining.\n",
      "0.6523 s (32%) simulated in 40s, estimated 1m 23s remaining.\n",
      "0.7298 s (36%) simulated in 45s, estimated 1m 18s remaining.\n",
      "0.8073 s (40%) simulated in 50s, estimated 1m 14s remaining.\n",
      "0.884 s (44%) simulated in 55s, estimated 1m 9s remaining.\n",
      "0.9593 s (47%) simulated in 1m 0s, estimated 1m 5s remaining.\n",
      "1.0332 s (51%) simulated in 1m 5s, estimated 1m 1s remaining.\n",
      "1.1057 s (55%) simulated in 1m 10s, estimated 57s remaining.\n",
      "1.1779 s (58%) simulated in 1m 15s, estimated 52s remaining.\n",
      "1.2515 s (62%) simulated in 1m 20s, estimated 48s remaining.\n",
      "1.3247 s (66%) simulated in 1m 25s, estimated 43s remaining.\n",
      "1.3981 s (69%) simulated in 1m 30s, estimated 39s remaining.\n",
      "1.471 s (73%) simulated in 1m 35s, estimated 34s remaining.\n",
      "1.5439 s (77%) simulated in 1m 40s, estimated 30s remaining.\n",
      "1.6165 s (80%) simulated in 1m 45s, estimated 25s remaining.\n",
      "1.6894 s (84%) simulated in 1m 50s, estimated 20s remaining.\n",
      "1.7615 s (88%) simulated in 1m 55s, estimated 16s remaining.\n",
      "1.8329 s (91%) simulated in 2m 0s, estimated 11s remaining.\n",
      "1.906 s (95%) simulated in 2m 5s, estimated 6s remaining.\n",
      "1.9785 s (98%) simulated in 2m 10s, estimated 1s remaining.\n",
      "2. s (100%) simulated in 2m 11s\n",
      "\n",
      "Running simulation chunk 5/10 for 2000.0 ms\n",
      "Running in a Jupyter notebook\n",
      "Starting simulation at t=8. s for a duration of 2. s\n",
      "72.5 ms (3%) simulated in 5s, estimated 2m 13s remaining.\n",
      "144. ms (7%) simulated in 10s, estimated 2m 9s remaining.\n",
      "213.7 ms (10%) simulated in 15s, estimated 2m 5s remaining.\n",
      "281.5 ms (14%) simulated in 20s, estimated 2m 2s remaining.\n",
      "0.3449 s (17%) simulated in 25s, estimated 2m 0s remaining.\n",
      "0.4072 s (20%) simulated in 30s, estimated 1m 57s remaining.\n",
      "0.4624 s (23%) simulated in 35s, estimated 1m 56s remaining.\n",
      "0.526 s (26%) simulated in 40s, estimated 1m 52s remaining.\n",
      "0.5878 s (29%) simulated in 45s, estimated 1m 48s remaining.\n",
      "0.6486 s (32%) simulated in 50s, estimated 1m 44s remaining.\n",
      "0.705 s (35%) simulated in 55s, estimated 1m 41s remaining.\n",
      "0.7632 s (38%) simulated in 1m 0s, estimated 1m 37s remaining.\n",
      "0.8288 s (41%) simulated in 1m 5s, estimated 1m 32s remaining.\n",
      "0.8909 s (44%) simulated in 1m 10s, estimated 1m 27s remaining.\n",
      "0.9532 s (47%) simulated in 1m 15s, estimated 1m 22s remaining.\n",
      "1.0185 s (50%) simulated in 1m 20s, estimated 1m 17s remaining.\n",
      "1.0844 s (54%) simulated in 1m 25s, estimated 1m 12s remaining.\n",
      "1.1477 s (57%) simulated in 1m 30s, estimated 1m 7s remaining.\n",
      "1.2121 s (60%) simulated in 1m 35s, estimated 1m 2s remaining.\n",
      "1.2752 s (63%) simulated in 1m 40s, estimated 57s remaining.\n",
      "1.3401 s (67%) simulated in 1m 45s, estimated 52s remaining.\n",
      "1.405 s (70%) simulated in 1m 50s, estimated 47s remaining.\n",
      "1.4697 s (73%) simulated in 1m 55s, estimated 42s remaining.\n",
      "1.5328 s (76%) simulated in 2m 0s, estimated 37s remaining.\n",
      "1.5927 s (79%) simulated in 2m 5s, estimated 32s remaining.\n",
      "1.6522 s (82%) simulated in 2m 10s, estimated 27s remaining.\n",
      "1.7115 s (85%) simulated in 2m 15s, estimated 23s remaining.\n",
      "1.7598 s (87%) simulated in 2m 20s, estimated 19s remaining.\n",
      "1.8195 s (90%) simulated in 2m 25s, estimated 14s remaining.\n",
      "1.8793 s (93%) simulated in 2m 30s, estimated 10s remaining.\n",
      "1.9385 s (96%) simulated in 2m 35s, estimated 5s remaining.\n",
      "1.998 s (99%) simulated in 2m 40s, estimated < 1s remaining.\n",
      "2. s (100%) simulated in 2m 40s\n",
      "\n",
      "Running simulation chunk 6/10 for 2000.0 ms\n",
      "Running in a Jupyter notebook\n",
      "Starting simulation at t=10. s for a duration of 2. s\n",
      "57.2 ms (2%) simulated in 5s, estimated 2m 50s remaining.\n",
      "114.6 ms (5%) simulated in 10s, estimated 2m 45s remaining.\n",
      "171.5 ms (8%) simulated in 15s, estimated 2m 40s remaining.\n",
      "229.2 ms (11%) simulated in 20s, estimated 2m 35s remaining.\n",
      "286.5 ms (14%) simulated in 25s, estimated 2m 30s remaining.\n",
      "0.3437 s (17%) simulated in 30s, estimated 2m 25s remaining.\n",
      "0.4006 s (20%) simulated in 35s, estimated 2m 20s remaining.\n",
      "0.4575 s (22%) simulated in 40s, estimated 2m 15s remaining.\n",
      "0.516 s (25%) simulated in 45s, estimated 2m 10s remaining.\n",
      "0.5753 s (28%) simulated in 50s, estimated 2m 4s remaining.\n",
      "0.6324 s (31%) simulated in 55s, estimated 1m 59s remaining.\n",
      "0.6958 s (34%) simulated in 1m 0s, estimated 1m 53s remaining.\n",
      "0.7602 s (38%) simulated in 1m 5s, estimated 1m 46s remaining.\n",
      "0.8154 s (40%) simulated in 1m 10s, estimated 1m 42s remaining.\n",
      "0.8678 s (43%) simulated in 1m 15s, estimated 1m 38s remaining.\n",
      "0.9282 s (46%) simulated in 1m 20s, estimated 1m 32s remaining.\n",
      "0.9881 s (49%) simulated in 1m 25s, estimated 1m 27s remaining.\n",
      "1.0473 s (52%) simulated in 1m 30s, estimated 1m 22s remaining.\n",
      "1.1018 s (55%) simulated in 1m 35s, estimated 1m 18s remaining.\n",
      "1.1558 s (57%) simulated in 1m 40s, estimated 1m 13s remaining.\n",
      "1.2113 s (60%) simulated in 1m 45s, estimated 1m 8s remaining.\n",
      "1.2614 s (63%) simulated in 1m 50s, estimated 1m 4s remaining.\n",
      "1.3109 s (65%) simulated in 1m 55s, estimated 1m 1s remaining.\n",
      "1.3612 s (68%) simulated in 2m 0s, estimated 56s remaining.\n",
      "1.418 s (70%) simulated in 2m 5s, estimated 51s remaining.\n",
      "1.4687 s (73%) simulated in 2m 10s, estimated 47s remaining.\n",
      "1.5247 s (76%) simulated in 2m 15s, estimated 42s remaining.\n",
      "1.5794 s (78%) simulated in 2m 20s, estimated 37s remaining.\n",
      "1.6319 s (81%) simulated in 2m 25s, estimated 33s remaining.\n",
      "1.6844 s (84%) simulated in 2m 30s, estimated 28s remaining.\n",
      "1.7357 s (86%) simulated in 2m 35s, estimated 24s remaining.\n",
      "1.7859 s (89%) simulated in 2m 40s, estimated 19s remaining.\n",
      "1.8367 s (91%) simulated in 2m 45s, estimated 15s remaining.\n",
      "1.8874 s (94%) simulated in 2m 50s, estimated 10s remaining.\n",
      "1.9384 s (96%) simulated in 2m 55s, estimated 6s remaining.\n",
      "1.9885 s (99%) simulated in 3m 0s, estimated 1s remaining.\n",
      "2. s (100%) simulated in 3m 1s\n",
      "\n",
      "Running simulation chunk 7/10 for 2000.0 ms\n",
      "Running in a Jupyter notebook\n",
      "Starting simulation at t=12. s for a duration of 2. s\n",
      "48.7 ms (2%) simulated in 5s, estimated 3m 21s remaining.\n",
      "97.6 ms (4%) simulated in 10s, estimated 3m 15s remaining.\n",
      "146.5 ms (7%) simulated in 15s, estimated 3m 10s remaining.\n",
      "196.5 ms (9%) simulated in 20s, estimated 3m 4s remaining.\n",
      "246.9 ms (12%) simulated in 25s, estimated 2m 58s remaining.\n",
      "297.9 ms (14%) simulated in 30s, estimated 2m 52s remaining.\n",
      "0.3492 s (17%) simulated in 35s, estimated 2m 46s remaining.\n",
      "0.4002 s (20%) simulated in 40s, estimated 2m 40s remaining.\n",
      "0.4496 s (22%) simulated in 45s, estimated 2m 35s remaining.\n",
      "0.4978 s (24%) simulated in 50s, estimated 2m 31s remaining.\n",
      "0.5474 s (27%) simulated in 55s, estimated 2m 26s remaining.\n",
      "0.5974 s (29%) simulated in 1m 0s, estimated 2m 21s remaining.\n",
      "0.6466 s (32%) simulated in 1m 5s, estimated 2m 16s remaining.\n",
      "0.6966 s (34%) simulated in 1m 10s, estimated 2m 11s remaining.\n",
      "0.7463 s (37%) simulated in 1m 15s, estimated 2m 6s remaining.\n",
      "0.7963 s (39%) simulated in 1m 20s, estimated 2m 1s remaining.\n",
      "0.8462 s (42%) simulated in 1m 25s, estimated 1m 56s remaining.\n",
      "0.8963 s (44%) simulated in 1m 30s, estimated 1m 51s remaining.\n",
      "0.9467 s (47%) simulated in 1m 35s, estimated 1m 46s remaining.\n",
      "0.9968 s (49%) simulated in 1m 40s, estimated 1m 41s remaining.\n",
      "1.0471 s (52%) simulated in 1m 45s, estimated 1m 36s remaining.\n",
      "1.097 s (54%) simulated in 1m 50s, estimated 1m 31s remaining.\n",
      "1.147 s (57%) simulated in 1m 55s, estimated 1m 26s remaining.\n",
      "1.1982 s (59%) simulated in 2m 0s, estimated 1m 20s remaining.\n",
      "1.25 s (62%) simulated in 2m 5s, estimated 1m 15s remaining.\n",
      "1.3023 s (65%) simulated in 2m 10s, estimated 1m 10s remaining.\n",
      "1.3541 s (67%) simulated in 2m 15s, estimated 1m 4s remaining.\n",
      "1.4054 s (70%) simulated in 2m 20s, estimated 59s remaining.\n",
      "1.4582 s (72%) simulated in 2m 25s, estimated 54s remaining.\n",
      "1.511 s (75%) simulated in 2m 30s, estimated 49s remaining.\n",
      "1.5632 s (78%) simulated in 2m 35s, estimated 43s remaining.\n",
      "1.6151 s (80%) simulated in 2m 40s, estimated 38s remaining.\n",
      "1.6664 s (83%) simulated in 2m 45s, estimated 33s remaining.\n",
      "1.7184 s (85%) simulated in 2m 50s, estimated 28s remaining.\n",
      "1.7702 s (88%) simulated in 2m 55s, estimated 23s remaining.\n",
      "1.8217 s (91%) simulated in 3m 0s, estimated 18s remaining.\n",
      "1.8733 s (93%) simulated in 3m 5s, estimated 13s remaining.\n",
      "1.9258 s (96%) simulated in 3m 10s, estimated 7s remaining.\n",
      "1.9778 s (98%) simulated in 3m 15s, estimated 2s remaining.\n",
      "2. s (100%) simulated in 3m 17s\n",
      "\n",
      "Running simulation chunk 8/10 for 2000.0 ms\n",
      "Running in a Jupyter notebook\n",
      "Starting simulation at t=14. s for a duration of 2. s\n",
      "50.9 ms (2%) simulated in 5s, estimated 3m 12s remaining.\n",
      "100.4 ms (5%) simulated in 10s, estimated 3m 9s remaining.\n",
      "149. ms (7%) simulated in 15s, estimated 3m 7s remaining.\n",
      "197.4 ms (9%) simulated in 20s, estimated 3m 3s remaining.\n",
      "246.1 ms (12%) simulated in 25s, estimated 2m 58s remaining.\n",
      "295.2 ms (14%) simulated in 30s, estimated 2m 53s remaining.\n",
      "0.3446 s (17%) simulated in 35s, estimated 2m 48s remaining.\n",
      "0.3946 s (19%) simulated in 40s, estimated 2m 43s remaining.\n",
      "0.4451 s (22%) simulated in 45s, estimated 2m 37s remaining.\n",
      "0.4949 s (24%) simulated in 50s, estimated 2m 32s remaining.\n",
      "0.544 s (27%) simulated in 55s, estimated 2m 27s remaining.\n",
      "0.5929 s (29%) simulated in 1m 0s, estimated 2m 23s remaining.\n",
      "0.6411 s (32%) simulated in 1m 5s, estimated 2m 18s remaining.\n",
      "0.6891 s (34%) simulated in 1m 10s, estimated 2m 13s remaining.\n",
      "0.7373 s (36%) simulated in 1m 15s, estimated 2m 9s remaining.\n",
      "0.7865 s (39%) simulated in 1m 20s, estimated 2m 4s remaining.\n",
      "0.8362 s (41%) simulated in 1m 25s, estimated 1m 58s remaining.\n",
      "0.8867 s (44%) simulated in 1m 30s, estimated 1m 53s remaining.\n",
      "0.9376 s (46%) simulated in 1m 35s, estimated 1m 48s remaining.\n",
      "0.9887 s (49%) simulated in 1m 40s, estimated 1m 42s remaining.\n",
      "1.0397 s (51%) simulated in 1m 45s, estimated 1m 37s remaining.\n",
      "1.0898 s (54%) simulated in 1m 50s, estimated 1m 32s remaining.\n",
      "1.1392 s (56%) simulated in 1m 55s, estimated 1m 27s remaining.\n",
      "1.1898 s (59%) simulated in 2m 0s, estimated 1m 22s remaining.\n",
      "1.2405 s (62%) simulated in 2m 5s, estimated 1m 17s remaining.\n",
      "1.2908 s (64%) simulated in 2m 10s, estimated 1m 12s remaining.\n",
      "1.3408 s (67%) simulated in 2m 15s, estimated 1m 6s remaining.\n",
      "1.3908 s (69%) simulated in 2m 20s, estimated 1m 1s remaining.\n",
      "1.4407 s (72%) simulated in 2m 25s, estimated 56s remaining.\n",
      "1.4896 s (74%) simulated in 2m 30s, estimated 51s remaining.\n",
      "1.5374 s (76%) simulated in 2m 35s, estimated 47s remaining.\n",
      "1.587 s (79%) simulated in 2m 40s, estimated 42s remaining.\n",
      "1.6365 s (81%) simulated in 2m 45s, estimated 37s remaining.\n",
      "1.6851 s (84%) simulated in 2m 50s, estimated 32s remaining.\n",
      "1.7334 s (86%) simulated in 2m 55s, estimated 27s remaining.\n",
      "1.7815 s (89%) simulated in 3m 0s, estimated 22s remaining.\n",
      "1.828 s (91%) simulated in 3m 5s, estimated 17s remaining.\n",
      "1.8742 s (93%) simulated in 3m 10s, estimated 13s remaining.\n",
      "1.9201 s (96%) simulated in 3m 15s, estimated 8s remaining.\n",
      "1.9671 s (98%) simulated in 3m 20s, estimated 3s remaining.\n",
      "2. s (100%) simulated in 3m 23s\n",
      "\n",
      "Running simulation chunk 9/10 for 2000.0 ms\n",
      "Running in a Jupyter notebook\n",
      "Starting simulation at t=16. s for a duration of 2. s\n",
      "47.8 ms (2%) simulated in 5s, estimated 3m 24s remaining.\n",
      "94.4 ms (4%) simulated in 10s, estimated 3m 22s remaining.\n",
      "141. ms (7%) simulated in 15s, estimated 3m 18s remaining.\n",
      "186.9 ms (9%) simulated in 20s, estimated 3m 14s remaining.\n",
      "233.9 ms (11%) simulated in 25s, estimated 3m 9s remaining.\n",
      "280.7 ms (14%) simulated in 30s, estimated 3m 4s remaining.\n",
      "0.3273 s (16%) simulated in 35s, estimated 2m 59s remaining.\n",
      "0.3717 s (18%) simulated in 40s, estimated 2m 55s remaining.\n",
      "0.4164 s (20%) simulated in 45s, estimated 2m 51s remaining.\n",
      "0.4627 s (23%) simulated in 50s, estimated 2m 46s remaining.\n",
      "0.5085 s (25%) simulated in 55s, estimated 2m 41s remaining.\n",
      "0.552 s (27%) simulated in 1m 0s, estimated 2m 38s remaining.\n",
      "0.598 s (29%) simulated in 1m 5s, estimated 2m 33s remaining.\n",
      "0.6447 s (32%) simulated in 1m 10s, estimated 2m 27s remaining.\n",
      "0.6917 s (34%) simulated in 1m 15s, estimated 2m 22s remaining.\n",
      "0.7389 s (36%) simulated in 1m 20s, estimated 2m 17s remaining.\n",
      "0.7835 s (39%) simulated in 1m 25s, estimated 2m 12s remaining.\n",
      "0.8309 s (41%) simulated in 1m 30s, estimated 2m 7s remaining.\n",
      "0.8778 s (43%) simulated in 1m 35s, estimated 2m 2s remaining.\n",
      "0.9258 s (46%) simulated in 1m 40s, estimated 1m 56s remaining.\n",
      "0.9733 s (48%) simulated in 1m 45s, estimated 1m 51s remaining.\n",
      "1.019 s (50%) simulated in 1m 50s, estimated 1m 46s remaining.\n",
      "1.0659 s (53%) simulated in 1m 55s, estimated 1m 41s remaining.\n",
      "1.1129 s (55%) simulated in 2m 0s, estimated 1m 36s remaining.\n",
      "1.1595 s (57%) simulated in 2m 5s, estimated 1m 31s remaining.\n",
      "1.2062 s (60%) simulated in 2m 10s, estimated 1m 26s remaining.\n",
      "1.2531 s (62%) simulated in 2m 15s, estimated 1m 21s remaining.\n",
      "1.3005 s (65%) simulated in 2m 20s, estimated 1m 15s remaining.\n",
      "1.348 s (67%) simulated in 2m 25s, estimated 1m 10s remaining.\n",
      "1.3953 s (69%) simulated in 2m 30s, estimated 1m 5s remaining.\n",
      "1.4429 s (72%) simulated in 2m 35s, estimated 1m 0s remaining.\n",
      "1.4906 s (74%) simulated in 2m 40s, estimated 55s remaining.\n",
      "1.5386 s (76%) simulated in 2m 45s, estimated 50s remaining.\n",
      "1.5865 s (79%) simulated in 2m 50s, estimated 44s remaining.\n",
      "1.6348 s (81%) simulated in 2m 55s, estimated 39s remaining.\n",
      "1.6832 s (84%) simulated in 3m 0s, estimated 34s remaining.\n",
      "1.7318 s (86%) simulated in 3m 5s, estimated 29s remaining.\n",
      "1.7804 s (89%) simulated in 3m 10s, estimated 23s remaining.\n",
      "1.8294 s (91%) simulated in 3m 15s, estimated 18s remaining.\n",
      "1.8788 s (93%) simulated in 3m 20s, estimated 13s remaining.\n",
      "1.9279 s (96%) simulated in 3m 25s, estimated 8s remaining.\n",
      "1.977 s (98%) simulated in 3m 30s, estimated 2s remaining.\n",
      "2. s (100%) simulated in 3m 32s\n",
      "\n",
      "Running simulation chunk 10/10 for 2000.0 ms\n",
      "Running in a Jupyter notebook\n",
      "Starting simulation at t=18. s for a duration of 2. s\n",
      "48.8 ms (2%) simulated in 5s, estimated 3m 20s remaining.\n",
      "97.3 ms (4%) simulated in 10s, estimated 3m 16s remaining.\n",
      "145.6 ms (7%) simulated in 15s, estimated 3m 11s remaining.\n",
      "193.7 ms (9%) simulated in 20s, estimated 3m 7s remaining.\n",
      "242. ms (12%) simulated in 25s, estimated 3m 2s remaining.\n",
      "288. ms (14%) simulated in 30s, estimated 2m 59s remaining.\n",
      "0.3349 s (16%) simulated in 35s, estimated 2m 54s remaining.\n",
      "0.3803 s (19%) simulated in 40s, estimated 2m 51s remaining.\n",
      "0.4246 s (21%) simulated in 45s, estimated 2m 47s remaining.\n",
      "0.4672 s (23%) simulated in 50s, estimated 2m 44s remaining.\n",
      "0.512 s (25%) simulated in 55s, estimated 2m 40s remaining.\n",
      "0.558 s (27%) simulated in 1m 0s, estimated 2m 35s remaining.\n",
      "0.6042 s (30%) simulated in 1m 5s, estimated 2m 30s remaining.\n",
      "0.6517 s (32%) simulated in 1m 10s, estimated 2m 25s remaining.\n",
      "0.6989 s (34%) simulated in 1m 15s, estimated 2m 20s remaining.\n",
      "0.746 s (37%) simulated in 1m 20s, estimated 2m 15s remaining.\n",
      "0.7934 s (39%) simulated in 1m 25s, estimated 2m 9s remaining.\n",
      "0.8424 s (42%) simulated in 1m 30s, estimated 2m 4s remaining.\n",
      "0.8915 s (44%) simulated in 1m 35s, estimated 1m 58s remaining.\n",
      "0.9407 s (47%) simulated in 1m 40s, estimated 1m 53s remaining.\n",
      "0.9883 s (49%) simulated in 1m 45s, estimated 1m 48s remaining.\n",
      "1.0341 s (51%) simulated in 1m 50s, estimated 1m 43s remaining.\n",
      "1.076 s (53%) simulated in 1m 55s, estimated 1m 39s remaining.\n",
      "1.1215 s (56%) simulated in 2m 0s, estimated 1m 34s remaining.\n",
      "1.1685 s (58%) simulated in 2m 5s, estimated 1m 29s remaining.\n",
      "1.2161 s (60%) simulated in 2m 10s, estimated 1m 24s remaining.\n",
      "1.2597 s (62%) simulated in 2m 15s, estimated 1m 19s remaining.\n",
      "1.3079 s (65%) simulated in 2m 20s, estimated 1m 14s remaining.\n",
      "1.3572 s (67%) simulated in 2m 25s, estimated 1m 9s remaining.\n",
      "1.4068 s (70%) simulated in 2m 30s, estimated 1m 3s remaining.\n",
      "1.4562 s (72%) simulated in 2m 35s, estimated 58s remaining.\n",
      "1.5058 s (75%) simulated in 2m 40s, estimated 53s remaining.\n",
      "1.5553 s (77%) simulated in 2m 45s, estimated 47s remaining.\n",
      "1.6051 s (80%) simulated in 2m 50s, estimated 42s remaining.\n",
      "1.6544 s (82%) simulated in 2m 55s, estimated 37s remaining.\n",
      "1.703 s (85%) simulated in 3m 0s, estimated 31s remaining.\n",
      "1.753 s (87%) simulated in 3m 5s, estimated 26s remaining.\n",
      "1.8025 s (90%) simulated in 3m 10s, estimated 21s remaining.\n",
      "1.852 s (92%) simulated in 3m 15s, estimated 16s remaining.\n",
      "1.9023 s (95%) simulated in 3m 20s, estimated 10s remaining.\n",
      "1.9521 s (97%) simulated in 3m 25s, estimated 5s remaining.\n",
      "2. s (100%) simulated in 3m 29s\n",
      "Simulation complete  \n",
      "\n"
     ]
    }
   ],
   "source": [
    "BrianLogger.log_level_error()    # Only log errors to avoid excessive output\n",
    "\n",
    "warn = ''\n",
    "N = 10  # Number of runs\n",
    "run_time = simTime / N  # Duration of each run\n",
    "spikeTimeStamps = np.array([])\n",
    "spikeIndices = np.array([], dtype=int)\n",
    "\n",
    "# SpikeMon_Neurons = SpikeMonitor(neuronsGrid)    # Monitor the spikes from the neuron grid\n",
    "\n",
    "\n",
    "print(\"Starting simulation - Total time: \", simTime*ms)\n",
    "for i in range(N):\n",
    "    print(f\"\\nRunning simulation chunk {i+1}/{N} for {run_time} ms\")\n",
    "    SpikeMon_Neurons = SpikeMonitor(neuronsGrid)    # Monitor the spikes from the neuron grid\n",
    "    \n",
    "    if 'ipykernel' in sys.modules:\n",
    "        # Running in a Jupyter notebook\n",
    "        print(\"Running in a Jupyter notebook\")\n",
    "        reportVar = 'text'\n",
    "        report_periodVar = 5*second\n",
    "    else:\n",
    "        # Not running in a Jupyter notebook\n",
    "        print(\"Not running in a Jupyter notebook\")\n",
    "        reportVar = BrianHF.ProgressBar()\n",
    "        report_periodVar = 2*second\n",
    "    \n",
    "    FailedSim = False\n",
    "    \n",
    "    run(run_time*ms, report=reportVar, report_period=report_periodVar, profile=False)\n",
    "\n",
    "        \n",
    "    # try:\n",
    "    #     run(run_time*ms, report=reportVar, report_period=report_periodVar, profile=False)\n",
    "    #     # print(profiling_summary())\n",
    "    # except Exception as e:\n",
    "    #     print(\"Simulation failed:\", str(e), '\\n')\n",
    "    #     print(\"Trying to re-run by dividing the time into smaller chunks\\n\")\n",
    "    #     N_inner = 5\n",
    "    #     run_time_inner = run_time / N_inner\n",
    "    #     for j in range(N_inner):\n",
    "    #         print(f\"Running INNER simulation chunk {j+1}/{N_inner} for {run_time_inner} ms\")\n",
    "    #         try:\n",
    "    #             run(run_time_inner*ms, report=reportVar, report_period=report_periodVar, profile=False)\n",
    "    #         except Exception as e_inner:\n",
    "    #             print(\"Simulation failed:\", str(e_inner))\n",
    "    #             warn = \" - WARNING: The results may be incomplete\"\n",
    "    #             FailedSim = True\n",
    "    #             break\n",
    "    #     if not FailedSim:\n",
    "    #         break\n",
    "        \n",
    "        \n",
    "    if SpikeMon_Neurons.num_spikes > 0:\n",
    "        spikeTimeStamps = np.append(spikeTimeStamps, SpikeMon_Neurons.t[:])\n",
    "        spikeIndices = np.append(spikeIndices, SpikeMon_Neurons.i[:])\n",
    "    \n",
    "    del SpikeMon_Neurons\n",
    "    gc.collect()\n",
    "    \n",
    "print(\"Simulation complete\",warn,\"\\n\")\n"
   ]
  },
  {
   "cell_type": "markdown",
   "id": "48b33a71",
   "metadata": {},
   "source": [
    "#### _9. (Optional) Visualize the results_"
   ]
  },
  {
   "cell_type": "code",
   "execution_count": 27,
   "id": "4f98967b",
   "metadata": {
    "lines_to_next_cell": 2
   },
   "outputs": [],
   "source": [
    "# print(\"Generating Visualizable Outputs:\")\n",
    "# BrianHF.visualise_connectivity(Syn_Input_Neurons)\n",
    "# BrianHF.visualise_spikes([SpikeMon_Input, SpikeMon_Neurons])\n",
    "# BrianHF.visualise_spike_difference(SpikeMon_Input, SpikeMon_Neurons)"
   ]
  },
  {
   "cell_type": "code",
   "execution_count": 28,
   "id": "2d4171bd",
   "metadata": {
    "lines_to_next_cell": 2
   },
   "outputs": [
    {
     "ename": "",
     "evalue": "",
     "output_type": "error",
     "traceback": [
      "\u001b[1;31mThe Kernel crashed while executing code in the current cell or a previous cell. \n",
      "\u001b[1;31mPlease review the code in the cell(s) to identify a possible cause of the failure. \n",
      "\u001b[1;31mClick <a href='https://aka.ms/vscodeJupyterKernelCrash'>here</a> for more info. \n",
      "\u001b[1;31mView Jupyter <a href='command:jupyter.viewOutput'>log</a> for further details."
     ]
    }
   ],
   "source": [
    "# Generate the frames for input\n",
    "if GenerateInputVisuals:\n",
    "    print(\"Generating Frames for Input...\", end=' ')\n",
    "    inputFrames = BrianHF.generate_frames(SpikeMon_Input.t, SpikeMon_Input.i, grid_width, grid_height, num_neurons=N_Neurons)\n",
    "    print(\"Input Frames Generation Complete.\")\n",
    "\n",
    "    # Save the frames\n",
    "    if SaveNumpyFrames:\n",
    "        print(\"Saving Input Frames as Numpy Arrays...\")\n",
    "        filename = os.path.join(resultPath, 'numpyFrames', inputStr+'.npy')\n",
    "        if os.path.exists(filename):\n",
    "            filename = os.path.join(resultPath, 'numpyFrames', f\"{inputStr}_{int(time.time())}.npy\")\n",
    "        np.save(filename, inputFrames)\n",
    "        print(\"Input Numpy Array Saved.\")\n",
    "\n",
    "\n",
    "    # Generate the GIFs from the frames\n",
    "    if GenerateGIFs:\n",
    "        print(\"Generating Input GIFs...\")\n",
    "        filename = os.path.join(resultPath, 'gifs', inputStr+'.gif')\n",
    "        if os.path.exists(filename):\n",
    "            filename = os.path.join(resultPath, 'gifs', f\"{inputStr}_{int(time.time())}.gif\")\n",
    "        BrianHF.generate_gif(inputFrames, filename, simTime, replicateDuration=True, duration=1e-8)\n",
    "        print(\"Input GIF Generation Complete.\")\n",
    "\n",
    "\n",
    "    # Generate the Videos from the frames\n",
    "    if GenerateVideos:\n",
    "        print(\"Generating Videos...\")\n",
    "        filename = os.path.join(resultPath, 'videos', inputStr+'.mp4')\n",
    "        if os.path.exists(filename):\n",
    "            filename = os.path.join(resultPath, 'videos', f\"{inputStr}_{int(time.time())}.mp4\")\n",
    "        BrianHF.generate_video(inputFrames, filename, simTime/1000)\n",
    "        print(\"Input Video Generation Complete.\")\n",
    "\n",
    "    del inputFrames\n",
    "    del SpikeMon_Input\n",
    "    gc.collect()"
   ]
  },
  {
   "cell_type": "code",
   "execution_count": 29,
   "id": "9a4268e5",
   "metadata": {
    "lines_to_next_cell": 2
   },
   "outputs": [
    {
     "name": "stdout",
     "output_type": "stream",
     "text": [
      "Exporting Yarp Spike Log...\n",
      "Converting event arrays to bottle-ready string format ...\n"
     ]
    }
   ],
   "source": [
    "print(\"Exporting Yarp Spike Log...\")\n",
    "filename = os.path.join(resultPath, logPath, 'data.log')\n",
    "if os.path.exists(filename):\n",
    "    filename = os.path.join(resultPath, logPath, f\"data_{int(time.time())}.log\")\n",
    "BrianHF.generate_YarpDvs(spikeTimeStamps, spikeIndices, neuronsGrid, filename)"
   ]
  },
  {
   "cell_type": "code",
   "execution_count": null,
   "id": "419f1ae4",
   "metadata": {
    "lines_to_next_cell": 2
   },
   "outputs": [],
   "source": [
    "if GenerateOutputVisuals:\n",
    "    \n",
    "    print(\"Generating Frames for Output...\", end=' ')\n",
    "    #outputFrames = BrianHF.generate_frames(SpikeMon_Neurons.t/ms, SpikeMon_Neurons.i, grid_width, grid_height, num_neurons=N_Neurons)\n",
    "    outputFrames = BrianHF.generate_frames(spikeTimeStamps, spikeIndices, grid_width, grid_height, num_neurons=N_Neurons)\n",
    "    print(\"Output Frames Generation Complete.\")\n",
    "    videoTime = spikeTimeStamps[-1] if len(spikeTimeStamps) > 0 else simTime\n",
    "    print(f\"Video Time: {videoTime}\")\n",
    "    \n",
    "    del spikeTimeStamps, spikeIndices\n",
    "    gc.collect()\n",
    "    \n",
    "    \n",
    "    # Save the frames\n",
    "    if SaveNumpyFrames:\n",
    "        print(\"Saving Input Frames as Numpy Arrays...\")\n",
    "        filename = os.path.join(resultPath, 'numpyFrames', outputStr+'.npy')\n",
    "        if os.path.exists(filename):\n",
    "            filename = os.path.join(resultPath, 'numpyFrames', f\"{outputStr}_{int(time.time())}.npy\")\n",
    "        np.save(filename, outputFrames)\n",
    "        print(\"Output Numpy Array Saved.\")\n",
    "\n",
    "\n",
    "    # Generate the GIFs from the frames\n",
    "    if GenerateGIFs:\n",
    "        print(\"Generating Input GIFs...\")\n",
    "        filename = os.path.join(resultPath, 'gifs', outputStr+'.gif')\n",
    "        if os.path.exists(filename):\n",
    "            filename = os.path.join(resultPath, 'gifs', f\"{outputStr}_{int(time.time())}.gif\")\n",
    "        BrianHF.generate_gif(outputFrames, filename, simTime, replicateDuration=True, duration=1e-8)\n",
    "        print(\"Output GIF Generation Complete.\")\n",
    "\n",
    "\n",
    "    # Generate the Videos from the frames\n",
    "    if GenerateVideos:\n",
    "        print(\"Generating Videos...\")\n",
    "        filename = os.path.join(resultPath, 'videos', outputStr+'.mp4')\n",
    "        if os.path.exists(filename):\n",
    "            filename = os.path.join(resultPath, 'videos', f\"{outputStr}_{int(time.time())}.mp4\")\n",
    "        BrianHF.generate_video(outputFrames, filename, videoTime)\n",
    "        print(\"Output Video Generation Complete.\")\n",
    "\n",
    "    del outputFrames"
   ]
  }
 ],
 "metadata": {
  "jupytext": {
   "cell_metadata_filter": "-all",
   "formats": "ipynb,py"
  },
  "kernelspec": {
   "display_name": "IIT",
   "language": "python",
   "name": "python3"
  },
  "language_info": {
   "codemirror_mode": {
    "name": "ipython",
    "version": 3
   },
   "file_extension": ".py",
   "mimetype": "text/x-python",
   "name": "python",
   "nbconvert_exporter": "python",
   "pygments_lexer": "ipython3",
   "version": "3.10.12"
  }
 },
 "nbformat": 4,
 "nbformat_minor": 5
}
