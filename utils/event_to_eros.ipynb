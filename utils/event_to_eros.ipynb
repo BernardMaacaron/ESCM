{
 "cells": [
  {
   "cell_type": "code",
   "execution_count": 1,
   "id": "00ef0d7b",
   "metadata": {},
   "outputs": [],
   "source": [
    "import cv2\n",
    "import json\n",
    "import os\n",
    "import numpy as np\n",
    "import sys\n",
    "import glob\n",
    "import os\n",
    "from tqdm import tqdm\n",
    "import bisect"
   ]
  },
  {
   "cell_type": "code",
   "execution_count": 2,
   "id": "4d5cce82",
   "metadata": {},
   "outputs": [
    {
     "name": "stdout",
     "output_type": "stream",
     "text": [
      "utils\n",
      "Found ERO-SNN folder: /home/bernard/Desktop/IIT_Thesis/ERO-SNN\n"
     ]
    }
   ],
   "source": [
    "# Find the ERO-SNN folder and add it to the python path\n",
    "current_dir = os.getcwd()\n",
    "\n",
    "while os.path.basename(current_dir) != 'ERO-SNN':\n",
    "    print(os.path.basename(current_dir))\n",
    "    current_dir = os.path.dirname(current_dir)\n",
    "    \n",
    "print(f\"Found ERO-SNN folder: {current_dir}\")\n",
    "sys.path.append(current_dir)"
   ]
  },
  {
   "cell_type": "code",
   "execution_count": 3,
   "id": "2efe1bca",
   "metadata": {},
   "outputs": [],
   "source": [
    "import BrianHF\n",
    "from datasets.utils.parsing import import_yarp_skeleton_data, batchIterator\n",
    "from datasets.utils.events_representation import EROS\n",
    "from datasets.utils.export import ensure_location, str2bool #, get_movenet_keypoints, get_center\n",
    "from bimvee.importIitYarp import importIitYarp as import_dvs\n",
    "from bimvee.importAe import importAe\n",
    "from bimvee.importIitYarp import importIitYarpBinaryDataLog"
   ]
  },
  {
   "cell_type": "code",
   "execution_count": 4,
   "id": "cece8c1f",
   "metadata": {
    "lines_to_next_cell": 1
   },
   "outputs": [],
   "source": [
    "# def create_ts_list(fps,ts):\n",
    "#     out = dict()\n",
    "#     out['ts'] = list()\n",
    "#     x = np.arange(ts[0],ts[-1],1/fps)\n",
    "#     for i in x:\n",
    "#         out['ts'].append(i)\n",
    "#     return out\n",
    "\n",
    "# def create_ts_list(frame_length, frame_interval, ts):\n",
    "#     out = {'ts': []}\n",
    "    \n",
    "#     # Create a list of timestamps starting from ts[0] and incrementing by 30ms\n",
    "#     x = np.arange(ts[0], ts[-1], frame_interval / 1000.0)\n",
    "    \n",
    "#     # Convert ts to a NumPy array for faster operations\n",
    "#     ts = np.array(ts)\n",
    "    \n",
    "#     for start_time in tqdm(x, desc=\"Processing time windows\"):\n",
    "#         # Create a window of frame_length ms\n",
    "#         end_time = start_time + frame_length / 1000.0\n",
    "        \n",
    "#         # Use binary search to find the indices of the timestamps within the window\n",
    "#         start_idx = bisect.bisect_left(ts, start_time)\n",
    "#         end_idx = bisect.bisect_right(ts, end_time)\n",
    "        \n",
    "#         # Collect all timestamps within this window\n",
    "#         window_ts = ts[start_idx:end_idx]\n",
    "#         out['ts'].extend(window_ts)\n",
    "    \n",
    "#     return out"
   ]
  },
  {
   "cell_type": "code",
   "execution_count": 5,
   "id": "0ee2976b",
   "metadata": {},
   "outputs": [],
   "source": [
    "def create_ts_list(frame_length, frame_interval, data_dvs):\n",
    "    out = {'ts': [], 'x': [], 'y': []}\n",
    "    \n",
    "    # Extract ts, x, and y from data_dvs\n",
    "    ts = np.array(data_dvs['ts'])\n",
    "    x_coords = np.array(data_dvs['x'])\n",
    "    y_coords = np.array(data_dvs['y'])\n",
    "    \n",
    "    # Sort the data by timestamps\n",
    "    sorted_indices = np.argsort(ts)\n",
    "    ts = ts[sorted_indices]\n",
    "    x_coords = x_coords[sorted_indices]\n",
    "    y_coords = y_coords[sorted_indices]\n",
    "    \n",
    "    # Create a list of timestamps starting from ts[0] and incrementing by frame_interval ms\n",
    "    time_windows = np.arange(ts[0], ts[-1], frame_interval / 1000.0)\n",
    "    \n",
    "    for start_time in tqdm(time_windows, desc=\"Processing time windows\"):\n",
    "        # Create a window of frame_length ms\n",
    "        end_time = start_time + frame_length / 1000.0\n",
    "        \n",
    "        # Use binary search to find the indices of the timestamps within the window\n",
    "        start_idx = bisect.bisect_left(ts, start_time)\n",
    "        end_idx = bisect.bisect_right(ts, end_time)\n",
    "        \n",
    "        # Collect all timestamps, x, and y within this window\n",
    "        window_ts = ts[start_idx:end_idx]\n",
    "        window_x = x_coords[start_idx:end_idx]\n",
    "        window_y = y_coords[start_idx:end_idx]\n",
    "        \n",
    "        out['ts'].append(window_ts)\n",
    "        out['x'].append(window_x)\n",
    "        out['y'].append(window_y)\n",
    "    \n",
    "    return out"
   ]
  },
  {
   "cell_type": "code",
   "execution_count": 6,
   "id": "d713aefd",
   "metadata": {},
   "outputs": [],
   "source": [
    "# def process(data_dvs_file, output_path, skip=None, args=None):\n",
    "\n",
    "#     if skip == None:\n",
    "#         skip = 1\n",
    "#     else:\n",
    "#         skip = int(skip) + 1\n",
    "\n",
    "#     print('Importing file...', data_dvs_file)\n",
    "#     data_dvs = importAe(filePathOrName=data_dvs_file)\n",
    "#     # data_dvs = import_dvs(filePathOrName=data_dvs_file)\n",
    "#     print('File imported.')\n",
    "#     # data_dvs = importIitYarpBinaryDataLog(filePathOrName=data_dvs_file)\n",
    "    \n",
    "#     # try:\n",
    "#     #     data_dvs['data']['left']['dvs']['ts'] /= args['ts_scaler']\n",
    "#     #     side = 'left'\n",
    "#     # except KeyError:\n",
    "#     #     data_dvs['data']['right']['dvs']['ts'] /= args['ts_scaler']\n",
    "#     #     side = 'right'\n",
    "        \n",
    "#     data_dvs = next(BrianHF.find_keys(data_dvs, 'dvs'))\n",
    "#     # data_ts = create_ts_list(args['fps'],data_dvs['ts'])\n",
    "#     data_ts = create_ts_list(args['frame_length'], args['interval_length'], data_dvs['ts'])\n",
    "\n",
    "#     # print(f\"{data_dvs_file.split('/')[-3:-1]}: \\n start: {data_dvs['data'][side]['dvs']['ts'][0]} \\n stop: {data_dvs['data'][side]['dvs']['ts'][-1]}\")\n",
    "#     print(f\"{data_dvs_file.split('/')[-3]}: \\n start: {(-1)*data_dvs['tsOffset']} \\n duration: {data_dvs['ts'][-1]}\")\n",
    "#     iterator = batchIterator(data_dvs, data_ts)\n",
    "    \n",
    "#     frame_width = np.max(data_dvs['x'])+1\n",
    "#     frame_height = np.max(data_dvs['y'])+1\n",
    "    \n",
    "#     eros = EROS(kernel_size=args['eros_kernel'], frame_width=frame_width, frame_height=frame_height)\n",
    "\n",
    "#     poses_movenet = []\n",
    "#     if args['write_video']:\n",
    "#         output_path_video = os.path.join(output_path,'eros-out.mp4')\n",
    "#         print(output_path_video)\n",
    "#         video_out = cv2.VideoWriter(output_path_video, cv2.VideoWriter_fourcc('M', 'J', 'P', 'G'), args['fps'],\n",
    "#                                     (frame_width, frame_height))\n",
    "\n",
    "#     for fi, (events, pose, batch_size) in enumerate(iterator):\n",
    "#         sys.stdout.write(f'frame: {fi}/{len(data_ts[\"ts\"])}\\r')\n",
    "#         sys.stdout.flush()\n",
    "\n",
    "#         # if args['dev']:\n",
    "#         #     print('frame: ', fi)\n",
    "#         for ei in range(batch_size):\n",
    "#             eros.update(vx=int(events['x'][ei]), vy=int(events['y'][ei]))\n",
    "#         if fi % skip != 0:\n",
    "#             continue\n",
    "\n",
    "#         frame = eros.get_frame()\n",
    "#         # frame = cv2.GaussianBlur(frame, (args['gauss_kernel'], args['gauss_kernel']), 0)\n",
    "\n",
    "#         if args['dev']:\n",
    "#             # keypoints = np.reshape(sample_anno['keypoints'], [-1, 3])\n",
    "#             # h, w = frame.shape\n",
    "#             # for i in range(len(keypoints)):\n",
    "#             #     frame = cv2.circle(frame, [int(keypoints[i, 0] * w), int(keypoints[i, 1] * h)], 1, (255, 0, 0), 2)\n",
    "#             # frame = cv2.circle(frame, [int(sample_anno['center'][0] * w), int(sample_anno['center'][1] * h)], 1,\n",
    "#             #                    (255, 0, 0), 4)\n",
    "#             cv2.imshow('', frame)\n",
    "#             cv2.waitKey(1)\n",
    "#             if fi>50:\n",
    "#                 break\n",
    "        \n",
    "        \n",
    "#         filename = os.path.basename(data_dvs_file)\n",
    "        \n",
    "#         if args['write_images']:\n",
    "#             images_path =  os.path.join(output_path,'Images')\n",
    "#             ensure_location(images_path)\n",
    "#             path = os.path.join(images_path, f'frame_{fi:08d}.jpg')\n",
    "#             sys.stdout.write(\"Saving image to \" + path + \"\\r\")\n",
    "#             cv2.imwrite(path, frame)\n",
    "        \n",
    "#         if args['write_video']:    \n",
    "#             framergb = cv2.cvtColor(frame, cv2.COLOR_GRAY2BGR)\n",
    "#             video_out.write(framergb)\n",
    "\n",
    "#     if args['write_video']:\n",
    "#         print('writing')\n",
    "#         video_out.release()\n",
    "\n",
    "#     return"
   ]
  },
  {
   "cell_type": "code",
   "execution_count": 7,
   "id": "42cd8027",
   "metadata": {},
   "outputs": [],
   "source": [
    "def process(data_dvs_file, output_path, skip=None, args=None):\n",
    "\n",
    "    if skip == None:\n",
    "        skip = 1\n",
    "    else:\n",
    "        skip = int(skip) + 1\n",
    "\n",
    "    print('Importing file...', data_dvs_file)\n",
    "    data_dvs = importAe(filePathOrName=data_dvs_file)\n",
    "    print('File imported.')\n",
    "\n",
    "        \n",
    "    data_dvs = next(BrianHF.find_keys(data_dvs, 'dvs'))\n",
    "    \n",
    "    data_ts = create_ts_list(args['frame_length'], args['interval_length'], data_dvs)\n",
    "    \n",
    "    print(f\"{data_dvs_file.split('/')[-3]}: \\n start: {(-1)*data_dvs['tsOffset']} \\n duration: {data_dvs['ts'][-1]}\")\n",
    "    # iterator = batchIterator(data_dvs, data_ts)\n",
    "    \n",
    "    frame_width = np.max(data_dvs['x'])+1\n",
    "    frame_height = np.max(data_dvs['y'])+1\n",
    "    \n",
    "    # Calculate fps based on the number of frames and total duration\n",
    "    total_duration = data_dvs['ts'][-1] - data_dvs['ts'][0]\n",
    "    num_frames = len(data_ts['ts'])\n",
    "\n",
    "    args['fps'] = int(num_frames / total_duration)\n",
    "    print(f\"FPS: {args['fps']}\")\n",
    "\n",
    "    \n",
    "    eros = EROS(kernel_size=args['eros_kernel'], frame_width=frame_width, frame_height=frame_height)\n",
    "\n",
    "    # poses_movenet = []\n",
    "    \n",
    "    # if args['write_video']:\n",
    "    #     output_path_video = os.path.join(output_path,'eros-out.mp4')\n",
    "    #     print(output_path_video)\n",
    "    #     video_out = cv2.VideoWriter(output_path_video, cv2.VideoWriter_fourcc('M', 'J', 'P', 'G'), args['fps'],\n",
    "    #                                 (frame_width, frame_height))\n",
    "\n",
    "    for fi, (events_x, events_y) in enumerate(zip(data_ts['x'], data_ts['y'])):\n",
    "        sys.stdout.write(f'frame: {fi}/{len(data_ts[\"ts\"])}\\r')\n",
    "        sys.stdout.flush()\n",
    "\n",
    "\n",
    "        # if args['dev']:\n",
    "        #     print('frame: ', fi)\n",
    "        for x, y in zip(events_x, events_y):\n",
    "            eros.update(vx=x, vy=y)\n",
    "        if fi % skip != 0:\n",
    "            continue\n",
    "\n",
    "        frame = eros.get_frame()\n",
    "        \n",
    "        \n",
    "        filename = os.path.basename(data_dvs_file)\n",
    "        \n",
    "        if args['write_images']:\n",
    "            images_path =  os.path.join(output_path,'Images')\n",
    "            ensure_location(images_path)\n",
    "            path = os.path.join(images_path, f'frame_{fi:08d}.jpg')\n",
    "            sys.stdout.write(\"Saving image to \" + path + \"\\r\")\n",
    "            cv2.imwrite(path, frame)\n",
    "        \n",
    "        # if args['write_video']:    \n",
    "        #     framergb = cv2.cvtColor(frame, cv2.COLOR_GRAY2BGR)\n",
    "        #     video_out.write(framergb)\n",
    "\n",
    "    # if args['write_video']:\n",
    "    #     print('writing')\n",
    "    #     video_out.release()\n",
    "\n",
    "    return True"
   ]
  },
  {
   "cell_type": "code",
   "execution_count": 8,
   "id": "052173c2",
   "metadata": {},
   "outputs": [],
   "source": [
    "def setup_testing_list(path):\n",
    "    if not os.path.exists(path):\n",
    "        return []\n",
    "    with open(str(path), 'r+') as f:\n",
    "        poses = json.load(f)\n",
    "    files = [sample['original_sample'] for sample in poses]\n",
    "    files_unique = set(files)\n",
    "    return files_unique"
   ]
  },
  {
   "cell_type": "code",
   "execution_count": 9,
   "id": "564a7e1a",
   "metadata": {
    "lines_to_next_cell": 1
   },
   "outputs": [
    {
     "name": "stdout",
     "output_type": "stream",
     "text": [
      "Input data directory:  /home/bernard/Desktop/IIT_Thesis/ERO-SNN/InputData\n",
      "Output base path:  /home/bernard/Desktop/IIT_Thesis/ERO-SNN/EROS\n"
     ]
    }
   ],
   "source": [
    "# Define the variables directly\n",
    "eros_kernel = 8\n",
    "skip_image = None\n",
    "input_data_dir = 'InputData'\n",
    "output_base_path = 'EROS'\n",
    "write_images = True\n",
    "write_video = False\n",
    "frame_length = 1.1 #ms\n",
    "interval_length = 30 #ms\n",
    "fps = interval_length/frame_length\n",
    "dev = False\n",
    "ts_scaler = 1.0\n",
    "\n",
    "# Ensure the base output path exists\n",
    "output_base_path = os.path.join(current_dir, output_base_path)\n",
    "input_data_dir = os.path.join(current_dir, input_data_dir)\n",
    "\n",
    "print('Input data directory: ', input_data_dir)\n",
    "print('Output base path: ', output_base_path)\n",
    "\n",
    "datasets = ['h36m_sample', 'EyeTracking', 'MVSEC_short_outdoor']\n",
    "\n",
    "# Create a dictionary to hold the arguments\n",
    "args = {\n",
    "    'eros_kernel': eros_kernel,\n",
    "    'write_images': write_images,\n",
    "    'write_video': write_video,\n",
    "    'frame_length': frame_length,\n",
    "    'interval_length': interval_length,\n",
    "    'fps': fps,\n",
    "    'dev': dev,\n",
    "    'ts_scaler': ts_scaler\n",
    "    }\n",
    "\n",
    "log_files = ['h36m_sample/cam2_S1_Directions/ch0dvs/data.log',\n",
    "         'EyeTracking/user_5_1/ch0dvs_old/data.log',\n",
    "         'MVSEC_short_outdoor/leftdvs/data.log']"
   ]
  },
  {
   "cell_type": "code",
   "execution_count": 10,
   "id": "9c0dccaa",
   "metadata": {},
   "outputs": [
    {
     "name": "stdout",
     "output_type": "stream",
     "text": [
      "Processing: /home/bernard/Desktop/IIT_Thesis/ERO-SNN/InputData/h36m_sample/cam2_S1_Directions/ch0dvs/data.log\n",
      "Output path: /home/bernard/Desktop/IIT_Thesis/ERO-SNN/EROS/h36m_sample\n",
      "Importing file... /home/bernard/Desktop/IIT_Thesis/ERO-SNN/InputData/h36m_sample/cam2_S1_Directions/ch0dvs/data.log\n",
      "{'filePathOrName': '/home/bernard/Desktop/IIT_Thesis/ERO-SNN/InputData/h36m_sample/cam2_S1_Directions/ch0dvs/data.log'}\n",
      "{'filePathOrName': '/home/bernard/Desktop/IIT_Thesis/ERO-SNN/InputData/h36m_sample/cam2_S1_Directions/ch0dvs/data.log'}\n",
      "importIitYarp trying path: /home/bernard/Desktop/IIT_Thesis/ERO-SNN/InputData/h36m_sample/cam2_S1_Directions/ch0dvs\n"
     ]
    },
    {
     "name": "stderr",
     "output_type": "stream",
     "text": [
      "100%|██████████| 32375/32375 [00:05<00:00, 6290.90it/s]\n"
     ]
    },
    {
     "name": "stdout",
     "output_type": "stream",
     "text": [
      "Examining info.log: /home/bernard/Desktop/IIT_Thesis/ERO-SNN/InputData/h36m_sample/cam2_S1_Directions/ch0dvs/info.log\n",
      "File imported.\n"
     ]
    },
    {
     "name": "stderr",
     "output_type": "stream",
     "text": [
      "Processing time windows: 100%|██████████| 1076/1076 [00:00<00:00, 228950.44it/s]"
     ]
    },
    {
     "name": "stdout",
     "output_type": "stream",
     "text": [
      "cam2_S1_Directions: \n",
      " start: 0.0 \n",
      " duration: 32.266998\n",
      "FPS: 33\n",
      "frame: 23/1076o /home/bernard/Desktop/IIT_Thesis/ERO-SNN/EROS/h36m_sample/Images/frame_00000022.jpg\r"
     ]
    },
    {
     "name": "stderr",
     "output_type": "stream",
     "text": [
      "\n"
     ]
    },
    {
     "name": "stdout",
     "output_type": "stream",
     "text": [
      "Processed /home/bernard/Desktop/IIT_Thesis/ERO-SNN/InputData/h36m_sample/cam2_S1_Directions/ch0dvs/data.log\n",
      "Processing: /home/bernard/Desktop/IIT_Thesis/ERO-SNN/InputData/EyeTracking/user_5_1/ch0dvs_old/data.log\n",
      "Output path: /home/bernard/Desktop/IIT_Thesis/ERO-SNN/EROS/EyeTracking\n",
      "Importing file... /home/bernard/Desktop/IIT_Thesis/ERO-SNN/InputData/EyeTracking/user_5_1/ch0dvs_old/data.log\n",
      "{'filePathOrName': '/home/bernard/Desktop/IIT_Thesis/ERO-SNN/InputData/EyeTracking/user_5_1/ch0dvs_old/data.log'}\n",
      "{'filePathOrName': '/home/bernard/Desktop/IIT_Thesis/ERO-SNN/InputData/EyeTracking/user_5_1/ch0dvs_old/data.log'}\n",
      "importIitYarp trying path: /home/bernard/Desktop/IIT_Thesis/ERO-SNN/InputData/EyeTracking/user_5_1/ch0dvs_old\n"
     ]
    },
    {
     "name": "stderr",
     "output_type": "stream",
     "text": [
      "100%|██████████| 72057/72057 [00:04<00:00, 16295.48it/s]\n"
     ]
    },
    {
     "name": "stdout",
     "output_type": "stream",
     "text": [
      "Examining info.log: /home/bernard/Desktop/IIT_Thesis/ERO-SNN/InputData/EyeTracking/user_5_1/ch0dvs_old/info.log\n",
      "File imported.\n"
     ]
    },
    {
     "name": "stderr",
     "output_type": "stream",
     "text": [
      "Processing time windows: 100%|██████████| 9245/9245 [00:00<00:00, 301402.54it/s]"
     ]
    },
    {
     "name": "stdout",
     "output_type": "stream",
     "text": [
      "user_5_1: \n",
      " start: 0.0 \n",
      " duration: 277.320382\n",
      "FPS: 33\n",
      "frame: 127/9245 /home/bernard/Desktop/IIT_Thesis/ERO-SNN/EROS/EyeTracking/Images/frame_00000126.jpg\r"
     ]
    },
    {
     "name": "stderr",
     "output_type": "stream",
     "text": [
      "\n"
     ]
    },
    {
     "name": "stdout",
     "output_type": "stream",
     "text": [
      "Processed /home/bernard/Desktop/IIT_Thesis/ERO-SNN/InputData/EyeTracking/user_5_1/ch0dvs_old/data.log\n",
      "Processing: /home/bernard/Desktop/IIT_Thesis/ERO-SNN/InputData/MVSEC_short_outdoor/leftdvs/data.log\n",
      "Output path: /home/bernard/Desktop/IIT_Thesis/ERO-SNN/EROS/MVSEC_short_outdoor\n",
      "Importing file... /home/bernard/Desktop/IIT_Thesis/ERO-SNN/InputData/MVSEC_short_outdoor/leftdvs/data.log\n",
      "{'filePathOrName': '/home/bernard/Desktop/IIT_Thesis/ERO-SNN/InputData/MVSEC_short_outdoor/leftdvs/data.log'}\n",
      "{'filePathOrName': '/home/bernard/Desktop/IIT_Thesis/ERO-SNN/InputData/MVSEC_short_outdoor/leftdvs/data.log'}\n",
      "importIitYarp trying path: /home/bernard/Desktop/IIT_Thesis/ERO-SNN/InputData/MVSEC_short_outdoor/leftdvs\n"
     ]
    },
    {
     "name": "stderr",
     "output_type": "stream",
     "text": [
      "100%|██████████| 38292/38292 [00:06<00:00, 5559.09it/s] \n"
     ]
    },
    {
     "name": "stdout",
     "output_type": "stream",
     "text": [
      "Examining info.log: /home/bernard/Desktop/IIT_Thesis/ERO-SNN/InputData/MVSEC_short_outdoor/leftdvs/info.log\n",
      "File imported.\n"
     ]
    },
    {
     "name": "stderr",
     "output_type": "stream",
     "text": [
      "Processing time windows: 100%|██████████| 667/667 [00:00<00:00, 237709.30it/s]"
     ]
    },
    {
     "name": "stdout",
     "output_type": "stream",
     "text": [
      "MVSEC_short_outdoor: \n",
      " start: 0.0 \n",
      " duration: 19.999817999999998\n",
      "FPS: 33\n",
      "frame: 111/667o /home/bernard/Desktop/IIT_Thesis/ERO-SNN/EROS/MVSEC_short_outdoor/Images/frame_00000110.jpg\r"
     ]
    },
    {
     "name": "stderr",
     "output_type": "stream",
     "text": [
      "\n"
     ]
    },
    {
     "name": "stdout",
     "output_type": "stream",
     "text": [
      "Processed /home/bernard/Desktop/IIT_Thesis/ERO-SNN/InputData/MVSEC_short_outdoor/leftdvs/data.log000666.jpg\n"
     ]
    }
   ],
   "source": [
    "for i, log_file in enumerate(log_files):\n",
    "    # Create a corresponding output path\n",
    "    log_file = os.path.join(input_data_dir, log_file)\n",
    "    output_path = os.path.join(output_base_path, datasets[i])\n",
    "    print(\"Processing:\", log_file)\n",
    "    print(\"Output path:\", output_path)\n",
    "    \n",
    "    if process(log_file, output_path, skip=skip_image, args=args):\n",
    "        print(f\"Processed {log_file}\")\n",
    "    else:\n",
    "        print(f\"Error processing {log_file}\")   "
   ]
  },
  {
   "cell_type": "code",
   "execution_count": 11,
   "id": "8cf459e2",
   "metadata": {},
   "outputs": [],
   "source": [
    "\n",
    "# for dataset in datasets:\n",
    "#     input_data_dir = os.path.join(input_data_dir, dataset)\n",
    "#     # Iterate over .log files in the input data directory\n",
    "#     log_files = glob.glob(os.path.join(input_data_dir, '**/data.log'), recursive=True)\n",
    "#     for log_file in log_files:\n",
    "#         try:\n",
    "#             # Create a corresponding output path\n",
    "#             relative_path = os.path.relpath(log_file, input_data_dir)\n",
    "#             output_path = os.path.join(output_base_path, dataset, os.path.dirname(relative_path))\n",
    "#             ensure_location(output_path)\n",
    "\n",
    "#             print(\"Processing:\", log_file)\n",
    "#             print(\"Output path:\", output_path)\n",
    "\n",
    "#             # Create a dictionary to hold the arguments\n",
    "#             args = {\n",
    "#                 'eros_kernel': eros_kernel,\n",
    "#                 # 'frame_width': frame_width,\n",
    "#                 # 'frame_height': frame_height,\n",
    "#                 'gauss_kernel': gauss_kernel,\n",
    "#                 'write_images': write_images,\n",
    "#                 'write_video': write_video,\n",
    "#                 'fps': fps,\n",
    "#                 'dev': dev,\n",
    "#                 'ts_scaler': ts_scaler\n",
    "#             }\n",
    "#             process(log_file, output_path, skip=skip_image, args=args)\n",
    "#         except:\n",
    "#             print(f\"Error processing {log_file}\")"
   ]
  }
 ],
 "metadata": {
  "jupytext": {
   "cell_metadata_filter": "-all",
   "main_language": "python",
   "notebook_metadata_filter": "-all"
  },
  "kernelspec": {
   "display_name": "IIT",
   "language": "python",
   "name": "python3"
  },
  "language_info": {
   "codemirror_mode": {
    "name": "ipython",
    "version": 3
   },
   "file_extension": ".py",
   "mimetype": "text/x-python",
   "name": "python",
   "nbconvert_exporter": "python",
   "pygments_lexer": "ipython3",
   "version": "3.10.12"
  }
 },
 "nbformat": 4,
 "nbformat_minor": 5
}
