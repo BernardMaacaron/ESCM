{
 "cells": [
  {
   "cell_type": "code",
   "execution_count": 36,
   "id": "2d6df2db",
   "metadata": {
    "lines_to_next_cell": 1
   },
   "outputs": [],
   "source": [
    "import cv2\n",
    "import json\n",
    "import os\n",
    "import numpy as np\n",
    "import sys\n",
    "import os\n",
    "\n",
    "# Find the ERO-SNN folder and add it to the python path\n",
    "current_dir = os.getcwd()\n",
    "\n",
    "while os.path.basename(current_dir) != 'ERO-SNN':\n",
    "    #print(os.path.basename(current_dir))\n",
    "    current_dir = os.path.dirname(current_dir)\n",
    "    \n",
    "#print(f\"Found ERO-SNN folder: {current_dir}\")\n",
    "sys.path.append(current_dir)\n",
    "\n",
    "import BrianHF\n",
    "from datasets.utils.parsing import batchIterator\n",
    "from datasets.utils.events_representation import EROS\n",
    "from datasets.utils.export import ensure_location, str2bool\n",
    "from bimvee.importAe import importAe\n"
   ]
  },
  {
   "cell_type": "code",
   "execution_count": 37,
   "id": "725d7d94",
   "metadata": {
    "lines_to_next_cell": 1
   },
   "outputs": [],
   "source": [
    "def create_ts_list(fps,ts):\n",
    "    out = dict()\n",
    "    out['ts'] = list()\n",
    "    x = np.arange(ts[0],ts[-1],1.0/fps)\n",
    "    for i in x:\n",
    "        out['ts'].append(i)\n",
    "    return out"
   ]
  },
  {
   "cell_type": "code",
   "execution_count": 38,
   "id": "be01fb7a",
   "metadata": {},
   "outputs": [],
   "source": [
    "def process(data_dvs_file, output_path, skip=None, args=None):\n",
    "\n",
    "    data_dvs = importAe(filePathOrName=data_dvs_file)\n",
    "    print('File imported.')\n",
    "\n",
    "    data_dvs = next(BrianHF.find_keys(data_dvs, 'dvs'))\n",
    "    data_ts = create_ts_list(args['fps'],data_dvs['ts'])\n",
    "    \n",
    "    iterator = batchIterator(data_dvs, data_ts)\n",
    "    \n",
    "    frame_width = np.max(data_dvs['x'])+1\n",
    "    frame_height = np.max(data_dvs['y'])+1\n",
    "    eros = EROS(kernel_size=args['eros_kernel'], frame_width=frame_width, frame_height=frame_height)\n",
    "\n",
    "\n",
    "    for fi, (events, _, batch_size) in enumerate(iterator):\n",
    "        sys.stdout.write(f'frame: {fi}/{len(data_ts[\"ts\"])}\\r')\n",
    "        sys.stdout.flush()\n",
    "        \n",
    "        # print(batch_size)\n",
    "        for ei in range(batch_size):\n",
    "            eros.update(vx=int(events['x'][ei]), vy=int(events['y'][ei]))\n",
    "\n",
    "        frame = eros.get_frame()\n",
    "\n",
    "\n",
    "        images_path =  os.path.join(output_path,'Images')\n",
    "        ensure_location(images_path)\n",
    "        path = os.path.join(images_path, f'frame_{fi:05d}.png')\n",
    "        try:\n",
    "            cv2.imwrite(path, frame)\n",
    "        except:\n",
    "            print('Error saving image')\n",
    "            print(path)\n",
    "            print(frame.shape)\n",
    "            print(frame)\n",
    "            return False\n",
    "    return True"
   ]
  },
  {
   "cell_type": "code",
   "execution_count": 39,
   "id": "c3a47d12",
   "metadata": {},
   "outputs": [
    {
     "name": "stdout",
     "output_type": "stream",
     "text": [
      "Input data directory:  /home/bernard/Desktop/IIT_Thesis/ERO-SNN/InputData\n",
      "Output base path:  /home/bernard/Desktop/IIT_Thesis/ERO-SNN/EROS\n"
     ]
    }
   ],
   "source": [
    "# Define the variables directly\n",
    "eros_kernel = 4\n",
    "skip_image = None\n",
    "input_data_dir = 'InputData'\n",
    "output_base_path = 'EROS'\n",
    "write_images = True\n",
    "frame_length = 1.1 #ms\n",
    "interval_length = 30 #ms\n",
    "fps = 33.0\n",
    "dev = False\n",
    "ts_scaler = 1.0\n",
    "\n",
    "# Ensure the base output path exists\n",
    "output_base_path = os.path.join(current_dir, output_base_path)\n",
    "input_data_dir = os.path.join(current_dir, input_data_dir)\n",
    "\n",
    "print('Input data directory: ', input_data_dir)\n",
    "print('Output base path: ', output_base_path)\n",
    "\n",
    "datasets = ['h36m_sample', 'MVSEC_short_outdoor'] #'EyeTracking']\n",
    "\n",
    "# Create a dictionary to hold the arguments\n",
    "args = {\n",
    "    'eros_kernel': eros_kernel,\n",
    "    'write_images': write_images,\n",
    "    'frame_length': frame_length,\n",
    "    'interval_length': interval_length,\n",
    "    'fps': fps,\n",
    "    'dev': dev,\n",
    "    'ts_scaler': ts_scaler\n",
    "    }\n",
    "\n",
    "log_files = ['h36m_sample/cam2_S1_Directions/ch0dvs/data.log',\n",
    "         'MVSEC_short_outdoor/leftdvs/data.log'] # 'EyeTracking/user_5_1/ch0dvs_old/data.log']"
   ]
  },
  {
   "cell_type": "code",
   "execution_count": 40,
   "id": "0e4bfe49",
   "metadata": {},
   "outputs": [
    {
     "name": "stdout",
     "output_type": "stream",
     "text": [
      "Processing: /home/bernard/Desktop/IIT_Thesis/ERO-SNN/InputData/h36m_sample/cam2_S1_Directions/ch0dvs/data.log\n",
      "Output path: /home/bernard/Desktop/IIT_Thesis/ERO-SNN/EROS/h36m_sample\n",
      "{'filePathOrName': '/home/bernard/Desktop/IIT_Thesis/ERO-SNN/InputData/h36m_sample/cam2_S1_Directions/ch0dvs/data.log'}\n",
      "{'filePathOrName': '/home/bernard/Desktop/IIT_Thesis/ERO-SNN/InputData/h36m_sample/cam2_S1_Directions/ch0dvs/data.log'}\n",
      "importIitYarp trying path: /home/bernard/Desktop/IIT_Thesis/ERO-SNN/InputData/h36m_sample/cam2_S1_Directions/ch0dvs\n"
     ]
    },
    {
     "name": "stderr",
     "output_type": "stream",
     "text": [
      "  1%|          | 302/32375 [00:00<00:10, 3010.47it/s]"
     ]
    },
    {
     "name": "stderr",
     "output_type": "stream",
     "text": [
      "100%|██████████| 32375/32375 [00:05<00:00, 5606.95it/s]\n"
     ]
    },
    {
     "name": "stdout",
     "output_type": "stream",
     "text": [
      "Examining info.log: /home/bernard/Desktop/IIT_Thesis/ERO-SNN/InputData/h36m_sample/cam2_S1_Directions/ch0dvs/info.log\n",
      "File imported.\n",
      "Processed /home/bernard/Desktop/IIT_Thesis/ERO-SNN/InputData/h36m_sample/cam2_S1_Directions/ch0dvs/data.log\n",
      "Processing: /home/bernard/Desktop/IIT_Thesis/ERO-SNN/InputData/MVSEC_short_outdoor/leftdvs/data.log\n",
      "Output path: /home/bernard/Desktop/IIT_Thesis/ERO-SNN/EROS/MVSEC_short_outdoor\n",
      "{'filePathOrName': '/home/bernard/Desktop/IIT_Thesis/ERO-SNN/InputData/MVSEC_short_outdoor/leftdvs/data.log'}\n",
      "{'filePathOrName': '/home/bernard/Desktop/IIT_Thesis/ERO-SNN/InputData/MVSEC_short_outdoor/leftdvs/data.log'}\n",
      "importIitYarp trying path: /home/bernard/Desktop/IIT_Thesis/ERO-SNN/InputData/MVSEC_short_outdoor/leftdvs\n"
     ]
    },
    {
     "name": "stderr",
     "output_type": "stream",
     "text": [
      "100%|██████████| 38292/38292 [00:07<00:00, 5409.92it/s] \n"
     ]
    },
    {
     "name": "stdout",
     "output_type": "stream",
     "text": [
      "Examining info.log: /home/bernard/Desktop/IIT_Thesis/ERO-SNN/InputData/MVSEC_short_outdoor/leftdvs/info.log\n",
      "File imported.\n",
      "Processed /home/bernard/Desktop/IIT_Thesis/ERO-SNN/InputData/MVSEC_short_outdoor/leftdvs/data.log\n"
     ]
    }
   ],
   "source": [
    "for i, log_file in enumerate(log_files):\n",
    "    # Create a corresponding output path\n",
    "    log_file = os.path.join(input_data_dir, log_file)\n",
    "    output_path = os.path.join(output_base_path, datasets[i])\n",
    "    print(\"Processing:\", log_file)\n",
    "    print(\"Output path:\", output_path)\n",
    "    \n",
    "    if process(log_file, output_path, skip=skip_image, args=args):\n",
    "        print(f\"Processed {log_file}\")\n",
    "    else:\n",
    "        print(f\"Error processing {log_file}\")"
   ]
  }
 ],
 "metadata": {
  "jupytext": {
   "cell_metadata_filter": "-all",
   "main_language": "python",
   "notebook_metadata_filter": "-all"
  },
  "kernelspec": {
   "display_name": "IIT_Thesis",
   "language": "python",
   "name": "python3"
  },
  "language_info": {
   "codemirror_mode": {
    "name": "ipython",
    "version": 3
   },
   "file_extension": ".py",
   "mimetype": "text/x-python",
   "name": "python",
   "nbconvert_exporter": "python",
   "pygments_lexer": "ipython3",
   "version": "3.10.16"
  }
 },
 "nbformat": 4,
 "nbformat_minor": 5
}
