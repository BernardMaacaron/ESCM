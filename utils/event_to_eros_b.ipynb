{
 "cells": [
  {
   "cell_type": "code",
   "execution_count": 9,
   "id": "00ef0d7b",
   "metadata": {},
   "outputs": [],
   "source": [
    "import cv2\n",
    "import json\n",
    "import os\n",
    "import numpy as np\n",
    "import sys\n",
    "import glob\n",
    "# sys.path.append('/home/ggoyal/code/hpe-core')\n",
    "# sys.path.append('/home/ggoyal/code/hpe-core/example/movenet')\n",
    "#\n",
    "# from lib import init, MoveNet, Task"
   ]
  },
  {
   "cell_type": "code",
   "execution_count": 10,
   "id": "4d5cce82",
   "metadata": {},
   "outputs": [
    {
     "name": "stdout",
     "output_type": "stream",
     "text": [
      "utils\n",
      "Found ERO-SNN folder: /home/bernard/Desktop/IIT_Thesis/ERO-SNN\n"
     ]
    }
   ],
   "source": [
    "# Find the ERO-SNN folder and add it to the python path\n",
    "current_dir = os.getcwd()\n",
    "\n",
    "while os.path.basename(current_dir) != 'ERO-SNN':\n",
    "    print(os.path.basename(current_dir))\n",
    "    current_dir = os.path.dirname(current_dir)\n",
    "    \n",
    "print(f\"Found ERO-SNN folder: {current_dir}\")\n",
    "sys.path.append(current_dir)"
   ]
  },
  {
   "cell_type": "code",
   "execution_count": 11,
   "id": "2efe1bca",
   "metadata": {},
   "outputs": [],
   "source": [
    "import BrianHF\n",
    "from datasets.utils.parsing import import_yarp_skeleton_data, batchIterator\n",
    "from datasets.utils.events_representation import EROS\n",
    "from datasets.utils.export import ensure_location, str2bool #, get_movenet_keypoints, get_center\n",
    "from bimvee.importIitYarp import importIitYarp as import_dvs\n",
    "from bimvee.importAe import importAe\n",
    "from bimvee.importIitYarp import importIitYarpBinaryDataLog"
   ]
  },
  {
   "cell_type": "code",
   "execution_count": 12,
   "id": "cece8c1f",
   "metadata": {
    "lines_to_next_cell": 1
   },
   "outputs": [],
   "source": [
    "def create_ts_list(fps,ts):\n",
    "    out = dict()\n",
    "    out['ts'] = list()\n",
    "    x = np.arange(ts[0],ts[-1],1/fps)\n",
    "    for i in x:\n",
    "        out['ts'].append(i)\n",
    "    return out"
   ]
  },
  {
   "cell_type": "code",
   "execution_count": 13,
   "id": "d713aefd",
   "metadata": {},
   "outputs": [],
   "source": [
    "def process(data_dvs_file, output_path, skip=None, args=None):\n",
    "\n",
    "    if skip == None:\n",
    "        skip = 1\n",
    "    else:\n",
    "        skip = int(skip) + 1\n",
    "\n",
    "    print('Importing file...', data_dvs_file)\n",
    "    data_dvs = importAe(filePathOrName=data_dvs_file)\n",
    "    # data_dvs = import_dvs(filePathOrName=data_dvs_file)\n",
    "    print('File imported.')\n",
    "    # data_dvs = importIitYarpBinaryDataLog(filePathOrName=data_dvs_file)\n",
    "    \n",
    "    # try:\n",
    "    #     data_dvs['data']['left']['dvs']['ts'] /= args['ts_scaler']\n",
    "    #     side = 'left'\n",
    "    # except KeyError:\n",
    "    #     data_dvs['data']['right']['dvs']['ts'] /= args['ts_scaler']\n",
    "    #     side = 'right'\n",
    "        \n",
    "    data_dvs = next(BrianHF.find_keys(data_dvs, 'dvs'))\n",
    "    data_ts = create_ts_list(args['fps'],data_dvs['ts'])\n",
    "    # print(f\"{data_dvs_file.split('/')[-3:-1]}: \\n start: {data_dvs['data'][side]['dvs']['ts'][0]} \\n stop: {data_dvs['data'][side]['dvs']['ts'][-1]}\")\n",
    "    print(f\"{data_dvs_file.split('/')[-3]}: \\n start: {(-1)*data_dvs['tsOffset']} \\n duration: {data_dvs['ts'][-1]}\")\n",
    "    iterator = batchIterator(data_dvs, data_ts)\n",
    "    \n",
    "    frame_width = np.max(data_dvs['x'])+1\n",
    "    frame_height = np.max(data_dvs['y'])+1\n",
    "    \n",
    "    eros = EROS(kernel_size=args['eros_kernel'], frame_width=frame_width, frame_height=frame_height, decay_base=0.0)\n",
    "\n",
    "    poses_movenet = []\n",
    "    if args['write_video']:\n",
    "        output_path_video = os.path.join(output_path,'eros-binary-out.mp4')\n",
    "        print(output_path_video)\n",
    "        video_out = cv2.VideoWriter(output_path_video, cv2.VideoWriter_fourcc('M', 'J', 'P', 'G'), args['fps'],\n",
    "                                    (frame_width, frame_height))\n",
    "\n",
    "    for fi, (events, pose, batch_size) in enumerate(iterator):\n",
    "        sys.stdout.write(f'frame: {fi}/{len(data_ts[\"ts\"])}\\r')\n",
    "        sys.stdout.flush()\n",
    "\n",
    "        # if args['dev']:\n",
    "        #     print('frame: ', fi)\n",
    "        for ei in range(batch_size):\n",
    "            eros.update(vx=int(events['x'][ei]), vy=int(events['y'][ei]))\n",
    "        if fi % skip != 0:\n",
    "            continue\n",
    "\n",
    "        frame = eros.get_frame()\n",
    "        # frame = cv2.GaussianBlur(frame, (args['gauss_kernel'], args['gauss_kernel']), 0)\n",
    "\n",
    "        if args['dev']:\n",
    "            # keypoints = np.reshape(sample_anno['keypoints'], [-1, 3])\n",
    "            # h, w = frame.shape\n",
    "            # for i in range(len(keypoints)):\n",
    "            #     frame = cv2.circle(frame, [int(keypoints[i, 0] * w), int(keypoints[i, 1] * h)], 1, (255, 0, 0), 2)\n",
    "            # frame = cv2.circle(frame, [int(sample_anno['center'][0] * w), int(sample_anno['center'][1] * h)], 1,\n",
    "            #                    (255, 0, 0), 4)\n",
    "            cv2.imshow('', frame)\n",
    "            cv2.waitKey(1)\n",
    "            if fi>50:\n",
    "                break\n",
    "        filename = os.path.basename(data_dvs_file)\n",
    "        if args['write_images']:\n",
    "            cv2.imwrite(os.path.join(output_path, f'{filename}_{fi:04d}.jpg'), frame)\n",
    "        if args['write_video']:\n",
    "            \n",
    "            framergb = cv2.cvtColor(frame, cv2.COLOR_GRAY2BGR)\n",
    "            video_out.write(framergb)\n",
    "\n",
    "    if args['write_video']:\n",
    "        print('writing')\n",
    "        video_out.release()\n",
    "\n",
    "    return"
   ]
  },
  {
   "cell_type": "code",
   "execution_count": 14,
   "id": "052173c2",
   "metadata": {},
   "outputs": [],
   "source": [
    "def setup_testing_list(path):\n",
    "    if not os.path.exists(path):\n",
    "        return []\n",
    "    with open(str(path), 'r+') as f:\n",
    "        poses = json.load(f)\n",
    "    files = [sample['original_sample'] for sample in poses]\n",
    "    files_unique = set(files)\n",
    "    return files_unique"
   ]
  },
  {
   "cell_type": "markdown",
   "id": "88ef984f",
   "metadata": {},
   "source": [
    "$$ \\text{FPS} = \\frac{1}{\\text{interval in seconds}} $$\n",
    "\n",
    "Given that the interval is 30 milliseconds, you need to convert this to seconds:\n",
    "\n",
    "$$ \\text{interval in seconds} = \\frac{30 \\text{ ms}}{1000 \\text{ ms/s}} = 0.03 \\text{ s} $$\n",
    "\n",
    "Now, calculate the FPS:\n",
    "\n",
    "$$ \\text{FPS} = \\frac{1}{0.03 \\text{ s}} \\approx 33.33 $$\n",
    "\n",
    "So, the FPS should be approximately 33.33."
   ]
  },
  {
   "cell_type": "code",
   "execution_count": 15,
   "id": "564a7e1a",
   "metadata": {
    "lines_to_next_cell": 1
   },
   "outputs": [],
   "source": [
    "def main():\n",
    "    # Define the variables directly\n",
    "    eros_kernel = 8\n",
    "    # frame_width = 640\n",
    "    # frame_height = 480\n",
    "    gauss_kernel = 7\n",
    "    skip_image = None\n",
    "    input_data_dir = 'InputData'\n",
    "    output_base_path = 'EROS'\n",
    "    write_images = False\n",
    "    write_video = True\n",
    "    frame_length = 30 #ms\n",
    "    interval_length = 1000 #ms\n",
    "    fps = interval_length/frame_length\n",
    "    dev = False\n",
    "    ts_scaler = 0.1\n",
    "    \n",
    "    # Ensure the base output path exists\n",
    "    output_base_path = os.path.abspath(output_base_path)\n",
    "    ensure_location(output_base_path)\n",
    "    input_data_dir = os.path.abspath(input_data_dir)\n",
    "    \n",
    "    datasets = ['DHP19_Sample', 'EyeTracking', 'h36m_sample', 'MVSEC_short_outdoor']\n",
    "    datasets = ['EyeTracking']\n",
    "\n",
    "    for dataset in datasets:\n",
    "        input_data_dir = os.path.join(input_data_dir, dataset)\n",
    "        # Iterate over .log files in the input data directory\n",
    "        log_files = glob.glob(os.path.join(input_data_dir, '**/data.log'), recursive=True)\n",
    "        for log_file in log_files:\n",
    "            try:\n",
    "                # Create a corresponding output path\n",
    "                relative_path = os.path.relpath(log_file, input_data_dir)\n",
    "                output_path = os.path.join(output_base_path, dataset, os.path.dirname(relative_path))\n",
    "                ensure_location(output_path)\n",
    "\n",
    "                print(\"Processing:\", log_file)\n",
    "                print(\"Output path:\", output_path)\n",
    "\n",
    "                # Create a dictionary to hold the arguments\n",
    "                args = {\n",
    "                    'eros_kernel': eros_kernel,\n",
    "                    # 'frame_width': frame_width,\n",
    "                    # 'frame_height': frame_height,\n",
    "                    'gauss_kernel': gauss_kernel,\n",
    "                    'write_images': write_images,\n",
    "                    'write_video': write_video,\n",
    "                    'fps': fps,\n",
    "                    'dev': dev,\n",
    "                    'ts_scaler': ts_scaler\n",
    "                }\n",
    "                process(log_file, output_path, skip=skip_image, args=args)\n",
    "            except:\n",
    "                print(f\"Error processing {log_file}\")"
   ]
  },
  {
   "cell_type": "code",
   "execution_count": 16,
   "id": "453effa8",
   "metadata": {},
   "outputs": [],
   "source": [
    "if __name__ == '__main__':\n",
    "    main()"
   ]
  }
 ],
 "metadata": {
  "jupytext": {
   "cell_metadata_filter": "-all",
   "main_language": "python",
   "notebook_metadata_filter": "-all"
  },
  "kernelspec": {
   "display_name": "IIT",
   "language": "python",
   "name": "python3"
  },
  "language_info": {
   "codemirror_mode": {
    "name": "ipython",
    "version": 3
   },
   "file_extension": ".py",
   "mimetype": "text/x-python",
   "name": "python",
   "nbconvert_exporter": "python",
   "pygments_lexer": "ipython3",
   "version": "3.10.12"
  }
 },
 "nbformat": 4,
 "nbformat_minor": 5
}
