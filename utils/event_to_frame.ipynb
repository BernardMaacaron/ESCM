{
 "cells": [
  {
   "cell_type": "code",
   "execution_count": 1,
   "id": "e140184a",
   "metadata": {},
   "outputs": [],
   "source": [
    "import cv2\n",
    "import json\n",
    "import os\n",
    "import numpy as np\n",
    "import sys\n",
    "import glob\n",
    "import os\n",
    "from tqdm import tqdm\n",
    "import bisect"
   ]
  },
  {
   "cell_type": "code",
   "execution_count": 2,
   "id": "6035e92d",
   "metadata": {},
   "outputs": [
    {
     "name": "stdout",
     "output_type": "stream",
     "text": [
      "utils\n"
     ]
    }
   ],
   "source": [
    "# Find the ERO-SNN folder and add it to the python path\n",
    "current_dir = os.getcwd()\n",
    "while os.path.basename(current_dir) != 'ERO-SNN':\n",
    "    print(os.path.basename(current_dir))\n",
    "    current_dir = os.path.dirname(current_dir)"
   ]
  },
  {
   "cell_type": "code",
   "execution_count": 3,
   "id": "28f118ca",
   "metadata": {},
   "outputs": [
    {
     "name": "stdout",
     "output_type": "stream",
     "text": [
      "Found ERO-SNN folder: /home/bernard/Desktop/IIT_Thesis/ERO-SNN\n"
     ]
    }
   ],
   "source": [
    "print(f\"Found ERO-SNN folder: {current_dir}\")\n",
    "sys.path.append(current_dir)"
   ]
  },
  {
   "cell_type": "code",
   "execution_count": 4,
   "id": "7c12e99a",
   "metadata": {
    "lines_to_next_cell": 1
   },
   "outputs": [],
   "source": [
    "import BrianHF\n",
    "from datasets.utils.parsing import import_yarp_skeleton_data, batchIterator\n",
    "from datasets.utils.events_representation import EROS\n",
    "from datasets.utils.export import ensure_location, str2bool #, get_movenet_keypoints, get_center\n",
    "from bimvee.importIitYarp import importIitYarp as import_dvs\n",
    "from bimvee.importAe import importAe\n",
    "from bimvee.importIitYarp import importIitYarpBinaryDataLog"
   ]
  },
  {
   "cell_type": "code",
   "execution_count": 5,
   "id": "fe191fdb",
   "metadata": {
    "lines_to_next_cell": 1
   },
   "outputs": [],
   "source": [
    "def create_ts_list(frame_length, frame_interval, ts):\n",
    "    out = {'ts': []}\n",
    "    \n",
    "    # Create a list of timestamps starting from ts[0] and incrementing by 30ms\n",
    "    x = np.arange(ts[0], ts[-1], frame_interval / 1000.0)\n",
    "    \n",
    "    # Convert ts to a NumPy array for faster operations\n",
    "    ts = np.array(ts)\n",
    "    \n",
    "    for start_time in tqdm(x, desc=\"Processing time windows\"):\n",
    "        # Create a window of frame_length ms\n",
    "        end_time = start_time + frame_length / 1000.0\n",
    "        \n",
    "        # Use binary search to find the indices of the timestamps within the window\n",
    "        start_idx = bisect.bisect_left(ts, start_time)\n",
    "        end_idx = bisect.bisect_right(ts, end_time)\n",
    "        \n",
    "        # Collect all timestamps within this window\n",
    "        window_ts = ts[start_idx:end_idx]\n",
    "        out['ts'].extend(window_ts)\n",
    "    \n",
    "    return out"
   ]
  },
  {
   "cell_type": "code",
   "execution_count": 6,
   "id": "00c554c7",
   "metadata": {
    "lines_to_next_cell": 1
   },
   "outputs": [],
   "source": [
    "def process(data_dvs_file, output_path, skip=None, args=None):\n",
    "\n",
    "    if skip is None:\n",
    "        skip = 1\n",
    "    else:\n",
    "        skip = int(skip) + 1\n",
    "\n",
    "    print('Importing file...', data_dvs_file)\n",
    "    data_dvs = importAe(filePathOrName=data_dvs_file)\n",
    "    print('File imported.')\n",
    "\n",
    "    try:\n",
    "        data_dvs = next(BrianHF.find_keys(data_dvs, 'dvs'))\n",
    "    except StopIteration:\n",
    "        print('No \"dvs\" key found in the data.')\n",
    "        return\n",
    "\n",
    "    data_ts = create_ts_list(args['frame_length'], args['interval_length'], data_dvs['ts'])\n",
    "    \n",
    "    print(f\"{data_dvs_file.split('/')[-3]}: \\n start: {(-1)*data_dvs['tsOffset']} \\n duration: {data_dvs['ts'][-1]} \\n scaled duration: {data_dvs['ts'][-1]*args['ts_scaler']}\")\n",
    "    iterator = batchIterator(data_dvs, data_ts)\n",
    "    \n",
    "    frame_width = np.max(data_dvs['x']) + 1\n",
    "    frame_height = np.max(data_dvs['y']) + 1\n",
    "    \n",
    "    # Calculate fps based on the number of frames and total duration\n",
    "    total_duration = data_dvs['ts'][-1] - data_dvs['ts'][0]\n",
    "    num_frames = len(data_ts['ts'])\n",
    "\n",
    "    args['fps'] = int(min(num_frames / total_duration, 1024))\n",
    "    print(f\"FPS: {args['fps']}\")\n",
    "\n",
    "    if args['write_video']:\n",
    "        output_path_video = os.path.join(output_path, 'input-out.mp4')\n",
    "        print(output_path_video)\n",
    "        video_out = cv2.VideoWriter(output_path_video, cv2.VideoWriter_fourcc(*'mp4v'), args['fps'],\n",
    "                                    (frame_width, frame_height), isColor=False)\n",
    "\n",
    "    for fi, (events, pose, batch_size) in enumerate(iterator):\n",
    "        sys.stdout.write(f'frame: {fi}/{len(data_ts[\"ts\"])}\\r')\n",
    "        sys.stdout.flush()\n",
    "\n",
    "        print(\"Total number of events: \", len(data_ts['ts']))\n",
    "        var = input(\"Do you want to continue (y/n)? \")\n",
    "        if var == 'n':\n",
    "            break\n",
    "        frame = np.zeros((frame_height, frame_width), dtype=np.uint8)\n",
    "\n",
    "        for ei in range(batch_size):                \n",
    "            vx = int(events['x'][ei])\n",
    "            vy = int(events['y'][ei])\n",
    "            frame[vy, vx] = 255\n",
    "        \n",
    "        if fi % skip != 0:\n",
    "            continue\n",
    "\n",
    "        filename = os.path.basename(data_dvs_file)\n",
    "        \n",
    "        if args['write_images']:\n",
    "            image_path = os.path.join(output_path, 'Images', f'{filename}_{fi:04d}.jpg')\n",
    "            print(\"Saving image to \", image_path)\n",
    "            cv2.imwrite(image_path, frame)\n",
    "        \n",
    "        if args['write_video']:\n",
    "            frame = frame.astype(np.uint8)\n",
    "            video_out.write(frame)\n",
    "\n",
    "    if args['write_video']:\n",
    "        video_out.release()\n",
    "\n",
    "    return True"
   ]
  },
  {
   "cell_type": "code",
   "execution_count": 7,
   "id": "b293b9f7",
   "metadata": {},
   "outputs": [
    {
     "name": "stdout",
     "output_type": "stream",
     "text": [
      "Input data directory:  /home/bernard/Desktop/IIT_Thesis/ERO-SNN/InputData\n",
      "Output base path:  /home/bernard/Desktop/IIT_Thesis/ERO-SNN/InputData\n"
     ]
    }
   ],
   "source": [
    "# Define the variables directly\n",
    "eros_kernel = 8\n",
    "skip_image = None\n",
    "input_data_dir = 'InputData'\n",
    "output_base_path = 'InputData'\n",
    "write_images = True\n",
    "write_video = False\n",
    "frame_length = 1.1 #ms\n",
    "interval_length = 30 #ms\n",
    "fps = 0\n",
    "dev = False\n",
    "ts_scaler = 1.0\n",
    "\n",
    "# Ensure the base output path exists\n",
    "output_base_path = os.path.join(current_dir, output_base_path)\n",
    "input_data_dir = os.path.join(current_dir, input_data_dir)\n",
    "\n",
    "print('Input data directory: ', input_data_dir)\n",
    "print('Output base path: ', output_base_path)\n",
    "\n",
    "datasets = ['EyeTracking', 'h36m_sample', 'MVSEC_short_outdoor']\n",
    "\n",
    "# Create a dictionary to hold the arguments\n",
    "args = {\n",
    "    'eros_kernel': eros_kernel,\n",
    "    'write_images': write_images,\n",
    "    'write_video': write_video,\n",
    "    'frame_length': frame_length,\n",
    "    'interval_length': interval_length,\n",
    "    'fps': fps,\n",
    "    'dev': dev,\n",
    "    'ts_scaler': ts_scaler\n",
    "    }\n",
    "\n",
    "log_files = ['InputData/h36m_sample/cam2_S1_Directions/ch0dvs/data.log',\n",
    "         'InputData/EyeTracking/user_5_1/ch0dvs_old/data.log',\n",
    "         'InputData/MVSEC_short_outdoor/leftdvs/data.log']"
   ]
  },
  {
   "cell_type": "code",
   "execution_count": 8,
   "id": "cb9caa12",
   "metadata": {},
   "outputs": [
    {
     "name": "stdout",
     "output_type": "stream",
     "text": [
      "Processing: /home/bernard/Desktop/IIT_Thesis/ERO-SNN/InputData/h36m_sample/cam2_S1_Directions/ch0dvs/data.log\n",
      "Output path: /home/bernard/Desktop/IIT_Thesis/ERO-SNN/InputData/Images/EyeTracking\n",
      "Importing file... /home/bernard/Desktop/IIT_Thesis/ERO-SNN/InputData/h36m_sample/cam2_S1_Directions/ch0dvs/data.log\n",
      "{'filePathOrName': '/home/bernard/Desktop/IIT_Thesis/ERO-SNN/InputData/h36m_sample/cam2_S1_Directions/ch0dvs/data.log'}\n",
      "{'filePathOrName': '/home/bernard/Desktop/IIT_Thesis/ERO-SNN/InputData/h36m_sample/cam2_S1_Directions/ch0dvs/data.log'}\n",
      "importIitYarp trying path: /home/bernard/Desktop/IIT_Thesis/ERO-SNN/InputData/h36m_sample/cam2_S1_Directions/ch0dvs\n"
     ]
    },
    {
     "name": "stderr",
     "output_type": "stream",
     "text": [
      "100%|██████████| 32375/32375 [00:05<00:00, 6108.21it/s]\n"
     ]
    },
    {
     "name": "stdout",
     "output_type": "stream",
     "text": [
      "Examining info.log: /home/bernard/Desktop/IIT_Thesis/ERO-SNN/InputData/h36m_sample/cam2_S1_Directions/ch0dvs/info.log\n",
      "File imported.\n"
     ]
    },
    {
     "name": "stderr",
     "output_type": "stream",
     "text": [
      "Processing time windows: 100%|██████████| 1076/1076 [00:00<00:00, 117271.36it/s]"
     ]
    },
    {
     "name": "stdout",
     "output_type": "stream",
     "text": [
      "cam2_S1_Directions: \n",
      " start: 0.0 \n",
      " duration: 32.266998 \n",
      " scaled duration: 32.266998\n"
     ]
    },
    {
     "name": "stderr",
     "output_type": "stream",
     "text": [
      "\n"
     ]
    },
    {
     "name": "stdout",
     "output_type": "stream",
     "text": [
      "FPS: 1024\n",
      "Total number of events:  196433\n",
      "Processed /home/bernard/Desktop/IIT_Thesis/ERO-SNN/InputData/h36m_sample/cam2_S1_Directions/ch0dvs/data.log\n",
      "Processing: /home/bernard/Desktop/IIT_Thesis/ERO-SNN/InputData/EyeTracking/user_5_1/ch0dvs_old/data.log\n",
      "Output path: /home/bernard/Desktop/IIT_Thesis/ERO-SNN/InputData/Images/h36m_sample\n",
      "Importing file... /home/bernard/Desktop/IIT_Thesis/ERO-SNN/InputData/EyeTracking/user_5_1/ch0dvs_old/data.log\n",
      "{'filePathOrName': '/home/bernard/Desktop/IIT_Thesis/ERO-SNN/InputData/EyeTracking/user_5_1/ch0dvs_old/data.log'}\n",
      "{'filePathOrName': '/home/bernard/Desktop/IIT_Thesis/ERO-SNN/InputData/EyeTracking/user_5_1/ch0dvs_old/data.log'}\n",
      "importIitYarp trying path: /home/bernard/Desktop/IIT_Thesis/ERO-SNN/InputData/EyeTracking/user_5_1/ch0dvs_old\n"
     ]
    },
    {
     "name": "stderr",
     "output_type": "stream",
     "text": [
      "100%|██████████| 72057/72057 [00:03<00:00, 18979.87it/s]\n"
     ]
    },
    {
     "name": "stdout",
     "output_type": "stream",
     "text": [
      "Examining info.log: /home/bernard/Desktop/IIT_Thesis/ERO-SNN/InputData/EyeTracking/user_5_1/ch0dvs_old/info.log\n",
      "File imported.\n"
     ]
    },
    {
     "name": "stderr",
     "output_type": "stream",
     "text": [
      "Processing time windows: 100%|██████████| 9245/9245 [00:00<00:00, 259841.06it/s]"
     ]
    },
    {
     "name": "stdout",
     "output_type": "stream",
     "text": [
      "user_5_1: \n",
      " start: 0.0 \n",
      " duration: 277.320382 \n",
      " scaled duration: 277.320382\n"
     ]
    },
    {
     "name": "stderr",
     "output_type": "stream",
     "text": [
      "\n"
     ]
    },
    {
     "name": "stdout",
     "output_type": "stream",
     "text": [
      "FPS: 614\n",
      "Total number of events:  170275\n",
      "Processed /home/bernard/Desktop/IIT_Thesis/ERO-SNN/InputData/EyeTracking/user_5_1/ch0dvs_old/data.log\n",
      "Processing: /home/bernard/Desktop/IIT_Thesis/ERO-SNN/InputData/MVSEC_short_outdoor/leftdvs/data.log\n",
      "Output path: /home/bernard/Desktop/IIT_Thesis/ERO-SNN/InputData/Images/MVSEC_short_outdoor\n",
      "Importing file... /home/bernard/Desktop/IIT_Thesis/ERO-SNN/InputData/MVSEC_short_outdoor/leftdvs/data.log\n",
      "{'filePathOrName': '/home/bernard/Desktop/IIT_Thesis/ERO-SNN/InputData/MVSEC_short_outdoor/leftdvs/data.log'}\n",
      "{'filePathOrName': '/home/bernard/Desktop/IIT_Thesis/ERO-SNN/InputData/MVSEC_short_outdoor/leftdvs/data.log'}\n",
      "importIitYarp trying path: /home/bernard/Desktop/IIT_Thesis/ERO-SNN/InputData/MVSEC_short_outdoor/leftdvs\n"
     ]
    },
    {
     "name": "stderr",
     "output_type": "stream",
     "text": [
      "100%|██████████| 38292/38292 [00:06<00:00, 5953.10it/s] \n"
     ]
    },
    {
     "name": "stdout",
     "output_type": "stream",
     "text": [
      "Examining info.log: /home/bernard/Desktop/IIT_Thesis/ERO-SNN/InputData/MVSEC_short_outdoor/leftdvs/info.log\n",
      "File imported.\n"
     ]
    },
    {
     "name": "stderr",
     "output_type": "stream",
     "text": [
      "Processing time windows: 100%|██████████| 667/667 [00:00<00:00, 68779.37it/s]"
     ]
    },
    {
     "name": "stdout",
     "output_type": "stream",
     "text": [
      "MVSEC_short_outdoor: \n",
      " start: 0.0 \n",
      " duration: 19.999817999999998 \n",
      " scaled duration: 19.999817999999998\n"
     ]
    },
    {
     "name": "stderr",
     "output_type": "stream",
     "text": [
      "\n"
     ]
    },
    {
     "name": "stdout",
     "output_type": "stream",
     "text": [
      "FPS: 1024\n",
      "Total number of events:  269210\n",
      "Processed /home/bernard/Desktop/IIT_Thesis/ERO-SNN/InputData/MVSEC_short_outdoor/leftdvs/data.log\n"
     ]
    }
   ],
   "source": [
    "for i, log_file in enumerate(log_files):\n",
    "    # Create a corresponding output path\n",
    "    log_file = os.path.join(current_dir, log_file)\n",
    "    output_path = os.path.join(output_base_path, 'Images', datasets[i])\n",
    "    print(\"Processing:\", log_file)\n",
    "    print(\"Output path:\", output_path)\n",
    "\n",
    "\n",
    "    if process(log_file, output_path, skip=skip_image, args=args):\n",
    "        print(f\"Processed {log_file}\")\n",
    "    else:\n",
    "        print(f\"Error processing {log_file}\")        "
   ]
  }
 ],
 "metadata": {
  "jupytext": {
   "cell_metadata_filter": "-all",
   "main_language": "python",
   "notebook_metadata_filter": "-all"
  },
  "kernelspec": {
   "display_name": "IIT",
   "language": "python",
   "name": "python3"
  },
  "language_info": {
   "codemirror_mode": {
    "name": "ipython",
    "version": 3
   },
   "file_extension": ".py",
   "mimetype": "text/x-python",
   "name": "python",
   "nbconvert_exporter": "python",
   "pygments_lexer": "ipython3",
   "version": "3.10.12"
  }
 },
 "nbformat": 4,
 "nbformat_minor": 5
}
