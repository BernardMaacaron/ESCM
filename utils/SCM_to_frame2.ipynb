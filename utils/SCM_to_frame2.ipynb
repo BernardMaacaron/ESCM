{
 "cells": [
  {
   "cell_type": "code",
   "execution_count": 1,
   "id": "2ff7ed04",
   "metadata": {},
   "outputs": [],
   "source": [
    "import cv2\n",
    "import json\n",
    "import os\n",
    "import numpy as np\n",
    "import sys\n",
    "import glob\n",
    "import os\n",
    "from tqdm import tqdm\n",
    "import bisect\n",
    "import re"
   ]
  },
  {
   "cell_type": "code",
   "execution_count": 2,
   "id": "adf8632c",
   "metadata": {},
   "outputs": [],
   "source": [
    "# Find the ERO-SNN folder and add it to the python path\n",
    "current_dir = os.getcwd()"
   ]
  },
  {
   "cell_type": "code",
   "execution_count": 3,
   "id": "6f0e843b",
   "metadata": {},
   "outputs": [
    {
     "name": "stdout",
     "output_type": "stream",
     "text": [
      "utils\n"
     ]
    }
   ],
   "source": [
    "while os.path.basename(current_dir) != 'ERO-SNN':\n",
    "    print(os.path.basename(current_dir))\n",
    "    current_dir = os.path.dirname(current_dir)"
   ]
  },
  {
   "cell_type": "code",
   "execution_count": 4,
   "id": "1d205665",
   "metadata": {},
   "outputs": [
    {
     "name": "stdout",
     "output_type": "stream",
     "text": [
      "Found ERO-SNN folder: /home/bernard/Desktop/IIT_Thesis/ERO-SNN\n"
     ]
    }
   ],
   "source": [
    "print(f\"Found ERO-SNN folder: {current_dir}\")\n",
    "sys.path.append(current_dir)"
   ]
  },
  {
   "cell_type": "code",
   "execution_count": 5,
   "id": "db270edd",
   "metadata": {
    "lines_to_next_cell": 1
   },
   "outputs": [],
   "source": [
    "import BrianHF\n",
    "from datasets.utils.parsing import import_yarp_skeleton_data, batchIterator\n",
    "from datasets.utils.events_representation import EROS\n",
    "from datasets.utils.export import ensure_location, str2bool #, get_movenet_keypoints, get_center\n",
    "from bimvee.importIitYarp import importIitYarp as import_dvs\n",
    "from bimvee.importAe import importAe\n",
    "from bimvee.importIitYarp import importIitYarpBinaryDataLog"
   ]
  },
  {
   "cell_type": "code",
   "execution_count": 6,
   "id": "c8bbcc12",
   "metadata": {},
   "outputs": [],
   "source": [
    "def create_ts_list(frame_length, frame_interval, data_dvs):\n",
    "    out = {'ts': [], 'x': [], 'y': []}\n",
    "    \n",
    "    # Extract ts, x, and y from data_dvs\n",
    "    ts = np.array(data_dvs['ts'])\n",
    "    x_coords = np.array(data_dvs['x'])\n",
    "    y_coords = np.array(data_dvs['y'])\n",
    "    \n",
    "    # Sort the data by timestamps\n",
    "    sorted_indices = np.argsort(ts)\n",
    "    ts = ts[sorted_indices]\n",
    "    x_coords = x_coords[sorted_indices]\n",
    "    y_coords = y_coords[sorted_indices]\n",
    "    \n",
    "    # Create a list of timestamps starting from ts[0] and incrementing by frame_interval ms\n",
    "    time_windows = np.arange(ts[0], ts[-1], frame_interval / 1000.0)\n",
    "    \n",
    "    for start_time in tqdm(time_windows, desc=\"Processing time windows\"):\n",
    "        # Create a window of frame_length ms\n",
    "        end_time = start_time + frame_length / 1000.0\n",
    "        \n",
    "        # Use binary search to find the indices of the timestamps within the window\n",
    "        start_idx = bisect.bisect_left(ts, start_time)\n",
    "        end_idx = bisect.bisect_right(ts, end_time)\n",
    "        \n",
    "        # Collect all timestamps, x, and y within this window\n",
    "        window_ts = ts[start_idx:end_idx]\n",
    "        window_x = x_coords[start_idx:end_idx]\n",
    "        window_y = y_coords[start_idx:end_idx]\n",
    "        \n",
    "        out['ts'].append(window_ts)\n",
    "        out['x'].append(window_x)\n",
    "        out['y'].append(window_y)\n",
    "    \n",
    "    return out"
   ]
  },
  {
   "cell_type": "code",
   "execution_count": 7,
   "id": "43ebc620",
   "metadata": {},
   "outputs": [],
   "source": [
    "# def process(data_dvs_file, output_path, skip=None, args=None):\n",
    "\n",
    "#     if skip == None:\n",
    "#         skip = 1\n",
    "#     else:\n",
    "#         skip = int(skip) + 1\n",
    "\n",
    "#     print('Importing file...', data_dvs_file)\n",
    "#     data_dvs = importAe(filePathOrName=data_dvs_file)\n",
    "#     print('File imported.')\n",
    "    \n",
    "    \n",
    "\n",
    "        \n",
    "#     data_dvs = next(BrianHF.find_keys(data_dvs, 'dvs'))\n",
    "#     # Check if the timestamps are in order\n",
    "    \n",
    "#     data_ts = create_ts_list(args['frame_length'], args['interval_length'], data_dvs)\n",
    "    \n",
    "#     print(f\"{data_dvs_file.split('/')[-3]}: \\n start: {(-1)*data_dvs['tsOffset']} \\n duration: {data_dvs['ts'][-1]}\")\n",
    "#     # iterator = batchIterator(data_dvs, data_ts)\n",
    "    \n",
    "#     frame_width = np.max(data_dvs['x'])+1\n",
    "#     frame_height = np.max(data_dvs['y'])+1\n",
    "    \n",
    "#     # Calculate fps based on the number of frames and total duration\n",
    "#     total_duration = data_dvs['ts'][-1] - data_dvs['ts'][0]\n",
    "#     num_frames = len(data_ts['ts'])\n",
    "\n",
    "#     args['fps'] = int(num_frames / total_duration)\n",
    "#     print(f\"FPS: {args['fps']}\")\n",
    "\n",
    "    \n",
    "#     if args['write_video']:\n",
    "#         output_path_video = os.path.join(output_path,'scm-out.mp4')\n",
    "#         print(output_path_video)\n",
    "#         video_out = cv2.VideoWriter(output_path_video, cv2.VideoWriter_fourcc('M', 'J', 'P', 'G'), args['fps'],\n",
    "#                                     (frame_width, frame_height))\n",
    "\n",
    "\n",
    "#     for fi, (events_x, events_y) in enumerate(zip(data_ts['x'], data_ts['y'])):\n",
    "#         sys.stdout.write(f'frame: {fi}/{len(data_ts[\"ts\"])}\\r')\n",
    "#         sys.stdout.flush()\n",
    "\n",
    "\n",
    "#         frame = np.zeros((frame_height, frame_width), dtype=np.uint8)\n",
    "\n",
    "#         frame[events_y, events_x] = 255\n",
    "\n",
    "#         # for ei in range(batch_size):                \n",
    "#         #     vx=int(events['x'][ei])\n",
    "#         #     vy=int(events['y'][ei])\n",
    "#         #     frame[vy,vx] = 255\n",
    "        \n",
    "            \n",
    "#         if fi % skip != 0:\n",
    "#             continue\n",
    "\n",
    "#         filename = os.path.basename(data_dvs_file)\n",
    "        \n",
    "#         if args['write_images']:\n",
    "#             images_path =  os.path.join(output_path,'Images')\n",
    "#             ensure_location(images_path)\n",
    "#             path = os.path.join(images_path, f'frame_{fi:08d}.jpg')\n",
    "#             sys.stdout.write(\"Saving image to \" + path + \"\\r\")\n",
    "#             cv2.imwrite(path, frame)\n",
    "            \n",
    "#         if args['write_video']:\n",
    "#             framergb = cv2.cvtColor(frame, cv2.COLOR_GRAY2BGR)\n",
    "#             video_out.write(frame)\n",
    "\n",
    "#     if args['write_video']:\n",
    "#         video_out.release()\n",
    "\n",
    "#     return True"
   ]
  },
  {
   "cell_type": "code",
   "execution_count": 8,
   "id": "75b88824",
   "metadata": {},
   "outputs": [],
   "source": [
    "def process(data_dvs_file, output_path, skip=None, args=None):\n",
    "\n",
    "    if skip == None:\n",
    "        skip = 1\n",
    "    else:\n",
    "        skip = int(skip) + 1\n",
    "\n",
    "    print('Importing file...', data_dvs_file)\n",
    "    data_dvs = importAe(filePathOrName=data_dvs_file)\n",
    "    print('File imported.')\n",
    "    \n",
    "    \n",
    "\n",
    "        \n",
    "    data_dvs = next(BrianHF.find_keys(data_dvs, 'dvs'))\n",
    "    # Check if the timestamps are in order\\\n",
    "        \n",
    "    print(f\"{data_dvs_file.split('/')[-3]}: \\n start: {(-1)*data_dvs['tsOffset']} \\n duration: {data_dvs['ts'][-1]}\")\n",
    "    # iterator = batchIterator(data_dvs, data_ts)\n",
    "    \n",
    "    frame_width = np.max(data_dvs['x'])+1\n",
    "    frame_height = np.max(data_dvs['y'])+1\n",
    "    \n",
    "        \n",
    "    ############    \n",
    "    \n",
    "    out = {'ts': [], 'x': [], 'y': []}\n",
    "    \n",
    "    # Extract ts, x, and y from data_dvs\n",
    "    ts = np.array(data_dvs['ts'])\n",
    "    x_coords = np.array(data_dvs['x'])\n",
    "    y_coords = np.array(data_dvs['y'])\n",
    "    \n",
    "    # Sort the data by timestamps\n",
    "    sorted_indices = np.argsort(ts)\n",
    "    ts = ts[sorted_indices]\n",
    "    x_coords = x_coords[sorted_indices]\n",
    "    y_coords = y_coords[sorted_indices]\n",
    "    \n",
    "    # Create a list of timestamps starting from ts[0] and incrementing by frame_interval ms\n",
    "    time_windows = np.arange(ts[0], ts[-1], args['interval_length'] / 1000.0)\n",
    "    \n",
    "    for fi, start_time in enumerate(time_windows):\n",
    "        # Create a window of frame_length ms\n",
    "        end_time = start_time + args['frame_length'] / 1000.0\n",
    "        \n",
    "        # Use binary search to find the indices of the timestamps within the window\n",
    "        start_idx = bisect.bisect_left(ts, start_time)\n",
    "        end_idx = bisect.bisect_right(ts, end_time)\n",
    "        \n",
    "        # Collect all timestamps, x, and y within this window\n",
    "        window_ts = ts[start_idx:end_idx]\n",
    "        window_x = x_coords[start_idx:end_idx]\n",
    "        window_y = y_coords[start_idx:end_idx]\n",
    "        \n",
    "\n",
    "\n",
    "        frame = np.zeros((frame_height, frame_width), dtype=np.uint8)\n",
    "\n",
    "        frame[window_y, window_x] = 255\n",
    "\n",
    "        # for ei in range(batch_size):                \n",
    "        #     vx=int(events['x'][ei])\n",
    "        #     vy=int(events['y'][ei])\n",
    "        #     frame[vy,vx] = 255\n",
    "        \n",
    "            \n",
    "        if fi % skip != 0:\n",
    "            continue\n",
    "\n",
    "        filename = os.path.basename(data_dvs_file)\n",
    "        \n",
    "        if args['write_images']:\n",
    "            images_path =  os.path.join(output_path,'Images')\n",
    "            ensure_location(images_path)\n",
    "            path = os.path.join(images_path, f'frame_{fi:08d}.jpg')\n",
    "            sys.stdout.write(\"Saving image to \" + path + \"\\r\")\n",
    "            cv2.imwrite(path, frame)\n",
    "        \n",
    "        # if args['write_video']:\n",
    "        #     framergb = cv2.cvtColor(frame, cv2.COLOR_GRAY2BGR)\n",
    "        #     video_out.write(frame)\n",
    "\n",
    "    # if args['write_video']:\n",
    "    #     video_out.release()\n",
    "\n",
    "    return True"
   ]
  },
  {
   "cell_type": "code",
   "execution_count": 9,
   "id": "01c690e5",
   "metadata": {},
   "outputs": [],
   "source": [
    "def find_data_log_files(base_dirs):\n",
    "    data_log_files = []\n",
    "    for base_dir in base_dirs:\n",
    "        # Use glob to find all data.log files in the directory and subdirectories\n",
    "        log_files = glob.glob(os.path.join(base_dir, '**', 'data.log'), recursive=True)\n",
    "        data_log_files.extend(log_files)\n",
    "    return data_log_files"
   ]
  },
  {
   "cell_type": "code",
   "execution_count": 10,
   "id": "950027eb",
   "metadata": {},
   "outputs": [
    {
     "name": "stdout",
     "output_type": "stream",
     "text": [
      "Input data directory:  /home/bernard/Desktop/IIT_Thesis/ERO-SNN/SimulationResultsFinal\n",
      "Output base path:  /home/bernard/Desktop/IIT_Thesis/ERO-SNN/EROS_like\n"
     ]
    },
    {
     "ename": "",
     "evalue": "",
     "output_type": "error",
     "traceback": [
      "\u001b[1;31mThe Kernel crashed while executing code in the current cell or a previous cell. \n",
      "\u001b[1;31mPlease review the code in the cell(s) to identify a possible cause of the failure. \n",
      "\u001b[1;31mClick <a href='https://aka.ms/vscodeJupyterKernelCrash'>here</a> for more info. \n",
      "\u001b[1;31mView Jupyter <a href='command:jupyter.viewOutput'>log</a> for further details."
     ]
    }
   ],
   "source": [
    "# Define the variables directly\n",
    "eros_kernel = 8\n",
    "skip_image = None\n",
    "input_data_dir = 'SimulationResultsFinal'\n",
    "output_base_path = 'EROS_like'\n",
    "write_images = True\n",
    "write_video = False\n",
    "frame_length = 1.1 #ms\n",
    "interval_length = 30 #ms\n",
    "fps = 610\n",
    "dev = False\n",
    "ts_scaler = 1.0\n",
    "\n",
    "# Ensure the base output path exists\n",
    "output_base_path = os.path.join(current_dir, output_base_path)\n",
    "input_data_dir = os.path.join(current_dir, input_data_dir)\n",
    "\n",
    "print('Input data directory: ', input_data_dir)\n",
    "print('Output base path: ', output_base_path)\n",
    "\n",
    "datasets = ['h36m_sample', 'EyeTracking', 'MVSEC_short_outdoor']\n",
    "\n",
    "# Create a dictionary to hold the arguments\n",
    "args = {\n",
    "    'eros_kernel': eros_kernel,\n",
    "    'write_images': write_images,\n",
    "    'write_video': write_video,\n",
    "    'frame_length': frame_length,\n",
    "    'interval_length': interval_length,\n",
    "    'fps': fps,\n",
    "    'dev': dev,\n",
    "    'ts_scaler': ts_scaler\n",
    "    }\n",
    "\n",
    "log_files = ['h36m_sample/cam2_S1_Directions/ch0dvs/YarpSpikeLog',\n",
    "        'EyeTracking/user_5_1/ch0dvs_old/YarpSpikeLog',\n",
    "        'MVSEC_short_outdoor/YarpSpikeLog']"
   ]
  },
  {
   "cell_type": "code",
   "execution_count": 11,
   "id": "2094be17",
   "metadata": {},
   "outputs": [
    {
     "name": "stdout",
     "output_type": "stream",
     "text": [
      "Processing: /home/bernard/Desktop/IIT_Thesis/ERO-SNN/SimulationResultsFinal/h36m_sample/cam2_S1_Directions/ch0dvs/YarpSpikeLog/SCM_LIF_OUT_NEIGHBORS-tau=200.us-vt=0.1-vr=0.0-P=0-incoming_spikes=0-method_Neuron=exact-Num_Neighbours=12-beta=0.5-Wi=6.0-Wk=-3.0-method_Syn=exact-Sim_Clock=0.5ms-Sample_Perc=1.0-/data_2024_07_31_18_11_01/data.log\n",
      "Output path: /home/bernard/Desktop/IIT_Thesis/ERO-SNN/EROS_like/h36m_sample/Num_Neighbours=12\n",
      "Importing file... /home/bernard/Desktop/IIT_Thesis/ERO-SNN/SimulationResultsFinal/h36m_sample/cam2_S1_Directions/ch0dvs/YarpSpikeLog/SCM_LIF_OUT_NEIGHBORS-tau=200.us-vt=0.1-vr=0.0-P=0-incoming_spikes=0-method_Neuron=exact-Num_Neighbours=12-beta=0.5-Wi=6.0-Wk=-3.0-method_Syn=exact-Sim_Clock=0.5ms-Sample_Perc=1.0-/data_2024_07_31_18_11_01/data.log\n",
      "{'filePathOrName': '/home/bernard/Desktop/IIT_Thesis/ERO-SNN/SimulationResultsFinal/h36m_sample/cam2_S1_Directions/ch0dvs/YarpSpikeLog/SCM_LIF_OUT_NEIGHBORS-tau=200.us-vt=0.1-vr=0.0-P=0-incoming_spikes=0-method_Neuron=exact-Num_Neighbours=12-beta=0.5-Wi=6.0-Wk=-3.0-method_Syn=exact-Sim_Clock=0.5ms-Sample_Perc=1.0-/data_2024_07_31_18_11_01/data.log'}\n",
      "{'filePathOrName': '/home/bernard/Desktop/IIT_Thesis/ERO-SNN/SimulationResultsFinal/h36m_sample/cam2_S1_Directions/ch0dvs/YarpSpikeLog/SCM_LIF_OUT_NEIGHBORS-tau=200.us-vt=0.1-vr=0.0-P=0-incoming_spikes=0-method_Neuron=exact-Num_Neighbours=12-beta=0.5-Wi=6.0-Wk=-3.0-method_Syn=exact-Sim_Clock=0.5ms-Sample_Perc=1.0-/data_2024_07_31_18_11_01/data.log'}\n",
      "importIitYarp trying path: /home/bernard/Desktop/IIT_Thesis/ERO-SNN/SimulationResultsFinal/h36m_sample/cam2_S1_Directions/ch0dvs/YarpSpikeLog/SCM_LIF_OUT_NEIGHBORS-tau=200.us-vt=0.1-vr=0.0-P=0-incoming_spikes=0-method_Neuron=exact-Num_Neighbours=12-beta=0.5-Wi=6.0-Wk=-3.0-method_Syn=exact-Sim_Clock=0.5ms-Sample_Perc=1.0-/data_2024_07_31_18_11_01\n"
     ]
    },
    {
     "name": "stderr",
     "output_type": "stream",
     "text": [
      "100%|██████████| 15603/15603 [03:41<00:00, 70.32it/s]\n"
     ]
    }
   ],
   "source": [
    "for i, log_file in enumerate(log_files):\n",
    "    data_log_files = find_data_log_files([os.path.join(input_data_dir, log_file)])\n",
    "    for file in data_log_files:\n",
    "        match = re.search(r'Num_Neighbours=\\d+', file)\n",
    "        \n",
    "        output_path = os.path.join(output_base_path, datasets[i], match.group(0))\n",
    "        ensure_location(output_path)\n",
    "\n",
    "        print(\"Processing:\", file)\n",
    "        print(\"Output path:\", output_path)\n",
    "\n",
    "        \n",
    "        if process(file, output_path, skip=skip_image, args=args):\n",
    "            print(f\"Processed {file}\")\n",
    "        else:\n",
    "            print(f\"Error processing {file}\")"
   ]
  }
 ],
 "metadata": {
  "jupytext": {
   "cell_metadata_filter": "-all",
   "main_language": "python",
   "notebook_metadata_filter": "-all"
  },
  "kernelspec": {
   "display_name": "IIT",
   "language": "python",
   "name": "python3"
  },
  "language_info": {
   "codemirror_mode": {
    "name": "ipython",
    "version": 3
   },
   "file_extension": ".py",
   "mimetype": "text/x-python",
   "name": "python",
   "nbconvert_exporter": "python",
   "pygments_lexer": "ipython3",
   "version": "3.10.12"
  }
 },
 "nbformat": 4,
 "nbformat_minor": 5
}
