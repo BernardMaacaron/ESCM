{
 "cells": [
  {
   "cell_type": "code",
   "execution_count": 5,
   "metadata": {},
   "outputs": [],
   "source": [
    "import pandas as pd\n",
    "import os\n",
    "import matplotlib.pyplot as plt\n",
    "import sys"
   ]
  },
  {
   "cell_type": "code",
   "execution_count": 6,
   "metadata": {},
   "outputs": [
    {
     "name": "stdout",
     "output_type": "stream",
     "text": [
      "utils\n",
      "Found ERO-SNN folder: /home/bernard/Desktop/IIT_Thesis/ERO-SNN\n"
     ]
    }
   ],
   "source": [
    "# Find the ERO-SNN folder and add it to the python path\n",
    "current_dir = os.getcwd()\n",
    "\n",
    "while os.path.basename(current_dir) != 'ERO-SNN':\n",
    "    print(os.path.basename(current_dir))\n",
    "    current_dir = os.path.dirname(current_dir)\n",
    "    \n",
    "print(f\"Found ERO-SNN folder: {current_dir}\")\n",
    "sys.path.append(current_dir)\n",
    "os.chdir(current_dir)"
   ]
  },
  {
   "cell_type": "code",
   "execution_count": null,
   "metadata": {},
   "outputs": [
    {
     "name": "stderr",
     "output_type": "stream",
     "text": [
      "/tmp/ipykernel_290023/1543507428.py:43: FutureWarning: The behavior of DataFrame concatenation with empty or all-NA entries is deprecated. In a future version, this will no longer exclude empty or all-NA columns when determining the result dtypes. To retain the old behavior, exclude the relevant entries before the concat operation.\n",
      "  stats_df = pd.concat([stats_df, temp_df], ignore_index=True)\n"
     ]
    },
    {
     "name": "stdout",
     "output_type": "stream",
     "text": [
      "Saved plot quantitative_results_fin/MVSEC_NN_8_NMI.png\n",
      "Saved plot quantitative_results_fin/MVSEC_NN_20_SSIM.png\n",
      "Saved plot quantitative_results_fin/h36m_NN_4_NMI.png\n",
      "Saved plot quantitative_results_fin/MVSEC_NN_12_NMI.png\n",
      "Saved plot quantitative_results_fin/MVSEC_NN_12_SSIM.png\n",
      "Saved plot quantitative_results_fin/h36m_NN_12_SSIM.png\n",
      "Saved plot quantitative_results_fin/h36m_NN_20_NMI.png\n",
      "Saved plot quantitative_results_fin/MVSEC_NN_20_NMI.png\n",
      "Saved plot quantitative_results_fin/MVSEC_NN_4_NMI.png\n",
      "Saved plot quantitative_results_fin/h36m_NN_8_NMI.png\n",
      "Saved plot quantitative_results_fin/h36m_NN_20_SSIM.png\n",
      "Saved plot quantitative_results_fin/h36m_NN_12_NMI.png\n",
      "Saved plot quantitative_results_fin/h36m_NN_4_SSIM.png\n",
      "Saved plot quantitative_results_fin/MVSEC_NN_8_SSIM.png\n",
      "Saved plot quantitative_results_fin/MVSEC_NN_4_SSIM.png\n",
      "Saved plot quantitative_results_fin/h36m_NN_8_SSIM.png\n",
      "Saved statistics summary to quantitative_results_fin/statistics_summary.csv\n"
     ]
    }
   ],
   "source": [
    "# Directory where the CSV files are saved\n",
    "output_dir = 'quantitative_results_fin'\n",
    "\n",
    "# List of score types\n",
    "# score_types = ['ssim_scores', 'mse_scores', 'nmse_scores', 'nmi_scores']\n",
    "# score_types = score_types[generate_scores.values()]\n",
    "\n",
    "# DataFrame to store the statistics\n",
    "stats_df = pd.DataFrame(columns=['Dataset', 'Neighbors', 'Score Type', 'Column', 'Mean', 'Std Dev', 'Min', 'Max'])\n",
    "\n",
    "# Iterate through the CSV files in the directory\n",
    "for filename in os.listdir(output_dir):\n",
    "    if filename.endswith('scores.csv'):\n",
    "        # Extract dataset name, number of neighbors, and score type from the filename\n",
    "        parts = filename.split('_')\n",
    "        dataset_name = parts[0]\n",
    "        n_neighbors = parts[2]\n",
    "        score_type = parts[3].split('.')[0]\n",
    "        \n",
    "        # Read the CSV file into a DataFrame\n",
    "        filepath = os.path.join(output_dir, filename)\n",
    "        df = pd.read_csv(filepath)\n",
    "        \n",
    "        # Compute statistics\n",
    "        mean_values = df.mean()\n",
    "        std_values = df.std()\n",
    "        min_values = df.min()\n",
    "        max_values = df.max()\n",
    "        \n",
    "        # Create a temporary DataFrame to hold the statistics for the current file\n",
    "        temp_df = pd.DataFrame({\n",
    "            'Dataset': dataset_name,\n",
    "            'Neighbors': n_neighbors,\n",
    "            'Score Type': score_type,\n",
    "            'Column': df.columns,\n",
    "            'Mean': mean_values.values,\n",
    "            'Std Dev': std_values.values,\n",
    "            'Min': min_values.values,\n",
    "            'Max': max_values.values\n",
    "        })\n",
    "        \n",
    "        # Concatenate the temporary DataFrame with the main stats_df\n",
    "        stats_df = pd.concat([stats_df, temp_df], ignore_index=True)\n",
    "        \n",
    "        # Generate a plot for the DataFrame\n",
    "        plt.figure(figsize=(10, 6))\n",
    "        for column in df.columns:\n",
    "            plt.plot(df[column][:-100], label=column)\n",
    "        \n",
    "        score_type = score_type.upper()\n",
    "        plt.title(f'{score_type} scores for {dataset_name} with k = {n_neighbors}')\n",
    "        plt.xlabel('Frame')\n",
    "        plt.ylabel(score_type)\n",
    "        plt.legend()\n",
    "        plt.grid(True)\n",
    "        \n",
    "        # Save the plot\n",
    "        plot_filename = f\"{dataset_name}_NN_{n_neighbors}_{score_type}.png\"\n",
    "        plot_filepath = os.path.join(output_dir, plot_filename)\n",
    "        plt.savefig(plot_filepath)\n",
    "        plt.close()\n",
    "        \n",
    "        print(f\"Saved plot {plot_filepath}\")\n",
    "\n",
    "# Save the statistics DataFrame to a CSV file\n",
    "stats_filepath = os.path.join(output_dir, 'statistics_summary.csv')\n",
    "stats_df.to_csv(stats_filepath, index=False)\n",
    "print(f\"Saved statistics summary to {stats_filepath}\")"
   ]
  }
 ],
 "metadata": {
  "kernelspec": {
   "display_name": "IIT_Thesis",
   "language": "python",
   "name": "python3"
  },
  "language_info": {
   "codemirror_mode": {
    "name": "ipython",
    "version": 3
   },
   "file_extension": ".py",
   "mimetype": "text/x-python",
   "name": "python",
   "nbconvert_exporter": "python",
   "pygments_lexer": "ipython3",
   "version": "3.10.16"
  }
 },
 "nbformat": 4,
 "nbformat_minor": 2
}
