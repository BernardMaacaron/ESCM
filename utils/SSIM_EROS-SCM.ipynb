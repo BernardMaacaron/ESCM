{
 "cells": [
  {
   "cell_type": "code",
   "execution_count": 1,
   "metadata": {},
   "outputs": [],
   "source": [
    "import os\n",
    "import sys\n",
    "import glob\n",
    "import cv2\n",
    "import itertools\n",
    "import pandas as pd\n",
    "import matplotlib.pyplot as plt\n",
    "from skimage.metrics import structural_similarity as ssim,\\\n",
    "                             mean_squared_error as mse,\\\n",
    "                             normalized_root_mse as nrmse,\\\n",
    "                             normalized_mutual_information as nmi\n"
   ]
  },
  {
   "cell_type": "code",
   "execution_count": 2,
   "metadata": {},
   "outputs": [
    {
     "name": "stdout",
     "output_type": "stream",
     "text": [
      "utils\n",
      "Found ERO-SNN folder: /home/bernard/Desktop/IIT_Thesis/ERO-SNN\n"
     ]
    }
   ],
   "source": [
    "# Find the ERO-SNN folder and add it to the python path\n",
    "current_dir = os.getcwd()\n",
    "\n",
    "while os.path.basename(current_dir) != 'ERO-SNN':\n",
    "    print(os.path.basename(current_dir))\n",
    "    current_dir = os.path.dirname(current_dir)\n",
    "    \n",
    "print(f\"Found ERO-SNN folder: {current_dir}\")\n",
    "sys.path.append(current_dir)\n",
    "os.chdir(current_dir)"
   ]
  },
  {
   "cell_type": "code",
   "execution_count": 3,
   "metadata": {},
   "outputs": [],
   "source": [
    "''' For later\n",
    "Input_files = glob.glob(os.path.join(input_data_dir, '**/input-out.mp4'), recursive=True)\n",
    "EROS_files = glob.glob(os.path.join(EROS_data_dir, '**/eros-out.mp4'), recursive=True)\n",
    "\n",
    "'''\n",
    "Input_files = ['InputData/h36m_sample/cam2_S1_Directions/ch0dvs/input-out.mp4',\n",
    "               'InputData/EyeTracking/user_5_0/ch0dvs/input-out.mp4',\n",
    "               'InputData/MVSEC_short_outdoor/leftdvs/input-out.mp4']\n",
    "\n",
    "EROS_files = ['EROS/h36m_sample/cam2_S1_Directions/ch0dvs/eros-out.mp4',\n",
    "              'EROS/EyeTracking/user_5_0/ch0dvs/eros-out.mp4',\n",
    "              'EROS/MVSEC_short_outdoor/leftdvs/eros-out.mp4']\n",
    "\n",
    "SCM_data_dir = 'EROS_like'\n",
    "SCM_files_N_4 = glob.glob(os.path.join(SCM_data_dir, '**/SCM_LIF_OUT_NEIGHBORS-tau=200.us-vt=0.1-vr=0.0-P=0-incoming_spikes=0-method_Neuron=exact-Num_Neighbours=4-beta=0.5-Wi=6.0-Wk=-3.0-method_Syn=exact-Sim_Clock=0.5ms-Sample_Perc=1.0-/**/scm-out.mp4'), recursive=True)\n",
    "SCM_files_N_8 = glob.glob(os.path.join(SCM_data_dir, '**/SCM_LIF_OUT_NEIGHBORS-tau=200.us-vt=0.1-vr=0.0-P=0-incoming_spikes=0-method_Neuron=exact-Num_Neighbours=8-beta=0.5-Wi=6.0-Wk=-3.0-method_Syn=exact-Sim_Clock=0.5ms-Sample_Perc=1.0-/**/scm-out.mp4'), recursive=True)\n",
    "SCM_files_N_12 = glob.glob(os.path.join(SCM_data_dir, '**/SCM_LIF_OUT_NEIGHBORS-tau=200.us-vt=0.1-vr=0.0-P=0-incoming_spikes=0-method_Neuron=exact-Num_Neighbours=12-beta=0.5-Wi=6.0-Wk=-3.0-method_Syn=exact-Sim_Clock=0.5ms-Sample_Perc=1.0-/**/scm-out.mp4'), recursive=True)\n",
    "SCM_files_N_20 = glob.glob(os.path.join(SCM_data_dir, '**/SCM_LIF_OUT_NEIGHBORS-tau=200.us-vt=0.1-vr=0.0-P=0-incoming_spikes=0-method_Neuron=exact-Num_Neighbours=20-beta=0.5-Wi=6.0-Wk=-3.0-method_Syn=exact-Sim_Clock=0.5ms-Sample_Perc=1.0-/**/scm-out.mp4'), recursive=True)\n",
    "\n",
    "SCM_files = [SCM_files_N_4, SCM_files_N_8, SCM_files_N_12, SCM_files_N_20]\n",
    "\n",
    "\n",
    "datasets = ['Human3.6M', 'EyeTracking', 'MVSEC']\n",
    "Number_of_Neighbours = [4, 8, 12, 20]"
   ]
  },
  {
   "cell_type": "code",
   "execution_count": 4,
   "metadata": {},
   "outputs": [
    {
     "name": "stdout",
     "output_type": "stream",
     "text": [
      "Processing combination: InputData/h36m_sample/cam2_S1_Directions/ch0dvs/input-out.mp4, EROS/h36m_sample/cam2_S1_Directions/ch0dvs/eros-out.mp4, EROS_like/h36m_sample/cam2_S1_Directions/ch0dvs/YarpSpikeLog/SCM_LIF_OUT_NEIGHBORS-tau=200.us-vt=0.1-vr=0.0-P=0-incoming_spikes=0-method_Neuron=exact-Num_Neighbours=4-beta=0.5-Wi=6.0-Wk=-3.0-method_Syn=exact-Sim_Clock=0.5ms-Sample_Perc=1.0-/data_2024_07_31_17_51_18/scm-out.mp4\n"
     ]
    },
    {
     "name": "stderr",
     "output_type": "stream",
     "text": [
      "/home/bernard/.virtualenvs/IIT/lib/python3.10/site-packages/skimage/metrics/simple_metrics.py:109: RuntimeWarning: divide by zero encountered in scalar divide\n",
      "  return np.sqrt(mean_squared_error(image_true, image_test)) / denom\n"
     ]
    },
    {
     "name": "stdout",
     "output_type": "stream",
     "text": [
      "Processing combination: InputData/EyeTracking/user_5_0/ch0dvs/input-out.mp4, EROS/EyeTracking/user_5_0/ch0dvs/eros-out.mp4, EROS_like/EyeTracking/user_5_1/ch0dvs_old/YarpSpikeLog/SCM_LIF_OUT_NEIGHBORS-tau=200.us-vt=0.1-vr=0.0-P=0-incoming_spikes=0-method_Neuron=exact-Num_Neighbours=4-beta=0.5-Wi=6.0-Wk=-3.0-method_Syn=exact-Sim_Clock=0.5ms-Sample_Perc=1.0-/data_2024_08_01_13_22_10/scm-out.mp4\n",
      "Error: Videos do not have the same frame rate or frame count.\n",
      "Input FPS: 33.333, EROS FPS: 33.333, SCM FPS: 33.333\n",
      "Input Frames: 9254.0, EROS Frames: 9254.0, SCM Frames: 925.0\n",
      "Processing combination: InputData/MVSEC_short_outdoor/leftdvs/input-out.mp4, EROS/MVSEC_short_outdoor/leftdvs/eros-out.mp4, EROS_like/MVSEC_short_outdoor/YarpSpikeLog/SCM_LIF_OUT_NEIGHBORS-tau=200.us-vt=0.1-vr=0.0-P=0-incoming_spikes=0-method_Neuron=exact-Num_Neighbours=4-beta=0.5-Wi=6.0-Wk=-3.0-method_Syn=exact-Sim_Clock=0.5ms-Sample_Perc=1.0-/data_2024_07_31_18_31_32/scm-out.mp4\n"
     ]
    },
    {
     "name": "stderr",
     "output_type": "stream",
     "text": [
      "/home/bernard/.virtualenvs/IIT/lib/python3.10/site-packages/skimage/metrics/simple_metrics.py:109: RuntimeWarning: invalid value encountered in scalar divide\n",
      "  return np.sqrt(mean_squared_error(image_true, image_test)) / denom\n",
      "/home/bernard/.virtualenvs/IIT/lib/python3.10/site-packages/skimage/metrics/simple_metrics.py:270: RuntimeWarning: invalid value encountered in scalar divide\n",
      "  return (H0 + H1) / H01\n"
     ]
    },
    {
     "name": "stdout",
     "output_type": "stream",
     "text": [
      "Processing combination: InputData/h36m_sample/cam2_S1_Directions/ch0dvs/input-out.mp4, EROS/h36m_sample/cam2_S1_Directions/ch0dvs/eros-out.mp4, EROS_like/h36m_sample/cam2_S1_Directions/ch0dvs/YarpSpikeLog/SCM_LIF_OUT_NEIGHBORS-tau=200.us-vt=0.1-vr=0.0-P=0-incoming_spikes=0-method_Neuron=exact-Num_Neighbours=8-beta=0.5-Wi=6.0-Wk=-3.0-method_Syn=exact-Sim_Clock=0.5ms-Sample_Perc=1.0-/data_2024_07_31_18_02_08/scm-out.mp4\n"
     ]
    },
    {
     "ename": "KeyboardInterrupt",
     "evalue": "",
     "output_type": "error",
     "traceback": [
      "\u001b[0;31m---------------------------------------------------------------------------\u001b[0m",
      "\u001b[0;31mKeyboardInterrupt\u001b[0m                         Traceback (most recent call last)",
      "Cell \u001b[0;32mIn[4], line 55\u001b[0m\n\u001b[1;32m     52\u001b[0m _, bw3 \u001b[38;5;241m=\u001b[39m cv2\u001b[38;5;241m.\u001b[39mthreshold(gray3, \u001b[38;5;241m254\u001b[39m, \u001b[38;5;241m255\u001b[39m, cv2\u001b[38;5;241m.\u001b[39mTHRESH_BINARY)\n\u001b[1;32m     54\u001b[0m \u001b[38;5;66;03m# Compute SSIM between the two frames and append to the list\u001b[39;00m\n\u001b[0;32m---> 55\u001b[0m ssim12, _ \u001b[38;5;241m=\u001b[39m \u001b[43mssim\u001b[49m\u001b[43m(\u001b[49m\u001b[43mbw1\u001b[49m\u001b[43m,\u001b[49m\u001b[43m \u001b[49m\u001b[43mbw2\u001b[49m\u001b[43m,\u001b[49m\u001b[43m \u001b[49m\u001b[43mfull\u001b[49m\u001b[38;5;241;43m=\u001b[39;49m\u001b[38;5;28;43;01mTrue\u001b[39;49;00m\u001b[43m)\u001b[49m\n\u001b[1;32m     56\u001b[0m ssim23, _ \u001b[38;5;241m=\u001b[39m ssim(bw2, bw3, full\u001b[38;5;241m=\u001b[39m\u001b[38;5;28;01mTrue\u001b[39;00m)\n\u001b[1;32m     57\u001b[0m ssim13, _ \u001b[38;5;241m=\u001b[39m ssim(bw1, bw3, full\u001b[38;5;241m=\u001b[39m\u001b[38;5;28;01mTrue\u001b[39;00m)\n",
      "File \u001b[0;32m~/.virtualenvs/IIT/lib/python3.10/site-packages/skimage/metrics/_structural_similarity.py:275\u001b[0m, in \u001b[0;36mstructural_similarity\u001b[0;34m(im1, im2, win_size, gradient, data_range, channel_axis, gaussian_weights, full, **kwargs)\u001b[0m\n\u001b[1;32m    272\u001b[0m pad \u001b[38;5;241m=\u001b[39m (win_size \u001b[38;5;241m-\u001b[39m \u001b[38;5;241m1\u001b[39m) \u001b[38;5;241m/\u001b[39m\u001b[38;5;241m/\u001b[39m \u001b[38;5;241m2\u001b[39m\n\u001b[1;32m    274\u001b[0m \u001b[38;5;66;03m# compute (weighted) mean of ssim. Use float64 for accuracy.\u001b[39;00m\n\u001b[0;32m--> 275\u001b[0m mssim \u001b[38;5;241m=\u001b[39m \u001b[43mcrop\u001b[49m\u001b[43m(\u001b[49m\u001b[43mS\u001b[49m\u001b[43m,\u001b[49m\u001b[43m \u001b[49m\u001b[43mpad\u001b[49m\u001b[43m)\u001b[49m\u001b[38;5;241m.\u001b[39mmean(dtype\u001b[38;5;241m=\u001b[39mnp\u001b[38;5;241m.\u001b[39mfloat64)\n\u001b[1;32m    277\u001b[0m \u001b[38;5;28;01mif\u001b[39;00m gradient:\n\u001b[1;32m    278\u001b[0m     \u001b[38;5;66;03m# The following is Eqs. 7-8 of Avanaki 2009.\u001b[39;00m\n\u001b[1;32m    279\u001b[0m     grad \u001b[38;5;241m=\u001b[39m filter_func(A1 \u001b[38;5;241m/\u001b[39m D, \u001b[38;5;241m*\u001b[39m\u001b[38;5;241m*\u001b[39mfilter_args) \u001b[38;5;241m*\u001b[39m im1\n",
      "File \u001b[0;32m~/.virtualenvs/IIT/lib/python3.10/site-packages/skimage/util/arraycrop.py:12\u001b[0m, in \u001b[0;36mcrop\u001b[0;34m(ar, crop_width, copy, order)\u001b[0m\n\u001b[1;32m      7\u001b[0m \u001b[38;5;28;01mfrom\u001b[39;00m \u001b[38;5;21;01mnumbers\u001b[39;00m \u001b[38;5;28;01mimport\u001b[39;00m Integral\n\u001b[1;32m      9\u001b[0m __all__ \u001b[38;5;241m=\u001b[39m [\u001b[38;5;124m'\u001b[39m\u001b[38;5;124mcrop\u001b[39m\u001b[38;5;124m'\u001b[39m]\n\u001b[0;32m---> 12\u001b[0m \u001b[38;5;28;01mdef\u001b[39;00m \u001b[38;5;21mcrop\u001b[39m(ar, crop_width, copy\u001b[38;5;241m=\u001b[39m\u001b[38;5;28;01mFalse\u001b[39;00m, order\u001b[38;5;241m=\u001b[39m\u001b[38;5;124m'\u001b[39m\u001b[38;5;124mK\u001b[39m\u001b[38;5;124m'\u001b[39m):\n\u001b[1;32m     13\u001b[0m \u001b[38;5;250m    \u001b[39m\u001b[38;5;124;03m\"\"\"Crop array `ar` by `crop_width` along each dimension.\u001b[39;00m\n\u001b[1;32m     14\u001b[0m \n\u001b[1;32m     15\u001b[0m \u001b[38;5;124;03m    Parameters\u001b[39;00m\n\u001b[0;32m   (...)\u001b[0m\n\u001b[1;32m     39\u001b[0m \u001b[38;5;124;03m        view of the input array.\u001b[39;00m\n\u001b[1;32m     40\u001b[0m \u001b[38;5;124;03m    \"\"\"\u001b[39;00m\n\u001b[1;32m     41\u001b[0m     ar \u001b[38;5;241m=\u001b[39m np\u001b[38;5;241m.\u001b[39marray(ar, copy\u001b[38;5;241m=\u001b[39m\u001b[38;5;28;01mFalse\u001b[39;00m)\n",
      "\u001b[0;31mKeyboardInterrupt\u001b[0m: "
     ]
    }
   ],
   "source": [
    "\n",
    "results = {dataset: {n_neighbors:\n",
    "    {'ssim_scores': {},'mse_scores': {},\n",
    "     'nmse_scores': {}, 'nmi_scores': {}} for n_neighbors in Number_of_Neighbours} for dataset in datasets}\n",
    "\n",
    "for SCM_file, N_Neighbors in zip(SCM_files, Number_of_Neighbours):\n",
    "    for input_path, eros_path, scm_path, dataset_name in zip(Input_files, EROS_files, SCM_file, datasets):\n",
    "        print(f\"Processing combination: {input_path}, {eros_path}, {scm_path}\")\n",
    "\n",
    "        # Load videos\n",
    "        input_video = cv2.VideoCapture(input_path)\n",
    "        eros_video = cv2.VideoCapture(eros_path)\n",
    "        scm_video = cv2.VideoCapture(scm_path)\n",
    "\n",
    "        # Check if the videos are the same length and frame rate\n",
    "        input_fps = input_video.get(cv2.CAP_PROP_FPS)\n",
    "        eros_fps = eros_video.get(cv2.CAP_PROP_FPS)\n",
    "        scm_fps = scm_video.get(cv2.CAP_PROP_FPS)\n",
    "        \n",
    "        input_frames = input_video.get(cv2.CAP_PROP_FRAME_COUNT)\n",
    "        eros_frames = eros_video.get(cv2.CAP_PROP_FRAME_COUNT)\n",
    "        scm_frames = scm_video.get(cv2.CAP_PROP_FRAME_COUNT)\n",
    "\n",
    "        if not (eros_fps == scm_fps == input_fps and eros_frames == scm_frames == input_frames):\n",
    "            print(\"Error: Videos do not have the same frame rate or frame count.\")\n",
    "            print(f\"Input FPS: {input_fps}, EROS FPS: {eros_fps}, SCM FPS: {scm_fps}\")\n",
    "            print(f\"Input Frames: {input_frames}, EROS Frames: {eros_frames}, SCM Frames: {scm_frames}\")\n",
    "            continue\n",
    "\n",
    "        ssim_scores = {'Input-EROS': [], 'EROS-SCM': [], 'Input-SCM': []}\n",
    "        mse_scores = {'Input-EROS': [], 'EROS-SCM': [], 'Input-SCM': []}\n",
    "        nmse_scores = {'Input-EROS': [], 'EROS-SCM': [], 'Input-SCM': []}\n",
    "        nmi_scores = {'Input-EROS': [], 'EROS-SCM': [], 'Input-SCM': []}\n",
    "\n",
    "        while True:\n",
    "            # Read frames from both videos\n",
    "            ret1, frame1 = input_video.read()\n",
    "            ret2, frame2 = eros_video.read()\n",
    "            ret3, frame3 = scm_video.read()\n",
    "\n",
    "            # Break the loop if any video ends\n",
    "            if not ret1 or not ret2 or not ret3:\n",
    "                break\n",
    "\n",
    "            # Convert frames to grayscale\n",
    "            gray1 = cv2.cvtColor(frame1, cv2.COLOR_BGR2GRAY)\n",
    "            gray2 = cv2.cvtColor(frame2, cv2.COLOR_BGR2GRAY)\n",
    "            gray3 = cv2.cvtColor(frame3, cv2.COLOR_BGR2GRAY)\n",
    "            \n",
    "            # Apply binary threshold to convert to black and white\n",
    "            _, bw1 = cv2.threshold(gray1, 254, 255, cv2.THRESH_BINARY)\n",
    "            _, bw2 = cv2.threshold(gray2, 254, 255, cv2.THRESH_BINARY)\n",
    "            _, bw3 = cv2.threshold(gray3, 254, 255, cv2.THRESH_BINARY)\n",
    "\n",
    "            # Compute SSIM between the two frames and append to the list\n",
    "            ssim12, _ = ssim(bw1, bw2, full=True)\n",
    "            ssim23, _ = ssim(bw2, bw3, full=True)\n",
    "            ssim13, _ = ssim(bw1, bw3, full=True)\n",
    "            ssim_scores['Input-EROS'].append(ssim12)\n",
    "            ssim_scores['EROS-SCM'].append(ssim23)            \n",
    "            ssim_scores['Input-SCM'].append(ssim13)\n",
    "            \n",
    "            \n",
    "            # Compute MSE between the frames and append to the list\n",
    "            mse12 = mse(bw1, bw2)\n",
    "            mse23 = mse(bw2, bw3)\n",
    "            mse13 = mse(bw1, bw3)\n",
    "            mse_scores['Input-EROS'].append(mse12)\n",
    "            mse_scores['EROS-SCM'].append(mse23)            \n",
    "            mse_scores['Input-SCM'].append(mse13)\n",
    "\n",
    "            \n",
    "            # Compute NMSE between the frames and append to the list\n",
    "            nmse12 = nrmse(bw1, bw2)\n",
    "            nmse23 = nrmse(bw2, bw3)\n",
    "            nmse13 = nrmse(bw1, bw3)\n",
    "            nmse_scores['Input-EROS'].append(nmse12)\n",
    "            nmse_scores['EROS-SCM'].append(nmse23)\n",
    "            nmse_scores['Input-SCM'].append(nmse13)\n",
    "            \n",
    "            \n",
    "            # Compute NMI between the frames and append to the list\n",
    "            nmi12 = nmi(bw1, bw2)\n",
    "            nmi23 = nmi(bw2, bw3)\n",
    "            nmi13 = nmi(bw1, bw3)\n",
    "            nmi_scores['Input-EROS'].append(nmi12)\n",
    "            nmi_scores['EROS-SCM'].append(nmi23)\n",
    "            nmi_scores['Input-SCM'].append(nmi13)\n",
    "            \n",
    "        \n",
    "        # Release video captures\n",
    "        input_video.release()\n",
    "        eros_video.release()\n",
    "        scm_video.release()\n",
    "        \n",
    "        # Create dataframes\n",
    "        results[dataset_name][N_Neighbors]['ssim_scores'] = pd.DataFrame(ssim_scores)\n",
    "        results[dataset_name][N_Neighbors]['mse_scores'] = pd.DataFrame(mse_scores)\n",
    "        results[dataset_name][N_Neighbors]['nmse_scores'] = pd.DataFrame(nmse_scores)\n",
    "        results[dataset_name][N_Neighbors]['nmi_scores'] = pd.DataFrame(nmi_scores)"
   ]
  },
  {
   "cell_type": "code",
   "execution_count": null,
   "metadata": {},
   "outputs": [],
   "source": [
    "# Create a directory to save the results\n",
    "output_dir = 'quantitative_results'\n",
    "os.makedirs(output_dir, exist_ok=True)\n",
    "\n",
    "# Iterate through the results dictionary and save each DataFrame to a CSV file\n",
    "for dataset_name, neighbors_dict in results.items():\n",
    "    for n_neighbors, scores_dict in neighbors_dict.items():\n",
    "        for score_type, df in scores_dict.items():\n",
    "            # Define the filename\n",
    "            filename = f\"{dataset_name}_NN_{n_neighbors}_{score_type}.csv\"\n",
    "            filepath = os.path.join(output_dir, filename)\n",
    "            \n",
    "            # Save the DataFrame to a CSV file\n",
    "            df.to_csv(filepath, index=False)\n",
    "            print(f\"Saved {filepath}\")"
   ]
  },
  {
   "cell_type": "code",
   "execution_count": null,
   "metadata": {},
   "outputs": [],
   "source": [
    "# Doing a statistical analysis of the SSIM scores\n",
    "import numpy as np\n",
    "ssim_scores = np.array(ssim_scores)\n",
    "mean_ssim = np.mean(ssim_scores)\n",
    "std_ssim = np.std(ssim_scores)\n",
    "print(f\"Mean SSIM: {mean_ssim}\")\n",
    "print(f\"Standard deviation of SSIM: {std_ssim}\")"
   ]
  }
 ],
 "metadata": {
  "kernelspec": {
   "display_name": "IIT",
   "language": "python",
   "name": "python3"
  },
  "language_info": {
   "codemirror_mode": {
    "name": "ipython",
    "version": 3
   },
   "file_extension": ".py",
   "mimetype": "text/x-python",
   "name": "python",
   "nbconvert_exporter": "python",
   "pygments_lexer": "ipython3",
   "version": "3.10.12"
  }
 },
 "nbformat": 4,
 "nbformat_minor": 2
}
