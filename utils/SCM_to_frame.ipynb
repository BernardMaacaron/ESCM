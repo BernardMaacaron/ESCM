{
 "cells": [
  {
   "cell_type": "code",
   "execution_count": 21,
   "id": "73517df4",
   "metadata": {},
   "outputs": [],
   "source": [
    "import cv2\n",
    "import json\n",
    "import os\n",
    "import numpy as np\n",
    "import sys\n",
    "import glob\n",
    "import os\n",
    "from tqdm import tqdm\n",
    "import bisect\n",
    "import re"
   ]
  },
  {
   "cell_type": "code",
   "execution_count": 22,
   "id": "5c7ed33f",
   "metadata": {},
   "outputs": [],
   "source": [
    "# Find the ERO-SNN folder and add it to the python path\n",
    "current_dir = os.getcwd()"
   ]
  },
  {
   "cell_type": "code",
   "execution_count": 23,
   "id": "edee6ffe",
   "metadata": {},
   "outputs": [
    {
     "name": "stdout",
     "output_type": "stream",
     "text": [
      "utils\n"
     ]
    }
   ],
   "source": [
    "while os.path.basename(current_dir) != 'ERO-SNN':\n",
    "    print(os.path.basename(current_dir))\n",
    "    current_dir = os.path.dirname(current_dir)"
   ]
  },
  {
   "cell_type": "code",
   "execution_count": 24,
   "id": "2036f837",
   "metadata": {},
   "outputs": [
    {
     "name": "stdout",
     "output_type": "stream",
     "text": [
      "Found ERO-SNN folder: /home/bernard/Desktop/IIT_Thesis/ERO-SNN\n"
     ]
    }
   ],
   "source": [
    "print(f\"Found ERO-SNN folder: {current_dir}\")\n",
    "sys.path.append(current_dir)"
   ]
  },
  {
   "cell_type": "code",
   "execution_count": 25,
   "id": "5d3df152",
   "metadata": {
    "lines_to_next_cell": 1
   },
   "outputs": [],
   "source": [
    "import BrianHF\n",
    "from datasets.utils.parsing import import_yarp_skeleton_data, batchIterator\n",
    "from datasets.utils.events_representation import EROS\n",
    "from datasets.utils.export import ensure_location, str2bool #, get_movenet_keypoints, get_center\n",
    "from bimvee.importIitYarp import importIitYarp as import_dvs\n",
    "from bimvee.importAe import importAe\n",
    "from bimvee.importIitYarp import importIitYarpBinaryDataLog"
   ]
  },
  {
   "cell_type": "code",
   "execution_count": 26,
   "id": "9b7169cb",
   "metadata": {},
   "outputs": [],
   "source": [
    "def create_ts_list(frame_length, frame_interval, ts):\n",
    "    out = {'ts': []}\n",
    "    \n",
    "    # Create a list of timestamps starting from ts[0] and incrementing by 30ms\n",
    "    x = np.arange(ts[0], ts[-1], frame_interval / 1000.0)\n",
    "    \n",
    "    # Convert ts to a NumPy array for faster operations\n",
    "    ts = np.array(ts)\n",
    "    \n",
    "    for start_time in tqdm(x, desc=\"Processing time windows\"):\n",
    "        # Create a window of frame_length ms\n",
    "        end_time = start_time + frame_length / 1000.0\n",
    "        \n",
    "        # Use binary search to find the indices of the timestamps within the window\n",
    "        start_idx = bisect.bisect_left(ts, start_time)\n",
    "        end_idx = bisect.bisect_right(ts, end_time)\n",
    "        \n",
    "        # Collect all timestamps within this window\n",
    "        window_ts = ts[start_idx:end_idx]\n",
    "        out['ts'].extend(window_ts)\n",
    "    \n",
    "    return out"
   ]
  },
  {
   "cell_type": "code",
   "execution_count": 27,
   "id": "9beb6d50",
   "metadata": {
    "lines_to_next_cell": 1
   },
   "outputs": [],
   "source": [
    "def process(data_dvs_file, output_path, skip=None, args=None):\n",
    "\n",
    "    if skip == None:\n",
    "        skip = 1\n",
    "    else:\n",
    "        skip = int(skip) + 1\n",
    "\n",
    "    print('Importing file...', data_dvs_file)\n",
    "    data_dvs = importAe(filePathOrName=data_dvs_file)\n",
    "    print('File imported.')\n",
    "\n",
    "        \n",
    "    data_dvs = next(BrianHF.find_keys(data_dvs, 'dvs'))\n",
    "    data_ts = create_ts_list(args['frame_length'], args['interval_length'], data_dvs['ts'])\n",
    "    \n",
    "    print(f\"{data_dvs_file.split('/')[-3]}: \\n start: {(-1)*data_dvs['tsOffset']} \\n duration: {data_dvs['ts'][-1]} \\n scaled duration: {data_ts['ts'][-1]}\")\n",
    "    iterator = batchIterator(data_dvs, data_ts)\n",
    "    \n",
    "    frame_width = np.max(data_dvs['x'])+1\n",
    "    frame_height = np.max(data_dvs['y'])+1\n",
    "    \n",
    "    # Calculate fps based on the number of frames and total duration\n",
    "    total_duration = data_dvs['ts'][-1] - data_dvs['ts'][0]\n",
    "    num_frames = len(data_ts['ts'])\n",
    "\n",
    "    args['fps'] = int(num_frames / total_duration)\n",
    "    print(f\"FPS: {args['fps']}\")\n",
    "\n",
    "    \n",
    "    if args['write_video']:\n",
    "        output_path_video = os.path.join(output_path,'scm-out.mp4')\n",
    "        print(output_path_video)\n",
    "        video_out = cv2.VideoWriter(output_path_video, cv2.VideoWriter_fourcc('M', 'J', 'P', 'G'), args['fps'],\n",
    "                                    (frame_width, frame_height))\n",
    "\n",
    "\n",
    "    for fi, (events, pose, batch_size) in enumerate(iterator):\n",
    "        sys.stdout.write(f'frame: {fi}/{len(data_ts[\"ts\"])}\\r')\n",
    "        sys.stdout.flush()\n",
    "\n",
    "\n",
    "        frame = np.zeros((frame_height, frame_width), dtype=np.uint8)\n",
    "\n",
    "\n",
    "        for ei in range(batch_size):                \n",
    "            vx=int(events['x'][ei])\n",
    "            vy=int(events['y'][ei])\n",
    "            frame[vy,vx] = 255\n",
    "        \n",
    "            \n",
    "        if fi % skip != 0:\n",
    "            continue\n",
    "\n",
    "        filename = os.path.basename(data_dvs_file)\n",
    "        \n",
    "        if args['write_images']:\n",
    "            images_path =  os.path.join(output_path,'Images')\n",
    "            ensure_location(images_path)\n",
    "            path = os.path.join(images_path, f'frame_{fi:08d}.jpg')\n",
    "            sys.stdout.write(\"Saving image to \" + path + \"\\r\")\n",
    "            cv2.imwrite(path, frame)\n",
    "            \n",
    "        if args['write_video']:\n",
    "            framergb = cv2.cvtColor(frame, cv2.COLOR_GRAY2BGR)\n",
    "            video_out.write(frame)\n",
    "\n",
    "    if args['write_video']:\n",
    "        video_out.release()\n",
    "\n",
    "    return"
   ]
  },
  {
   "cell_type": "code",
   "execution_count": 28,
   "id": "d8bbbcae",
   "metadata": {},
   "outputs": [],
   "source": [
    "def find_data_log_files(base_dirs):\n",
    "    data_log_files = []\n",
    "    for base_dir in base_dirs:\n",
    "        # Use glob to find all data.log files in the directory and subdirectories\n",
    "        log_files = glob.glob(os.path.join(base_dir, '**', 'data.log'), recursive=True)\n",
    "        data_log_files.extend(log_files)\n",
    "    return data_log_files"
   ]
  },
  {
   "cell_type": "code",
   "execution_count": 29,
   "id": "0dd10e86",
   "metadata": {},
   "outputs": [
    {
     "name": "stdout",
     "output_type": "stream",
     "text": [
      "Input data directory:  /home/bernard/Desktop/IIT_Thesis/ERO-SNN/SimulationResultsFinal\n",
      "Output base path:  /home/bernard/Desktop/IIT_Thesis/ERO-SNN/EROS_like\n"
     ]
    }
   ],
   "source": [
    "# Define the variables directly\n",
    "eros_kernel = 8\n",
    "skip_image = None\n",
    "input_data_dir = 'SimulationResultsFinal'\n",
    "output_base_path = 'EROS_like'\n",
    "write_images = True\n",
    "write_video = False\n",
    "frame_length = 1.1 #ms\n",
    "interval_length = 30 #ms\n",
    "fps = interval_length/frame_length\n",
    "dev = False\n",
    "ts_scaler = 1.0\n",
    "\n",
    "# Ensure the base output path exists\n",
    "output_base_path = os.path.join(current_dir, output_base_path)\n",
    "input_data_dir = os.path.join(current_dir, input_data_dir)\n",
    "\n",
    "print('Input data directory: ', input_data_dir)\n",
    "print('Output base path: ', output_base_path)\n",
    "\n",
    "datasets = ['h36m_sample', 'EyeTracking', 'MVSEC_short_outdoor']\n",
    "\n",
    "# Create a dictionary to hold the arguments\n",
    "args = {\n",
    "    'eros_kernel': eros_kernel,\n",
    "    'write_images': write_images,\n",
    "    'write_video': write_video,\n",
    "    'frame_length': frame_length,\n",
    "    'interval_length': interval_length,\n",
    "    'fps': fps,\n",
    "    'dev': dev,\n",
    "    'ts_scaler': ts_scaler\n",
    "    }\n",
    "\n",
    "log_files = ['h36m_sample/cam2_S1_Directions/ch0dvs/YarpSpikeLog',\n",
    "        'EyeTracking/user_5_1/ch0dvs_old/YarpSpikeLog',\n",
    "        'MVSEC_short_outdoor/YarpSpikeLog']"
   ]
  },
  {
   "cell_type": "code",
   "execution_count": 30,
   "id": "9c43b37f",
   "metadata": {},
   "outputs": [
    {
     "name": "stdout",
     "output_type": "stream",
     "text": [
      "Processing: /home/bernard/Desktop/IIT_Thesis/ERO-SNN/SimulationResultsFinal/h36m_sample/cam2_S1_Directions/ch0dvs/YarpSpikeLog/SCM_LIF_OUT_NEIGHBORS-tau=200.us-vt=0.1-vr=0.0-P=0-incoming_spikes=0-method_Neuron=exact-Num_Neighbours=12-beta=0.5-Wi=6.0-Wk=-3.0-method_Syn=exact-Sim_Clock=0.5ms-Sample_Perc=1.0-/data_2024_07_31_18_11_01/data.log\n",
      "Output path: /home/bernard/Desktop/IIT_Thesis/ERO-SNN/EROS_like/h36m_sample/Num_Neighbours=12\n",
      "Importing file... /home/bernard/Desktop/IIT_Thesis/ERO-SNN/SimulationResultsFinal/h36m_sample/cam2_S1_Directions/ch0dvs/YarpSpikeLog/SCM_LIF_OUT_NEIGHBORS-tau=200.us-vt=0.1-vr=0.0-P=0-incoming_spikes=0-method_Neuron=exact-Num_Neighbours=12-beta=0.5-Wi=6.0-Wk=-3.0-method_Syn=exact-Sim_Clock=0.5ms-Sample_Perc=1.0-/data_2024_07_31_18_11_01/data.log\n",
      "{'filePathOrName': '/home/bernard/Desktop/IIT_Thesis/ERO-SNN/SimulationResultsFinal/h36m_sample/cam2_S1_Directions/ch0dvs/YarpSpikeLog/SCM_LIF_OUT_NEIGHBORS-tau=200.us-vt=0.1-vr=0.0-P=0-incoming_spikes=0-method_Neuron=exact-Num_Neighbours=12-beta=0.5-Wi=6.0-Wk=-3.0-method_Syn=exact-Sim_Clock=0.5ms-Sample_Perc=1.0-/data_2024_07_31_18_11_01/data.log'}\n",
      "{'filePathOrName': '/home/bernard/Desktop/IIT_Thesis/ERO-SNN/SimulationResultsFinal/h36m_sample/cam2_S1_Directions/ch0dvs/YarpSpikeLog/SCM_LIF_OUT_NEIGHBORS-tau=200.us-vt=0.1-vr=0.0-P=0-incoming_spikes=0-method_Neuron=exact-Num_Neighbours=12-beta=0.5-Wi=6.0-Wk=-3.0-method_Syn=exact-Sim_Clock=0.5ms-Sample_Perc=1.0-/data_2024_07_31_18_11_01/data.log'}\n",
      "importIitYarp trying path: /home/bernard/Desktop/IIT_Thesis/ERO-SNN/SimulationResultsFinal/h36m_sample/cam2_S1_Directions/ch0dvs/YarpSpikeLog/SCM_LIF_OUT_NEIGHBORS-tau=200.us-vt=0.1-vr=0.0-P=0-incoming_spikes=0-method_Neuron=exact-Num_Neighbours=12-beta=0.5-Wi=6.0-Wk=-3.0-method_Syn=exact-Sim_Clock=0.5ms-Sample_Perc=1.0-/data_2024_07_31_18_11_01\n"
     ]
    },
    {
     "name": "stderr",
     "output_type": "stream",
     "text": [
      " 46%|████▌     | 7149/15603 [01:51<02:11, 64.25it/s] \n"
     ]
    },
    {
     "ename": "KeyboardInterrupt",
     "evalue": "",
     "output_type": "error",
     "traceback": [
      "\u001b[0;31m---------------------------------------------------------------------------\u001b[0m",
      "\u001b[0;31mUnicodeDecodeError\u001b[0m                        Traceback (most recent call last)",
      "File \u001b[0;32m~/.virtualenvs/IIT/lib/python3.10/site-packages/bimvee/importIitYarp.py:622\u001b[0m, in \u001b[0;36mimportIitYarpDataLog\u001b[0;34m(**kwargs)\u001b[0m\n\u001b[1;32m    621\u001b[0m \u001b[38;5;28;01mwith\u001b[39;00m \u001b[38;5;28mopen\u001b[39m(kwargs[\u001b[38;5;124m'\u001b[39m\u001b[38;5;124mfilePathOrName\u001b[39m\u001b[38;5;124m'\u001b[39m], \u001b[38;5;124m'\u001b[39m\u001b[38;5;124mr\u001b[39m\u001b[38;5;124m'\u001b[39m) \u001b[38;5;28;01mas\u001b[39;00m inFile:\n\u001b[0;32m--> 622\u001b[0m     content \u001b[38;5;241m=\u001b[39m \u001b[43minFile\u001b[49m\u001b[38;5;241;43m.\u001b[39;49m\u001b[43mreadline\u001b[49m\u001b[43m(\u001b[49m\u001b[43m)\u001b[49m  \u001b[38;5;66;03m# Look at first line of file\u001b[39;00m\n\u001b[1;32m    623\u001b[0m     patternForVicon \u001b[38;5;241m=\u001b[39m re\u001b[38;5;241m.\u001b[39mcompile(\u001b[38;5;124m'\u001b[39m\u001b[38;5;124m(\u001b[39m\u001b[38;5;124m\\\u001b[39m\u001b[38;5;124md+) (\u001b[39m\u001b[38;5;124m\\\u001b[39m\u001b[38;5;124md+\u001b[39m\u001b[38;5;124m\\\u001b[39m\u001b[38;5;124m.\u001b[39m\u001b[38;5;124m\\\u001b[39m\u001b[38;5;124md+) \u001b[39m\u001b[38;5;124m\\\u001b[39m\u001b[38;5;124m((.*)\u001b[39m\u001b[38;5;124m\\\u001b[39m\u001b[38;5;124m)\u001b[39m\u001b[38;5;124m'\u001b[39m)\n",
      "File \u001b[0;32m/usr/lib/python3.10/codecs.py:322\u001b[0m, in \u001b[0;36mBufferedIncrementalDecoder.decode\u001b[0;34m(self, input, final)\u001b[0m\n\u001b[1;32m    321\u001b[0m data \u001b[38;5;241m=\u001b[39m \u001b[38;5;28mself\u001b[39m\u001b[38;5;241m.\u001b[39mbuffer \u001b[38;5;241m+\u001b[39m \u001b[38;5;28minput\u001b[39m\n\u001b[0;32m--> 322\u001b[0m (result, consumed) \u001b[38;5;241m=\u001b[39m \u001b[38;5;28;43mself\u001b[39;49m\u001b[38;5;241;43m.\u001b[39;49m\u001b[43m_buffer_decode\u001b[49m\u001b[43m(\u001b[49m\u001b[43mdata\u001b[49m\u001b[43m,\u001b[49m\u001b[43m \u001b[49m\u001b[38;5;28;43mself\u001b[39;49m\u001b[38;5;241;43m.\u001b[39;49m\u001b[43merrors\u001b[49m\u001b[43m,\u001b[49m\u001b[43m \u001b[49m\u001b[43mfinal\u001b[49m\u001b[43m)\u001b[49m\n\u001b[1;32m    323\u001b[0m \u001b[38;5;66;03m# keep undecoded input until the next call\u001b[39;00m\n",
      "\u001b[0;31mUnicodeDecodeError\u001b[0m: 'utf-8' codec can't decode byte 0xf4 in position 20: invalid continuation byte",
      "\nDuring handling of the above exception, another exception occurred:\n",
      "\u001b[0;31mKeyboardInterrupt\u001b[0m                         Traceback (most recent call last)",
      "Cell \u001b[0;32mIn[30], line 13\u001b[0m\n\u001b[1;32m      9\u001b[0m \u001b[38;5;28mprint\u001b[39m(\u001b[38;5;124m\"\u001b[39m\u001b[38;5;124mProcessing:\u001b[39m\u001b[38;5;124m\"\u001b[39m, file)\n\u001b[1;32m     10\u001b[0m \u001b[38;5;28mprint\u001b[39m(\u001b[38;5;124m\"\u001b[39m\u001b[38;5;124mOutput path:\u001b[39m\u001b[38;5;124m\"\u001b[39m, output_path)\n\u001b[0;32m---> 13\u001b[0m \u001b[38;5;28;01mif\u001b[39;00m \u001b[43mprocess\u001b[49m\u001b[43m(\u001b[49m\u001b[43mfile\u001b[49m\u001b[43m,\u001b[49m\u001b[43m \u001b[49m\u001b[43moutput_path\u001b[49m\u001b[43m,\u001b[49m\u001b[43m \u001b[49m\u001b[43mskip\u001b[49m\u001b[38;5;241;43m=\u001b[39;49m\u001b[43mskip_image\u001b[49m\u001b[43m,\u001b[49m\u001b[43m \u001b[49m\u001b[43margs\u001b[49m\u001b[38;5;241;43m=\u001b[39;49m\u001b[43margs\u001b[49m\u001b[43m)\u001b[49m:\n\u001b[1;32m     14\u001b[0m     \u001b[38;5;28mprint\u001b[39m(\u001b[38;5;124mf\u001b[39m\u001b[38;5;124m\"\u001b[39m\u001b[38;5;124mProcessed \u001b[39m\u001b[38;5;132;01m{\u001b[39;00mfile\u001b[38;5;132;01m}\u001b[39;00m\u001b[38;5;124m\"\u001b[39m)\n\u001b[1;32m     15\u001b[0m \u001b[38;5;28;01melse\u001b[39;00m:\n",
      "Cell \u001b[0;32mIn[27], line 9\u001b[0m, in \u001b[0;36mprocess\u001b[0;34m(data_dvs_file, output_path, skip, args)\u001b[0m\n\u001b[1;32m      6\u001b[0m     skip \u001b[38;5;241m=\u001b[39m \u001b[38;5;28mint\u001b[39m(skip) \u001b[38;5;241m+\u001b[39m \u001b[38;5;241m1\u001b[39m\n\u001b[1;32m      8\u001b[0m \u001b[38;5;28mprint\u001b[39m(\u001b[38;5;124m'\u001b[39m\u001b[38;5;124mImporting file...\u001b[39m\u001b[38;5;124m'\u001b[39m, data_dvs_file)\n\u001b[0;32m----> 9\u001b[0m data_dvs \u001b[38;5;241m=\u001b[39m \u001b[43mimportAe\u001b[49m\u001b[43m(\u001b[49m\u001b[43mfilePathOrName\u001b[49m\u001b[38;5;241;43m=\u001b[39;49m\u001b[43mdata_dvs_file\u001b[49m\u001b[43m)\u001b[49m\n\u001b[1;32m     10\u001b[0m \u001b[38;5;28mprint\u001b[39m(\u001b[38;5;124m'\u001b[39m\u001b[38;5;124mFile imported.\u001b[39m\u001b[38;5;124m'\u001b[39m)\n\u001b[1;32m     13\u001b[0m data_dvs \u001b[38;5;241m=\u001b[39m \u001b[38;5;28mnext\u001b[39m(BrianHF\u001b[38;5;241m.\u001b[39mfind_keys(data_dvs, \u001b[38;5;124m'\u001b[39m\u001b[38;5;124mdvs\u001b[39m\u001b[38;5;124m'\u001b[39m))\n",
      "File \u001b[0;32m~/.virtualenvs/IIT/lib/python3.10/site-packages/bimvee/importAe.py:153\u001b[0m, in \u001b[0;36mimportAe\u001b[0;34m(**kwargs)\u001b[0m\n\u001b[1;32m    151\u001b[0m     \u001b[38;5;28;01mif\u001b[39;00m \u001b[38;5;129;01mnot\u001b[39;00m os\u001b[38;5;241m.\u001b[39mpath\u001b[38;5;241m.\u001b[39misdir(kwargs[\u001b[38;5;124m'\u001b[39m\u001b[38;5;124mfilePathOrName\u001b[39m\u001b[38;5;124m'\u001b[39m]):\n\u001b[1;32m    152\u001b[0m         kwargs[\u001b[38;5;124m'\u001b[39m\u001b[38;5;124mfilePathOrName\u001b[39m\u001b[38;5;124m'\u001b[39m] \u001b[38;5;241m=\u001b[39m os\u001b[38;5;241m.\u001b[39mpath\u001b[38;5;241m.\u001b[39mdirname(kwargs[\u001b[38;5;124m'\u001b[39m\u001b[38;5;124mfilePathOrName\u001b[39m\u001b[38;5;124m'\u001b[39m])\n\u001b[0;32m--> 153\u001b[0m     importedData \u001b[38;5;241m=\u001b[39m \u001b[43mimportIitYarp\u001b[49m\u001b[43m(\u001b[49m\u001b[38;5;241;43m*\u001b[39;49m\u001b[38;5;241;43m*\u001b[39;49m\u001b[43mkwargs\u001b[49m\u001b[43m)\u001b[49m\n\u001b[1;32m    154\u001b[0m \u001b[38;5;28;01melif\u001b[39;00m fileFormat \u001b[38;5;129;01min\u001b[39;00m [\u001b[38;5;124m'\u001b[39m\u001b[38;5;124mrpgdvsros\u001b[39m\u001b[38;5;124m'\u001b[39m, \u001b[38;5;124m'\u001b[39m\u001b[38;5;124mrosbag\u001b[39m\u001b[38;5;124m'\u001b[39m, \u001b[38;5;124m'\u001b[39m\u001b[38;5;124mrpg\u001b[39m\u001b[38;5;124m'\u001b[39m, \u001b[38;5;124m'\u001b[39m\u001b[38;5;124mros\u001b[39m\u001b[38;5;124m'\u001b[39m, \u001b[38;5;124m'\u001b[39m\u001b[38;5;124mbag\u001b[39m\u001b[38;5;124m'\u001b[39m, \u001b[38;5;124m'\u001b[39m\u001b[38;5;124mrpgdvs\u001b[39m\u001b[38;5;124m'\u001b[39m]:\n\u001b[1;32m    155\u001b[0m     importedData \u001b[38;5;241m=\u001b[39m importRpgDvsRos(\u001b[38;5;241m*\u001b[39m\u001b[38;5;241m*\u001b[39mkwargs)\n",
      "File \u001b[0;32m~/.virtualenvs/IIT/lib/python3.10/site-packages/bimvee/importIitYarp.py:833\u001b[0m, in \u001b[0;36mimportIitYarp\u001b[0;34m(**kwargs)\u001b[0m\n\u001b[1;32m    831\u001b[0m \u001b[38;5;28;01mdef\u001b[39;00m \u001b[38;5;21mimportIitYarp\u001b[39m(\u001b[38;5;241m*\u001b[39m\u001b[38;5;241m*\u001b[39mkwargs):\n\u001b[1;32m    832\u001b[0m \u001b[38;5;250m    \u001b[39m\u001b[38;5;124;03m\"\"\"Import data in IIT Yarp format.\"\"\"\u001b[39;00m\n\u001b[0;32m--> 833\u001b[0m     importedDicts \u001b[38;5;241m=\u001b[39m \u001b[43mimportIitYarpRecursive\u001b[49m\u001b[43m(\u001b[49m\u001b[38;5;241;43m*\u001b[39;49m\u001b[38;5;241;43m*\u001b[39;49m\u001b[43mkwargs\u001b[49m\u001b[43m)\u001b[49m\n\u001b[1;32m    834\u001b[0m     \u001b[38;5;28;01mif\u001b[39;00m kwargs\u001b[38;5;241m.\u001b[39mget(\u001b[38;5;124m'\u001b[39m\u001b[38;5;124mzeroTime\u001b[39m\u001b[38;5;124m'\u001b[39m, kwargs\u001b[38;5;241m.\u001b[39mget(\u001b[38;5;124m'\u001b[39m\u001b[38;5;124mzeroTimestamps\u001b[39m\u001b[38;5;124m'\u001b[39m, \u001b[38;5;28;01mTrue\u001b[39;00m)):\n\u001b[1;32m    835\u001b[0m         \u001b[38;5;66;03m# Optional: start the timestamps at zero for the first event\u001b[39;00m\n\u001b[1;32m    836\u001b[0m         \u001b[38;5;66;03m# This is done collectively for all the concurrent imports\u001b[39;00m\n\u001b[1;32m    837\u001b[0m         rezeroTimestampsForImportedDicts(importedDicts)\n",
      "File \u001b[0;32m~/.virtualenvs/IIT/lib/python3.10/site-packages/bimvee/importIitYarp.py:798\u001b[0m, in \u001b[0;36mimportIitYarpRecursive\u001b[0;34m(**kwargs)\u001b[0m\n\u001b[1;32m    796\u001b[0m     importedDicts\u001b[38;5;241m.\u001b[39mappend(importIitYarpBinaryDataLog(\u001b[38;5;241m*\u001b[39m\u001b[38;5;241m*\u001b[39mkwargs))\n\u001b[1;32m    797\u001b[0m \u001b[38;5;28;01mif\u001b[39;00m file \u001b[38;5;241m==\u001b[39m \u001b[38;5;124m'\u001b[39m\u001b[38;5;124mdata.log\u001b[39m\u001b[38;5;124m'\u001b[39m:\n\u001b[0;32m--> 798\u001b[0m     importedDicts\u001b[38;5;241m.\u001b[39mappend(\u001b[43mimportIitYarpDataLog\u001b[49m\u001b[43m(\u001b[49m\u001b[38;5;241;43m*\u001b[39;49m\u001b[38;5;241;43m*\u001b[39;49m\u001b[43mkwargs\u001b[49m\u001b[43m)\u001b[49m)\n\u001b[1;32m    799\u001b[0m \u001b[38;5;28;01mif\u001b[39;00m file \u001b[38;5;241m==\u001b[39m \u001b[38;5;124m'\u001b[39m\u001b[38;5;124minfo.log\u001b[39m\u001b[38;5;124m'\u001b[39m:\n\u001b[1;32m    800\u001b[0m     tsOffset \u001b[38;5;241m=\u001b[39m importIitYarpInfoLog(\u001b[38;5;241m*\u001b[39m\u001b[38;5;241m*\u001b[39mkwargs)\n",
      "File \u001b[0;32m~/.virtualenvs/IIT/lib/python3.10/site-packages/bimvee/importIitYarp.py:716\u001b[0m, in \u001b[0;36mimportIitYarpDataLog\u001b[0;34m(**kwargs)\u001b[0m\n\u001b[1;32m    714\u001b[0m bottleNum, ts, bottleType, _ \u001b[38;5;241m=\u001b[39m c[:firstQuoteIdx \u001b[38;5;241m-\u001b[39m \u001b[38;5;241m1\u001b[39m]\u001b[38;5;241m.\u001b[39mdecode()\u001b[38;5;241m.\u001b[39msplit(\u001b[38;5;124m'\u001b[39m\u001b[38;5;124m \u001b[39m\u001b[38;5;124m'\u001b[39m)\n\u001b[1;32m    715\u001b[0m data \u001b[38;5;241m=\u001b[39m c[firstQuoteIdx \u001b[38;5;241m+\u001b[39m \u001b[38;5;241m1\u001b[39m:\u001b[38;5;241m-\u001b[39m(lastQuoteIdx \u001b[38;5;241m+\u001b[39m \u001b[38;5;241m1\u001b[39m)]\n\u001b[0;32m--> 716\u001b[0m bitStrings \u001b[38;5;241m=\u001b[39m np\u001b[38;5;241m.\u001b[39mfrombuffer(\u001b[43mfromStringNested\u001b[49m\u001b[43m(\u001b[49m\u001b[43mdata\u001b[49m\u001b[43m)\u001b[49m, np\u001b[38;5;241m.\u001b[39muint32)\n\u001b[1;32m    717\u001b[0m \u001b[38;5;28;01mif\u001b[39;00m \u001b[38;5;129;01mnot\u001b[39;00m check_if_with_ts:\n\u001b[1;32m    718\u001b[0m     with_ts \u001b[38;5;241m=\u001b[39m np\u001b[38;5;241m.\u001b[39mall(\u001b[38;5;28msorted\u001b[39m(bitStrings[::\u001b[38;5;241m2\u001b[39m]) \u001b[38;5;241m==\u001b[39m bitStrings[::\u001b[38;5;241m2\u001b[39m])\n",
      "File \u001b[0;32m~/.virtualenvs/IIT/lib/python3.10/site-packages/bimvee/importIitYarp.py:600\u001b[0m, in \u001b[0;36mfromStringNested\u001b[0;34m(in_string)\u001b[0m\n\u001b[1;32m    599\u001b[0m \u001b[38;5;28;01mdef\u001b[39;00m \u001b[38;5;21mfromStringNested\u001b[39m(in_string):\n\u001b[0;32m--> 600\u001b[0m    \u001b[38;5;28;01mreturn\u001b[39;00m re\u001b[38;5;241m.\u001b[39msub(\u001b[38;5;124mb\u001b[39m\u001b[38;5;124m'\u001b[39m\u001b[38;5;130;01m\\\\\u001b[39;00m\u001b[38;5;124m\\\u001b[39m\u001b[38;5;124m{\u001b[39m\u001b[38;5;124m2,}|\u001b[39m\u001b[38;5;130;01m\\\\\u001b[39;00m\u001b[38;5;130;01m\\\\\u001b[39;00m\u001b[38;5;130;01m\\\"\u001b[39;00m\u001b[38;5;124m'\u001b[39m, unquoting, \u001b[43mre\u001b[49m\u001b[38;5;241;43m.\u001b[39;49m\u001b[43msub\u001b[49m\u001b[43m(\u001b[49m\u001b[38;5;124;43mb\u001b[39;49m\u001b[38;5;124;43m'\u001b[39;49m\u001b[38;5;130;43;01m\\\\\u001b[39;49;00m\u001b[38;5;130;43;01m\\\\\u001b[39;49;00m\u001b[38;5;124;43m+[nr0]\u001b[39;49m\u001b[38;5;124;43m'\u001b[39;49m\u001b[43m,\u001b[49m\u001b[43m \u001b[49m\u001b[43munquoting\u001b[49m\u001b[43m,\u001b[49m\u001b[43m \u001b[49m\u001b[43min_string\u001b[49m\u001b[43m)\u001b[49m)\n",
      "File \u001b[0;32m/usr/lib/python3.10/re.py:209\u001b[0m, in \u001b[0;36msub\u001b[0;34m(pattern, repl, string, count, flags)\u001b[0m\n\u001b[1;32m    202\u001b[0m \u001b[38;5;28;01mdef\u001b[39;00m \u001b[38;5;21msub\u001b[39m(pattern, repl, string, count\u001b[38;5;241m=\u001b[39m\u001b[38;5;241m0\u001b[39m, flags\u001b[38;5;241m=\u001b[39m\u001b[38;5;241m0\u001b[39m):\n\u001b[1;32m    203\u001b[0m \u001b[38;5;250m    \u001b[39m\u001b[38;5;124;03m\"\"\"Return the string obtained by replacing the leftmost\u001b[39;00m\n\u001b[1;32m    204\u001b[0m \u001b[38;5;124;03m    non-overlapping occurrences of the pattern in string by the\u001b[39;00m\n\u001b[1;32m    205\u001b[0m \u001b[38;5;124;03m    replacement repl.  repl can be either a string or a callable;\u001b[39;00m\n\u001b[1;32m    206\u001b[0m \u001b[38;5;124;03m    if a string, backslash escapes in it are processed.  If it is\u001b[39;00m\n\u001b[1;32m    207\u001b[0m \u001b[38;5;124;03m    a callable, it's passed the Match object and must return\u001b[39;00m\n\u001b[1;32m    208\u001b[0m \u001b[38;5;124;03m    a replacement string to be used.\"\"\"\u001b[39;00m\n\u001b[0;32m--> 209\u001b[0m     \u001b[38;5;28;01mreturn\u001b[39;00m \u001b[43m_compile\u001b[49m\u001b[43m(\u001b[49m\u001b[43mpattern\u001b[49m\u001b[43m,\u001b[49m\u001b[43m \u001b[49m\u001b[43mflags\u001b[49m\u001b[43m)\u001b[49m\u001b[38;5;241;43m.\u001b[39;49m\u001b[43msub\u001b[49m\u001b[43m(\u001b[49m\u001b[43mrepl\u001b[49m\u001b[43m,\u001b[49m\u001b[43m \u001b[49m\u001b[43mstring\u001b[49m\u001b[43m,\u001b[49m\u001b[43m \u001b[49m\u001b[43mcount\u001b[49m\u001b[43m)\u001b[49m\n",
      "File \u001b[0;32m~/.virtualenvs/IIT/lib/python3.10/site-packages/bimvee/importIitYarp.py:579\u001b[0m, in \u001b[0;36munquoting\u001b[0;34m(match)\u001b[0m\n\u001b[1;32m    576\u001b[0m     kwargs[\u001b[38;5;124m'\u001b[39m\u001b[38;5;124mimportedToByte\u001b[39m\u001b[38;5;124m'\u001b[39m] \u001b[38;5;241m=\u001b[39m importedToByte\n\u001b[1;32m    577\u001b[0m     \u001b[38;5;28;01mreturn\u001b[39;00m globalPostProcessing(outDict, \u001b[38;5;241m*\u001b[39m\u001b[38;5;241m*\u001b[39mkwargs)\n\u001b[0;32m--> 579\u001b[0m \u001b[38;5;28;01mdef\u001b[39;00m \u001b[38;5;21munquoting\u001b[39m(match):\n\u001b[1;32m    580\u001b[0m     matchedString \u001b[38;5;241m=\u001b[39m (match\u001b[38;5;241m.\u001b[39mstring[match\u001b[38;5;241m.\u001b[39mspan()[\u001b[38;5;241m0\u001b[39m]:match\u001b[38;5;241m.\u001b[39mspan()[\u001b[38;5;241m1\u001b[39m]])\n\u001b[1;32m    581\u001b[0m     even \u001b[38;5;241m=\u001b[39m \u001b[38;5;28mlen\u001b[39m(matchedString) \u001b[38;5;241m%\u001b[39m \u001b[38;5;241m2\u001b[39m \u001b[38;5;241m==\u001b[39m \u001b[38;5;241m0\u001b[39m\n",
      "\u001b[0;31mKeyboardInterrupt\u001b[0m: "
     ]
    }
   ],
   "source": [
    "for i, log_file in enumerate(log_files):\n",
    "    data_log_files = find_data_log_files([os.path.join(input_data_dir, log_file)])\n",
    "    for file in data_log_files:\n",
    "        match = re.search(r'Num_Neighbours=\\d+', file)\n",
    "        \n",
    "        output_path = os.path.join(output_base_path, datasets[i], match.group(0))\n",
    "        ensure_location(output_path)\n",
    "\n",
    "        print(\"Processing:\", file)\n",
    "        print(\"Output path:\", output_path)\n",
    "\n",
    "        \n",
    "        if process(file, output_path, skip=skip_image, args=args):\n",
    "            print(f\"Processed {file}\")\n",
    "        else:\n",
    "            print(f\"Error processing {file}\")"
   ]
  }
 ],
 "metadata": {
  "jupytext": {
   "cell_metadata_filter": "-all",
   "main_language": "python",
   "notebook_metadata_filter": "-all"
  },
  "kernelspec": {
   "display_name": "IIT",
   "language": "python",
   "name": "python3"
  },
  "language_info": {
   "codemirror_mode": {
    "name": "ipython",
    "version": 3
   },
   "file_extension": ".py",
   "mimetype": "text/x-python",
   "name": "python",
   "nbconvert_exporter": "python",
   "pygments_lexer": "ipython3",
   "version": "3.10.12"
  }
 },
 "nbformat": 4,
 "nbformat_minor": 5
}
