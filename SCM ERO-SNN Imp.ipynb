{
 "cells": [
  {
   "cell_type": "code",
   "execution_count": null,
   "id": "efb9a0dc",
   "metadata": {},
   "outputs": [],
   "source": [
    "from brian2 import * #type: ignore\n",
    "# set_device('cpp_standalone') # for faster execution - builds a standalone C++ program\n",
    "\n",
    "import NeuronEquations\n",
    "import BrianHF\n",
    "import numpy as np\n",
    "\n",
    "from bimvee.importAe import importAe\n",
    "from EvCamDatabase import DAVIS_346B\n",
    "import os\n",
    "\n",
    "# TODO XXX: Turn all lists into numpy arrays for the sake of memory efficiency"
   ]
  },
  {
   "cell_type": "code",
   "execution_count": null,
   "id": "1b304651",
   "metadata": {},
   "outputs": [],
   "source": [
    "# XXX: Extract the event stream using bimvee - needs refactoring to be more general\n",
    "grid_width, grid_height= DAVIS_346B['width'], DAVIS_346B['height']\n",
    "filePath = 'MVSEC_short_outdoor'\n",
    "events = importAe(filePathOrName=filePath)"
   ]
  },
  {
   "cell_type": "code",
   "execution_count": null,
   "id": "a8c31561",
   "metadata": {},
   "outputs": [],
   "source": [
    "try:\n",
    "    eventStream = events[0]['data']['left']['dvs']\n",
    "except:\n",
    "    eventStream = events[0]['data']['right']['dvs']\n",
    "eventStream.popitem()"
   ]
  },
  {
   "cell_type": "markdown",
   "id": "3e705d5b",
   "metadata": {},
   "source": [
    "### Steps for the setting up the network:\n",
    "1. Generate the input spikes\n",
    "2. Set the parameters for the network (neurons and synapses)\n",
    "3. Create the neuron group(s)\n",
    "4. Create the synapses\n",
    "5. Connect the synapses\n",
    "6. Define the weights of the synapses\n",
    "7. Set up monitors according to need\n",
    "8. Run the simulation\n",
    "9. (Optional) Visualize the results\n",
    "\n",
    "#### _1. Generate the input spikes from the event stream_\n",
    "###### _Brian Simulation Scope_\n"
   ]
  },
  {
   "cell_type": "code",
   "execution_count": null,
   "id": "cd199fa2",
   "metadata": {},
   "outputs": [],
   "source": [
    "tau = 10\n",
    "vt = 1\n",
    "vr = 0\n",
    "v0 = 0 # Currently unused\n",
    "gL = 1\n",
    "K_GABA = 0 # Currently unused\n",
    "K_AMPA = 0 # Currently unused\n",
    "taugd = 1\n",
    "tauad = 4  \n",
    "taugr = 0.25 # Currently unused\n",
    "tauar = 0.5  # Currently unused\n",
    "w_N = 100\n",
    "w_G = 2\n",
    "w_A = 0 # Currently unused\n",
    "\n",
    "\n",
    "\n",
    "defaultclock.dt = 1*us\n",
    "# HACK XXX: The input is now not in real time, must be fixed eventually to process real time event data\n",
    "# IMPORTANT NOTE: Output is float, so we need to convert to Quantities (i.e give them units)\n",
    "simTime, clockStep, inputSpikesGen = BrianHF.event_to_spike(eventStream, grid_width, grid_height, timeScale = 1.0, samplePercentage=1.0)\n",
    "# defaultclock.dt = clockStep*ms\n",
    "print(\"Input event stream successfully converted to spike trains\\n\")"
   ]
  },
  {
   "cell_type": "markdown",
   "id": "0caabde4",
   "metadata": {},
   "source": [
    "#### _2. Set the parameters for the network (neurons and synapses)_\n",
    "Parameter values can be tuned at the top of the document (this is done for clarity purposes)."
   ]
  },
  {
   "cell_type": "code",
   "execution_count": null,
   "id": "dba9d57a",
   "metadata": {},
   "outputs": [],
   "source": [
    "# Neuron Parameters\n",
    "N_Neurons = grid_width * grid_height    # Number of neurons\n",
    "tau = tau*ms    # Time constant\n",
    "vt = vt*mV    # Threshold Voltage\n",
    "vr = vr*mV    # Reset Voltage\n",
    "v0 = v0*mV    # Resting Voltage - Not necessarily used\n",
    "gL = gL/ms    # Leak Conductance - Not necessarily used\n",
    "\n",
    "'''\n",
    "    Neighborhood Size (num_Neighbors) - Affects the number of neighbors a central neuron based on the L1 Distance\n",
    "    Neighboring Neurons --> (abs(X_pre - X_post) <= num_Neighbors  and abs(Y_pre - Y_post) <= num_Neighbors)\n",
    "'''\n",
    "num_Neighbors = 2    # Number of neighbors\n",
    "\n",
    "Eqs_Neurons = NeuronEquations.EQ_LIF_N    # Neuron Equations\n",
    "\n",
    "# Synapse Parameters\n",
    "K_GABA = K_GABA\n",
    "K_AMPA = K_AMPA\n",
    "taugd = taugd * ms\n",
    "tauad = tauad * ms\n",
    "taugr = taugr * ms\n",
    "tauar = tauar * ms\n",
    "\n",
    "\n",
    "# Generate the dictionary of parameters for the network\n",
    "networkParams = {'N_N': N_Neurons, 'k': num_Neighbors, 'tau': tau, 'vt': vt, 'vr': vr, 'v0': v0, 'gL': gL,\n",
    "                 'K_GABA': K_GABA, 'K_AMPA': K_AMPA, 'taugd': taugd, 'tauad': tauad, 'taugr': taugr, 'tauar': tauar, 'w_N': w_N, 'w_G': w_G, 'w_A': w_A}"
   ]
  },
  {
   "cell_type": "markdown",
   "id": "f18e0b16",
   "metadata": {},
   "source": [
    "#### _3. Create the neuron group(s)_"
   ]
  },
  {
   "cell_type": "code",
   "execution_count": null,
   "id": "90b9ccff",
   "metadata": {},
   "outputs": [],
   "source": [
    "# TODO XXX: The events are running on the clockStep, I should at least fix them to use the (event_driven) setting in Brian2\n",
    "neuronsGrid = NeuronGroup(N_Neurons, Eqs_Neurons, threshold='v>vt', reset='v = vr')\n",
    "\n",
    "# FIXME: Verify the grid coordinates and assign the X and Y values to the neurons accordingly\n",
    "# Generate x and y values for each neuron\n",
    "x_values = np.repeat(np.arange(grid_width), grid_height)\n",
    "y_values = np.tile(np.arange(grid_height), grid_width)\n",
    "neuronsGrid.X = x_values\n",
    "neuronsGrid.Y = y_values"
   ]
  },
  {
   "cell_type": "markdown",
   "id": "652eb3fd",
   "metadata": {},
   "source": [
    "#### _4. Create the synapses_"
   ]
  },
  {
   "cell_type": "code",
   "execution_count": null,
   "id": "0ff3560f",
   "metadata": {},
   "outputs": [],
   "source": [
    "Syn_Input_Neurons = Synapses(inputSpikesGen, neuronsGrid, 'Si :volt/second', on_pre='U_post += Si')\n",
    "Syn_Neurons_GABA = Synapses(neuronsGrid, neuronsGrid, 'w : volt/second', on_pre='Ig -= w') # NOTE: Use Ia1 or Ia depending on the neuron equation used\n",
    "Syn_Neurons_AMPA = Synapses(neuronsGrid, neuronsGrid, 'w : volt/second', on_pre='Ia = Ia') # NOTE: Use Ia1 or Ia depending on the neuron equation used"
   ]
  },
  {
   "cell_type": "markdown",
   "id": "1a27a08c",
   "metadata": {},
   "source": [
    "#### _5. Connect the synapses_"
   ]
  },
  {
   "cell_type": "code",
   "execution_count": null,
   "id": "720e1f93",
   "metadata": {},
   "outputs": [],
   "source": [
    "Syn_Input_Neurons.connect(condition= 'i==j')    # Connect the first synapses from input to G_neurons on a 1 to 1 basis\n",
    "Syn_Neurons_GABA.connect(condition='i != j and abs(X_pre - X_post) <= num_Neighbors and abs(Y_pre - Y_post) <= num_Neighbors')    # Connect the second group of synapses from a neuron to its neighbors\n",
    "Syn_Neurons_AMPA.connect(condition='i == j')     # Connect the last set of synapses from a neuron to itself (recurrent)"
   ]
  },
  {
   "cell_type": "markdown",
   "id": "8467ddaa",
   "metadata": {},
   "source": [
    "#### _6. Define the weights of the synapses_"
   ]
  },
  {
   "cell_type": "code",
   "execution_count": null,
   "id": "9f7806fb",
   "metadata": {},
   "outputs": [],
   "source": [
    "Syn_Input_Neurons.w = w_N * volt/second\n",
    "Syn_Neurons_GABA.w = w_G * volt/second\n",
    "Syn_Neurons_AMPA.w = w_A * volt/second"
   ]
  },
  {
   "cell_type": "markdown",
   "id": "65ba37b2",
   "metadata": {},
   "source": [
    "#### _7. Set up monitors_"
   ]
  },
  {
   "cell_type": "code",
   "execution_count": null,
   "id": "57911507",
   "metadata": {},
   "outputs": [],
   "source": [
    "SpikeMon_Input = SpikeMonitor(inputSpikesGen)    # Monitor the spikes from the input\n",
    "SpikeMon_Neurons = SpikeMonitor(neuronsGrid)    # Monitor the spikes from the neuron grid\n",
    "# StateMon_Neurons = StateMonitor(neuronsGrid, variables=True, record=True)    # Monitor the state variables - True for all variables"
   ]
  },
  {
   "cell_type": "code",
   "execution_count": null,
   "id": "d02b07a5",
   "metadata": {},
   "outputs": [],
   "source": [
    "# store('PreSim', 'PreSimulationState')    # Store the state of the simulation before running"
   ]
  },
  {
   "cell_type": "markdown",
   "id": "01eabe3c",
   "metadata": {},
   "source": [
    "### _8. Run the simulation_"
   ]
  },
  {
   "cell_type": "code",
   "execution_count": null,
   "id": "d664580d",
   "metadata": {},
   "outputs": [],
   "source": [
    "print(f\"Running the simulation for {simTime} ms\")\n",
    "net = Network(collect())\n",
    "if 'ipykernel' in sys.modules:\n",
    "    # Running in a Jupyter notebook\n",
    "    print(\"Running in a Jupyter notebook\")\n",
    "    net.run(simTime*ms, profile=True)\n",
    "    profiling_summary(net)\n",
    "else:\n",
    "    # Not running in a Jupyter notebook\n",
    "    print(\"Not running in a Jupyter notebook\")\n",
    "    net.run(simTime*ms, report=BrianHF.ProgressBar(), report_period=1*second, profile=True)\n",
    "    # print(profiling_summary(net))\n",
    "print(\"Simulation complete\\n\")"
   ]
  },
  {
   "cell_type": "markdown",
   "id": "42c78bb1",
   "metadata": {},
   "source": [
    "#### _9. (Optional) Visualize the results_"
   ]
  },
  {
   "cell_type": "code",
   "execution_count": null,
   "id": "c80f9916",
   "metadata": {},
   "outputs": [],
   "source": [
    "print(\"Generating Visualizable Outputs:\")\n",
    "resultPath = 'SimulationResults'\n",
    "inputStr = BrianHF.filePathGenerator('tempnetIn', networkParams)\n",
    "outputStr = BrianHF.filePathGenerator('tempnetOut', networkParams)\n",
    "\n",
    "# Create the folder if it doesn't exist\n",
    "if not os.path.exists(resultPath):\n",
    "    os.makedirs(resultPath)\n",
    "\n",
    "# Create the subfolders if they don't exist\n",
    "subfolders = ['numpyFrames', 'gifs', 'videos']\n",
    "for subfolder in subfolders:\n",
    "    subfolderPath = os.path.join(resultPath, subfolder)\n",
    "    if not os.path.exists(subfolderPath):\n",
    "        os.makedirs(subfolderPath)"
   ]
  },
  {
   "cell_type": "code",
   "execution_count": null,
   "id": "9e56b8ab",
   "metadata": {},
   "outputs": [],
   "source": [
    "BrianHF.visualise_connectivity(Syn_Input_Neurons)\n",
    "BrianHF.visualise_spikes([SpikeMon_Input, SpikeMon_Neurons])\n",
    "BrianHF.visualise_spike_difference(SpikeMon_Input, SpikeMon_Neurons)"
   ]
  },
  {
   "cell_type": "code",
   "execution_count": null,
   "id": "2118fc3b",
   "metadata": {},
   "outputs": [],
   "source": [
    "\n",
    "# Generate the frames for input and output\n",
    "print(\"Generating Frames for Input...\", end=' ')\n",
    "inputFrames = BrianHF.generate_frames(SpikeMon_Input, grid_width, grid_height, num_neurons=N_Neurons)\n",
    "print(\"Generation Complete.\")\n",
    "print(\"Generating Frames for Output...\", end=' ')\n",
    "outputFrames = BrianHF.generate_frames(SpikeMon_Neurons, grid_width, grid_height, num_neurons=N_Neurons)\n",
    "print(\"Generation Complete.\")\n",
    "# Save the frames\n",
    "np.save(os.path.join(resultPath, 'numpyFrames', inputStr+'.npy'), inputFrames)\n",
    "np.save(os.path.join(resultPath, 'numpyFrames', outputStr+'.npy'), outputFrames)\n",
    "\n",
    "# Generate the GIFs from the frames\n",
    "print(\"Generating Input GIF\", end=' ')\n",
    "BrianHF.generate_gif(inputFrames, os.path.join(resultPath, 'gifs', inputStr+'.gif'), simTime, replicateDuration=True, duration=1e-8)\n",
    "print(\"Generation Complete.\")\n",
    "print(\"Generating Output GIF\", end=' ')\n",
    "BrianHF.generate_gif(outputFrames, os.path.join(resultPath, 'gifs', outputStr+'.gif'), simTime, replicateDuration=True ,duration=1e-8)\n",
    "print(\"Generation Complete.\")\n",
    "\n",
    "# Generate the Videos from the frames\n",
    "print(\"Generating Input Video\", end=' ')\n",
    "BrianHF.generate_video(outputFrames, os.path.join(resultPath, 'videos', inputStr+'.mp4'), simTime)\n",
    "print(\"Generation Complete.\")\n",
    "print(\"Generating Output Video\", end=' ')\n",
    "BrianHF.generate_video(outputFrames, os.path.join(resultPath, 'videos', outputStr+'.mp4'), simTime)\n",
    "print(\"Generation Complete.\")"
   ]
  },
  {
   "cell_type": "code",
   "execution_count": null,
   "id": "8d6d8447",
   "metadata": {},
   "outputs": [],
   "source": [
    "# store('SimOut', 'SimulationOutput')   # Store the state of the simulation after running"
   ]
  },
  {
   "cell_type": "markdown",
   "id": "ff52fc64",
   "metadata": {
    "lines_to_next_cell": 2
   },
   "source": [
    "\"\"\"\n",
    "I SHOULD REMOVE THIS\n",
    "%%\n",
    "VISUALISATION\n",
    "BrianHF.visualise_spikes([SpikeMon_Input], figSize=(12,3), figTitle='Input Spikes')\n",
    "BrianHF.visualise_spikes([SpikeMon_Neurons], figSize=(12,3), figTitle='Output Spikes')\n",
    "\n",
    "Ploting the interspike interval\n",
    "BrianHF.visualise_interSpikeInterval(SpikeMon_Neurons, [5])\n",
    "BrianHF.visualise_neurons_states(StateMon_Neurons, [4, 5], 'all')    \n"
   ]
  }
 ],
 "metadata": {
  "jupytext": {
   "cell_metadata_filter": "-all",
   "formats": "ipynb,py"
  },
  "kernelspec": {
   "display_name": "IIT",
   "language": "python",
   "name": "python3"
  },
  "language_info": {
   "codemirror_mode": {
    "name": "ipython",
    "version": 3
   },
   "file_extension": ".py",
   "mimetype": "text/x-python",
   "name": "python",
   "nbconvert_exporter": "python",
   "pygments_lexer": "ipython3",
   "version": "3.10.12"
  }
 },
 "nbformat": 4,
 "nbformat_minor": 5
}
