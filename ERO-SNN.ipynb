{
 "cells": [
  {
   "cell_type": "code",
   "execution_count": 1,
   "metadata": {},
   "outputs": [],
   "source": [
    "from brian2 import *\n",
    "import NeuronEquations\n",
    "import BrianHF"
   ]
  },
  {
   "cell_type": "code",
   "execution_count": 2,
   "metadata": {},
   "outputs": [],
   "source": [
    "start_scope()\n",
    "grid_size_x = 3\n",
    "grid_size_y = 3\n",
    "\n",
    "N_Neurons = grid_size_x * grid_size_y # Number of neurons\n",
    "\n",
    "# Neuron Parameters\n",
    "tau = 10*ms # Time constant\n",
    "vt = 15*mV # Threshold Voltage\n",
    "vr = 0*mV # Reset Voltage\n",
    "v0 = 20*mV # Resting Voltage - Not necessarily used\n",
    "gL = 1/ms # Leak Conductance - Not necessarily used\n",
    "\n",
    "# Neuron Equation\n",
    "Eqs_Neurons = NeuronEquations.EQ_LIF\n",
    "\n",
    "\n",
    "# Synapse Parameters\n",
    "K_GABA = 1\n",
    "K_AMPA = 10\n",
    "taugd =  5 * ms\n",
    "tauad =  2 * ms\n",
    "taugr =  0.25 * ms\n",
    "tauar =  0.4 * ms"
   ]
  },
  {
   "cell_type": "code",
   "execution_count": 3,
   "metadata": {},
   "outputs": [],
   "source": [
    "indices = array([4, 5])\n",
    "times = array([1, 15])*ms\n",
    "G_Spikes = SpikeGeneratorGroup(N_Neurons, indices, times)"
   ]
  },
  {
   "cell_type": "code",
   "execution_count": 4,
   "metadata": {},
   "outputs": [],
   "source": [
    "G_Neurons = NeuronGroup(N_Neurons, Eqs_Neurons, threshold='v>vt', reset='v = vr', refractory=1 * ms, method='euler')\n",
    "\n",
    "# Generate x and y values for each neuron\n",
    "x_values = np.repeat(np.arange(grid_size_x), grid_size_y)\n",
    "y_values = np.tile(np.arange(grid_size_y), grid_size_x)\n",
    "\n",
    "# Assign x, y, and z values to each neuron\n",
    "G_Neurons.X = x_values\n",
    "G_Neurons.Y = y_values"
   ]
  },
  {
   "cell_type": "code",
   "execution_count": 5,
   "metadata": {},
   "outputs": [],
   "source": [
    "# Creating the synapses\n",
    "Syn_Input_Neurons = Synapses(G_Spikes, G_Neurons, 'w : volt/second', on_pre='Ia1 += w')\n",
    "Syn_Neurons_GABA = Synapses(G_Neurons, G_Neurons, 'w : volt/second', on_pre='Ig1 -= w')\n",
    "Syn_Neurons_AMPA = Synapses(G_Neurons, G_Neurons, 'w : volt/second', on_pre='Ia1 += w')\n",
    "\n",
    "# SYNAPSE CONNECTIONS:\n",
    "# Connect the first synapses from input to G_neurons on a 1 to 1 basis\n",
    "Syn_Input_Neurons.connect(condition= 'i==j')\n",
    "# Connect the second group of synapses from a neuron to its neighbors\n",
    "Syn_Neurons_GABA.connect(condition='i != j and abs(X_pre - X_post) <= 1 and abs(Y_pre - Y_post) <= 1')\n",
    "# Connect the last set of synapses from a neuron to itself (recurrent)\n",
    "Syn_Neurons_AMPA.connect(condition='i == j')\n",
    "\n",
    "# Define the weights of the synapses\n",
    "Syn_Input_Neurons.w = 80 * volt/second\n",
    "Syn_Neurons_GABA.w = 30 * volt/second\n",
    "Syn_Neurons_AMPA.w = 65 * volt/second"
   ]
  },
  {
   "cell_type": "code",
   "execution_count": 6,
   "metadata": {},
   "outputs": [],
   "source": [
    "# Monitor the spikes\n",
    "SpikeMon_Input = SpikeMonitor(G_Spikes)\n",
    "SpikeMon_Neurons = SpikeMonitor(G_Neurons)\n",
    "\n",
    "# Monitor the state variables\n",
    "StateMon_Neurons = StateMonitor(G_Neurons, ['v', 'Ia1', 'Ig1'], record=True)\n",
    "v_trace = StateMonitor(G_Neurons, 'v', record=True)"
   ]
  },
  {
   "cell_type": "code",
   "execution_count": 7,
   "metadata": {},
   "outputs": [
    {
     "data": {
      "image/png": "[encoded data removed]",
      "text/plain": [
       "<Figure size 640x480 with 1 Axes>"
      ]
     },
     "metadata": {},
     "output_type": "display_data"
    },
    {
     "data": {
      "image/png": "[encoded data removed]",
      "text/plain": [
       "<Figure size 640x480 with 1 Axes>"
      ]
     },
     "metadata": {},
     "output_type": "display_data"
    }
   ],
   "source": [
    "# Run the simulation\n",
    "run(100*ms)\n",
    "\n",
    "# Plot the results\n",
    "figure()\n",
    "subplot(211)\n",
    "plot(SpikeMon_Input.t/ms, SpikeMon_Input.i, '.k')\n",
    "xlabel('Time (ms)')\n",
    "ylabel('Neuron index')\n",
    "show()\n",
    "\n",
    "# Plot the results\n",
    "subplot(212)\n",
    "plot(SpikeMon_Neurons.t/ms, SpikeMon_Neurons.i, '.k')\n",
    "xlabel('Time (ms)')\n",
    "ylabel('Neuron index')\n",
    "show()"
   ]
  },
  {
   "cell_type": "code",
   "execution_count": 8,
   "metadata": {},
   "outputs": [
    {
     "ename": "AttributeError",
     "evalue": "module 'BrianHF' has no attribute 'visualise_states'",
     "output_type": "error",
     "traceback": [
      "\u001b[0;31m---------------------------------------------------------------------------\u001b[0m",
      "\u001b[0;31mAttributeError\u001b[0m                            Traceback (most recent call last)",
      "Cell \u001b[0;32mIn[8], line 1\u001b[0m\n\u001b[0;32m----> 1\u001b[0m \u001b[43mBrianHF\u001b[49m\u001b[38;5;241;43m.\u001b[39;49m\u001b[43mvisualise_states\u001b[49m(StateMon_Neurons, \u001b[38;5;28mrange\u001b[39m(\u001b[38;5;241m9\u001b[39m), \u001b[38;5;28mrepr\u001b[39m \u001b[38;5;241m=\u001b[39m \u001b[38;5;124m'\u001b[39m\u001b[38;5;124m'\u001b[39m)\n",
      "\u001b[0;31mAttributeError\u001b[0m: module 'BrianHF' has no attribute 'visualise_states'"
     ]
    }
   ],
   "source": []
  },
  {
   "cell_type": "code",
   "execution_count": null,
   "metadata": {},
   "outputs": [],
   "source": []
  }
 ],
 "metadata": {
  "kernelspec": {
   "display_name": "IIT",
   "language": "python",
   "name": "python3"
  },
  "language_info": {
   "codemirror_mode": {
    "name": "ipython",
    "version": 3
   },
   "file_extension": ".py",
   "mimetype": "text/x-python",
   "name": "python",
   "nbconvert_exporter": "python",
   "pygments_lexer": "ipython3",
   "version": "3.10.12"
  }
 },
 "nbformat": 4,
 "nbformat_minor": 2
}
