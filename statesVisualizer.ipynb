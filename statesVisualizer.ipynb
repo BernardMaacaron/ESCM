{
 "cells": [
  {
   "cell_type": "code",
   "execution_count": 1,
   "metadata": {},
   "outputs": [
    {
     "name": "stderr",
     "output_type": "stream",
     "text": [
      "WARNING    /home/iit.local/bmaacaron/code/ERO-SNN/BrianHF.py:8: TqdmExperimentalWarning: Using `tqdm.autonotebook.tqdm` in notebook mode. Use `tqdm.tqdm` instead to force console mode (e.g. in jupyter console)\n",
      "  from tqdm.autonotebook import tqdm\n",
      " [py.warnings]\n"
     ]
    },
    {
     "data": {
      "application/vnd.jupyter.widget-view+json": {
       "model_id": "f66409e9042e4204b368fdddcf74f435",
       "version_major": 2,
       "version_minor": 0
      },
      "text/plain": [
       "interactive(children=(IntSlider(value=10, description='tau', min=1), IntSlider(value=15, description='vt', max…"
      ]
     },
     "metadata": {},
     "output_type": "display_data"
    }
   ],
   "source": [
    "from ipywidgets import interact\n",
    "from brian2 import *\n",
    "import NeuronEquations\n",
    "import BrianHF\n",
    "from ipywidgets import interact\n",
    "\n",
    "\n",
    "@interact(tau=(1, 100), vt=(0, 30), vr=(0, 10), v0=(0, 30), gL=(1, 10),\n",
    "          K_GABA=(0, 10), K_AMPA=(0, 10), taugd=(0.25, 10, 0.25), tauad=(0.25, 10, 0.25),\n",
    "          taugr=(0.25, 10, 0.25), tauar=(0.25, 10, 0.25), w_N = (0, 100, 0.5), w_G = (0, 100, 0.5),\n",
    "          w_A = (0, 100, 0.5))\n",
    "def simulate_neurons(tau=10, vt=15, vr=0, v0=0, gL=1, K_GABA=1, K_AMPA=10, taugd=5,\n",
    "                     tauad=2, taugr=0.25, tauar=0.5, w_N=80, w_G=30, w_A=50):\n",
    "    start_scope()\n",
    "\n",
    "    grid_size_x = 4 # Number of neurons in the x direction\n",
    "    grid_size_y = 4\n",
    "    N_Neurons = grid_size_x * grid_size_y # Number of neurons\n",
    "\n",
    "    # Neuron Parameters\n",
    "    Num_Neighbours = 2\n",
    "    tau = tau*ms # Time constant\n",
    "    vt = vt*mV # Threshold Voltage\n",
    "    vr = vr*mV # Reset Voltage\n",
    "    v0 = v0*mV # Resting Voltage - Not necessarily used\n",
    "    gL = gL/ms # Leak Conductance - Not necessarily used\n",
    "\n",
    "    # Neuron Equation\n",
    "    Eqs_Neurons = NeuronEquations.EQ_LIF_N\n",
    "\n",
    "    # Synapse Parameters\n",
    "    K_GABA = K_GABA\n",
    "    K_AMPA = K_AMPA\n",
    "    taugd = taugd * ms\n",
    "    tauad = tauad * ms\n",
    "    taugr = taugr * ms\n",
    "    tauar = tauar * ms\n",
    "    \n",
    "    \n",
    "\n",
    "    # Input generation\n",
    "    indices = np.concatenate((arange(N_Neurons), arange(5), arange(7,11)))\n",
    "    times = np.concatenate(([1]*N_Neurons, [2]*5, [3]*4))*ms\n",
    "    G_Spikes = SpikeGeneratorGroup(N_Neurons, indices, times)\n",
    "    \n",
    "    G_Neurons = NeuronGroup(N_Neurons, Eqs_Neurons, threshold='v>vt', reset='v = vr', refractory=0 * ms, method='euler')\n",
    "\n",
    "    # Generate x and y values for each neuron\n",
    "    x_values = np.repeat(np.arange(grid_size_x), grid_size_y)\n",
    "    y_values = np.tile(np.arange(grid_size_y), grid_size_x)\n",
    "\n",
    "    # Assign x, y, and z values to each neuron\n",
    "    G_Neurons.X = x_values\n",
    "    G_Neurons.Y = y_values\n",
    "    \n",
    " # Creating the synapses\n",
    "    Syn_Input_Neurons = Synapses(G_Spikes, G_Neurons, 'w : volt/second', on_pre='Ia += w')\n",
    "    Syn_Neurons_GABA = Synapses(G_Neurons, G_Neurons, 'w : volt/second', on_pre='Ig -= w')\n",
    "    Syn_Neurons_AMPA = Synapses(G_Neurons, G_Neurons, 'w : volt/second', on_pre='Ia += w')\n",
    "\n",
    "    # SYNAPSE CONNECTIONS:\n",
    "    # Connect the first synapses from input to G_neurons on a 1 to 1 basis\n",
    "    Syn_Input_Neurons.connect(condition= 'i==j')\n",
    "    # Connect the second group of synapses from a neuron to its neighbors\n",
    "    Syn_Neurons_GABA.connect(condition='i != j and abs(X_pre - X_post) <= Num_Neighbours and abs(Y_pre - Y_post) <= Num_Neighbours')\n",
    "    # Connect the last set of synapses from a neuron to itself (recurrent)\n",
    "    Syn_Neurons_AMPA.connect(condition='i == j')\n",
    "\n",
    "    # Define the weights of the synapses\n",
    "    Syn_Input_Neurons.w = w_N * volt/second\n",
    "    Syn_Neurons_GABA.w = w_G * volt/second\n",
    "    Syn_Neurons_AMPA.w = w_A * volt/second\n",
    "    \n",
    "    # Monitor the spikes\n",
    "    SpikeMon_Input = SpikeMonitor(G_Spikes)\n",
    "    SpikeMon_Neurons = SpikeMonitor(G_Neurons)\n",
    "\n",
    "    # Monitor the state variables\n",
    "    StateMon_Neurons = StateMonitor(G_Neurons, ['Ia', 'Ig', 'I', 'v'], record=True)\n",
    "    \n",
    "    \n",
    "    # Run the simulation\n",
    "    run(100*ms)\n",
    "    \n",
    "    # Plot the results\n",
    "    figure()\n",
    "    subplot(211)\n",
    "    plot(SpikeMon_Input.t/ms, SpikeMon_Input.i, '.k')\n",
    "    xlabel('Time (ms)')\n",
    "    ylabel('Neuron index')\n",
    "\n",
    "    # Plot the results\n",
    "    subplot(212)\n",
    "    plot(SpikeMon_Neurons.t/ms, SpikeMon_Neurons.i, '.k')\n",
    "    xlabel('Time (ms)')\n",
    "    ylabel('Neuron index')\n",
    "    show()\n",
    "    \n",
    "   #  BrianHF.visualise_neurons_states(StateMon_Neurons, [4, 5], 'all')"
   ]
  }
 ],
 "metadata": {
  "kernelspec": {
   "display_name": "IIT",
   "language": "python",
   "name": "python3"
  },
  "language_info": {
   "codemirror_mode": {
    "name": "ipython",
    "version": 3
   },
   "file_extension": ".py",
   "mimetype": "text/x-python",
   "name": "python",
   "nbconvert_exporter": "python",
   "pygments_lexer": "ipython3",
   "version": "3.10.14"
  }
 },
 "nbformat": 4,
 "nbformat_minor": 2
}
