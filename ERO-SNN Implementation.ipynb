{
 "cells": [
  {
   "cell_type": "code",
   "execution_count": 1,
   "id": "efb9a0dc",
   "metadata": {},
   "outputs": [
    {
     "name": "stderr",
     "output_type": "stream",
     "text": [
      "WARNING    /home/bernard/Desktop/IIT_Thesis/ERO-SNN/BrianHF.py:8: TqdmExperimentalWarning: Using `tqdm.autonotebook.tqdm` in notebook mode. Use `tqdm.tqdm` instead to force console mode (e.g. in jupyter console)\n",
      "  from tqdm.autonotebook import tqdm\n",
      " [py.warnings]\n"
     ]
    }
   ],
   "source": [
    "from brian2 import *\n",
    "# set_device('cpp_standalone') # for faster execution - builds a standalone C++ program\n",
    "\n",
    "import NeuronEquations\n",
    "import BrianHF\n",
    "import numpy as np\n",
    "from bimvee.importAe import importAe\n",
    "from EvCamDatabase import DAVIS_346B\n",
    "import os\n",
    "\n",
    "# TODO XXX: Turn all lists into numpy arrays for the sake of memory efficiency"
   ]
  },
  {
   "cell_type": "code",
   "execution_count": 2,
   "id": "1b304651",
   "metadata": {},
   "outputs": [
    {
     "name": "stdout",
     "output_type": "stream",
     "text": [
      "89960\n",
      "{'filePathOrName': 'MVSEC_short_outdoor'}\n",
      "{'filePathOrName': 'MVSEC_short_outdoor'}\n",
      "{'filePathOrName': 'MVSEC_short_outdoor/rightdvs'}\n",
      "{'filePathOrName': 'MVSEC_short_outdoor/rightdvs'}\n",
      "importIitYarp trying path: MVSEC_short_outdoor/rightdvs\n"
     ]
    },
    {
     "name": "stderr",
     "output_type": "stream",
     "text": [
      "100%|██████████| 38024/38024 [00:05<00:00, 6793.11it/s]\n"
     ]
    },
    {
     "name": "stdout",
     "output_type": "stream",
     "text": [
      "Examining info.log: MVSEC_short_outdoor/rightdvs/info.log\n",
      "{'filePathOrName': 'MVSEC_short_outdoor/leftdvs'}\n",
      "{'filePathOrName': 'MVSEC_short_outdoor/leftdvs'}\n",
      "importIitYarp trying path: MVSEC_short_outdoor/leftdvs\n"
     ]
    },
    {
     "name": "stderr",
     "output_type": "stream",
     "text": [
      " 83%|████████▎ | 31859/38292 [00:05<00:01, 5665.18it/s]\n"
     ]
    },
    {
     "ename": "KeyboardInterrupt",
     "evalue": "",
     "output_type": "error",
     "traceback": [
      "\u001b[0;31m---------------------------------------------------------------------------\u001b[0m",
      "\u001b[0;31mUnicodeDecodeError\u001b[0m                        Traceback (most recent call last)",
      "File \u001b[0;32m~/.virtualenvs/IIT/lib/python3.10/site-packages/bimvee/importIitYarp.py:622\u001b[0m, in \u001b[0;36mimportIitYarpDataLog\u001b[0;34m(**kwargs)\u001b[0m\n\u001b[1;32m    621\u001b[0m \u001b[38;5;28;01mwith\u001b[39;00m \u001b[38;5;28mopen\u001b[39m(kwargs[\u001b[38;5;124m'\u001b[39m\u001b[38;5;124mfilePathOrName\u001b[39m\u001b[38;5;124m'\u001b[39m], \u001b[38;5;124m'\u001b[39m\u001b[38;5;124mr\u001b[39m\u001b[38;5;124m'\u001b[39m) \u001b[38;5;28;01mas\u001b[39;00m inFile:\n\u001b[0;32m--> 622\u001b[0m     content \u001b[38;5;241m=\u001b[39m \u001b[43minFile\u001b[49m\u001b[38;5;241;43m.\u001b[39;49m\u001b[43mreadline\u001b[49m\u001b[43m(\u001b[49m\u001b[43m)\u001b[49m  \u001b[38;5;66;03m# Look at first line of file\u001b[39;00m\n\u001b[1;32m    623\u001b[0m     patternForVicon \u001b[38;5;241m=\u001b[39m re\u001b[38;5;241m.\u001b[39mcompile(\u001b[38;5;124m'\u001b[39m\u001b[38;5;124m(\u001b[39m\u001b[38;5;124m\\\u001b[39m\u001b[38;5;124md+) (\u001b[39m\u001b[38;5;124m\\\u001b[39m\u001b[38;5;124md+\u001b[39m\u001b[38;5;124m\\\u001b[39m\u001b[38;5;124m.\u001b[39m\u001b[38;5;124m\\\u001b[39m\u001b[38;5;124md+) \u001b[39m\u001b[38;5;124m\\\u001b[39m\u001b[38;5;124m((.*)\u001b[39m\u001b[38;5;124m\\\u001b[39m\u001b[38;5;124m)\u001b[39m\u001b[38;5;124m'\u001b[39m)\n",
      "File \u001b[0;32m/usr/lib/python3.10/codecs.py:322\u001b[0m, in \u001b[0;36mBufferedIncrementalDecoder.decode\u001b[0;34m(self, input, final)\u001b[0m\n\u001b[1;32m    321\u001b[0m data \u001b[38;5;241m=\u001b[39m \u001b[38;5;28mself\u001b[39m\u001b[38;5;241m.\u001b[39mbuffer \u001b[38;5;241m+\u001b[39m \u001b[38;5;28minput\u001b[39m\n\u001b[0;32m--> 322\u001b[0m (result, consumed) \u001b[38;5;241m=\u001b[39m \u001b[38;5;28;43mself\u001b[39;49m\u001b[38;5;241;43m.\u001b[39;49m\u001b[43m_buffer_decode\u001b[49m\u001b[43m(\u001b[49m\u001b[43mdata\u001b[49m\u001b[43m,\u001b[49m\u001b[43m \u001b[49m\u001b[38;5;28;43mself\u001b[39;49m\u001b[38;5;241;43m.\u001b[39;49m\u001b[43merrors\u001b[49m\u001b[43m,\u001b[49m\u001b[43m \u001b[49m\u001b[43mfinal\u001b[49m\u001b[43m)\u001b[49m\n\u001b[1;32m    323\u001b[0m \u001b[38;5;66;03m# keep undecoded input until the next call\u001b[39;00m\n",
      "\u001b[0;31mUnicodeDecodeError\u001b[0m: 'utf-8' codec can't decode byte 0xd4 in position 29: invalid continuation byte",
      "\nDuring handling of the above exception, another exception occurred:\n",
      "\u001b[0;31mKeyboardInterrupt\u001b[0m                         Traceback (most recent call last)",
      "Cell \u001b[0;32mIn[2], line 5\u001b[0m\n\u001b[1;32m      3\u001b[0m \u001b[38;5;28mprint\u001b[39m(grid_width \u001b[38;5;241m*\u001b[39m grid_height)\n\u001b[1;32m      4\u001b[0m filePath \u001b[38;5;241m=\u001b[39m \u001b[38;5;124m'\u001b[39m\u001b[38;5;124mMVSEC_short_outdoor\u001b[39m\u001b[38;5;124m'\u001b[39m\n\u001b[0;32m----> 5\u001b[0m events \u001b[38;5;241m=\u001b[39m \u001b[43mimportAe\u001b[49m\u001b[43m(\u001b[49m\u001b[43mfilePathOrName\u001b[49m\u001b[38;5;241;43m=\u001b[39;49m\u001b[43mfilePath\u001b[49m\u001b[43m)\u001b[49m\n",
      "File \u001b[0;32m~/.virtualenvs/IIT/lib/python3.10/site-packages/bimvee/importAe.py:108\u001b[0m, in \u001b[0;36mimportAe\u001b[0;34m(**kwargs)\u001b[0m\n\u001b[1;32m    106\u001b[0m kwargs[\u001b[38;5;124m'\u001b[39m\u001b[38;5;124mfilePathOrName\u001b[39m\u001b[38;5;124m'\u001b[39m] \u001b[38;5;241m=\u001b[39m os\u001b[38;5;241m.\u001b[39mpath\u001b[38;5;241m.\u001b[39mjoin(filePathOrName, subName)\n\u001b[1;32m    107\u001b[0m \u001b[38;5;28;01mtry\u001b[39;00m:\n\u001b[0;32m--> 108\u001b[0m     result \u001b[38;5;241m=\u001b[39m \u001b[43mimportAe\u001b[49m\u001b[43m(\u001b[49m\u001b[38;5;241;43m*\u001b[39;49m\u001b[38;5;241;43m*\u001b[39;49m\u001b[43mkwargs\u001b[49m\u001b[43m)\u001b[49m\n\u001b[1;32m    109\u001b[0m \u001b[38;5;28;01mexcept\u001b[39;00m \u001b[38;5;167;01mValueError\u001b[39;00m:\n\u001b[1;32m    110\u001b[0m     \u001b[38;5;28;01mcontinue\u001b[39;00m\n",
      "File \u001b[0;32m~/.virtualenvs/IIT/lib/python3.10/site-packages/bimvee/importAe.py:153\u001b[0m, in \u001b[0;36mimportAe\u001b[0;34m(**kwargs)\u001b[0m\n\u001b[1;32m    151\u001b[0m     \u001b[38;5;28;01mif\u001b[39;00m \u001b[38;5;129;01mnot\u001b[39;00m os\u001b[38;5;241m.\u001b[39mpath\u001b[38;5;241m.\u001b[39misdir(kwargs[\u001b[38;5;124m'\u001b[39m\u001b[38;5;124mfilePathOrName\u001b[39m\u001b[38;5;124m'\u001b[39m]):\n\u001b[1;32m    152\u001b[0m         kwargs[\u001b[38;5;124m'\u001b[39m\u001b[38;5;124mfilePathOrName\u001b[39m\u001b[38;5;124m'\u001b[39m] \u001b[38;5;241m=\u001b[39m os\u001b[38;5;241m.\u001b[39mpath\u001b[38;5;241m.\u001b[39mdirname(kwargs[\u001b[38;5;124m'\u001b[39m\u001b[38;5;124mfilePathOrName\u001b[39m\u001b[38;5;124m'\u001b[39m])\n\u001b[0;32m--> 153\u001b[0m     importedData \u001b[38;5;241m=\u001b[39m \u001b[43mimportIitYarp\u001b[49m\u001b[43m(\u001b[49m\u001b[38;5;241;43m*\u001b[39;49m\u001b[38;5;241;43m*\u001b[39;49m\u001b[43mkwargs\u001b[49m\u001b[43m)\u001b[49m\n\u001b[1;32m    154\u001b[0m \u001b[38;5;28;01melif\u001b[39;00m fileFormat \u001b[38;5;129;01min\u001b[39;00m [\u001b[38;5;124m'\u001b[39m\u001b[38;5;124mrpgdvsros\u001b[39m\u001b[38;5;124m'\u001b[39m, \u001b[38;5;124m'\u001b[39m\u001b[38;5;124mrosbag\u001b[39m\u001b[38;5;124m'\u001b[39m, \u001b[38;5;124m'\u001b[39m\u001b[38;5;124mrpg\u001b[39m\u001b[38;5;124m'\u001b[39m, \u001b[38;5;124m'\u001b[39m\u001b[38;5;124mros\u001b[39m\u001b[38;5;124m'\u001b[39m, \u001b[38;5;124m'\u001b[39m\u001b[38;5;124mbag\u001b[39m\u001b[38;5;124m'\u001b[39m, \u001b[38;5;124m'\u001b[39m\u001b[38;5;124mrpgdvs\u001b[39m\u001b[38;5;124m'\u001b[39m]:\n\u001b[1;32m    155\u001b[0m     importedData \u001b[38;5;241m=\u001b[39m importRpgDvsRos(\u001b[38;5;241m*\u001b[39m\u001b[38;5;241m*\u001b[39mkwargs)\n",
      "File \u001b[0;32m~/.virtualenvs/IIT/lib/python3.10/site-packages/bimvee/importIitYarp.py:833\u001b[0m, in \u001b[0;36mimportIitYarp\u001b[0;34m(**kwargs)\u001b[0m\n\u001b[1;32m    831\u001b[0m \u001b[38;5;28;01mdef\u001b[39;00m \u001b[38;5;21mimportIitYarp\u001b[39m(\u001b[38;5;241m*\u001b[39m\u001b[38;5;241m*\u001b[39mkwargs):\n\u001b[1;32m    832\u001b[0m \u001b[38;5;250m    \u001b[39m\u001b[38;5;124;03m\"\"\"Import data in IIT Yarp format.\"\"\"\u001b[39;00m\n\u001b[0;32m--> 833\u001b[0m     importedDicts \u001b[38;5;241m=\u001b[39m \u001b[43mimportIitYarpRecursive\u001b[49m\u001b[43m(\u001b[49m\u001b[38;5;241;43m*\u001b[39;49m\u001b[38;5;241;43m*\u001b[39;49m\u001b[43mkwargs\u001b[49m\u001b[43m)\u001b[49m\n\u001b[1;32m    834\u001b[0m     \u001b[38;5;28;01mif\u001b[39;00m kwargs\u001b[38;5;241m.\u001b[39mget(\u001b[38;5;124m'\u001b[39m\u001b[38;5;124mzeroTime\u001b[39m\u001b[38;5;124m'\u001b[39m, kwargs\u001b[38;5;241m.\u001b[39mget(\u001b[38;5;124m'\u001b[39m\u001b[38;5;124mzeroTimestamps\u001b[39m\u001b[38;5;124m'\u001b[39m, \u001b[38;5;28;01mTrue\u001b[39;00m)):\n\u001b[1;32m    835\u001b[0m         \u001b[38;5;66;03m# Optional: start the timestamps at zero for the first event\u001b[39;00m\n\u001b[1;32m    836\u001b[0m         \u001b[38;5;66;03m# This is done collectively for all the concurrent imports\u001b[39;00m\n\u001b[1;32m    837\u001b[0m         rezeroTimestampsForImportedDicts(importedDicts)\n",
      "File \u001b[0;32m~/.virtualenvs/IIT/lib/python3.10/site-packages/bimvee/importIitYarp.py:798\u001b[0m, in \u001b[0;36mimportIitYarpRecursive\u001b[0;34m(**kwargs)\u001b[0m\n\u001b[1;32m    796\u001b[0m     importedDicts\u001b[38;5;241m.\u001b[39mappend(importIitYarpBinaryDataLog(\u001b[38;5;241m*\u001b[39m\u001b[38;5;241m*\u001b[39mkwargs))\n\u001b[1;32m    797\u001b[0m \u001b[38;5;28;01mif\u001b[39;00m file \u001b[38;5;241m==\u001b[39m \u001b[38;5;124m'\u001b[39m\u001b[38;5;124mdata.log\u001b[39m\u001b[38;5;124m'\u001b[39m:\n\u001b[0;32m--> 798\u001b[0m     importedDicts\u001b[38;5;241m.\u001b[39mappend(\u001b[43mimportIitYarpDataLog\u001b[49m\u001b[43m(\u001b[49m\u001b[38;5;241;43m*\u001b[39;49m\u001b[38;5;241;43m*\u001b[39;49m\u001b[43mkwargs\u001b[49m\u001b[43m)\u001b[49m)\n\u001b[1;32m    799\u001b[0m \u001b[38;5;28;01mif\u001b[39;00m file \u001b[38;5;241m==\u001b[39m \u001b[38;5;124m'\u001b[39m\u001b[38;5;124minfo.log\u001b[39m\u001b[38;5;124m'\u001b[39m:\n\u001b[1;32m    800\u001b[0m     tsOffset \u001b[38;5;241m=\u001b[39m importIitYarpInfoLog(\u001b[38;5;241m*\u001b[39m\u001b[38;5;241m*\u001b[39mkwargs)\n",
      "File \u001b[0;32m~/.virtualenvs/IIT/lib/python3.10/site-packages/bimvee/importIitYarp.py:716\u001b[0m, in \u001b[0;36mimportIitYarpDataLog\u001b[0;34m(**kwargs)\u001b[0m\n\u001b[1;32m    714\u001b[0m bottleNum, ts, bottleType, _ \u001b[38;5;241m=\u001b[39m c[:firstQuoteIdx \u001b[38;5;241m-\u001b[39m \u001b[38;5;241m1\u001b[39m]\u001b[38;5;241m.\u001b[39mdecode()\u001b[38;5;241m.\u001b[39msplit(\u001b[38;5;124m'\u001b[39m\u001b[38;5;124m \u001b[39m\u001b[38;5;124m'\u001b[39m)\n\u001b[1;32m    715\u001b[0m data \u001b[38;5;241m=\u001b[39m c[firstQuoteIdx \u001b[38;5;241m+\u001b[39m \u001b[38;5;241m1\u001b[39m:\u001b[38;5;241m-\u001b[39m(lastQuoteIdx \u001b[38;5;241m+\u001b[39m \u001b[38;5;241m1\u001b[39m)]\n\u001b[0;32m--> 716\u001b[0m bitStrings \u001b[38;5;241m=\u001b[39m np\u001b[38;5;241m.\u001b[39mfrombuffer(\u001b[43mfromStringNested\u001b[49m\u001b[43m(\u001b[49m\u001b[43mdata\u001b[49m\u001b[43m)\u001b[49m, np\u001b[38;5;241m.\u001b[39muint32)\n\u001b[1;32m    717\u001b[0m \u001b[38;5;28;01mif\u001b[39;00m \u001b[38;5;129;01mnot\u001b[39;00m check_if_with_ts:\n\u001b[1;32m    718\u001b[0m     with_ts \u001b[38;5;241m=\u001b[39m np\u001b[38;5;241m.\u001b[39mall(\u001b[38;5;28msorted\u001b[39m(bitStrings[::\u001b[38;5;241m2\u001b[39m]) \u001b[38;5;241m==\u001b[39m bitStrings[::\u001b[38;5;241m2\u001b[39m])\n",
      "File \u001b[0;32m~/.virtualenvs/IIT/lib/python3.10/site-packages/bimvee/importIitYarp.py:600\u001b[0m, in \u001b[0;36mfromStringNested\u001b[0;34m(in_string)\u001b[0m\n\u001b[1;32m    599\u001b[0m \u001b[38;5;28;01mdef\u001b[39;00m \u001b[38;5;21mfromStringNested\u001b[39m(in_string):\n\u001b[0;32m--> 600\u001b[0m    \u001b[38;5;28;01mreturn\u001b[39;00m \u001b[43mre\u001b[49m\u001b[38;5;241;43m.\u001b[39;49m\u001b[43msub\u001b[49m\u001b[43m(\u001b[49m\u001b[38;5;124;43mb\u001b[39;49m\u001b[38;5;124;43m'\u001b[39;49m\u001b[38;5;130;43;01m\\\\\u001b[39;49;00m\u001b[38;5;124;43m\\\u001b[39;49m\u001b[38;5;124;43m{\u001b[39;49m\u001b[38;5;124;43m2,}|\u001b[39;49m\u001b[38;5;130;43;01m\\\\\u001b[39;49;00m\u001b[38;5;130;43;01m\\\\\u001b[39;49;00m\u001b[38;5;130;43;01m\\\"\u001b[39;49;00m\u001b[38;5;124;43m'\u001b[39;49m\u001b[43m,\u001b[49m\u001b[43m \u001b[49m\u001b[43munquoting\u001b[49m\u001b[43m,\u001b[49m\u001b[43m \u001b[49m\u001b[43mre\u001b[49m\u001b[38;5;241;43m.\u001b[39;49m\u001b[43msub\u001b[49m\u001b[43m(\u001b[49m\u001b[38;5;124;43mb\u001b[39;49m\u001b[38;5;124;43m'\u001b[39;49m\u001b[38;5;130;43;01m\\\\\u001b[39;49;00m\u001b[38;5;130;43;01m\\\\\u001b[39;49;00m\u001b[38;5;124;43m+[nr0]\u001b[39;49m\u001b[38;5;124;43m'\u001b[39;49m\u001b[43m,\u001b[49m\u001b[43m \u001b[49m\u001b[43munquoting\u001b[49m\u001b[43m,\u001b[49m\u001b[43m \u001b[49m\u001b[43min_string\u001b[49m\u001b[43m)\u001b[49m\u001b[43m)\u001b[49m\n",
      "File \u001b[0;32m/usr/lib/python3.10/re.py:209\u001b[0m, in \u001b[0;36msub\u001b[0;34m(pattern, repl, string, count, flags)\u001b[0m\n\u001b[1;32m    202\u001b[0m \u001b[38;5;28;01mdef\u001b[39;00m \u001b[38;5;21msub\u001b[39m(pattern, repl, string, count\u001b[38;5;241m=\u001b[39m\u001b[38;5;241m0\u001b[39m, flags\u001b[38;5;241m=\u001b[39m\u001b[38;5;241m0\u001b[39m):\n\u001b[1;32m    203\u001b[0m \u001b[38;5;250m    \u001b[39m\u001b[38;5;124;03m\"\"\"Return the string obtained by replacing the leftmost\u001b[39;00m\n\u001b[1;32m    204\u001b[0m \u001b[38;5;124;03m    non-overlapping occurrences of the pattern in string by the\u001b[39;00m\n\u001b[1;32m    205\u001b[0m \u001b[38;5;124;03m    replacement repl.  repl can be either a string or a callable;\u001b[39;00m\n\u001b[1;32m    206\u001b[0m \u001b[38;5;124;03m    if a string, backslash escapes in it are processed.  If it is\u001b[39;00m\n\u001b[1;32m    207\u001b[0m \u001b[38;5;124;03m    a callable, it's passed the Match object and must return\u001b[39;00m\n\u001b[1;32m    208\u001b[0m \u001b[38;5;124;03m    a replacement string to be used.\"\"\"\u001b[39;00m\n\u001b[0;32m--> 209\u001b[0m     \u001b[38;5;28;01mreturn\u001b[39;00m \u001b[43m_compile\u001b[49m\u001b[43m(\u001b[49m\u001b[43mpattern\u001b[49m\u001b[43m,\u001b[49m\u001b[43m \u001b[49m\u001b[43mflags\u001b[49m\u001b[43m)\u001b[49m\u001b[38;5;241;43m.\u001b[39;49m\u001b[43msub\u001b[49m\u001b[43m(\u001b[49m\u001b[43mrepl\u001b[49m\u001b[43m,\u001b[49m\u001b[43m \u001b[49m\u001b[43mstring\u001b[49m\u001b[43m,\u001b[49m\u001b[43m \u001b[49m\u001b[43mcount\u001b[49m\u001b[43m)\u001b[49m\n",
      "File \u001b[0;32m~/.virtualenvs/IIT/lib/python3.10/site-packages/bimvee/importIitYarp.py:579\u001b[0m, in \u001b[0;36munquoting\u001b[0;34m(match)\u001b[0m\n\u001b[1;32m    576\u001b[0m     kwargs[\u001b[38;5;124m'\u001b[39m\u001b[38;5;124mimportedToByte\u001b[39m\u001b[38;5;124m'\u001b[39m] \u001b[38;5;241m=\u001b[39m importedToByte\n\u001b[1;32m    577\u001b[0m     \u001b[38;5;28;01mreturn\u001b[39;00m globalPostProcessing(outDict, \u001b[38;5;241m*\u001b[39m\u001b[38;5;241m*\u001b[39mkwargs)\n\u001b[0;32m--> 579\u001b[0m \u001b[38;5;28;01mdef\u001b[39;00m \u001b[38;5;21munquoting\u001b[39m(match):\n\u001b[1;32m    580\u001b[0m     matchedString \u001b[38;5;241m=\u001b[39m (match\u001b[38;5;241m.\u001b[39mstring[match\u001b[38;5;241m.\u001b[39mspan()[\u001b[38;5;241m0\u001b[39m]:match\u001b[38;5;241m.\u001b[39mspan()[\u001b[38;5;241m1\u001b[39m]])\n\u001b[1;32m    581\u001b[0m     even \u001b[38;5;241m=\u001b[39m \u001b[38;5;28mlen\u001b[39m(matchedString) \u001b[38;5;241m%\u001b[39m \u001b[38;5;241m2\u001b[39m \u001b[38;5;241m==\u001b[39m \u001b[38;5;241m0\u001b[39m\n",
      "\u001b[0;31mKeyboardInterrupt\u001b[0m: "
     ]
    }
   ],
   "source": [
    "# XXX: Extract the event stream using bimvee - needs refactoring to be more general\n",
    "grid_width, grid_height= DAVIS_346B['width'], DAVIS_346B['height']\n",
    "print(grid_width * grid_height)\n",
    "filePath = 'MVSEC_short_outdoor'\n",
    "events = importAe(filePathOrName=filePath)"
   ]
  },
  {
   "cell_type": "code",
   "execution_count": null,
   "id": "a8c31561",
   "metadata": {},
   "outputs": [],
   "source": [
    "try:\n",
    "    eventStream = events[0]['data']['left']['dvs']\n",
    "except:\n",
    "    eventStream = events[0]['data']['right']['dvs']\n",
    "eventStream.popitem()"
   ]
  },
  {
   "cell_type": "markdown",
   "id": "3e705d5b",
   "metadata": {},
   "source": [
    "### Steps for the setting up the network:\n",
    "1. Generate the input spikes\n",
    "2. Set the parameters for the network (neurons and synapses)\n",
    "3. Create the neuron group(s)\n",
    "4. Create the synapses\n",
    "5. Connect the synapses\n",
    "6. Define the weights of the synapses\n",
    "7. Set up monitors according to need\n",
    "8. Run the simulation\n",
    "9. (Optional) Visualize the results\n",
    "\n",
    "#### _1. Generate the input spikes from the event stream_\n",
    "###### _Brian Simulation Scope_\n"
   ]
  },
  {
   "cell_type": "code",
   "execution_count": null,
   "id": "cd199fa2",
   "metadata": {},
   "outputs": [],
   "source": [
    "tau = 10\n",
    "vt = 1\n",
    "vr = 0\n",
    "v0 = 0 # Currently unused\n",
    "gL = 1\n",
    "K_GABA = 0 # Currently unused\n",
    "K_AMPA = 0 # Currently unused\n",
    "taugd = 1\n",
    "tauad = 4  \n",
    "taugr = 0.25 # Currently unused\n",
    "tauar = 0.5  # Currently unused\n",
    "w_N = 100\n",
    "w_G = 2\n",
    "w_A = 0 # Currently unused\n",
    "\n",
    "\n",
    "\n",
    "defaultclock.dt = 1*us\n",
    "# HACK XXX: The input is now not in real time, must be fixed eventually to process real time event data\n",
    "# IMPORTANT NOTE: Output is float, so we need to convert to Quantities (i.e give them units)\n",
    "simTime, clockStep, inputSpikesGen = BrianHF.event_to_spike(eventStream, grid_width, grid_height, timeScale = 1.0, samplePercentage=1.0)\n",
    "# defaultclock.dt = clockStep*ms\n",
    "print(\"Input event stream successfully converted to spike trains\\n\")"
   ]
  },
  {
   "cell_type": "markdown",
   "id": "0caabde4",
   "metadata": {},
   "source": [
    "#### _2. Set the parameters for the network (neurons and synapses)_\n",
    "Parameter values can be tuned at the top of the document (this is done for clarity purposes)."
   ]
  },
  {
   "cell_type": "code",
   "execution_count": null,
   "id": "dba9d57a",
   "metadata": {},
   "outputs": [],
   "source": [
    "# Neuron Parameters\n",
    "N_Neurons = grid_width * grid_height    # Number of neurons\n",
    "tau = tau*ms    # Time constant\n",
    "vt = vt*mV    # Threshold Voltage\n",
    "vr = vr*mV    # Reset Voltage\n",
    "v0 = v0*mV    # Resting Voltage - Not necessarily used\n",
    "gL = gL/ms    # Leak Conductance - Not necessarily used\n",
    "\n",
    "'''\n",
    "    Neighborhood Size (num_Neighbors) - Affects the number of neighbors a central neuron based on the L1 Distance\n",
    "    Neighboring Neurons --> (abs(X_pre - X_post) <= num_Neighbors  and abs(Y_pre - Y_post) <= num_Neighbors)\n",
    "'''\n",
    "num_Neighbors = 2    # Number of neighbors\n",
    "\n",
    "Eqs_Neurons = NeuronEquations.EQ_LIF_N    # Neuron Equations\n",
    "\n",
    "# Synapse Parameters\n",
    "K_GABA = K_GABA\n",
    "K_AMPA = K_AMPA\n",
    "taugd = taugd * ms\n",
    "tauad = tauad * ms\n",
    "taugr = taugr * ms\n",
    "tauar = tauar * ms\n",
    "\n",
    "\n",
    "# Generate the dictionary of parameters for the network\n",
    "networkParams = {'N_N': N_Neurons, 'k': num_Neighbors, 'tau': tau, 'vt': vt, 'vr': vr, 'v0': v0, 'gL': gL,\n",
    "                 'K_GABA': K_GABA, 'K_AMPA': K_AMPA, 'taugd': taugd, 'tauad': tauad, 'taugr': taugr, 'tauar': tauar, 'w_N': w_N, 'w_G': w_G, 'w_A': w_A}"
   ]
  },
  {
   "cell_type": "markdown",
   "id": "f18e0b16",
   "metadata": {},
   "source": [
    "#### _3. Create the neuron group(s)_"
   ]
  },
  {
   "cell_type": "code",
   "execution_count": null,
   "id": "90b9ccff",
   "metadata": {},
   "outputs": [],
   "source": [
    "# TODO XXX: The events are running on the clockStep, I should at least fix them to use the (event_driven) setting in Brian2\n",
    "neuronsGrid = NeuronGroup(N_Neurons, Eqs_Neurons, threshold='v>vt', reset='v = vr')\n",
    "\n",
    "# FIXME: Verify the grid coordinates and assign the X and Y values to the neurons accordingly\n",
    "# Generate x and y values for each neuron\n",
    "x_values = np.repeat(np.arange(grid_width), grid_height)\n",
    "y_values = np.tile(np.arange(grid_height), grid_width)\n",
    "neuronsGrid.X = x_values\n",
    "neuronsGrid.Y = y_values"
   ]
  },
  {
   "cell_type": "markdown",
   "id": "652eb3fd",
   "metadata": {},
   "source": [
    "#### _4. Create the synapses_"
   ]
  },
  {
   "cell_type": "code",
   "execution_count": null,
   "id": "0ff3560f",
   "metadata": {},
   "outputs": [],
   "source": [
    "Syn_Input_Neurons = Synapses(inputSpikesGen, neuronsGrid, 'w : volt/second', on_pre='Ia += w') # NOTE: Use Ia1 or Ia depending on the neuron equation used\n",
    "Syn_Neurons_GABA = Synapses(neuronsGrid, neuronsGrid, 'w : volt/second', on_pre='Ig -= w') # NOTE: Use Ia1 or Ia depending on the neuron equation used\n",
    "Syn_Neurons_AMPA = Synapses(neuronsGrid, neuronsGrid, 'w : volt/second', on_pre='Ia = Ia') # NOTE: Use Ia1 or Ia depending on the neuron equation used"
   ]
  },
  {
   "cell_type": "markdown",
   "id": "1a27a08c",
   "metadata": {},
   "source": [
    "#### _5. Connect the synapses_"
   ]
  },
  {
   "cell_type": "code",
   "execution_count": null,
   "id": "720e1f93",
   "metadata": {},
   "outputs": [],
   "source": [
    "Syn_Input_Neurons.connect(condition= 'i==j')    # Connect the first synapses from input to G_neurons on a 1 to 1 basis\n",
    "Syn_Neurons_GABA.connect(condition='i != j and abs(X_pre - X_post) <= num_Neighbors and abs(Y_pre - Y_post) <= num_Neighbors')    # Connect the second group of synapses from a neuron to its neighbors\n",
    "Syn_Neurons_AMPA.connect(condition='i == j')     # Connect the last set of synapses from a neuron to itself (recurrent)"
   ]
  },
  {
   "cell_type": "markdown",
   "id": "8467ddaa",
   "metadata": {},
   "source": [
    "#### _6. Define the weights of the synapses_"
   ]
  },
  {
   "cell_type": "code",
   "execution_count": null,
   "id": "9f7806fb",
   "metadata": {},
   "outputs": [],
   "source": [
    "Syn_Input_Neurons.w = w_N * volt/second\n",
    "Syn_Neurons_GABA.w = w_G * volt/second\n",
    "Syn_Neurons_AMPA.w = w_A * volt/second"
   ]
  },
  {
   "cell_type": "markdown",
   "id": "65ba37b2",
   "metadata": {},
   "source": [
    "#### _7. Set up monitors_"
   ]
  },
  {
   "cell_type": "code",
   "execution_count": null,
   "id": "57911507",
   "metadata": {},
   "outputs": [],
   "source": [
    "SpikeMon_Input = SpikeMonitor(inputSpikesGen)    # Monitor the spikes from the input\n",
    "SpikeMon_Neurons = SpikeMonitor(neuronsGrid)    # Monitor the spikes from the neuron grid\n",
    "# StateMon_Neurons = StateMonitor(neuronsGrid, variables=True, record=True)    # Monitor the state variables - True for all variables"
   ]
  },
  {
   "cell_type": "code",
   "execution_count": null,
   "id": "d02b07a5",
   "metadata": {},
   "outputs": [],
   "source": [
    "# store('PreSim', 'PreSimulationState')    # Store the state of the simulation before running"
   ]
  },
  {
   "cell_type": "markdown",
   "id": "01eabe3c",
   "metadata": {},
   "source": [
    "### _8. Run the simulation_"
   ]
  },
  {
   "cell_type": "code",
   "execution_count": null,
   "id": "d664580d",
   "metadata": {},
   "outputs": [],
   "source": [
    "print(f\"Running the simulation for {simTime} ms\")\n",
    "net = Network(collect())\n",
    "if 'ipykernel' in sys.modules:\n",
    "    # Running in a Jupyter notebook\n",
    "    print(\"Running in a Jupyter notebook\")\n",
    "    net.run(simTime*ms, profile=True)\n",
    "    profiling_summary(net)\n",
    "else:\n",
    "    # Not running in a Jupyter notebook\n",
    "    print(\"Not running in a Jupyter notebook\")\n",
    "    net.run(simTime*ms, report=BrianHF.ProgressBar(), report_period=1*second, profile=True)\n",
    "    # print(profiling_summary(net))\n",
    "print(\"Simulation complete\\n\")"
   ]
  },
  {
   "cell_type": "markdown",
   "id": "42c78bb1",
   "metadata": {},
   "source": [
    "#### _9. (Optional) Visualize the results_"
   ]
  },
  {
   "cell_type": "code",
   "execution_count": null,
   "id": "c80f9916",
   "metadata": {},
   "outputs": [],
   "source": [
    "print(\"Generating Visualizable Outputs:\")\n",
    "resultPath = 'SimulationResults'\n",
    "inputStr = BrianHF.filePathGenerator('tempnetIn', networkParams)\n",
    "outputStr = BrianHF.filePathGenerator('tempnetOut', networkParams)\n",
    "\n",
    "# Create the folder if it doesn't exist\n",
    "if not os.path.exists(resultPath):\n",
    "    os.makedirs(resultPath)\n",
    "\n",
    "# Create the subfolders if they don't exist\n",
    "subfolders = ['numpyFrames', 'gifs', 'videos']\n",
    "for subfolder in subfolders:\n",
    "    subfolderPath = os.path.join(resultPath, subfolder)\n",
    "    if not os.path.exists(subfolderPath):\n",
    "        os.makedirs(subfolderPath)"
   ]
  },
  {
   "cell_type": "code",
   "execution_count": null,
   "id": "9e56b8ab",
   "metadata": {},
   "outputs": [],
   "source": [
    "BrianHF.visualise_connectivity(Syn_Input_Neurons)\n",
    "BrianHF.visualise_spikes([SpikeMon_Input, SpikeMon_Neurons])\n",
    "BrianHF.visualise_spike_difference(SpikeMon_Input, SpikeMon_Neurons)"
   ]
  },
  {
   "cell_type": "code",
   "execution_count": null,
   "id": "2118fc3b",
   "metadata": {},
   "outputs": [],
   "source": [
    "\n",
    "# Generate the frames for input and output\n",
    "print(\"Generating Frames for Input...\", end=' ')\n",
    "inputFrames = BrianHF.generate_frames(SpikeMon_Input, grid_width, grid_height, num_neurons=N_Neurons)\n",
    "print(\"Generation Complete.\")\n",
    "print(\"Generating Frames for Output...\", end=' ')\n",
    "outputFrames = BrianHF.generate_frames(SpikeMon_Neurons, grid_width, grid_height, num_neurons=N_Neurons)\n",
    "print(\"Generation Complete.\")\n",
    "# Save the frames\n",
    "np.save(os.path.join(resultPath, 'numpyFrames', inputStr+'.npy'), inputFrames)\n",
    "np.save(os.path.join(resultPath, 'numpyFrames', outputStr+'.npy'), outputFrames)\n",
    "\n",
    "# Generate the GIFs from the frames\n",
    "print(\"Generating Input GIF\", end=' ')\n",
    "BrianHF.generate_gif(inputFrames, os.path.join(resultPath, 'gifs', inputStr+'.gif'), simTime, replicateDuration=True, duration=1e-8)\n",
    "print(\"Generation Complete.\")\n",
    "print(\"Generating Output GIF\", end=' ')\n",
    "BrianHF.generate_gif(outputFrames, os.path.join(resultPath, 'gifs', outputStr+'.gif'), simTime, replicateDuration=True ,duration=1e-8)\n",
    "print(\"Generation Complete.\")\n",
    "\n",
    "# Generate the Videos from the frames\n",
    "print(\"Generating Input Video\", end=' ')\n",
    "BrianHF.generate_video(outputFrames, os.path.join(resultPath, 'videos', inputStr+'.mp4'), simTime)\n",
    "print(\"Generation Complete.\")\n",
    "print(\"Generating Output Video\", end=' ')\n",
    "BrianHF.generate_video(outputFrames, os.path.join(resultPath, 'videos', outputStr+'.mp4'), simTime)\n",
    "print(\"Generation Complete.\")"
   ]
  },
  {
   "cell_type": "code",
   "execution_count": null,
   "id": "8d6d8447",
   "metadata": {},
   "outputs": [],
   "source": [
    "# store('SimOut', 'SimulationOutput')   # Store the state of the simulation after running"
   ]
  },
  {
   "cell_type": "markdown",
   "id": "ff52fc64",
   "metadata": {
    "lines_to_next_cell": 2
   },
   "source": [
    "\"\"\"\n",
    "I SHOULD REMOVE THIS\n",
    "%%\n",
    "VISUALISATION\n",
    "BrianHF.visualise_spikes([SpikeMon_Input], figSize=(12,3), figTitle='Input Spikes')\n",
    "BrianHF.visualise_spikes([SpikeMon_Neurons], figSize=(12,3), figTitle='Output Spikes')\n",
    "\n",
    "Ploting the interspike interval\n",
    "BrianHF.visualise_interSpikeInterval(SpikeMon_Neurons, [5])\n",
    "BrianHF.visualise_neurons_states(StateMon_Neurons, [4, 5], 'all')    \n"
   ]
  }
 ],
 "metadata": {
  "jupytext": {
   "cell_metadata_filter": "-all",
   "formats": "ipynb,py"
  },
  "kernelspec": {
   "display_name": "IIT",
   "language": "python",
   "name": "python3"
  },
  "language_info": {
   "codemirror_mode": {
    "name": "ipython",
    "version": 3
   },
   "file_extension": ".py",
   "mimetype": "text/x-python",
   "name": "python",
   "nbconvert_exporter": "python",
   "pygments_lexer": "ipython3",
   "version": "3.10.12"
  }
 },
 "nbformat": 4,
 "nbformat_minor": 5
}
