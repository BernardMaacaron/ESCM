{
 "cells": [
  {
   "cell_type": "code",
   "execution_count": 1,
   "metadata": {},
   "outputs": [],
   "source": [
    "from brian2 import *\n",
    "import NeuronEquations\n",
    "import BrianHF\n",
    "import numpy as np\n",
    "from bimvee.importAe import importAe\n",
    "from EvCamDatabase import DAVIS_346B"
   ]
  },
  {
   "cell_type": "code",
   "execution_count": 2,
   "metadata": {},
   "outputs": [
    {
     "name": "stdout",
     "output_type": "stream",
     "text": [
      "{'filePathOrName': 'MVSEC_short_outdoor'}\n",
      "{'filePathOrName': 'MVSEC_short_outdoor'}\n",
      "{'filePathOrName': 'MVSEC_short_outdoor/rightdvs'}\n",
      "{'filePathOrName': 'MVSEC_short_outdoor/rightdvs'}\n",
      "importIitYarp trying path: MVSEC_short_outdoor/rightdvs\n"
     ]
    },
    {
     "name": "stderr",
     "output_type": "stream",
     "text": [
      "  0%|          | 0/38024 [00:00<?, ?it/s]"
     ]
    },
    {
     "name": "stderr",
     "output_type": "stream",
     "text": [
      "100%|██████████| 38024/38024 [00:05<00:00, 7275.98it/s] \n"
     ]
    },
    {
     "name": "stdout",
     "output_type": "stream",
     "text": [
      "Examining info.log: MVSEC_short_outdoor/rightdvs/info.log\n",
      "{'filePathOrName': 'MVSEC_short_outdoor/leftdvs'}\n",
      "{'filePathOrName': 'MVSEC_short_outdoor/leftdvs'}\n",
      "importIitYarp trying path: MVSEC_short_outdoor/leftdvs\n"
     ]
    },
    {
     "name": "stderr",
     "output_type": "stream",
     "text": [
      "100%|██████████| 38292/38292 [00:05<00:00, 6601.55it/s] \n"
     ]
    },
    {
     "name": "stdout",
     "output_type": "stream",
     "text": [
      "Examining info.log: MVSEC_short_outdoor/leftdvs/info.log\n"
     ]
    },
    {
     "data": {
      "text/plain": [
       "('tsOffset', -0.0)"
      ]
     },
     "execution_count": 2,
     "metadata": {},
     "output_type": "execute_result"
    }
   ],
   "source": [
    "tau = 10\n",
    "vt = 15\n",
    "vr = 0\n",
    "v0 = 20\n",
    "gL = 1\n",
    "K_GABA = 1\n",
    "K_AMPA = 10\n",
    "taugd = 5\n",
    "tauad = 2\n",
    "taugr = 0.25\n",
    "tauar = 0.5\n",
    "w_N = 80\n",
    "w_G = 30\n",
    "w_A = 50\n",
    "\n",
    "# XXX: Extract the event stream using bimvee - needs refactoring to be more general\n",
    "grid_width, grid_height= DAVIS_346B['width'], DAVIS_346B['height']\n",
    "filePath = 'MVSEC_short_outdoor'\n",
    "events = importAe(filePathOrName=filePath)\n",
    "eventStream = events[0]['data']['right']['dvs']\n",
    "eventStream.popitem()"
   ]
  },
  {
   "cell_type": "markdown",
   "metadata": {},
   "source": [
    "### Steps for the setting up the network:\n",
    "1. Generate the input spikes\n",
    "2. Set the parameters for the network (neurons and synapses)\n",
    "3. Create the neuron group(s)\n",
    "4. Create the synapses\n",
    "5. Connect the synapses\n",
    "6. Define the weights of the synapses\n",
    "7. Set up monitors according to need\n",
    "8. Run the simulation\n",
    "9. (Optional) Visualize the results\n",
    "\n",
    "#### _1. Generate the input spikes from the event stream_\n",
    "###### _Brian Simulation Scope_\n"
   ]
  },
  {
   "cell_type": "code",
   "execution_count": 3,
   "metadata": {},
   "outputs": [
    {
     "name": "stdout",
     "output_type": "stream",
     "text": [
      "The maximum x index 345 while the width is 346\n",
      "The maximum y index 259 while the height is 260\n",
      "The x,y and time stamp indices are equal, the data is correct.\n",
      "Checking for duplicate pairs...\n",
      "Duplicate pairs found. Total Number of duplicates:  61\n",
      "Total number of pairs/spikes prior to removing duplicates:  2583923  pairs.\n",
      "Removing duplicate pairs...\n",
      "Done. Total number of pairs/spikes:  2583862  pairs.\n",
      "The maximum time stamp 19999.922\n",
      "The recommended simulation time is 20000.0\n",
      "The minimum time step is 0.499999999996362\n",
      "The recommended clock time step is 0.5\n"
     ]
    }
   ],
   "source": [
    "start_scope()\n",
    "defaultclock.dt = 1*us\n",
    "# HACK XXX: The input is now not in real time, must be fixed eventually to process real time event data\n",
    "# Output is float, so we need to convert to Quantities (i.e give them units)\n",
    "simTime, clockStep, inputSpikesGen = BrianHF.event_to_spike(eventStream, grid_width, grid_height)\n",
    "defaultclock.dt = clockStep*ms"
   ]
  },
  {
   "cell_type": "markdown",
   "metadata": {},
   "source": [
    "#### _2. Set the parameters for the network (neurons and synapses)_\n",
    "Parameter values can be tuned at the top of the document (this is done for clarity purposes)."
   ]
  },
  {
   "cell_type": "code",
   "execution_count": 4,
   "metadata": {},
   "outputs": [],
   "source": [
    "# Neuron Parameters\n",
    "N_Neurons = grid_width * grid_height    # Number of neurons\n",
    "tau = tau*ms    # Time constant\n",
    "vt = vt*mV    # Threshold Voltage\n",
    "vr = vr*mV    # Reset Voltage\n",
    "v0 = v0*mV    # Resting Voltage - Not necessarily used\n",
    "gL = gL/ms    # Leak Conductance - Not necessarily used\n",
    "\n",
    "'''\n",
    "    Neighborhood Size (num_Neighbors) - Affects the number of neighbors a central neuron based on the L1 Distance\n",
    "    Neighboring Neurons --> (abs(X_pre - X_post) <= num_Neighbors  and abs(Y_pre - Y_post) <= num_Neighbors)\n",
    "'''\n",
    "num_Neighbors = 1\n",
    "\n",
    "Eqs_Neurons = NeuronEquations.EQ_LIF    # Neuron Equations\n",
    "\n",
    "# Synapse Parameters\n",
    "K_GABA = K_GABA\n",
    "K_AMPA = K_AMPA\n",
    "taugd = taugd * ms\n",
    "tauad = tauad * ms\n",
    "taugr = taugr * ms\n",
    "tauar = tauar * ms"
   ]
  },
  {
   "cell_type": "markdown",
   "metadata": {},
   "source": [
    "#### _3. Create the neuron group(s)_"
   ]
  },
  {
   "cell_type": "code",
   "execution_count": 5,
   "metadata": {},
   "outputs": [],
   "source": [
    "# TODO XXX: The events are running on the clockStep, I should at least fix them to use the (event_driven) setting in Brian2\n",
    "neuronsGrid = NeuronGroup(N_Neurons, Eqs_Neurons, threshold='v>vt', reset='v = vr', refractory=1 * ms, method='euler')\n",
    "\n",
    "# FIXME: Verify the grid coordinates and assign the X and Y values to the neurons accordingly\n",
    "# Generate x and y values for each neuron\n",
    "x_values = np.repeat(np.arange(grid_width), grid_height)\n",
    "y_values = np.tile(np.arange(grid_height), grid_width)\n",
    "neuronsGrid.X = x_values\n",
    "neuronsGrid.Y = y_values"
   ]
  },
  {
   "cell_type": "markdown",
   "metadata": {},
   "source": [
    "#### _4. Create the synapses_"
   ]
  },
  {
   "cell_type": "code",
   "execution_count": 6,
   "metadata": {},
   "outputs": [],
   "source": [
    "Syn_Input_Neurons = Synapses(inputSpikesGen, neuronsGrid, 'w : volt/second', on_pre='Ia1 += w')\n",
    "Syn_Neurons_GABA = Synapses(neuronsGrid, neuronsGrid, 'w : volt/second', on_pre='Ig1 -= w')\n",
    "Syn_Neurons_AMPA = Synapses(neuronsGrid, neuronsGrid, 'w : volt/second', on_pre='Ia1 += w')"
   ]
  },
  {
   "cell_type": "markdown",
   "metadata": {},
   "source": [
    "#### _5. Connect the synapses_"
   ]
  },
  {
   "cell_type": "code",
   "execution_count": 7,
   "metadata": {},
   "outputs": [],
   "source": [
    "Syn_Input_Neurons.connect(condition= 'i==j')    # Connect the first synapses from input to G_neurons on a 1 to 1 basis\n",
    "Syn_Neurons_GABA.connect(condition='i != j and abs(X_pre - X_post) <= num_Neighbors and abs(Y_pre - Y_post) <= num_Neighbors')    # Connect the second group of synapses from a neuron to its neighbors\n",
    "Syn_Neurons_AMPA.connect(condition='i == j')     # Connect the last set of synapses from a neuron to itself (recurrent)"
   ]
  },
  {
   "cell_type": "markdown",
   "metadata": {},
   "source": [
    "#### _6. Define the weights of the synapses_"
   ]
  },
  {
   "cell_type": "code",
   "execution_count": 8,
   "metadata": {},
   "outputs": [],
   "source": [
    "Syn_Input_Neurons.w = w_N * volt/second\n",
    "Syn_Neurons_GABA.w = w_G * volt/second\n",
    "Syn_Neurons_AMPA.w = w_A * volt/second"
   ]
  },
  {
   "cell_type": "markdown",
   "metadata": {},
   "source": [
    "#### _7. Set up monitors_"
   ]
  },
  {
   "cell_type": "code",
   "execution_count": 9,
   "metadata": {},
   "outputs": [],
   "source": [
    "SpikeMon_Input = SpikeMonitor(inputSpikesGen)    # Monitor the spikes from the input\n",
    "SpikeMon_Neurons = SpikeMonitor(neuronsGrid)    # Monitor the spikes from the neuron grid\n",
    "StateMon_Neurons = StateMonitor(neuronsGrid, variables=True, record=True)    # Monitor the state variables - True for all variables"
   ]
  },
  {
   "cell_type": "markdown",
   "metadata": {},
   "source": [
    "### _8. Run the simulation_"
   ]
  },
  {
   "cell_type": "code",
   "execution_count": 10,
   "metadata": {},
   "outputs": [],
   "source": [
    "run(simTime*ms)"
   ]
  },
  {
   "cell_type": "markdown",
   "metadata": {},
   "source": [
    "#### _9. (Optional) Visualize the results_"
   ]
  },
  {
   "cell_type": "code",
   "execution_count": null,
   "metadata": {},
   "outputs": [],
   "source": [
    "# VISUALISATION\n",
    "BrianHF.visualise_spikes([SpikeMon_Input], figSize=(12,3), figTitle='Input Spikes')\n",
    "BrianHF.visualise_spikes([SpikeMon_Neurons], figSize=(12,3), figTitle='Output Spikes')\n",
    "\n",
    "# Ploting the interspike interval\n",
    "BrianHF.visualise_interSpikeInterval(SpikeMon_Neurons, [5])\n",
    "BrianHF.visualise_neurons_states(StateMon_Neurons, [4, 5], 'all')    "
   ]
  }
 ],
 "metadata": {
  "kernelspec": {
   "display_name": "IIT",
   "language": "python",
   "name": "python3"
  },
  "language_info": {
   "codemirror_mode": {
    "name": "ipython",
    "version": 3
   },
   "file_extension": ".py",
   "mimetype": "text/x-python",
   "name": "python",
   "nbconvert_exporter": "python",
   "pygments_lexer": "ipython3",
   "version": "3.10.12"
  }
 },
 "nbformat": 4,
 "nbformat_minor": 2
}
