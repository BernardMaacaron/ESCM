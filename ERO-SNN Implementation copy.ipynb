{
 "cells": [
  {
   "cell_type": "code",
   "execution_count": 3,
   "metadata": {},
   "outputs": [],
   "source": [
    "from brian2 import *\n",
    "# set_device('cpp_standalone') # for faster execution - builds a standalone C++ program\n",
    "\n",
    "import NeuronEquations\n",
    "import BrianHF\n",
    "import numpy as np\n",
    "from bimvee.importAe import importAe\n",
    "from EvCamDatabase import DAVIS_346B\n",
    "\n",
    "# TODO XXX: Turn all lists into numpy arrays for the sake of memory efficiency"
   ]
  },
  {
   "cell_type": "code",
   "execution_count": 4,
   "metadata": {},
   "outputs": [
    {
     "name": "stdout",
     "output_type": "stream",
     "text": [
      "{'filePathOrName': 'MVSEC_short_outdoor'}\n",
      "{'filePathOrName': 'MVSEC_short_outdoor'}\n",
      "{'filePathOrName': 'MVSEC_short_outdoor/leftdvs'}\n",
      "{'filePathOrName': 'MVSEC_short_outdoor/leftdvs'}\n",
      "importIitYarp trying path: MVSEC_short_outdoor/leftdvs\n"
     ]
    },
    {
     "name": "stderr",
     "output_type": "stream",
     "text": [
      "100%|██████████| 38292/38292 [00:56<00:00, 676.46it/s] \n"
     ]
    },
    {
     "name": "stdout",
     "output_type": "stream",
     "text": [
      "Examining info.log: MVSEC_short_outdoor/leftdvs/info.log\n",
      "{'filePathOrName': 'MVSEC_short_outdoor/rightdvs'}\n",
      "{'filePathOrName': 'MVSEC_short_outdoor/rightdvs'}\n",
      "importIitYarp trying path: MVSEC_short_outdoor/rightdvs\n"
     ]
    },
    {
     "name": "stderr",
     "output_type": "stream",
     "text": [
      "100%|██████████| 38024/38024 [00:42<00:00, 900.81it/s] \n"
     ]
    },
    {
     "name": "stdout",
     "output_type": "stream",
     "text": [
      "Examining info.log: MVSEC_short_outdoor/rightdvs/info.log\n"
     ]
    }
   ],
   "source": [
    "# XXX: Extract the event stream using bimvee - needs refactoring to be more general\n",
    "grid_width, grid_height= DAVIS_346B['width'], DAVIS_346B['height']\n",
    "filePath = 'MVSEC_short_outdoor'\n",
    "events = importAe(filePathOrName=filePath)"
   ]
  },
  {
   "cell_type": "code",
   "execution_count": 5,
   "metadata": {},
   "outputs": [
    {
     "data": {
      "text/plain": [
       "('tsOffset', -0.0)"
      ]
     },
     "execution_count": 5,
     "metadata": {},
     "output_type": "execute_result"
    }
   ],
   "source": [
    "eventStream = events[0]['data']['left']['dvs']\n",
    "eventStream.popitem()"
   ]
  },
  {
   "cell_type": "markdown",
   "metadata": {},
   "source": [
    "### Steps for the setting up the network:\n",
    "1. Generate the input spikes\n",
    "2. Set the parameters for the network (neurons and synapses)\n",
    "3. Create the neuron group(s)\n",
    "4. Create the synapses\n",
    "5. Connect the synapses\n",
    "6. Define the weights of the synapses\n",
    "7. Set up monitors according to need\n",
    "8. Run the simulation\n",
    "9. (Optional) Visualize the results\n",
    "\n",
    "#### _1. Generate the input spikes from the event stream_\n",
    "###### _Brian Simulation Scope_\n"
   ]
  },
  {
   "cell_type": "code",
   "execution_count": 6,
   "metadata": {},
   "outputs": [
    {
     "name": "stdout",
     "output_type": "stream",
     "text": [
      "The maximum x index 345 while the width is 346\n",
      "The maximum y index 259 while the height is 260\n",
      "The x,y and time stamp indices are equal, the data is correct.\n",
      "Checking for duplicate pairs...\n",
      "Duplicate pairs found. Total Number of duplicates:  46\n",
      "Total number of pairs/spikes prior to removing duplicates:  2761653  pairs.\n",
      "Removing duplicate pairs...\n",
      "Done. Total number of pairs/spikes:  2761607  pairs.\n",
      "The selected scale is 1.0\n",
      "The maximum time stamp (scaled) 19999.818 ms.\n",
      "The recommended simulation time (scaled) is 20000.0 ms.\n",
      "The minimum time step (scaled) is 0.499999999996362 ms.\n",
      "The recommended clock time step (scaled) is 0.5 ms.\n"
     ]
    }
   ],
   "source": [
    "tau = 10\n",
    "vt = 15\n",
    "vr = 0\n",
    "v0 = 20\n",
    "gL = 1\n",
    "K_GABA = 1\n",
    "K_AMPA = 10\n",
    "taugd = 5\n",
    "tauad = 2\n",
    "taugr = 0.25\n",
    "tauar = 0.5\n",
    "w_N = 80\n",
    "w_G = 30\n",
    "w_A = 50\n",
    "\n",
    "# start_scope()\n",
    "defaultclock.dt = 1*us\n",
    "# HACK XXX: The input is now not in real time, must be fixed eventually to process real time event data\n",
    "# Output is float, so we need to convert to Quantities (i.e give them units)\n",
    "simTime, clockStep, inputSpikesGen = BrianHF.event_to_spike(eventStream, grid_width, grid_height, scale = 1.0)\n",
    "defaultclock.dt = clockStep*ms"
   ]
  },
  {
   "cell_type": "markdown",
   "metadata": {},
   "source": [
    "#### _2. Set the parameters for the network (neurons and synapses)_\n",
    "Parameter values can be tuned at the top of the document (this is done for clarity purposes)."
   ]
  },
  {
   "cell_type": "code",
   "execution_count": 7,
   "metadata": {},
   "outputs": [],
   "source": [
    "# Neuron Parameters\n",
    "N_Neurons = grid_width * grid_height    # Number of neurons\n",
    "tau = tau*ms    # Time constant\n",
    "vt = vt*mV    # Threshold Voltage\n",
    "vr = vr*mV    # Reset Voltage\n",
    "v0 = v0*mV    # Resting Voltage - Not necessarily used\n",
    "gL = gL/ms    # Leak Conductance - Not necessarily used\n",
    "\n",
    "'''\n",
    "    Neighborhood Size (num_Neighbors) - Affects the number of neighbors a central neuron based on the L1 Distance\n",
    "    Neighboring Neurons --> (abs(X_pre - X_post) <= num_Neighbors  and abs(Y_pre - Y_post) <= num_Neighbors)\n",
    "'''\n",
    "num_Neighbors = 1\n",
    "\n",
    "Eqs_Neurons = NeuronEquations.EQ_LIF    # Neuron Equations\n",
    "\n",
    "# Synapse Parameters\n",
    "K_GABA = K_GABA\n",
    "K_AMPA = K_AMPA\n",
    "taugd = taugd * ms\n",
    "tauad = tauad * ms\n",
    "taugr = taugr * ms\n",
    "tauar = tauar * ms"
   ]
  },
  {
   "cell_type": "markdown",
   "metadata": {},
   "source": [
    "#### _3. Create the neuron group(s)_"
   ]
  },
  {
   "cell_type": "code",
   "execution_count": 8,
   "metadata": {},
   "outputs": [],
   "source": [
    "# TODO XXX: The events are running on the clockStep, I should at least fix them to use the (event_driven) setting in Brian2\n",
    "neuronsGrid = NeuronGroup(N_Neurons, Eqs_Neurons, threshold='v>vt', reset='v = vr', refractory=1 * ms, method='euler')\n",
    "\n",
    "# FIXME: Verify the grid coordinates and assign the X and Y values to the neurons accordingly\n",
    "# Generate x and y values for each neuron\n",
    "x_values = np.repeat(np.arange(grid_width), grid_height)\n",
    "y_values = np.tile(np.arange(grid_height), grid_width)\n",
    "neuronsGrid.X = x_values\n",
    "neuronsGrid.Y = y_values"
   ]
  },
  {
   "cell_type": "markdown",
   "metadata": {},
   "source": [
    "#### _4. Create the synapses_"
   ]
  },
  {
   "cell_type": "code",
   "execution_count": 9,
   "metadata": {},
   "outputs": [],
   "source": [
    "Syn_Input_Neurons = Synapses(inputSpikesGen, neuronsGrid, 'w : volt/second', on_pre='Ia1 += w')\n",
    "Syn_Neurons_GABA = Synapses(neuronsGrid, neuronsGrid, 'w : volt/second', on_pre='Ig1 -= w')\n",
    "Syn_Neurons_AMPA = Synapses(neuronsGrid, neuronsGrid, 'w : volt/second', on_pre='Ia1 += w')"
   ]
  },
  {
   "cell_type": "markdown",
   "metadata": {},
   "source": [
    "#### _5. Connect the synapses_"
   ]
  },
  {
   "cell_type": "code",
   "execution_count": 10,
   "metadata": {},
   "outputs": [],
   "source": [
    "Syn_Input_Neurons.connect(condition= 'i==j')    # Connect the first synapses from input to G_neurons on a 1 to 1 basis\n",
    "Syn_Neurons_GABA.connect(condition='i != j and abs(X_pre - X_post) <= num_Neighbors and abs(Y_pre - Y_post) <= num_Neighbors')    # Connect the second group of synapses from a neuron to its neighbors\n",
    "Syn_Neurons_AMPA.connect(condition='i == j')     # Connect the last set of synapses from a neuron to itself (recurrent)"
   ]
  },
  {
   "cell_type": "markdown",
   "metadata": {},
   "source": [
    "#### _6. Define the weights of the synapses_"
   ]
  },
  {
   "cell_type": "code",
   "execution_count": 11,
   "metadata": {},
   "outputs": [],
   "source": [
    "Syn_Input_Neurons.w = w_N * volt/second\n",
    "Syn_Neurons_GABA.w = w_G * volt/second\n",
    "Syn_Neurons_AMPA.w = w_A * volt/second"
   ]
  },
  {
   "cell_type": "markdown",
   "metadata": {},
   "source": [
    "#### _7. Set up monitors_"
   ]
  },
  {
   "cell_type": "code",
   "execution_count": 12,
   "metadata": {},
   "outputs": [],
   "source": [
    "SpikeMon_Input = SpikeMonitor(inputSpikesGen)    # Monitor the spikes from the input\n",
    "SpikeMon_Neurons = SpikeMonitor(neuronsGrid)    # Monitor the spikes from the neuron grid\n",
    "# StateMon_Neurons = StateMonitor(neuronsGrid, variables=True, record=True)    # Monitor the state variables - True for all variables"
   ]
  },
  {
   "cell_type": "code",
   "execution_count": 13,
   "metadata": {},
   "outputs": [],
   "source": [
    "# store('PreSim', 'PreSimulationState')    # Store the state of the simulation before running"
   ]
  },
  {
   "cell_type": "markdown",
   "metadata": {},
   "source": [
    "### _8. Run the simulation_"
   ]
  },
  {
   "cell_type": "code",
   "execution_count": 14,
   "metadata": {},
   "outputs": [
    {
     "data": {
      "text/html": [
       "<h2 class=\"brian_prof_summary_header\">Profiling summary</h2>\n",
       "<table class=\"brian_prof_summary_table\">\n",
       "<tr><td>synapses_1_pre               </td><td style=\"text-align: right\">165.13 s</td><td style=\"text-align: right\">35.28 %</td></tr>\n",
       "<tr><td>spikemonitor_1               </td><td style=\"text-align: right\">96.30 s</td><td style=\"text-align: right\">20.57 %</td></tr>\n",
       "<tr><td>neurongroup_stateupdater     </td><td style=\"text-align: right\">80.39 s</td><td style=\"text-align: right\">17.17 %</td></tr>\n",
       "<tr><td>synapses_2_pre               </td><td style=\"text-align: right\">77.31 s</td><td style=\"text-align: right\">16.52 %</td></tr>\n",
       "<tr><td>neurongroup_spike_thresholder</td><td style=\"text-align: right\">32.22 s</td><td style=\"text-align: right\">6.88 %</td></tr>\n",
       "<tr><td>neurongroup_spike_resetter   </td><td style=\"text-align: right\">5.75 s</td><td style=\"text-align: right\">1.23 %</td></tr>\n",
       "<tr><td>spikemonitor                 </td><td style=\"text-align: right\">4.40 s</td><td style=\"text-align: right\">0.94 %</td></tr>\n",
       "<tr><td>synapses_pre                 </td><td style=\"text-align: right\">4.31 s</td><td style=\"text-align: right\">0.92 %</td></tr>\n",
       "<tr><td>spikegeneratorgroup          </td><td style=\"text-align: right\">1.91 s</td><td style=\"text-align: right\">0.41 %</td></tr>\n",
       "<tr><td>neurongroup                  </td><td style=\"text-align: right\">0.18 s</td><td style=\"text-align: right\">0.04 %</td></tr>\n",
       "<tr><td>synapses                     </td><td style=\"text-align: right\">0.10 s</td><td style=\"text-align: right\">0.02 %</td></tr>\n",
       "<tr><td>synapses_1                   </td><td style=\"text-align: right\">0.07 s</td><td style=\"text-align: right\">0.02 %</td></tr>\n",
       "<tr><td>synapses_2                   </td><td style=\"text-align: right\">0.05 s</td><td style=\"text-align: right\">0.01 %</td></tr>\n",
       "</table>"
      ],
      "text/plain": [
       "Profiling summary\n",
       "=================\n",
       "synapses_1_pre                   165.13 s    35.28 %\n",
       "spikemonitor_1                    96.30 s    20.57 %\n",
       "neurongroup_stateupdater          80.39 s    17.17 %\n",
       "synapses_2_pre                    77.31 s    16.52 %\n",
       "neurongroup_spike_thresholder     32.22 s     6.88 %\n",
       "neurongroup_spike_resetter         5.75 s     1.23 %\n",
       "spikemonitor                       4.40 s     0.94 %\n",
       "synapses_pre                       4.31 s     0.92 %\n",
       "spikegeneratorgroup                1.91 s     0.41 %\n",
       "neurongroup                        0.18 s     0.04 %\n",
       "synapses                           0.10 s     0.02 %\n",
       "synapses_1                         0.07 s     0.02 %\n",
       "synapses_2                         0.05 s     0.01 %"
      ]
     },
     "execution_count": 14,
     "metadata": {},
     "output_type": "execute_result"
    }
   ],
   "source": [
    "net = Network(collect())\n",
    "net.run(simTime*ms, profile=True)\n",
    "profiling_summary(net)"
   ]
  },
  {
   "cell_type": "code",
   "execution_count": 15,
   "metadata": {},
   "outputs": [],
   "source": [
    "# Generate the frames for input and output\n",
    "inputFrames = BrianHF.generate_frames(SpikeMon_Input, grid_width, grid_height, num_neurons=N_Neurons)\n",
    "outputFrames = BrianHF.generate_frames(SpikeMon_Neurons, grid_width, grid_height, num_neurons=N_Neurons)"
   ]
  },
  {
   "cell_type": "code",
   "execution_count": null,
   "metadata": {},
   "outputs": [],
   "source": [
    "# Generate the GIFs from the frames\n",
    "BrianHF.generate_gif(inputFrames, 'Input.gif', simTime_, replicateDuration=True)\n",
    "BrianHF.generate_gif(outputFrames, 'Output.gif', simTime_, replicateDuration=True)"
   ]
  },
  {
   "cell_type": "code",
   "execution_count": null,
   "metadata": {},
   "outputs": [],
   "source": [
    "# store('SimOut', 'SimulationOutput')   # Store the state of the simulation after running"
   ]
  },
  {
   "cell_type": "markdown",
   "metadata": {},
   "source": [
    "#### _9. (Optional) Visualize the results_"
   ]
  },
  {
   "cell_type": "code",
   "execution_count": null,
   "metadata": {},
   "outputs": [],
   "source": [
    "# VISUALISATION\n",
    "BrianHF.visualise_spikes([SpikeMon_Input], figSize=(12,3), figTitle='Input Spikes')\n",
    "BrianHF.visualise_spikes([SpikeMon_Neurons], figSize=(12,3), figTitle='Output Spikes')\n",
    "\n",
    "# Ploting the interspike interval\n",
    "BrianHF.visualise_interSpikeInterval(SpikeMon_Neurons, [5])\n",
    "BrianHF.visualise_neurons_states(StateMon_Neurons, [4, 5], 'all')    "
   ]
  },
  {
   "cell_type": "code",
   "execution_count": null,
   "metadata": {},
   "outputs": [],
   "source": [
    "'''\n",
    "BUG: For some reason, generating a network object and running it causes an error:\n",
    "     \"RuntimeError: spikegeneratorgroup has already been simulated, cannot add it\n",
    "      to the network. If you were trying to remove and add an object to temporarily stop it from being run, set its active flag to False instead.\"\n",
    "\n",
    "HACK: This is a hack to avoid the weird error that happens when using a network object\n",
    "      and not the magic version of the run function 'run()\n",
    "'''\n",
    "if False:\n",
    "    try:\n",
    "        net = Network(collect())\n",
    "        net.store('PreSim', 'PreSimulationState')\n",
    "        net.run(simTime*ms, report=BrianHF.ProgressBar(), report_period=1*second, profile=True)\n",
    "        net.store('SimOut', 'SimulationOutput')\n",
    "        profiling_summary(net.profiling_info)\n",
    "    except RuntimeError as e:\n",
    "        print(f\"HACK: I have no idea why this error happens. Might be a bug in\\\n",
    "            the library.\\n{e}\")\n",
    "        \n",
    "        store('PreSim', 'PreSimulationState')\n",
    "        run(simTime*ms, report=BrianHF.ProgressBar(), report_period=1*second, profile=True)\n",
    "        store('SimOut', 'SimulationOutput')\n",
    "        profiling_summary(profiling_info)"
   ]
  }
 ],
 "metadata": {
  "kernelspec": {
   "display_name": "IIT",
   "language": "python",
   "name": "python3"
  },
  "language_info": {
   "codemirror_mode": {
    "name": "ipython",
    "version": 3
   },
   "file_extension": ".py",
   "mimetype": "text/x-python",
   "name": "python",
   "nbconvert_exporter": "python",
   "pygments_lexer": "ipython3",
   "version": "3.10.14"
  }
 },
 "nbformat": 4,
 "nbformat_minor": 2
}
