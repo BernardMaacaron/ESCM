{
 "cells": [
  {
   "cell_type": "code",
   "execution_count": 3,
   "id": "efb9a0dc",
   "metadata": {},
   "outputs": [
    {
     "name": "stderr",
     "output_type": "stream",
     "text": [
      "WARNING    /home/bernard/Desktop/IIT_Thesis/ERO-SNN/BrianHF.py:8: TqdmExperimentalWarning: Using `tqdm.autonotebook.tqdm` in notebook mode. Use `tqdm.tqdm` instead to force console mode (e.g. in jupyter console)\n",
      "  from tqdm.autonotebook import tqdm\n",
      " [py.warnings]\n"
     ]
    }
   ],
   "source": [
    "from brian2 import *\n",
    "# set_device('cpp_standalone') # for faster execution - builds a standalone C++ program\n",
    "\n",
    "import NeuronEquations\n",
    "import BrianHF\n",
    "import numpy as np\n",
    "import pickle\n",
    "\n",
    "from bimvee.importAe import importAe\n",
    "from EvCamDatabase import DAVIS_346B\n",
    "import os\n",
    "\n",
    "import time\n",
    "\n",
    "# TODO XXX: Turn all lists into numpy arrays for the sake of memory efficiency"
   ]
  },
  {
   "cell_type": "code",
   "execution_count": 4,
   "id": "1b304651",
   "metadata": {},
   "outputs": [
    {
     "name": "stdout",
     "output_type": "stream",
     "text": [
      "{'filePathOrName': 'MVSEC_short_outdoor'}\n",
      "{'filePathOrName': 'MVSEC_short_outdoor'}\n",
      "{'filePathOrName': 'MVSEC_short_outdoor/rightdvs'}\n",
      "{'filePathOrName': 'MVSEC_short_outdoor/rightdvs'}\n",
      "importIitYarp trying path: MVSEC_short_outdoor/rightdvs\n"
     ]
    },
    {
     "name": "stderr",
     "output_type": "stream",
     "text": [
      "100%|██████████| 38024/38024 [00:08<00:00, 4670.77it/s]\n"
     ]
    },
    {
     "name": "stdout",
     "output_type": "stream",
     "text": [
      "Examining info.log: MVSEC_short_outdoor/rightdvs/info.log\n",
      "{'filePathOrName': 'MVSEC_short_outdoor/leftdvs'}\n",
      "{'filePathOrName': 'MVSEC_short_outdoor/leftdvs'}\n",
      "importIitYarp trying path: MVSEC_short_outdoor/leftdvs\n"
     ]
    },
    {
     "name": "stderr",
     "output_type": "stream",
     "text": [
      "100%|██████████| 38292/38292 [00:09<00:00, 3945.11it/s]\n"
     ]
    },
    {
     "name": "stdout",
     "output_type": "stream",
     "text": [
      "Examining info.log: MVSEC_short_outdoor/leftdvs/info.log\n"
     ]
    }
   ],
   "source": [
    "# XXX: Extract the event stream using bimvee - needs refactoring to be more general\n",
    "grid_width, grid_height= DAVIS_346B['width'], DAVIS_346B['height']\n",
    "filePath = 'MVSEC_short_outdoor'\n",
    "events = importAe(filePathOrName=filePath)"
   ]
  },
  {
   "cell_type": "code",
   "execution_count": 5,
   "id": "a8c31561",
   "metadata": {},
   "outputs": [
    {
     "data": {
      "text/plain": [
       "('tsOffset', -0.0)"
      ]
     },
     "execution_count": 5,
     "metadata": {},
     "output_type": "execute_result"
    }
   ],
   "source": [
    "try:\n",
    "    eventStream = events[0]['data']['left']['dvs']\n",
    "except:\n",
    "    eventStream = events[0]['data']['right']['dvs']\n",
    "eventStream.popitem()"
   ]
  },
  {
   "cell_type": "markdown",
   "id": "3e705d5b",
   "metadata": {},
   "source": [
    "## Steps for the setting up the network:\n",
    "1. Generate the input spikes\n",
    "2. Set the parameters for the Simulation and Network (Neurons, Synapses, etc.)\n",
    "3. Prepare the directory structure for saving the results\n",
    "4. Create the neuron group(s)\n",
    "5. Create the synapses\n",
    "6. Connect the synapses\n",
    "7. Define the weights of the synapses\n",
    "8. Set up monitors according to need\n",
    "9. Run the simulation\n",
    "10. (Optional) Visualize the results\n"
   ]
  },
  {
   "cell_type": "markdown",
   "id": "7280b10f",
   "metadata": {},
   "source": [
    "### 1. Generate the input spikes from the event stream\n",
    "###### Brian Simulation Scope"
   ]
  },
  {
   "cell_type": "code",
   "execution_count": 6,
   "id": "cd199fa2",
   "metadata": {},
   "outputs": [
    {
     "name": "stdout",
     "output_type": "stream",
     "text": [
      "Extracting the event data...\n",
      "Polarity was chosen to be ignored. All events are extracted.\n",
      "Selecting a percentage of the spikes at regular intervals... Percentage:  100.0 %\n",
      "The maximum x index 345 while the width is 346\n",
      "The maximum y index 259 while the height is 260\n",
      "The x,y and time stamp indices are equal, the data is correct.\n",
      "Checking for duplicate pairs...\n",
      "Duplicate pairs found. Total Number of duplicates:  247\n",
      "Total number of pairs/spikes prior to removing duplicates:  6918939  pairs.\n",
      "Removing duplicate pairs...\n",
      "Done. Total number of pairs/spikes:  6918692  pairs.\n",
      "The selected scale is 1.0\n",
      "The maximum time stamp (scaled) 19999.922 ms.\n",
      "The recommended simulation time (scaled) is 20000.0 ms.\n",
      "The minimum time step (scaled) is 0.499999999996362 ms.\n",
      "The recommended clock time step (scaled) is 0.5 ms.\n",
      "Input event stream successfully converted to spike trains\n",
      "\n"
     ]
    }
   ],
   "source": [
    "# HACK XXX: The input is now not in real time, must be fixed eventually to process real time event data\n",
    "# IMPORTANT NOTE: Output is float, so we need to convert to Quantities (i.e give them units)\n",
    "\n",
    "# Simulation Parameters\n",
    "defaultclock.dt = 0.05*ms\n",
    "SaveNumpyFrames = False\n",
    "GenerateGIFs = False\n",
    "GenerateVideos = True\n",
    "\n",
    "\n",
    "simTime, clockStep, inputSpikesGen = BrianHF.event_to_spike(eventStream, grid_width, grid_height, dt = defaultclock.dt, timeScale = 1.0, samplePercentage=1.0)\n",
    "# defaultclock.dt = clockStep*ms\n",
    "print(\"Input event stream successfully converted to spike trains\\n\")"
   ]
  },
  {
   "cell_type": "markdown",
   "id": "0caabde4",
   "metadata": {},
   "source": [
    "### 2. Set the parameters for the Simulation and Network (Neurons, Synapses, etc.)\n",
    "Parameter values can be tuned per namespace (this is done for clarity purposes)."
   ]
  },
  {
   "cell_type": "code",
   "execution_count": 7,
   "id": "dba9d57a",
   "metadata": {},
   "outputs": [],
   "source": [
    "# NOTE: The values are unitless for now, time constants are in ms simply to be able to tune to the simulation clock\n",
    "\n",
    "# Neuron Parameters\n",
    "N_Neurons = grid_width * grid_height    # Number of neurons\n",
    "\n",
    "Neuron_Params = {'tau': 0.1*ms, 'tauSpi': 0.5*ms, 'vt': 1.0, 'vr': 0.0, 'P': 0, 'incoming_spikes': 0, 'method_Neuron': 'rk2'}\n",
    "tau = Neuron_Params['tau']\n",
    "tauSpi = Neuron_Params['tauSpi']\n",
    "vt = Neuron_Params['vt']\n",
    "vr = Neuron_Params['vr']\n",
    "P = Neuron_Params['P']\n",
    "incoming_spikes = Neuron_Params['incoming_spikes']\n",
    "\n",
    "Eqs_Neurons = NeuronEquations.EQ_SCM_IF    # Neurons Equation\n",
    " \n",
    "# Synapse Parameters\n",
    "'''\n",
    "Neighborhood Size (num_Neighbors) - Affects the number of neighbors a central neuron based on the L1 Distance\n",
    "Neighboring Neurons --> (abs(X_pre - X_post) <= Num_Neighbours  and abs(Y_pre - Y_post) <= Num_Neighbours)\n",
    "'''\n",
    "Syn_Params = {'Num_Neighbours' : 2, 'beta': 1.5, 'Wi': 11.3, 'Wk': -2.0, 'method_Syn': 'rk2'}\n",
    "Num_Neighbours = Syn_Params['Num_Neighbours']\n",
    "beta = Syn_Params['beta']\n",
    "Wi = Syn_Params['Wi']\n",
    "Wk = Syn_Params['Wk']\n",
    "\n",
    "# Generate the dictionary of parameters for the network\n",
    "networkParams = {**Neuron_Params, **Syn_Params, 'Sim_Clock': defaultclock.dt}"
   ]
  },
  {
   "cell_type": "markdown",
   "id": "3835b643",
   "metadata": {},
   "source": [
    "### 3. Prepare the directory structure for saving the results"
   ]
  },
  {
   "cell_type": "code",
   "execution_count": 8,
   "id": "2697f52c",
   "metadata": {},
   "outputs": [],
   "source": [
    "resultPath = 'SimulationResults'\n",
    "inputStr = BrianHF.filePathGenerator('SCM_IF_IN', networkParams)\n",
    "outputStr = BrianHF.filePathGenerator('SCM_IF_OUT', networkParams)\n",
    "\n",
    "# Create the folder if it doesn't exist\n",
    "if not os.path.exists(resultPath):\n",
    "    os.makedirs(resultPath)\n",
    "\n",
    "# Create the subfolders if they don't exist\n",
    "subfolders = ['spikeFrames', 'numpyFrames', 'gifs', 'videos']\n",
    "for subfolder in subfolders:\n",
    "    subfolderPath = os.path.join(resultPath, subfolder)\n",
    "    if not os.path.exists(subfolderPath):\n",
    "        os.makedirs(subfolderPath)"
   ]
  },
  {
   "cell_type": "markdown",
   "id": "f18e0b16",
   "metadata": {},
   "source": [
    "### 4. Create the neuron group(s)"
   ]
  },
  {
   "cell_type": "code",
   "execution_count": 9,
   "id": "cc6adc09",
   "metadata": {},
   "outputs": [
    {
     "name": "stdout",
     "output_type": "stream",
     "text": [
      "Creating Neuron Groups...\n"
     ]
    }
   ],
   "source": [
    "print('Creating Neuron Groups...')"
   ]
  },
  {
   "cell_type": "code",
   "execution_count": 10,
   "id": "90b9ccff",
   "metadata": {},
   "outputs": [],
   "source": [
    "# TODO XXX: The events are running on the clockStep, I should at least fix them to use the (event_driven) setting in Brian2\n",
    "neuronsGrid = NeuronGroup(N_Neurons, Eqs_Neurons, threshold='v>vt',\n",
    "                            reset='''\n",
    "                            v = vr\n",
    "                            incoming_spikes_post = 0\n",
    "                            ''',\n",
    "                            refractory='0*ms',\n",
    "                            events={'P_ON': 'v > vt', 'P_OFF': '(timestep(t - lastspike, dt) > timestep(dt, dt) and v <= vt)'},\n",
    "                            method= 'euler',\n",
    "                            namespace=Neuron_Params)\n",
    "\n",
    "\n",
    "# Define the created events, the actions to be taken as well as when they should be evaluated and executed\n",
    "neuronsGrid.run_on_event('P_ON', 'P = 1' , when = 'after_thresholds')\n",
    "neuronsGrid.set_event_schedule('P_OFF', when = 'before_groups')\n",
    "neuronsGrid.run_on_event('P_OFF', 'P = 0', when = 'before_groups')\n",
    "\n",
    "# FIXME: Verify the grid coordinates and assign the X and Y values to the neurons accordingly\n",
    "# Generate x and y values for each neuron\n",
    "x_values = np.repeat(np.arange(grid_width), grid_height)\n",
    "y_values = np.tile(np.arange(grid_height), grid_width)\n",
    "neuronsGrid.X = x_values\n",
    "neuronsGrid.Y = y_values"
   ]
  },
  {
   "cell_type": "code",
   "execution_count": 11,
   "id": "571d7f3e",
   "metadata": {},
   "outputs": [
    {
     "name": "stdout",
     "output_type": "stream",
     "text": [
      "Neuron Groups created successfully\n",
      "\n"
     ]
    }
   ],
   "source": [
    "print('Neuron Groups created successfully\\n')"
   ]
  },
  {
   "cell_type": "markdown",
   "id": "652eb3fd",
   "metadata": {},
   "source": [
    "#### 5. Create the synapses"
   ]
  },
  {
   "cell_type": "code",
   "execution_count": 12,
   "id": "5f06f3a1",
   "metadata": {},
   "outputs": [
    {
     "name": "stdout",
     "output_type": "stream",
     "text": [
      "Creating Synapse Connections...\n"
     ]
    }
   ],
   "source": [
    "print('Creating Synapse Connections...')"
   ]
  },
  {
   "cell_type": "code",
   "execution_count": 13,
   "id": "0ff3560f",
   "metadata": {},
   "outputs": [],
   "source": [
    "Syn_Input_Neurons = Synapses(inputSpikesGen, neuronsGrid, 'beta : 1 (constant)', on_pre='ExtIn_post = beta')\n",
    "\n",
    "# NOTE: In hopes of reducing simulation time, I am using _pre keyword to avoid the need for an autapse. Hence only one Synapse group is needed\n",
    "Syn_Neurons_Neurons = Synapses(neuronsGrid, neuronsGrid,\n",
    "                               '''\n",
    "                               Wi : 1 (constant)\n",
    "                               Wk : 1 (constant)\n",
    "                               ''',\n",
    "                               on_pre={\n",
    "                                   'pre':'incoming_spikes_post += 1; Exc_pre = Wi',\n",
    "                                   'after_pre': 'Inh_post = clip(Inh_post + Wk * incoming_spikes_post/N_outgoing, Wk, 0)'},\n",
    "                               method= 'euler',\n",
    "                               namespace=Syn_Params)"
   ]
  },
  {
   "cell_type": "markdown",
   "id": "1a27a08c",
   "metadata": {},
   "source": [
    "### 6. Connect the synapses"
   ]
  },
  {
   "cell_type": "code",
   "execution_count": 14,
   "id": "720e1f93",
   "metadata": {},
   "outputs": [],
   "source": [
    "# Connect the first synapses from input to G_neurons on a 1 to 1 basis\n",
    "Syn_Input_Neurons.connect(j='i') \n",
    "Syn_Input_Neurons.beta = beta"
   ]
  },
  {
   "cell_type": "code",
   "execution_count": 16,
   "id": "41e63c5d",
   "metadata": {},
   "outputs": [],
   "source": [
    "''' NOTE: The following code implements the connections for the Neurons to Neurons synapses\n",
    "which as mentioned before implicitly includes the autapses.\n",
    "The code below is a faster implementation of:\n",
    "    Syn_Neurons_Neurons.connect(condition='i != j and abs(X_pre - X_post) <= Num_Neighbours and abs(Y_pre - Y_post) <= Num_Neighbours')\n",
    "'''\n",
    "\n",
    "indexes_i, indexes_j = BrianHF.calculate_ChebyshevNeighbours(neuronsGrid, Num_Neighbours)\n",
    "Syn_Neurons_Neurons.connect(i=indexes_i, j=indexes_j)\n",
    "Syn_Neurons_Neurons.Wi = Wi\n",
    "Syn_Neurons_Neurons.Wk = Wk"
   ]
  },
  {
   "cell_type": "code",
   "execution_count": 17,
   "id": "b7b76061",
   "metadata": {},
   "outputs": [
    {
     "name": "stdout",
     "output_type": "stream",
     "text": [
      "Synapse Connections created successfully\n",
      "\n"
     ]
    }
   ],
   "source": [
    "print('Synapse Connections created successfully\\n')"
   ]
  },
  {
   "cell_type": "markdown",
   "id": "65ba37b2",
   "metadata": {},
   "source": [
    "### 7. Set up monitors"
   ]
  },
  {
   "cell_type": "code",
   "execution_count": 18,
   "id": "57911507",
   "metadata": {},
   "outputs": [],
   "source": [
    "SpikeMon_Input = SpikeMonitor(inputSpikesGen)    # Monitor the spikes from the input\n",
    "\n",
    "# IMPORTANT NOTE: The SpikeMonitor for the active neurons is moved to the simulation block to avoid memory issues.\n",
    "# The data is now broken down into smaller chunks and saved to disk\n",
    "\n",
    "# StateMon_Neurons = StateMonitor(neuronsGrid, variables=True, record=True)    # Monitor the state variables - True for all variables. NOTE: WARNING!! Excessive memory usage"
   ]
  },
  {
   "cell_type": "markdown",
   "id": "01eabe3c",
   "metadata": {},
   "source": [
    "### 8. Run the simulation"
   ]
  },
  {
   "cell_type": "code",
   "execution_count": 19,
   "id": "d664580d",
   "metadata": {},
   "outputs": [
    {
     "name": "stderr",
     "output_type": "stream",
     "text": [
      "WARNING    'P' is an internal variable of group 'neurongroup', but also exists in the following namespaces: group-specific ,run. The internal variable will be used. [brian2.groups.group.Group.resolve.resolution_conflict]\n",
      "WARNING    'Wk' is an internal variable of group 'synapses_1', but also exists in the following namespaces: group-specific ,run. The internal variable will be used. [brian2.groups.group.Group.resolve.resolution_conflict]\n",
      "WARNING    Came across an abstract code block that may not be well-defined: the outcome may depend on the order of execution. You can ignore this warning if you are sure that the order of operations does not matter. Abstract code: 'Inh_post = clip(Inh_post + ((Wk * incoming_spikes_post) / N_outgoing), Wk, 0)'\n",
      " [brian2.codegen.generators.base]\n"
     ]
    },
    {
     "name": "stdout",
     "output_type": "stream",
     "text": [
      "Starting simulation - Total time:  20. s\n",
      "Running simulation chunk 1/100 for 200.0 ms\n",
      "Running in a Jupyter notebook\n"
     ]
    },
    {
     "name": "stderr",
     "output_type": "stream",
     "text": [
      "WARNING    'Wi' is an internal variable of group 'synapses_1', but also exists in the following namespaces: group-specific ,run. The internal variable will be used. [brian2.groups.group.Group.resolve.resolution_conflict]\n",
      "WARNING    Came across an abstract code block that may not be well-defined: the outcome may depend on the order of execution. You can ignore this warning if you are sure that the order of operations does not matter. 2 lines of abstract code, first line is: 'incoming_spikes_post += 1 (in-place)'\n",
      " [brian2.codegen.generators.base]\n",
      "WARNING    'beta' is an internal variable of group 'synapses', but also exists in the run namespace with the value 1.5. The internal variable will be used. [brian2.groups.group.Group.resolve.resolution_conflict]\n",
      "WARNING    Came across an abstract code block that may not be well-defined: the outcome may depend on the order of execution. You can ignore this warning if you are sure that the order of operations does not matter. Abstract code: 'ExtIn_post = beta'\n",
      " [brian2.codegen.generators.base]\n",
      "WARNING    Came across an abstract code block that may not be well-defined: the outcome may depend on the order of execution. You can ignore this warning if you are sure that the order of operations does not matter. Abstract code: 'Inh_post = clip(Inh_post + ((Wk * incoming_spikes_post) / N_outgoing), Wk, 0)'\n",
      " [brian2.codegen.generators.base]\n",
      "WARNING    Came across an abstract code block that may not be well-defined: the outcome may depend on the order of execution. You can ignore this warning if you are sure that the order of operations does not matter. 2 lines of abstract code, first line is: 'incoming_spikes_post += 1 (in-place)'\n",
      " [brian2.codegen.generators.base]\n",
      "WARNING    Came across an abstract code block that may not be well-defined: the outcome may depend on the order of execution. You can ignore this warning if you are sure that the order of operations does not matter. Abstract code: 'ExtIn_post = beta'\n",
      " [brian2.codegen.generators.base]\n"
     ]
    },
    {
     "name": "stdout",
     "output_type": "stream",
     "text": [
      "Running simulation chunk 2/100 for 200.0 ms\n",
      "Running in a Jupyter notebook\n"
     ]
    },
    {
     "name": "stderr",
     "output_type": "stream",
     "text": [
      "WARNING    Came across an abstract code block that may not be well-defined: the outcome may depend on the order of execution. You can ignore this warning if you are sure that the order of operations does not matter. Abstract code: 'Inh_post = clip(Inh_post + ((Wk * incoming_spikes_post) / N_outgoing), Wk, 0)'\n",
      " [brian2.codegen.generators.base]\n",
      "WARNING    Came across an abstract code block that may not be well-defined: the outcome may depend on the order of execution. You can ignore this warning if you are sure that the order of operations does not matter. 2 lines of abstract code, first line is: 'incoming_spikes_post += 1 (in-place)'\n",
      " [brian2.codegen.generators.base]\n",
      "WARNING    Came across an abstract code block that may not be well-defined: the outcome may depend on the order of execution. You can ignore this warning if you are sure that the order of operations does not matter. Abstract code: 'ExtIn_post = beta'\n",
      " [brian2.codegen.generators.base]\n"
     ]
    },
    {
     "name": "stdout",
     "output_type": "stream",
     "text": [
      "Running simulation chunk 3/100 for 200.0 ms\n",
      "Running in a Jupyter notebook\n"
     ]
    },
    {
     "name": "stderr",
     "output_type": "stream",
     "text": [
      "WARNING    Came across an abstract code block that may not be well-defined: the outcome may depend on the order of execution. You can ignore this warning if you are sure that the order of operations does not matter. Abstract code: 'Inh_post = clip(Inh_post + ((Wk * incoming_spikes_post) / N_outgoing), Wk, 0)'\n",
      " [brian2.codegen.generators.base]\n",
      "WARNING    Came across an abstract code block that may not be well-defined: the outcome may depend on the order of execution. You can ignore this warning if you are sure that the order of operations does not matter. 2 lines of abstract code, first line is: 'incoming_spikes_post += 1 (in-place)'\n",
      " [brian2.codegen.generators.base]\n",
      "WARNING    Came across an abstract code block that may not be well-defined: the outcome may depend on the order of execution. You can ignore this warning if you are sure that the order of operations does not matter. Abstract code: 'ExtIn_post = beta'\n",
      " [brian2.codegen.generators.base]\n"
     ]
    },
    {
     "name": "stdout",
     "output_type": "stream",
     "text": [
      "Running simulation chunk 4/100 for 200.0 ms\n",
      "Running in a Jupyter notebook\n"
     ]
    },
    {
     "name": "stderr",
     "output_type": "stream",
     "text": [
      "WARNING    Came across an abstract code block that may not be well-defined: the outcome may depend on the order of execution. You can ignore this warning if you are sure that the order of operations does not matter. Abstract code: 'Inh_post = clip(Inh_post + ((Wk * incoming_spikes_post) / N_outgoing), Wk, 0)'\n",
      " [brian2.codegen.generators.base]\n",
      "WARNING    Came across an abstract code block that may not be well-defined: the outcome may depend on the order of execution. You can ignore this warning if you are sure that the order of operations does not matter. 2 lines of abstract code, first line is: 'incoming_spikes_post += 1 (in-place)'\n",
      " [brian2.codegen.generators.base]\n",
      "WARNING    Came across an abstract code block that may not be well-defined: the outcome may depend on the order of execution. You can ignore this warning if you are sure that the order of operations does not matter. Abstract code: 'ExtIn_post = beta'\n",
      " [brian2.codegen.generators.base]\n"
     ]
    },
    {
     "name": "stdout",
     "output_type": "stream",
     "text": [
      "Running simulation chunk 5/100 for 200.0 ms\n",
      "Running in a Jupyter notebook\n"
     ]
    },
    {
     "name": "stderr",
     "output_type": "stream",
     "text": [
      "WARNING    Came across an abstract code block that may not be well-defined: the outcome may depend on the order of execution. You can ignore this warning if you are sure that the order of operations does not matter. Abstract code: 'Inh_post = clip(Inh_post + ((Wk * incoming_spikes_post) / N_outgoing), Wk, 0)'\n",
      " [brian2.codegen.generators.base]\n",
      "WARNING    Came across an abstract code block that may not be well-defined: the outcome may depend on the order of execution. You can ignore this warning if you are sure that the order of operations does not matter. 2 lines of abstract code, first line is: 'incoming_spikes_post += 1 (in-place)'\n",
      " [brian2.codegen.generators.base]\n",
      "WARNING    Came across an abstract code block that may not be well-defined: the outcome may depend on the order of execution. You can ignore this warning if you are sure that the order of operations does not matter. Abstract code: 'ExtIn_post = beta'\n",
      " [brian2.codegen.generators.base]\n"
     ]
    },
    {
     "name": "stdout",
     "output_type": "stream",
     "text": [
      "Running simulation chunk 6/100 for 200.0 ms\n",
      "Running in a Jupyter notebook\n"
     ]
    },
    {
     "name": "stderr",
     "output_type": "stream",
     "text": [
      "WARNING    Came across an abstract code block that may not be well-defined: the outcome may depend on the order of execution. You can ignore this warning if you are sure that the order of operations does not matter. Abstract code: 'Inh_post = clip(Inh_post + ((Wk * incoming_spikes_post) / N_outgoing), Wk, 0)'\n",
      " [brian2.codegen.generators.base]\n",
      "WARNING    Came across an abstract code block that may not be well-defined: the outcome may depend on the order of execution. You can ignore this warning if you are sure that the order of operations does not matter. 2 lines of abstract code, first line is: 'incoming_spikes_post += 1 (in-place)'\n",
      " [brian2.codegen.generators.base]\n",
      "WARNING    Came across an abstract code block that may not be well-defined: the outcome may depend on the order of execution. You can ignore this warning if you are sure that the order of operations does not matter. Abstract code: 'ExtIn_post = beta'\n",
      " [brian2.codegen.generators.base]\n"
     ]
    },
    {
     "name": "stdout",
     "output_type": "stream",
     "text": [
      "Running simulation chunk 7/100 for 200.0 ms\n",
      "Running in a Jupyter notebook\n"
     ]
    },
    {
     "name": "stderr",
     "output_type": "stream",
     "text": [
      "WARNING    Came across an abstract code block that may not be well-defined: the outcome may depend on the order of execution. You can ignore this warning if you are sure that the order of operations does not matter. Abstract code: 'Inh_post = clip(Inh_post + ((Wk * incoming_spikes_post) / N_outgoing), Wk, 0)'\n",
      " [brian2.codegen.generators.base]\n",
      "WARNING    Came across an abstract code block that may not be well-defined: the outcome may depend on the order of execution. You can ignore this warning if you are sure that the order of operations does not matter. 2 lines of abstract code, first line is: 'incoming_spikes_post += 1 (in-place)'\n",
      " [brian2.codegen.generators.base]\n",
      "WARNING    Came across an abstract code block that may not be well-defined: the outcome may depend on the order of execution. You can ignore this warning if you are sure that the order of operations does not matter. Abstract code: 'ExtIn_post = beta'\n",
      " [brian2.codegen.generators.base]\n"
     ]
    },
    {
     "name": "stdout",
     "output_type": "stream",
     "text": [
      "Running simulation chunk 8/100 for 200.0 ms\n",
      "Running in a Jupyter notebook\n"
     ]
    },
    {
     "name": "stderr",
     "output_type": "stream",
     "text": [
      "WARNING    Came across an abstract code block that may not be well-defined: the outcome may depend on the order of execution. You can ignore this warning if you are sure that the order of operations does not matter. Abstract code: 'Inh_post = clip(Inh_post + ((Wk * incoming_spikes_post) / N_outgoing), Wk, 0)'\n",
      " [brian2.codegen.generators.base]\n",
      "WARNING    Came across an abstract code block that may not be well-defined: the outcome may depend on the order of execution. You can ignore this warning if you are sure that the order of operations does not matter. 2 lines of abstract code, first line is: 'incoming_spikes_post += 1 (in-place)'\n",
      " [brian2.codegen.generators.base]\n",
      "WARNING    Came across an abstract code block that may not be well-defined: the outcome may depend on the order of execution. You can ignore this warning if you are sure that the order of operations does not matter. Abstract code: 'ExtIn_post = beta'\n",
      " [brian2.codegen.generators.base]\n"
     ]
    },
    {
     "name": "stdout",
     "output_type": "stream",
     "text": [
      "Running simulation chunk 9/100 for 200.0 ms\n",
      "Running in a Jupyter notebook\n"
     ]
    },
    {
     "name": "stderr",
     "output_type": "stream",
     "text": [
      "WARNING    Came across an abstract code block that may not be well-defined: the outcome may depend on the order of execution. You can ignore this warning if you are sure that the order of operations does not matter. Abstract code: 'Inh_post = clip(Inh_post + ((Wk * incoming_spikes_post) / N_outgoing), Wk, 0)'\n",
      " [brian2.codegen.generators.base]\n",
      "WARNING    Came across an abstract code block that may not be well-defined: the outcome may depend on the order of execution. You can ignore this warning if you are sure that the order of operations does not matter. 2 lines of abstract code, first line is: 'incoming_spikes_post += 1 (in-place)'\n",
      " [brian2.codegen.generators.base]\n",
      "WARNING    Came across an abstract code block that may not be well-defined: the outcome may depend on the order of execution. You can ignore this warning if you are sure that the order of operations does not matter. Abstract code: 'ExtIn_post = beta'\n",
      " [brian2.codegen.generators.base]\n"
     ]
    },
    {
     "name": "stdout",
     "output_type": "stream",
     "text": [
      "Running simulation chunk 10/100 for 200.0 ms\n",
      "Running in a Jupyter notebook\n"
     ]
    },
    {
     "name": "stderr",
     "output_type": "stream",
     "text": [
      "WARNING    Came across an abstract code block that may not be well-defined: the outcome may depend on the order of execution. You can ignore this warning if you are sure that the order of operations does not matter. Abstract code: 'Inh_post = clip(Inh_post + ((Wk * incoming_spikes_post) / N_outgoing), Wk, 0)'\n",
      " [brian2.codegen.generators.base]\n",
      "WARNING    Came across an abstract code block that may not be well-defined: the outcome may depend on the order of execution. You can ignore this warning if you are sure that the order of operations does not matter. 2 lines of abstract code, first line is: 'incoming_spikes_post += 1 (in-place)'\n",
      " [brian2.codegen.generators.base]\n",
      "WARNING    Came across an abstract code block that may not be well-defined: the outcome may depend on the order of execution. You can ignore this warning if you are sure that the order of operations does not matter. Abstract code: 'ExtIn_post = beta'\n",
      " [brian2.codegen.generators.base]\n"
     ]
    },
    {
     "name": "stdout",
     "output_type": "stream",
     "text": [
      "Running simulation chunk 11/100 for 200.0 ms\n",
      "Running in a Jupyter notebook\n"
     ]
    },
    {
     "name": "stderr",
     "output_type": "stream",
     "text": [
      "WARNING    Came across an abstract code block that may not be well-defined: the outcome may depend on the order of execution. You can ignore this warning if you are sure that the order of operations does not matter. Abstract code: 'Inh_post = clip(Inh_post + ((Wk * incoming_spikes_post) / N_outgoing), Wk, 0)'\n",
      " [brian2.codegen.generators.base]\n",
      "WARNING    Came across an abstract code block that may not be well-defined: the outcome may depend on the order of execution. You can ignore this warning if you are sure that the order of operations does not matter. 2 lines of abstract code, first line is: 'incoming_spikes_post += 1 (in-place)'\n",
      " [brian2.codegen.generators.base]\n",
      "WARNING    Came across an abstract code block that may not be well-defined: the outcome may depend on the order of execution. You can ignore this warning if you are sure that the order of operations does not matter. Abstract code: 'ExtIn_post = beta'\n",
      " [brian2.codegen.generators.base]\n"
     ]
    },
    {
     "name": "stdout",
     "output_type": "stream",
     "text": [
      "Running simulation chunk 12/100 for 200.0 ms\n",
      "Running in a Jupyter notebook\n"
     ]
    },
    {
     "name": "stderr",
     "output_type": "stream",
     "text": [
      "WARNING    Came across an abstract code block that may not be well-defined: the outcome may depend on the order of execution. You can ignore this warning if you are sure that the order of operations does not matter. Abstract code: 'Inh_post = clip(Inh_post + ((Wk * incoming_spikes_post) / N_outgoing), Wk, 0)'\n",
      " [brian2.codegen.generators.base]\n",
      "WARNING    Came across an abstract code block that may not be well-defined: the outcome may depend on the order of execution. You can ignore this warning if you are sure that the order of operations does not matter. 2 lines of abstract code, first line is: 'incoming_spikes_post += 1 (in-place)'\n",
      " [brian2.codegen.generators.base]\n",
      "WARNING    Came across an abstract code block that may not be well-defined: the outcome may depend on the order of execution. You can ignore this warning if you are sure that the order of operations does not matter. Abstract code: 'ExtIn_post = beta'\n",
      " [brian2.codegen.generators.base]\n"
     ]
    },
    {
     "name": "stdout",
     "output_type": "stream",
     "text": [
      "Running simulation chunk 13/100 for 200.0 ms\n",
      "Running in a Jupyter notebook\n"
     ]
    },
    {
     "name": "stderr",
     "output_type": "stream",
     "text": [
      "WARNING    Came across an abstract code block that may not be well-defined: the outcome may depend on the order of execution. You can ignore this warning if you are sure that the order of operations does not matter. Abstract code: 'Inh_post = clip(Inh_post + ((Wk * incoming_spikes_post) / N_outgoing), Wk, 0)'\n",
      " [brian2.codegen.generators.base]\n",
      "WARNING    Came across an abstract code block that may not be well-defined: the outcome may depend on the order of execution. You can ignore this warning if you are sure that the order of operations does not matter. 2 lines of abstract code, first line is: 'incoming_spikes_post += 1 (in-place)'\n",
      " [brian2.codegen.generators.base]\n",
      "WARNING    Came across an abstract code block that may not be well-defined: the outcome may depend on the order of execution. You can ignore this warning if you are sure that the order of operations does not matter. Abstract code: 'ExtIn_post = beta'\n",
      " [brian2.codegen.generators.base]\n"
     ]
    },
    {
     "name": "stdout",
     "output_type": "stream",
     "text": [
      "Running simulation chunk 14/100 for 200.0 ms\n",
      "Running in a Jupyter notebook\n"
     ]
    },
    {
     "name": "stderr",
     "output_type": "stream",
     "text": [
      "WARNING    Came across an abstract code block that may not be well-defined: the outcome may depend on the order of execution. You can ignore this warning if you are sure that the order of operations does not matter. Abstract code: 'Inh_post = clip(Inh_post + ((Wk * incoming_spikes_post) / N_outgoing), Wk, 0)'\n",
      " [brian2.codegen.generators.base]\n",
      "WARNING    Came across an abstract code block that may not be well-defined: the outcome may depend on the order of execution. You can ignore this warning if you are sure that the order of operations does not matter. 2 lines of abstract code, first line is: 'incoming_spikes_post += 1 (in-place)'\n",
      " [brian2.codegen.generators.base]\n",
      "WARNING    Came across an abstract code block that may not be well-defined: the outcome may depend on the order of execution. You can ignore this warning if you are sure that the order of operations does not matter. Abstract code: 'ExtIn_post = beta'\n",
      " [brian2.codegen.generators.base]\n"
     ]
    },
    {
     "name": "stdout",
     "output_type": "stream",
     "text": [
      "Running simulation chunk 15/100 for 200.0 ms\n",
      "Running in a Jupyter notebook\n"
     ]
    },
    {
     "name": "stderr",
     "output_type": "stream",
     "text": [
      "WARNING    Came across an abstract code block that may not be well-defined: the outcome may depend on the order of execution. You can ignore this warning if you are sure that the order of operations does not matter. Abstract code: 'Inh_post = clip(Inh_post + ((Wk * incoming_spikes_post) / N_outgoing), Wk, 0)'\n",
      " [brian2.codegen.generators.base]\n",
      "WARNING    Came across an abstract code block that may not be well-defined: the outcome may depend on the order of execution. You can ignore this warning if you are sure that the order of operations does not matter. 2 lines of abstract code, first line is: 'incoming_spikes_post += 1 (in-place)'\n",
      " [brian2.codegen.generators.base]\n",
      "WARNING    Came across an abstract code block that may not be well-defined: the outcome may depend on the order of execution. You can ignore this warning if you are sure that the order of operations does not matter. Abstract code: 'ExtIn_post = beta'\n",
      " [brian2.codegen.generators.base]\n"
     ]
    },
    {
     "name": "stdout",
     "output_type": "stream",
     "text": [
      "Running simulation chunk 16/100 for 200.0 ms\n",
      "Running in a Jupyter notebook\n"
     ]
    },
    {
     "name": "stderr",
     "output_type": "stream",
     "text": [
      "WARNING    Came across an abstract code block that may not be well-defined: the outcome may depend on the order of execution. You can ignore this warning if you are sure that the order of operations does not matter. Abstract code: 'Inh_post = clip(Inh_post + ((Wk * incoming_spikes_post) / N_outgoing), Wk, 0)'\n",
      " [brian2.codegen.generators.base]\n",
      "WARNING    Came across an abstract code block that may not be well-defined: the outcome may depend on the order of execution. You can ignore this warning if you are sure that the order of operations does not matter. 2 lines of abstract code, first line is: 'incoming_spikes_post += 1 (in-place)'\n",
      " [brian2.codegen.generators.base]\n",
      "WARNING    Came across an abstract code block that may not be well-defined: the outcome may depend on the order of execution. You can ignore this warning if you are sure that the order of operations does not matter. Abstract code: 'ExtIn_post = beta'\n",
      " [brian2.codegen.generators.base]\n"
     ]
    },
    {
     "name": "stdout",
     "output_type": "stream",
     "text": [
      "Running simulation chunk 17/100 for 200.0 ms\n",
      "Running in a Jupyter notebook\n"
     ]
    },
    {
     "name": "stderr",
     "output_type": "stream",
     "text": [
      "WARNING    Came across an abstract code block that may not be well-defined: the outcome may depend on the order of execution. You can ignore this warning if you are sure that the order of operations does not matter. Abstract code: 'Inh_post = clip(Inh_post + ((Wk * incoming_spikes_post) / N_outgoing), Wk, 0)'\n",
      " [brian2.codegen.generators.base]\n",
      "WARNING    Came across an abstract code block that may not be well-defined: the outcome may depend on the order of execution. You can ignore this warning if you are sure that the order of operations does not matter. 2 lines of abstract code, first line is: 'incoming_spikes_post += 1 (in-place)'\n",
      " [brian2.codegen.generators.base]\n",
      "WARNING    Came across an abstract code block that may not be well-defined: the outcome may depend on the order of execution. You can ignore this warning if you are sure that the order of operations does not matter. Abstract code: 'ExtIn_post = beta'\n",
      " [brian2.codegen.generators.base]\n"
     ]
    },
    {
     "name": "stdout",
     "output_type": "stream",
     "text": [
      "Running simulation chunk 18/100 for 200.0 ms\n",
      "Running in a Jupyter notebook\n"
     ]
    },
    {
     "name": "stderr",
     "output_type": "stream",
     "text": [
      "WARNING    Came across an abstract code block that may not be well-defined: the outcome may depend on the order of execution. You can ignore this warning if you are sure that the order of operations does not matter. Abstract code: 'Inh_post = clip(Inh_post + ((Wk * incoming_spikes_post) / N_outgoing), Wk, 0)'\n",
      " [brian2.codegen.generators.base]\n",
      "WARNING    Came across an abstract code block that may not be well-defined: the outcome may depend on the order of execution. You can ignore this warning if you are sure that the order of operations does not matter. 2 lines of abstract code, first line is: 'incoming_spikes_post += 1 (in-place)'\n",
      " [brian2.codegen.generators.base]\n",
      "WARNING    Came across an abstract code block that may not be well-defined: the outcome may depend on the order of execution. You can ignore this warning if you are sure that the order of operations does not matter. Abstract code: 'ExtIn_post = beta'\n",
      " [brian2.codegen.generators.base]\n"
     ]
    },
    {
     "name": "stdout",
     "output_type": "stream",
     "text": [
      "Running simulation chunk 19/100 for 200.0 ms\n",
      "Running in a Jupyter notebook\n"
     ]
    },
    {
     "name": "stderr",
     "output_type": "stream",
     "text": [
      "WARNING    Came across an abstract code block that may not be well-defined: the outcome may depend on the order of execution. You can ignore this warning if you are sure that the order of operations does not matter. Abstract code: 'Inh_post = clip(Inh_post + ((Wk * incoming_spikes_post) / N_outgoing), Wk, 0)'\n",
      " [brian2.codegen.generators.base]\n",
      "WARNING    Came across an abstract code block that may not be well-defined: the outcome may depend on the order of execution. You can ignore this warning if you are sure that the order of operations does not matter. 2 lines of abstract code, first line is: 'incoming_spikes_post += 1 (in-place)'\n",
      " [brian2.codegen.generators.base]\n",
      "WARNING    Came across an abstract code block that may not be well-defined: the outcome may depend on the order of execution. You can ignore this warning if you are sure that the order of operations does not matter. Abstract code: 'ExtIn_post = beta'\n",
      " [brian2.codegen.generators.base]\n"
     ]
    },
    {
     "name": "stdout",
     "output_type": "stream",
     "text": [
      "Running simulation chunk 20/100 for 200.0 ms\n",
      "Running in a Jupyter notebook\n"
     ]
    },
    {
     "name": "stderr",
     "output_type": "stream",
     "text": [
      "WARNING    Came across an abstract code block that may not be well-defined: the outcome may depend on the order of execution. You can ignore this warning if you are sure that the order of operations does not matter. Abstract code: 'Inh_post = clip(Inh_post + ((Wk * incoming_spikes_post) / N_outgoing), Wk, 0)'\n",
      " [brian2.codegen.generators.base]\n",
      "WARNING    Came across an abstract code block that may not be well-defined: the outcome may depend on the order of execution. You can ignore this warning if you are sure that the order of operations does not matter. 2 lines of abstract code, first line is: 'incoming_spikes_post += 1 (in-place)'\n",
      " [brian2.codegen.generators.base]\n",
      "WARNING    Came across an abstract code block that may not be well-defined: the outcome may depend on the order of execution. You can ignore this warning if you are sure that the order of operations does not matter. Abstract code: 'ExtIn_post = beta'\n",
      " [brian2.codegen.generators.base]\n"
     ]
    },
    {
     "name": "stdout",
     "output_type": "stream",
     "text": [
      "Running simulation chunk 21/100 for 200.0 ms\n",
      "Running in a Jupyter notebook\n"
     ]
    },
    {
     "ename": "",
     "evalue": "",
     "output_type": "error",
     "traceback": [
      "\u001b[1;31mThe Kernel crashed while executing code in the current cell or a previous cell. \n",
      "\u001b[1;31mPlease review the code in the cell(s) to identify a possible cause of the failure. \n",
      "\u001b[1;31mClick <a href='https://aka.ms/vscodeJupyterKernelCrash'>here</a> for more info. \n",
      "\u001b[1;31mView Jupyter <a href='command:jupyter.viewOutput'>log</a> for further details."
     ]
    }
   ],
   "source": [
    "N = 100  # Number of runs\n",
    "run_time = simTime / N  # Duration of each run\n",
    "\n",
    "spikeTimeStamps = []\n",
    "spikeIndices = []\n",
    "\n",
    "print(\"Starting simulation - Total time: \", simTime*ms)\n",
    "for i in range(N):\n",
    "    print(f\"Running simulation chunk {i+1}/{N} for {run_time} ms\")\n",
    "    SpikeMon_Neurons = SpikeMonitor(neuronsGrid)    # Monitor the spikes from the neuron grid\n",
    "    \n",
    "    if 'ipykernel' in sys.modules:\n",
    "        # Running in a Jupyter notebook\n",
    "        print(\"Running in a Jupyter notebook\")\n",
    "        run(run_time*ms, profile=True)\n",
    "        # profiling_summary(net)\n",
    "    else:\n",
    "        # Not running in a Jupyter notebook\n",
    "        print(\"Not running in a Jupyter notebook\")\n",
    "        run(run_time*ms, report=BrianHF.ProgressBar(), report_period=1*second, profile=True)\n",
    "        # print(profiling_summary(net))\n",
    "        \n",
    "    # Get states and dump\n",
    "    data_times = SpikeMon_Neurons.t\n",
    "    data_neurons = SpikeMon_Neurons.i\n",
    "    \n",
    "    spikeTimeStamps.append(data_times)\n",
    "    spikeIndices.append(data_neurons)\n",
    "    \n",
    "    del SpikeMon_Neurons\n",
    "    \n",
    "data = {'spikeTimeStamps': spikeTimeStamps, 'spikeIndices': spikeIndices}\n",
    "filename = os.path.join(resultPath, 'spikeFrames', outputStr+'.data')\n",
    "with open(filename, 'w') as f:\n",
    "    pickle.dump(data, f)\n",
    "del data\n",
    "\n",
    "print(\"Simulation complete\\n\")\n"
   ]
  },
  {
   "cell_type": "markdown",
   "id": "42c78bb1",
   "metadata": {},
   "source": [
    "#### _9. (Optional) Visualize the results_"
   ]
  },
  {
   "cell_type": "code",
   "execution_count": null,
   "id": "c80f9916",
   "metadata": {},
   "outputs": [],
   "source": [
    "print(\"Generating Visualizable Outputs:\")\n",
    "# BrianHF.visualise_connectivity(Syn_Input_Neurons)\n",
    "# BrianHF.visualise_spikes([SpikeMon_Input, SpikeMon_Neurons])\n",
    "# BrianHF.visualise_spike_difference(SpikeMon_Input, SpikeMon_Neurons)\n"
   ]
  },
  {
   "cell_type": "code",
   "execution_count": null,
   "id": "01315c46",
   "metadata": {},
   "outputs": [],
   "source": [
    "# Generate the frames for input\n",
    "print(\"Generating Frames for Input...\", end=' ')\n",
    "inputFrames = BrianHF.generate_frames(spikeTimeStamps, spikeIndices, grid_width, grid_height, num_neurons=N_Neurons)\n",
    "print(\"Input Frames Generation Complete.\")\n",
    "\n",
    "# Save the frames\n",
    "if SaveNumpyFrames:\n",
    "    print(\"Saving Input Frames as Numpy Arrays...\")\n",
    "    filename = os.path.join(resultPath, 'numpyFrames', inputStr+'.npy')\n",
    "    if os.path.exists(filename):\n",
    "        filename = os.path.join(resultPath, 'numpyFrames', f\"{inputStr}_{int(time.time())}.npy\")\n",
    "    np.save(filename, inputFrames)\n",
    "print(\"Input Numpy Array Saving Complete.\")\n",
    "\n",
    "\n",
    "# Generate the GIFs from the frames\n",
    "if GenerateGIFs:\n",
    "    print(\"Generating Input GIFs...\")\n",
    "    filename = os.path.join(resultPath, 'gifs', inputStr+'.gif')\n",
    "    if os.path.exists(filename):\n",
    "        filename = os.path.join(resultPath, 'gifs', f\"{inputStr}_{int(time.time())}.gif\")\n",
    "    BrianHF.generate_gif(inputFrames, filename, simTime, replicateDuration=True, duration=1e-8)\n",
    "print(\"Input GIF Generation Complete.\")\n",
    "\n",
    "\n",
    "# Generate the Videos from the frames\n",
    "if GenerateVideos:\n",
    "    print(\"Generating Videos...\")\n",
    "    filename = os.path.join(resultPath, 'videos', inputStr+'.mp4')\n",
    "    if os.path.exists(filename):\n",
    "        filename = os.path.join(resultPath, 'videos', f\"{inputStr}_{int(time.time())}.mp4\")\n",
    "    BrianHF.generate_video(inputFrames, filename, simTime/1000)\n",
    "    print(\"Video Generation Complete.\")\n",
    "\n",
    "del inputFrames"
   ]
  },
  {
   "cell_type": "code",
   "execution_count": null,
   "id": "795f0b73",
   "metadata": {},
   "outputs": [],
   "source": [
    "print(\"Generating Frames for Output...\", end=' ')\n",
    "outputFrames = BrianHF.generate_frames(spikeTimeStamps, spikeIndices, grid_width, grid_height, num_neurons=N_Neurons)\n",
    "print(\"Output Frames Generation Complete.\")\n",
    "\n",
    "# Save the frames\n",
    "if SaveNumpyFrames:\n",
    "    print(\"Saving Input Frames as Numpy Arrays...\")\n",
    "    filename = os.path.join(resultPath, 'numpyFrames', outputStr+'.npy')\n",
    "    if os.path.exists(filename):\n",
    "        filename = os.path.join(resultPath, 'numpyFrames', f\"{outputStr}_{int(time.time())}.npy\")\n",
    "    np.save(filename, outputFrames)\n",
    "print(\"Input Numpy Array Saving Complete.\")\n",
    "\n",
    "\n",
    "# Generate the GIFs from the frames\n",
    "if GenerateGIFs:\n",
    "    print(\"Generating Input GIFs...\")\n",
    "    filename = os.path.join(resultPath, 'gifs', outputStr+'.gif')\n",
    "    if os.path.exists(filename):\n",
    "        filename = os.path.join(resultPath, 'gifs', f\"{outputStr}_{int(time.time())}.gif\")\n",
    "    BrianHF.generate_gif(outputFrames, filename, simTime, replicateDuration=True, duration=1e-8)\n",
    "print(\"Input GIF Generation Complete.\")\n",
    "\n",
    "\n",
    "# Generate the Videos from the frames\n",
    "if GenerateVideos:\n",
    "    print(\"Generating Videos...\")\n",
    "    filename = os.path.join(resultPath, 'videos', outputStr+'.mp4')\n",
    "    if os.path.exists(filename):\n",
    "        filename = os.path.join(resultPath, 'videos', f\"{outputStr}_{int(time.time())}.mp4\")\n",
    "    BrianHF.generate_video(outputFrames, filename, simTime/1000)\n",
    "    print(\"Video Generation Complete.\")\n",
    "\n",
    "del outputFrames\n"
   ]
  },
  {
   "cell_type": "code",
   "execution_count": null,
   "id": "2118fc3b",
   "metadata": {},
   "outputs": [],
   "source": [
    "'''\n",
    "# Generate the frames for input and output\n",
    "print(\"Generating Frames for Input...\", end=' ')\n",
    "inputFrames = BrianHF.generate_frames(SpikeMon_Input, grid_width, grid_height, num_neurons=N_Neurons)\n",
    "print(\"Generation Complete.\")\n",
    "print(\"Generating Frames for Output...\", end=' ')\n",
    "outputFrames = BrianHF.generate_frames(SpikeMon_Neurons, grid_width, grid_height, num_neurons=N_Neurons)\n",
    "print(\"Generation Complete.\")\n",
    "\n",
    "if SaveNumpyFrames:\n",
    "    # Save the frames\n",
    "    np.save(os.path.join(resultPath, 'numpyFrames', inputStr+'.npy'), inputFrames)\n",
    "    np.save(os.path.join(resultPath, 'numpyFrames', outputStr+'.npy'), outputFrames)\n",
    "\n",
    "GenerateGifs = False\n",
    "if GenerateGIFs:\n",
    "    # Generate the GIFs from the frames\n",
    "    print(\"Generating Input GIF\", end=' ')\n",
    "    BrianHF.generate_gif(inputFrames, os.path.join(resultPath, 'gifs', inputStr+'.gif'), simTime, replicateDuration=True, duration=1e-8)\n",
    "    print(\"Generation Complete.\")\n",
    "    print(\"Generating Output GIF\", end=' ')\n",
    "    BrianHF.generate_gif(outputFrames, os.path.join(resultPath, 'gifs', outputStr+'.gif'), simTime, replicateDuration=True ,duration=1e-8)\n",
    "    print(\"Generation Complete.\")\n",
    "\n",
    "# Generate the Videos from the frames\n",
    "print(\"Generating Input Video\", end=' ')\n",
    "BrianHF.generate_video(outputFrames, os.path.join(resultPath, 'videos', inputStr+'.mp4'), simTime/1000)\n",
    "print(\"Generation Complete.\")\n",
    "print(\"Generating Output Video\", end=' ')\n",
    "BrianHF.generate_video(outputFrames, os.path.join(resultPath, 'videos', outputStr+'.mp4'), simTime/1000)\n",
    "print(\"Generation Complete.\")\n",
    "'''"
   ]
  },
  {
   "cell_type": "code",
   "execution_count": null,
   "id": "8d6d8447",
   "metadata": {},
   "outputs": [],
   "source": [
    "# store('SimOut', 'SimulationOutput')   # Store the state of the simulation after running"
   ]
  }
 ],
 "metadata": {
  "jupytext": {
   "cell_metadata_filter": "-all",
   "formats": "ipynb,py"
  },
  "kernelspec": {
   "display_name": "IIT",
   "language": "python",
   "name": "python3"
  },
  "language_info": {
   "codemirror_mode": {
    "name": "ipython",
    "version": 3
   },
   "file_extension": ".py",
   "mimetype": "text/x-python",
   "name": "python",
   "nbconvert_exporter": "python",
   "pygments_lexer": "ipython3",
   "version": "3.10.12"
  }
 },
 "nbformat": 4,
 "nbformat_minor": 5
}
