{
 "cells": [
  {
   "cell_type": "code",
   "execution_count": 53,
   "id": "efb9a0dc",
   "metadata": {},
   "outputs": [],
   "source": [
    "from brian2 import *\n",
    "# set_device('cpp_standalone') # for faster execution - builds a standalone C++ program\n",
    "\n",
    "import NeuronEquations\n",
    "import BrianHF\n",
    "import numpy as np\n",
    "\n",
    "from bimvee.importAe import importAe\n",
    "from EvCamDatabase import DAVIS_346B\n",
    "import os\n",
    "\n",
    "# TODO XXX: Turn all lists into numpy arrays for the sake of memory efficiency"
   ]
  },
  {
   "cell_type": "code",
   "execution_count": 54,
   "id": "1b304651",
   "metadata": {},
   "outputs": [
    {
     "name": "stdout",
     "output_type": "stream",
     "text": [
      "{'filePathOrName': 'MVSEC_short_outdoor'}\n",
      "{'filePathOrName': 'MVSEC_short_outdoor'}\n",
      "{'filePathOrName': 'MVSEC_short_outdoor/rightdvs'}\n",
      "{'filePathOrName': 'MVSEC_short_outdoor/rightdvs'}\n",
      "importIitYarp trying path: MVSEC_short_outdoor/rightdvs\n"
     ]
    },
    {
     "name": "stderr",
     "output_type": "stream",
     "text": [
      " 11%|█▏        | 4330/38024 [00:00<00:00, 43260.95it/s]"
     ]
    },
    {
     "name": "stderr",
     "output_type": "stream",
     "text": [
      "100%|██████████| 38024/38024 [00:14<00:00, 2599.12it/s]\n"
     ]
    },
    {
     "name": "stdout",
     "output_type": "stream",
     "text": [
      "Examining info.log: MVSEC_short_outdoor/rightdvs/info.log\n",
      "{'filePathOrName': 'MVSEC_short_outdoor/leftdvs'}\n",
      "{'filePathOrName': 'MVSEC_short_outdoor/leftdvs'}\n",
      "importIitYarp trying path: MVSEC_short_outdoor/leftdvs\n"
     ]
    },
    {
     "name": "stderr",
     "output_type": "stream",
     "text": [
      "100%|██████████| 38292/38292 [00:16<00:00, 2332.79it/s]\n"
     ]
    },
    {
     "name": "stdout",
     "output_type": "stream",
     "text": [
      "Examining info.log: MVSEC_short_outdoor/leftdvs/info.log\n"
     ]
    }
   ],
   "source": [
    "# XXX: Extract the event stream using bimvee - needs refactoring to be more general\n",
    "grid_width, grid_height= DAVIS_346B['width'], DAVIS_346B['height']\n",
    "filePath = 'MVSEC_short_outdoor'\n",
    "events = importAe(filePathOrName=filePath)"
   ]
  },
  {
   "cell_type": "code",
   "execution_count": 55,
   "id": "a8c31561",
   "metadata": {},
   "outputs": [
    {
     "data": {
      "text/plain": [
       "('tsOffset', -0.0)"
      ]
     },
     "execution_count": 55,
     "metadata": {},
     "output_type": "execute_result"
    }
   ],
   "source": [
    "try:\n",
    "    eventStream = events[0]['data']['left']['dvs']\n",
    "except:\n",
    "    eventStream = events[0]['data']['right']['dvs']\n",
    "eventStream.popitem()"
   ]
  },
  {
   "cell_type": "markdown",
   "id": "3e705d5b",
   "metadata": {},
   "source": [
    "### Steps for the setting up the network:\n",
    "1. Generate the input spikes\n",
    "2. Set the parameters for the network (neurons and synapses)\n",
    "3. Create the neuron group(s)\n",
    "4. Create the synapses\n",
    "5. Connect the synapses\n",
    "6. Define the weights of the synapses\n",
    "7. Set up monitors according to need\n",
    "8. Run the simulation\n",
    "9. (Optional) Visualize the results\n",
    "\n",
    "#### _1. Generate the input spikes from the event stream_\n",
    "###### _Brian Simulation Scope_\n"
   ]
  },
  {
   "cell_type": "code",
   "execution_count": 56,
   "id": "cd199fa2",
   "metadata": {},
   "outputs": [
    {
     "name": "stdout",
     "output_type": "stream",
     "text": [
      "Extracting the event data...\n",
      "Polarity was chosen to be ignored. All events are extracted.\n",
      "Selecting a percentage of the spikes at regular intervals... Percentage:  0.01 %\n",
      "The maximum x index 345 while the width is 346\n",
      "The maximum y index 258 while the height is 260\n",
      "The x,y and time stamp indices are equal, the data is correct.\n",
      "Checking for duplicate pairs...\n",
      "No duplicate pairs found.\n",
      "Total number of pairs/spikes:  692  pairs.\n",
      "The selected scale is 1.0\n",
      "The maximum time stamp (scaled) 19977.294 ms.\n",
      "The recommended simulation time (scaled) is 19978.0 ms.\n",
      "The minimum time step (scaled) is 2038.6459999999997 ms.\n",
      "The recommended clock time step (scaled) is 2038.646 ms.\n",
      "Input event stream successfully converted to spike trains\n",
      "\n"
     ]
    }
   ],
   "source": [
    "\n",
    "# HACK XXX: The input is now not in real time, must be fixed eventually to process real time event data\n",
    "# IMPORTANT NOTE: Output is float, so we need to convert to Quantities (i.e give them units)\n",
    "simTime, clockStep, inputSpikesGen = BrianHF.event_to_spike(eventStream, grid_width, grid_height, dt = 0.01*ms, timeScale = 1.0, samplePercentage=0.0001)\n",
    "# defaultclock.dt = clockStep*ms\n",
    "print(\"Input event stream successfully converted to spike trains\\n\")"
   ]
  },
  {
   "cell_type": "markdown",
   "id": "0caabde4",
   "metadata": {},
   "source": [
    "#### _2. Set the parameters for the network (neurons and synapses)_\n",
    "Parameter values can be tuned per namespace(this is done for clarity purposes)."
   ]
  },
  {
   "cell_type": "code",
   "execution_count": 57,
   "id": "dba9d57a",
   "metadata": {},
   "outputs": [],
   "source": [
    "# NOTE: The values are unitless for now, time constants are in ms simply to be able to tune to the simulation clock\n",
    "\n",
    "# Simulation Parameters\n",
    "defaultclock.dt = 0.01*ms\n",
    "SaveNumpyFrames = False\n",
    "GenerateGIFs = False\n",
    "\n",
    "\n",
    "# Neuron Parameters\n",
    "N_Neurons = grid_width * grid_height    # Number of neurons\n",
    "Eqs_Neurons = NeuronEquations.EQ_SCM_IF    # Neurons Equation\n",
    "\n",
    "Neuron_Params = {'tau': 0.1*ms, 'tauSpi': 0.5*ms, 'vt': 1.0, 'vr': 0.0, 'P': 0, 'incoming_spikes': 0, 'method_Neuron': 'rk2'}\n",
    "tau = Neuron_Params['tau']\n",
    "tauSpi = Neuron_Params['tauSpi']\n",
    "vt = Neuron_Params['vt']\n",
    "vr = Neuron_Params['vr']\n",
    "P = Neuron_Params['P']\n",
    "incoming_spikes = Neuron_Params['incoming_spikes']\n",
    "\n",
    "# Synapse Parameters\n",
    "'''\n",
    "Neighborhood Size (num_Neighbors) - Affects the number of neighbors a central neuron based on the L1 Distance\n",
    "Neighboring Neurons --> (abs(X_pre - X_post) <= Num_Neighbours  and abs(Y_pre - Y_post) <= Num_Neighbours)\n",
    "'''\n",
    "Syn_Params = {'Num_Neighbours' : 1, 'beta': 1.5, 'Wi': 12.0, 'Wk': -3.0, 'method_Syn': 'rk2'}\n",
    "Num_Neighbours = Syn_Params['Num_Neighbours']\n",
    "beta = Syn_Params['beta']\n",
    "Wi = Syn_Params['Wi']\n",
    "Wk = Syn_Params['Wk']\n",
    "\n",
    "# Generate the dictionary of parameters for the network\n",
    "networkParams = {**Neuron_Params, **Syn_Params, 'Sim_Clock': defaultclock.dt}"
   ]
  },
  {
   "cell_type": "markdown",
   "id": "f18e0b16",
   "metadata": {},
   "source": [
    "#### _3. Create the neuron group(s)_"
   ]
  },
  {
   "cell_type": "code",
   "execution_count": 58,
   "id": "cc6adc09",
   "metadata": {},
   "outputs": [
    {
     "name": "stdout",
     "output_type": "stream",
     "text": [
      "Creating Neuron Groups...\n"
     ]
    }
   ],
   "source": [
    "print('Creating Neuron Groups...')"
   ]
  },
  {
   "cell_type": "code",
   "execution_count": 59,
   "id": "90b9ccff",
   "metadata": {},
   "outputs": [],
   "source": [
    "# TODO XXX: The events are running on the clockStep, I should at least fix them to use the (event_driven) setting in Brian2\n",
    "neuronsGrid = NeuronGroup(N_Neurons, Eqs_Neurons, threshold='v>vt',\n",
    "                            reset='''\n",
    "                            v = vr\n",
    "                            incoming_spikes_post = 0\n",
    "                            ''',\n",
    "                            refractory='0*ms',\n",
    "                            events={'P_ON': 'v > vt', 'P_OFF': '(timestep(t - lastspike, dt) > timestep(dt, dt) and v <= vt)'},\n",
    "                            method= Neuron_Params['method_Neuron'])\n",
    "\n",
    "\n",
    "# Define the created events, the actions to be taken as well as when they should be evaluated and executed\n",
    "neuronsGrid.run_on_event('P_ON', 'P = 1' , when = 'after_thresholds')\n",
    "neuronsGrid.set_event_schedule('P_OFF', when = 'before_groups')\n",
    "neuronsGrid.run_on_event('P_OFF', 'P = 0', when = 'before_groups')\n",
    "\n",
    "# FIXME: Verify the grid coordinates and assign the X and Y values to the neurons accordingly\n",
    "# Generate x and y values for each neuron\n",
    "x_values = np.repeat(np.arange(grid_width), grid_height)\n",
    "y_values = np.tile(np.arange(grid_height), grid_width)\n",
    "neuronsGrid.X = x_values\n",
    "neuronsGrid.Y = y_values"
   ]
  },
  {
   "cell_type": "code",
   "execution_count": 60,
   "id": "571d7f3e",
   "metadata": {},
   "outputs": [
    {
     "name": "stdout",
     "output_type": "stream",
     "text": [
      "Neuron Groups created successfully\n",
      "\n"
     ]
    }
   ],
   "source": [
    "print('Neuron Groups created successfully\\n')"
   ]
  },
  {
   "cell_type": "markdown",
   "id": "652eb3fd",
   "metadata": {},
   "source": [
    "#### _4. Create the synapses_"
   ]
  },
  {
   "cell_type": "code",
   "execution_count": 61,
   "id": "5f06f3a1",
   "metadata": {},
   "outputs": [
    {
     "name": "stdout",
     "output_type": "stream",
     "text": [
      "Creating Synapse Connections...\n"
     ]
    }
   ],
   "source": [
    "print('Creating Synapse Connections...')"
   ]
  },
  {
   "cell_type": "code",
   "execution_count": 62,
   "id": "0ff3560f",
   "metadata": {},
   "outputs": [],
   "source": [
    "Syn_Input_Neurons = Synapses(inputSpikesGen, neuronsGrid, 'beta : 1 (constant)', on_pre='ExtIn_post = beta', namespace=Syn_Params)\n",
    "\n",
    "# NOTE: In hopes of reducing simulation time, I am using _pre keyword to avoid the need for an autapse. Hence only one Synapse group is needed\n",
    "Syn_Neurons_Neurons = Synapses(neuronsGrid, neuronsGrid,\n",
    "                               '''\n",
    "                               Wi : 1 (constant)\n",
    "                               Wk : 1 (constant)\n",
    "                               ''',\n",
    "                               on_pre={\n",
    "                                   'pre':'incoming_spikes_post += 1; Exc_pre = Wi',\n",
    "                                   'after_pre': 'Inh_post = clip(Inh_post + Wk * incoming_spikes_post/N_outgoing, Wk, 0)'}, \n",
    "                               namespace=Syn_Params)"
   ]
  },
  {
   "cell_type": "markdown",
   "id": "1a27a08c",
   "metadata": {},
   "source": [
    "#### _5. Connect the synapses_"
   ]
  },
  {
   "cell_type": "code",
   "execution_count": 65,
   "id": "720e1f93",
   "metadata": {},
   "outputs": [],
   "source": [
    "Syn_Input_Neurons.connect(j='i')    # Connect the first synapses from input to G_neurons on a 1 to 1 basis"
   ]
  },
  {
   "cell_type": "code",
   "execution_count": null,
   "id": "acb529f2",
   "metadata": {},
   "outputs": [],
   "source": [
    "# Connect the inhibitory group of synapses from a neuron to its neighbors. Reminder: No need for autapses as we are using _pre\n",
    "Syn_Neurons_Neurons.connect(condition='i != j and abs(X_pre - X_post) <= Num_Neighbours and abs(Y_pre - Y_post) <= Num_Neighbours')"
   ]
  },
  {
   "cell_type": "code",
   "execution_count": null,
   "id": "b7b76061",
   "metadata": {},
   "outputs": [
    {
     "name": "stdout",
     "output_type": "stream",
     "text": [
      "Synapse Connections created successfully\n",
      "\n"
     ]
    }
   ],
   "source": [
    "print('Synapse Connections created successfully\\n')"
   ]
  },
  {
   "cell_type": "markdown",
   "id": "65ba37b2",
   "metadata": {},
   "source": [
    "#### _6. Set up monitors_"
   ]
  },
  {
   "cell_type": "code",
   "execution_count": null,
   "id": "57911507",
   "metadata": {},
   "outputs": [],
   "source": [
    "SpikeMon_Input = SpikeMonitor(inputSpikesGen)    # Monitor the spikes from the input\n",
    "SpikeMon_Neurons = SpikeMonitor(neuronsGrid)    # Monitor the spikes from the neuron grid\n",
    "# StateMon_Neurons = StateMonitor(neuronsGrid, variables=True, record=True)    # Monitor the state variables - True for all variables. NOTE: WARNING!! Excessive memory usage"
   ]
  },
  {
   "cell_type": "markdown",
   "id": "01eabe3c",
   "metadata": {},
   "source": [
    "### 7. Run the simulation_"
   ]
  },
  {
   "cell_type": "code",
   "execution_count": null,
   "id": "d664580d",
   "metadata": {},
   "outputs": [
    {
     "name": "stderr",
     "output_type": "stream",
     "text": [
      "WARNING    'P' is an internal variable of group 'neurongroup_1', but also exists in the group-specific namespace with the value 0. The internal variable will be used. [brian2.groups.group.Group.resolve.resolution_conflict]\n"
     ]
    },
    {
     "name": "stdout",
     "output_type": "stream",
     "text": [
      "Running the simulation for 19978.0 ms\n",
      "Running in a Jupyter notebook\n"
     ]
    },
    {
     "name": "stderr",
     "output_type": "stream",
     "text": [
      "WARNING    'beta' is an internal variable of group 'synapses_2', but also exists in the group-specific namespace with the value 1.5. The internal variable will be used. [brian2.groups.group.Group.resolve.resolution_conflict]\n",
      "WARNING    Came across an abstract code block that may not be well-defined: the outcome may depend on the order of execution. You can ignore this warning if you are sure that the order of operations does not matter. Abstract code: 'ExtIn_post = beta'\n",
      " [brian2.codegen.generators.base]\n",
      "WARNING    'Wk' is an internal variable of group 'synapses_3', but also exists in the group-specific namespace with the value -3.0. The internal variable will be used. [brian2.groups.group.Group.resolve.resolution_conflict]\n",
      "WARNING    Came across an abstract code block that may not be well-defined: the outcome may depend on the order of execution. You can ignore this warning if you are sure that the order of operations does not matter. Abstract code: 'Inh_post = clip(Inh_post + ((Wk * incoming_spikes_post) / N_outgoing), Wk, 0)'\n",
      " [brian2.codegen.generators.base]\n",
      "WARNING    'Wi' is an internal variable of group 'synapses_3', but also exists in the group-specific namespace with the value 12.0. The internal variable will be used. [brian2.groups.group.Group.resolve.resolution_conflict]\n",
      "WARNING    Came across an abstract code block that may not be well-defined: the outcome may depend on the order of execution. You can ignore this warning if you are sure that the order of operations does not matter. 2 lines of abstract code, first line is: 'incoming_spikes_post += 1 (in-place)'\n",
      " [brian2.codegen.generators.base]\n"
     ]
    },
    {
     "ename": "KeyboardInterrupt",
     "evalue": "",
     "output_type": "error",
     "traceback": [
      "\u001b[0;31m---------------------------------------------------------------------------\u001b[0m",
      "\u001b[0;31mKeyboardInterrupt\u001b[0m                         Traceback (most recent call last)",
      "Cell \u001b[0;32mIn[38], line 6\u001b[0m\n\u001b[1;32m      3\u001b[0m \u001b[38;5;28;01mif\u001b[39;00m \u001b[38;5;124m'\u001b[39m\u001b[38;5;124mipykernel\u001b[39m\u001b[38;5;124m'\u001b[39m \u001b[38;5;129;01min\u001b[39;00m sys\u001b[38;5;241m.\u001b[39mmodules:\n\u001b[1;32m      4\u001b[0m     \u001b[38;5;66;03m# Running in a Jupyter notebook\u001b[39;00m\n\u001b[1;32m      5\u001b[0m     \u001b[38;5;28mprint\u001b[39m(\u001b[38;5;124m\"\u001b[39m\u001b[38;5;124mRunning in a Jupyter notebook\u001b[39m\u001b[38;5;124m\"\u001b[39m)\n\u001b[0;32m----> 6\u001b[0m     \u001b[43mnet\u001b[49m\u001b[38;5;241;43m.\u001b[39;49m\u001b[43mrun\u001b[49m\u001b[43m(\u001b[49m\u001b[43msimTime\u001b[49m\u001b[38;5;241;43m*\u001b[39;49m\u001b[43mms\u001b[49m\u001b[43m,\u001b[49m\u001b[43m \u001b[49m\u001b[43mprofile\u001b[49m\u001b[38;5;241;43m=\u001b[39;49m\u001b[38;5;28;43;01mTrue\u001b[39;49;00m\u001b[43m)\u001b[49m\n\u001b[1;32m      7\u001b[0m     \u001b[38;5;66;03m# profiling_summary(net)\u001b[39;00m\n\u001b[1;32m      8\u001b[0m \u001b[38;5;28;01melse\u001b[39;00m:\n\u001b[1;32m      9\u001b[0m     \u001b[38;5;66;03m# Not running in a Jupyter notebook\u001b[39;00m\n\u001b[1;32m     10\u001b[0m     \u001b[38;5;28mprint\u001b[39m(\u001b[38;5;124m\"\u001b[39m\u001b[38;5;124mNot running in a Jupyter notebook\u001b[39m\u001b[38;5;124m\"\u001b[39m)\n",
      "File \u001b[0;32m~/.virtualenvs/IIT/lib/python3.10/site-packages/brian2/core/base.py:335\u001b[0m, in \u001b[0;36mdevice_override.<locals>.device_override_decorator.<locals>.device_override_decorated_function\u001b[0;34m(*args, **kwds)\u001b[0m\n\u001b[1;32m    333\u001b[0m     \u001b[38;5;28;01mreturn\u001b[39;00m \u001b[38;5;28mgetattr\u001b[39m(curdev, name)(\u001b[38;5;241m*\u001b[39margs, \u001b[38;5;241m*\u001b[39m\u001b[38;5;241m*\u001b[39mkwds)\n\u001b[1;32m    334\u001b[0m \u001b[38;5;28;01melse\u001b[39;00m:\n\u001b[0;32m--> 335\u001b[0m     \u001b[38;5;28;01mreturn\u001b[39;00m \u001b[43mfunc\u001b[49m\u001b[43m(\u001b[49m\u001b[38;5;241;43m*\u001b[39;49m\u001b[43margs\u001b[49m\u001b[43m,\u001b[49m\u001b[43m \u001b[49m\u001b[38;5;241;43m*\u001b[39;49m\u001b[38;5;241;43m*\u001b[39;49m\u001b[43mkwds\u001b[49m\u001b[43m)\u001b[49m\n",
      "File \u001b[0;32m~/.virtualenvs/IIT/lib/python3.10/site-packages/brian2/units/fundamentalunits.py:2652\u001b[0m, in \u001b[0;36mcheck_units.<locals>.do_check_units.<locals>.new_f\u001b[0;34m(*args, **kwds)\u001b[0m\n\u001b[1;32m   2642\u001b[0m             error_message \u001b[38;5;241m=\u001b[39m (\n\u001b[1;32m   2643\u001b[0m                 \u001b[38;5;124mf\u001b[39m\u001b[38;5;124m\"\u001b[39m\u001b[38;5;124mFunction \u001b[39m\u001b[38;5;124m'\u001b[39m\u001b[38;5;132;01m{\u001b[39;00mf\u001b[38;5;241m.\u001b[39m\u001b[38;5;18m__name__\u001b[39m\u001b[38;5;132;01m}\u001b[39;00m\u001b[38;5;124m'\u001b[39m\u001b[38;5;124m \u001b[39m\u001b[38;5;124m\"\u001b[39m\n\u001b[1;32m   2644\u001b[0m                 \u001b[38;5;124m\"\u001b[39m\u001b[38;5;124mexpected a quantity with unit \u001b[39m\u001b[38;5;124m\"\u001b[39m\n\u001b[1;32m   2645\u001b[0m                 \u001b[38;5;124mf\u001b[39m\u001b[38;5;124m\"\u001b[39m\u001b[38;5;132;01m{\u001b[39;00munit\u001b[38;5;132;01m}\u001b[39;00m\u001b[38;5;124m for argument \u001b[39m\u001b[38;5;124m'\u001b[39m\u001b[38;5;132;01m{\u001b[39;00mk\u001b[38;5;132;01m}\u001b[39;00m\u001b[38;5;124m'\u001b[39m\u001b[38;5;124m but got \u001b[39m\u001b[38;5;124m\"\u001b[39m\n\u001b[1;32m   2646\u001b[0m                 \u001b[38;5;124mf\u001b[39m\u001b[38;5;124m\"\u001b[39m\u001b[38;5;124m'\u001b[39m\u001b[38;5;132;01m{\u001b[39;00mvalue\u001b[38;5;132;01m}\u001b[39;00m\u001b[38;5;124m'\u001b[39m\u001b[38;5;124m\"\u001b[39m\n\u001b[1;32m   2647\u001b[0m             )\n\u001b[1;32m   2648\u001b[0m             \u001b[38;5;28;01mraise\u001b[39;00m DimensionMismatchError(\n\u001b[1;32m   2649\u001b[0m                 error_message, get_dimensions(newkeyset[k])\n\u001b[1;32m   2650\u001b[0m             )\n\u001b[0;32m-> 2652\u001b[0m result \u001b[38;5;241m=\u001b[39m \u001b[43mf\u001b[49m\u001b[43m(\u001b[49m\u001b[38;5;241;43m*\u001b[39;49m\u001b[43margs\u001b[49m\u001b[43m,\u001b[49m\u001b[43m \u001b[49m\u001b[38;5;241;43m*\u001b[39;49m\u001b[38;5;241;43m*\u001b[39;49m\u001b[43mkwds\u001b[49m\u001b[43m)\u001b[49m\n\u001b[1;32m   2653\u001b[0m \u001b[38;5;28;01mif\u001b[39;00m \u001b[38;5;124m\"\u001b[39m\u001b[38;5;124mresult\u001b[39m\u001b[38;5;124m\"\u001b[39m \u001b[38;5;129;01min\u001b[39;00m au:\n\u001b[1;32m   2654\u001b[0m     \u001b[38;5;28;01mif\u001b[39;00m \u001b[38;5;28misinstance\u001b[39m(au[\u001b[38;5;124m\"\u001b[39m\u001b[38;5;124mresult\u001b[39m\u001b[38;5;124m\"\u001b[39m], Callable) \u001b[38;5;129;01mand\u001b[39;00m au[\u001b[38;5;124m\"\u001b[39m\u001b[38;5;124mresult\u001b[39m\u001b[38;5;124m\"\u001b[39m] \u001b[38;5;129;01mnot\u001b[39;00m \u001b[38;5;129;01min\u001b[39;00m (\n\u001b[1;32m   2655\u001b[0m         \u001b[38;5;28mbool\u001b[39m,\n\u001b[1;32m   2656\u001b[0m         np\u001b[38;5;241m.\u001b[39mbool_,\n\u001b[1;32m   2657\u001b[0m     ):\n",
      "File \u001b[0;32m~/.virtualenvs/IIT/lib/python3.10/site-packages/brian2/core/network.py:1222\u001b[0m, in \u001b[0;36mNetwork.run\u001b[0;34m(self, duration, report, report_period, namespace, profile, level)\u001b[0m\n\u001b[1;32m   1220\u001b[0m         \u001b[38;5;28;01mif\u001b[39;00m obj\u001b[38;5;241m.\u001b[39m_clock \u001b[38;5;129;01min\u001b[39;00m curclocks:\n\u001b[1;32m   1221\u001b[0m             obj_time \u001b[38;5;241m=\u001b[39m time\u001b[38;5;241m.\u001b[39mtime()\n\u001b[0;32m-> 1222\u001b[0m             \u001b[43mobj\u001b[49m\u001b[38;5;241;43m.\u001b[39;49m\u001b[43mrun\u001b[49m\u001b[43m(\u001b[49m\u001b[43m)\u001b[49m\n\u001b[1;32m   1223\u001b[0m             profiling_info[obj\u001b[38;5;241m.\u001b[39mname] \u001b[38;5;241m+\u001b[39m\u001b[38;5;241m=\u001b[39m time\u001b[38;5;241m.\u001b[39mtime() \u001b[38;5;241m-\u001b[39m obj_time\n\u001b[1;32m   1224\u001b[0m \u001b[38;5;28;01melse\u001b[39;00m:\n",
      "File \u001b[0;32m~/.virtualenvs/IIT/lib/python3.10/site-packages/brian2/core/base.py:225\u001b[0m, in \u001b[0;36mBrianObject.run\u001b[0;34m(self)\u001b[0m\n\u001b[1;32m    223\u001b[0m \u001b[38;5;28;01mdef\u001b[39;00m \u001b[38;5;21mrun\u001b[39m(\u001b[38;5;28mself\u001b[39m):\n\u001b[1;32m    224\u001b[0m     \u001b[38;5;28;01mfor\u001b[39;00m codeobj \u001b[38;5;129;01min\u001b[39;00m \u001b[38;5;28mself\u001b[39m\u001b[38;5;241m.\u001b[39m_code_objects:\n\u001b[0;32m--> 225\u001b[0m         \u001b[43mcodeobj\u001b[49m\u001b[43m(\u001b[49m\u001b[43m)\u001b[49m\n",
      "File \u001b[0;32m~/.virtualenvs/IIT/lib/python3.10/site-packages/brian2/codegen/codeobject.py:131\u001b[0m, in \u001b[0;36mCodeObject.__call__\u001b[0;34m(self, **kwds)\u001b[0m\n\u001b[1;32m    128\u001b[0m \u001b[38;5;28mself\u001b[39m\u001b[38;5;241m.\u001b[39mupdate_namespace()\n\u001b[1;32m    129\u001b[0m \u001b[38;5;28mself\u001b[39m\u001b[38;5;241m.\u001b[39mnamespace\u001b[38;5;241m.\u001b[39mupdate(\u001b[38;5;241m*\u001b[39m\u001b[38;5;241m*\u001b[39mkwds)\n\u001b[0;32m--> 131\u001b[0m \u001b[38;5;28;01mreturn\u001b[39;00m \u001b[38;5;28;43mself\u001b[39;49m\u001b[38;5;241;43m.\u001b[39;49m\u001b[43mrun\u001b[49m\u001b[43m(\u001b[49m\u001b[43m)\u001b[49m\n",
      "File \u001b[0;32m~/.virtualenvs/IIT/lib/python3.10/site-packages/brian2/codegen/codeobject.py:159\u001b[0m, in \u001b[0;36mCodeObject.run\u001b[0;34m(self)\u001b[0m\n\u001b[1;32m    149\u001b[0m \u001b[38;5;28;01mdef\u001b[39;00m \u001b[38;5;21mrun\u001b[39m(\u001b[38;5;28mself\u001b[39m):\n\u001b[1;32m    150\u001b[0m \u001b[38;5;250m    \u001b[39m\u001b[38;5;124;03m\"\"\"\u001b[39;00m\n\u001b[1;32m    151\u001b[0m \u001b[38;5;124;03m    Runs the main code in the namespace.\u001b[39;00m\n\u001b[1;32m    152\u001b[0m \n\u001b[0;32m   (...)\u001b[0m\n\u001b[1;32m    157\u001b[0m \u001b[38;5;124;03m        defined during the call of `CodeGenerator.code_object`.\u001b[39;00m\n\u001b[1;32m    158\u001b[0m \u001b[38;5;124;03m    \"\"\"\u001b[39;00m\n\u001b[0;32m--> 159\u001b[0m     \u001b[38;5;28;01mreturn\u001b[39;00m \u001b[38;5;28;43mself\u001b[39;49m\u001b[38;5;241;43m.\u001b[39;49m\u001b[43mrun_block\u001b[49m\u001b[43m(\u001b[49m\u001b[38;5;124;43m\"\u001b[39;49m\u001b[38;5;124;43mrun\u001b[39;49m\u001b[38;5;124;43m\"\u001b[39;49m\u001b[43m)\u001b[49m\n",
      "File \u001b[0;32m~/.virtualenvs/IIT/lib/python3.10/site-packages/brian2/codegen/runtime/cython_rt/cython_rt.py:199\u001b[0m, in \u001b[0;36mCythonCodeObject.run_block\u001b[0;34m(self, block)\u001b[0m\n\u001b[1;32m    197\u001b[0m \u001b[38;5;28;01mif\u001b[39;00m compiled_code:\n\u001b[1;32m    198\u001b[0m     \u001b[38;5;28;01mtry\u001b[39;00m:\n\u001b[0;32m--> 199\u001b[0m         \u001b[38;5;28;01mreturn\u001b[39;00m \u001b[43mcompiled_code\u001b[49m\u001b[38;5;241;43m.\u001b[39;49m\u001b[43mmain\u001b[49m\u001b[43m(\u001b[49m\u001b[38;5;28;43mself\u001b[39;49m\u001b[38;5;241;43m.\u001b[39;49m\u001b[43mnamespace\u001b[49m\u001b[43m)\u001b[49m\n\u001b[1;32m    200\u001b[0m     \u001b[38;5;28;01mexcept\u001b[39;00m \u001b[38;5;167;01mException\u001b[39;00m \u001b[38;5;28;01mas\u001b[39;00m exc:\n\u001b[1;32m    201\u001b[0m         message \u001b[38;5;241m=\u001b[39m (\n\u001b[1;32m    202\u001b[0m             \u001b[38;5;124m\"\u001b[39m\u001b[38;5;124mAn exception occured during the execution of the \u001b[39m\u001b[38;5;124m\"\u001b[39m\n\u001b[1;32m    203\u001b[0m             \u001b[38;5;124mf\u001b[39m\u001b[38;5;124m\"\u001b[39m\u001b[38;5;124m'\u001b[39m\u001b[38;5;132;01m{\u001b[39;00mblock\u001b[38;5;132;01m}\u001b[39;00m\u001b[38;5;124m'\u001b[39m\u001b[38;5;124m block of code object \u001b[39m\u001b[38;5;124m'\u001b[39m\u001b[38;5;132;01m{\u001b[39;00m\u001b[38;5;28mself\u001b[39m\u001b[38;5;241m.\u001b[39mname\u001b[38;5;132;01m}\u001b[39;00m\u001b[38;5;124m'\u001b[39m\u001b[38;5;124m.\u001b[39m\u001b[38;5;130;01m\\n\u001b[39;00m\u001b[38;5;124m\"\u001b[39m\n\u001b[1;32m    204\u001b[0m         )\n",
      "\u001b[0;31mKeyboardInterrupt\u001b[0m: "
     ]
    }
   ],
   "source": [
    "print(f\"Running the simulation for {simTime} ms\")\n",
    "net = Network(collect())\n",
    "if 'ipykernel' in sys.modules:\n",
    "    # Running in a Jupyter notebook\n",
    "    print(\"Running in a Jupyter notebook\")\n",
    "    net.run(simTime*ms, profile=True)\n",
    "    # profiling_summary(net)\n",
    "else:\n",
    "    # Not running in a Jupyter notebook\n",
    "    print(\"Not running in a Jupyter notebook\")\n",
    "    net.run(simTime*ms, report=BrianHF.ProgressBar(), report_period=1*second, profile=True)\n",
    "    # print(profiling_summary(net))\n",
    "print(\"Simulation complete\\n\")"
   ]
  },
  {
   "cell_type": "markdown",
   "id": "42c78bb1",
   "metadata": {},
   "source": [
    "#### _9. (Optional) Visualize the results_"
   ]
  },
  {
   "cell_type": "code",
   "execution_count": null,
   "id": "c80f9916",
   "metadata": {},
   "outputs": [
    {
     "name": "stdout",
     "output_type": "stream",
     "text": [
      "Generating Visualizable Outputs:\n"
     ]
    }
   ],
   "source": [
    "print(\"Generating Visualizable Outputs:\")\n",
    "resultPath = 'SimulationResults'\n",
    "inputStr = BrianHF.filePathGenerator('tempnetIn', networkParams)\n",
    "outputStr = BrianHF.filePathGenerator('tempnetOut', networkParams)\n",
    "\n",
    "# Create the folder if it doesn't exist\n",
    "if not os.path.exists(resultPath):\n",
    "    os.makedirs(resultPath)\n",
    "\n",
    "# Create the subfolders if they don't exist\n",
    "subfolders = ['numpyFrames', 'gifs', 'videos']\n",
    "for subfolder in subfolders:\n",
    "    subfolderPath = os.path.join(resultPath, subfolder)\n",
    "    if not os.path.exists(subfolderPath):\n",
    "        os.makedirs(subfolderPath)"
   ]
  },
  {
   "cell_type": "code",
   "execution_count": null,
   "id": "9e56b8ab",
   "metadata": {},
   "outputs": [],
   "source": [
    "# BrianHF.visualise_connectivity(Syn_Input_Neurons)\n",
    "BrianHF.visualise_spikes([SpikeMon_Input, SpikeMon_Neurons])\n",
    "# BrianHF.visualise_spike_difference(SpikeMon_Input, SpikeMon_Neurons)"
   ]
  },
  {
   "cell_type": "code",
   "execution_count": null,
   "id": "9666a606",
   "metadata": {},
   "outputs": [
    {
     "data": {
      "text/plain": [
       "<spikemonitor.i: array([50978, 65769, 74345, ..., 34866, 41607, 42949], dtype=int32)>"
      ]
     },
     "metadata": {},
     "output_type": "display_data"
    }
   ],
   "source": [
    "display(SpikeMon_Input.i)"
   ]
  },
  {
   "cell_type": "code",
   "execution_count": null,
   "id": "2118fc3b",
   "metadata": {},
   "outputs": [],
   "source": [
    "# Generate the frames for input and output\n",
    "print(\"Generating Frames for Input...\", end=' ')\n",
    "inputFrames = BrianHF.generate_frames(SpikeMon_Input, grid_width, grid_height, num_neurons=N_Neurons)\n",
    "print(\"Generation Complete.\")\n",
    "print(\"Generating Frames for Output...\", end=' ')\n",
    "outputFrames = BrianHF.generate_frames(SpikeMon_Neurons, grid_width, grid_height, num_neurons=N_Neurons)\n",
    "print(\"Generation Complete.\")\n",
    "\n",
    "if SaveNumpyFrames:\n",
    "    # Save the frames\n",
    "    np.save(os.path.join(resultPath, 'numpyFrames', inputStr+'.npy'), inputFrames)\n",
    "    np.save(os.path.join(resultPath, 'numpyFrames', outputStr+'.npy'), outputFrames)\n",
    "\n",
    "GenerateGifs = False\n",
    "if GenerateGIFs:\n",
    "    # Generate the GIFs from the frames\n",
    "    print(\"Generating Input GIF\", end=' ')\n",
    "    BrianHF.generate_gif(inputFrames, os.path.join(resultPath, 'gifs', inputStr+'.gif'), simTime, replicateDuration=True, duration=1e-8)\n",
    "    print(\"Generation Complete.\")\n",
    "    print(\"Generating Output GIF\", end=' ')\n",
    "    BrianHF.generate_gif(outputFrames, os.path.join(resultPath, 'gifs', outputStr+'.gif'), simTime, replicateDuration=True ,duration=1e-8)\n",
    "    print(\"Generation Complete.\")\n",
    "\n",
    "# Generate the Videos from the frames\n",
    "print(\"Generating Input Video\", end=' ')\n",
    "BrianHF.generate_video(outputFrames, os.path.join(resultPath, 'videos', inputStr+'.mp4'), simTime/1000)\n",
    "print(\"Generation Complete.\")\n",
    "print(\"Generating Output Video\", end=' ')\n",
    "BrianHF.generate_video(outputFrames, os.path.join(resultPath, 'videos', outputStr+'.mp4'), simTime/1000)\n",
    "print(\"Generation Complete.\")"
   ]
  },
  {
   "cell_type": "code",
   "execution_count": null,
   "id": "8d6d8447",
   "metadata": {},
   "outputs": [],
   "source": [
    "# store('SimOut', 'SimulationOutput')   # Store the state of the simulation after running"
   ]
  },
  {
   "cell_type": "markdown",
   "id": "ff52fc64",
   "metadata": {
    "lines_to_next_cell": 2
   },
   "source": [
    "\"\"\"\n",
    "I SHOULD REMOVE THIS\n",
    "%%\n",
    "VISUALISATION\n",
    "BrianHF.visualise_spikes([SpikeMon_Input], figSize=(12,3), figTitle='Input Spikes')\n",
    "BrianHF.visualise_spikes([SpikeMon_Neurons], figSize=(12,3), figTitle='Output Spikes')\n",
    "\n",
    "Ploting the interspike interval\n",
    "BrianHF.visualise_interSpikeInterval(SpikeMon_Neurons, [5])\n",
    "BrianHF.visualise_neurons_states(StateMon_Neurons, [4, 5], 'all')    \n"
   ]
  }
 ],
 "metadata": {
  "jupytext": {
   "cell_metadata_filter": "-all",
   "formats": "ipynb,py"
  },
  "kernelspec": {
   "display_name": "IIT",
   "language": "python",
   "name": "python3"
  },
  "language_info": {
   "codemirror_mode": {
    "name": "ipython",
    "version": 3
   },
   "file_extension": ".py",
   "mimetype": "text/x-python",
   "name": "python",
   "nbconvert_exporter": "python",
   "pygments_lexer": "ipython3",
   "version": "3.10.12"
  }
 },
 "nbformat": 4,
 "nbformat_minor": 5
}
