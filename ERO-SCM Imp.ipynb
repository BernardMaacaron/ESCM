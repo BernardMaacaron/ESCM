{
 "cells": [
  {
   "cell_type": "code",
   "execution_count": null,
   "id": "f21826cf",
   "metadata": {},
   "outputs": [],
   "source": [
    "from brian2 import *\n",
    "# set_device('cpp_standalone') # for faster execution - builds a standalone C++ program\n",
    "\n",
    "import NeuronEquations\n",
    "import BrianHF\n",
    "import numpy as np\n",
    "import pickle\n",
    "\n",
    "from bimvee import samplesToEvents as s2e\n",
    "from bimvee.importAe import importAe\n",
    "from EvCamDatabase import DAVIS_346B\n",
    "\n",
    "import os\n",
    "import gc\n",
    "import time\n",
    "\n",
    "# TODO XXX: Turn all lists into numpy arrays for the sake of memory efficiency"
   ]
  },
  {
   "cell_type": "code",
   "execution_count": null,
   "id": "39f1f0e4",
   "metadata": {},
   "outputs": [],
   "source": [
    "# XXX: Extract the event stream using bimvee - needs refactoring to be more general\n",
    "grid_width, grid_height= DAVIS_346B['width'], DAVIS_346B['height']\n",
    "filePath = 'MVSEC_short_outdoor'\n",
    "events = importAe(filePathOrName=filePath)"
   ]
  },
  {
   "cell_type": "code",
   "execution_count": null,
   "id": "544e09a2",
   "metadata": {},
   "outputs": [],
   "source": [
    "try:\n",
    "    eventStream = events[0]['data']['left']['dvs']\n",
    "except:\n",
    "    eventStream = events[0]['data']['right']['dvs']\n",
    "eventStream.popitem()\n",
    "print()"
   ]
  },
  {
   "cell_type": "markdown",
   "id": "ba95929c",
   "metadata": {},
   "source": [
    "## Steps for the setting up the network:\n",
    "1. Generate the input spikes\n",
    "2. Set the parameters for the Simulation and Network (Neurons, Synapses, etc.)\n",
    "3. Prepare the directory structure for saving the results\n",
    "4. Create the neuron group(s)\n",
    "5. Create the synapses\n",
    "6. Connect the synapses\n",
    "7. Define the weights of the synapses\n",
    "8. Set up monitors according to need\n",
    "9. Run the simulation\n",
    "10. (Optional) Visualize the results\n"
   ]
  },
  {
   "cell_type": "markdown",
   "id": "0e59e097",
   "metadata": {},
   "source": [
    "### 1. Generate the input spikes from the event stream\n",
    "###### Brian Simulation Scope"
   ]
  },
  {
   "cell_type": "code",
   "execution_count": null,
   "id": "fbf920ff",
   "metadata": {},
   "outputs": [],
   "source": [
    "# HACK XXX: The input is now not in real time, must be fixed eventually to process real time event data\n",
    "# IMPORTANT NOTE: Output is float, so we need to convert to Quantities (i.e give them units)\n",
    "\n",
    "# Simulation Parameters\n",
    "# prefs.codegen.target = 'numpy'\n",
    "defaultclock.dt = 0.2*ms\n",
    "samplePerc = 1.0\n",
    "SaveNumpyFrames = False\n",
    "GenerateGIFs = False\n",
    "GenerateVideos = True\n",
    "\n",
    "GenerateInputVisuals = False\n",
    "GenerateOutputVisuals = True\n",
    "\n",
    "\n",
    "simTime, clockStep, inputSpikesGen = BrianHF.event_to_spike(eventStream, grid_width, grid_height,\n",
    "                                                            dt = defaultclock.dt, timeScale = 1.0, samplePercentage=samplePerc)\n",
    "# defaultclock.dt = clockStep*ms\n",
    "print(\"Input event stream successfully converted to spike trains\\n\")"
   ]
  },
  {
   "cell_type": "markdown",
   "id": "104794b5",
   "metadata": {},
   "source": [
    "### 2. Set the parameters for the Simulation and Network (Neurons, Synapses, etc.)\n",
    "Parameter values can be tuned per namespace (this is done for clarity purposes)."
   ]
  },
  {
   "cell_type": "code",
   "execution_count": null,
   "id": "26284c26",
   "metadata": {},
   "outputs": [],
   "source": [
    "# NOTE: The values are unitless for now, time constants are in ms simply to be able to tune to the simulation clock\n",
    "\n",
    "# Neuron Parameters\n",
    "N_Neurons = grid_width * grid_height    # Number of neurons\n",
    "\n",
    "Neuron_Params = {'tau': 0.1*ms, 'tauSpi': 0.5*ms, 'vt': 1.0, 'vr': 0.0, 'P': 0, 'incoming_spikes': 0, 'method_Neuron': 'euler'}\n",
    "tau = Neuron_Params['tau']\n",
    "tauSpi = Neuron_Params['tauSpi']\n",
    "vt = Neuron_Params['vt']\n",
    "vr = Neuron_Params['vr']\n",
    "P = Neuron_Params['P']\n",
    "incoming_spikes = Neuron_Params['incoming_spikes']\n",
    "\n",
    "Eqs_Neurons = NeuronEquations.EQ_SCM_IF    # Neurons Equation\n",
    " \n",
    "# Synapse Parameters\n",
    "'''\n",
    "Neighborhood Size (num_Neighbors) - Affects the number of neighbors a central neuron based on the L1 Distance\n",
    "Neighboring Neurons --> (abs(X_pre - X_post) <= Num_Neighbours  and abs(Y_pre - Y_post) <= Num_Neighbours)\n",
    "'''\n",
    "Syn_Params = {'Num_Neighbours' : 20, 'beta': 1.5, 'Wi': 10, 'Wk': -1.5, 'method_Syn': 'euler'}\n",
    "Num_Neighbours = Syn_Params['Num_Neighbours']\n",
    "beta = Syn_Params['beta']\n",
    "Wi = Syn_Params['Wi']\n",
    "Wk = Syn_Params['Wk']\n",
    "\n",
    "# Generate the dictionary of parameters for the network\n",
    "networkParams = {**Neuron_Params, **Syn_Params, 'Sim_Clock': defaultclock.dt, 'Sample_Perc': samplePerc}"
   ]
  },
  {
   "cell_type": "markdown",
   "id": "dc6e626e",
   "metadata": {},
   "source": [
    "### 3. Prepare the directory structure for saving the results"
   ]
  },
  {
   "cell_type": "code",
   "execution_count": null,
   "id": "7adc05d0",
   "metadata": {},
   "outputs": [],
   "source": [
    "resultPath = 'SimulationResults'\n",
    "inputStr = BrianHF.filePathGenerator('SCM_IF_IN', networkParams).replace(\" \", \"\")\n",
    "outputStr = BrianHF.filePathGenerator('SCM_IF_OUT', networkParams).replace(\" \", \"\")\n",
    "\n",
    "# Create the folder if it doesn't exist\n",
    "if not os.path.exists(resultPath):\n",
    "    os.makedirs(resultPath)\n",
    "\n",
    "# Create the subfolders if they don't exist\n",
    "subfolders = ['spikeFrames', 'numpyFrames', 'gifs', 'videos']\n",
    "for subfolder in subfolders:\n",
    "    subfolderPath = os.path.join(resultPath, subfolder)\n",
    "    if not os.path.exists(subfolderPath):\n",
    "        os.makedirs(subfolderPath)"
   ]
  },
  {
   "cell_type": "markdown",
   "id": "eccdf9d3",
   "metadata": {},
   "source": [
    "### 4. Create the neuron group(s)"
   ]
  },
  {
   "cell_type": "code",
   "execution_count": null,
   "id": "0f893b6b",
   "metadata": {},
   "outputs": [],
   "source": [
    "print('Creating Neuron Groups...')"
   ]
  },
  {
   "cell_type": "code",
   "execution_count": null,
   "id": "4cd78704",
   "metadata": {},
   "outputs": [],
   "source": [
    "# TODO XXX: The events are running on the clockStep, I should at least fix them to use the (event_driven) setting in Brian2\n",
    "neuronsGrid = NeuronGroup(N_Neurons, Eqs_Neurons, threshold='v>vt',\n",
    "                            reset='''\n",
    "                            v = vr\n",
    "                            incoming_spikes_post = 0\n",
    "                            ''',\n",
    "                            refractory='0*ms',\n",
    "                            events={'P_ON': 'v > vt', 'P_OFF': '(timestep(t - lastspike, dt) > timestep(dt, dt) and v <= vt)'},\n",
    "                            method= 'euler',\n",
    "                            namespace=Neuron_Params)\n",
    "\n",
    "\n",
    "# Define the created events, the actions to be taken as well as when they should be evaluated and executed\n",
    "neuronsGrid.run_on_event('P_ON', 'P = 1' , when = 'after_thresholds')\n",
    "neuronsGrid.set_event_schedule('P_OFF', when = 'before_groups')\n",
    "neuronsGrid.run_on_event('P_OFF', 'P = 0', when = 'before_groups')\n",
    "\n",
    "# FIXME: Verify the grid coordinates and assign the X and Y values to the neurons accordingly\n",
    "# Generate x and y values for each neuron\n",
    "x_values = np.repeat(np.arange(grid_width), grid_height)\n",
    "y_values = np.tile(np.arange(grid_height), grid_width)\n",
    "neuronsGrid.X = x_values\n",
    "neuronsGrid.Y = y_values"
   ]
  },
  {
   "cell_type": "code",
   "execution_count": null,
   "id": "9e5c3189",
   "metadata": {},
   "outputs": [],
   "source": [
    "print('Neuron Groups created successfully\\n')"
   ]
  },
  {
   "cell_type": "markdown",
   "id": "3d5dfea0",
   "metadata": {},
   "source": [
    "#### 5. Create the synapses"
   ]
  },
  {
   "cell_type": "code",
   "execution_count": null,
   "id": "0d735bdb",
   "metadata": {},
   "outputs": [],
   "source": [
    "print('Creating Synapse Connections...')"
   ]
  },
  {
   "cell_type": "code",
   "execution_count": null,
   "id": "e1b4e8c7",
   "metadata": {},
   "outputs": [],
   "source": [
    "Syn_Input_Neurons = Synapses(inputSpikesGen, neuronsGrid, 'beta : 1 (constant)', on_pre='ExtIn_post = beta')\n",
    "\n",
    "# NOTE: In hopes of reducing simulation time, I am using _pre keyword to avoid the need for an autapse. Hence only one Synapse group is needed\n",
    "Syn_Neurons_Neurons = Synapses(neuronsGrid, neuronsGrid,\n",
    "                               '''\n",
    "                               Wi : 1 (constant)\n",
    "                               Wk : 1 (constant)\n",
    "                               ''',\n",
    "                               on_pre={\n",
    "                                   'pre':'incoming_spikes_post += 1; Exc_pre = Wi',\n",
    "                                   'after_pre': 'Inh_post = P_post * clip(Inh_post + Wk * incoming_spikes_post/N_outgoing, Wk, 0)'},\n",
    "                               method= 'euler',\n",
    "                               namespace=Syn_Params)"
   ]
  },
  {
   "cell_type": "markdown",
   "id": "a607366e",
   "metadata": {},
   "source": [
    "### 6. Connect the synapses"
   ]
  },
  {
   "cell_type": "code",
   "execution_count": null,
   "id": "3214ee9b",
   "metadata": {},
   "outputs": [],
   "source": [
    "# Connect the first synapses from input to G_neurons on a 1 to 1 basis\n",
    "Syn_Input_Neurons.connect(j='i') \n",
    "Syn_Input_Neurons.beta = beta"
   ]
  },
  {
   "cell_type": "code",
   "execution_count": null,
   "id": "cc24c760",
   "metadata": {},
   "outputs": [],
   "source": [
    "''' NOTE: The following code implements the connections for the Neurons to Neurons synapses\n",
    "which as mentioned before implicitly includes the autapses.\n",
    "The code below is a faster implementation of:\n",
    "    Syn_Neurons_Neurons.connect(condition='i != j and abs(X_pre - X_post) <= Num_Neighbours and abs(Y_pre - Y_post) <= Num_Neighbours')\n",
    "'''\n",
    "\n",
    "indexes_i, indexes_j = BrianHF.calculate_ChebyshevNeighbours(neuronsGrid, Num_Neighbours)\n",
    "Syn_Neurons_Neurons.connect(i=indexes_i, j=indexes_j)\n",
    "Syn_Neurons_Neurons.Wi = Wi\n",
    "Syn_Neurons_Neurons.Wk = Wk"
   ]
  },
  {
   "cell_type": "code",
   "execution_count": null,
   "id": "0cdff4bf",
   "metadata": {},
   "outputs": [],
   "source": [
    "print('Synapse Connections created successfully\\n')"
   ]
  },
  {
   "cell_type": "markdown",
   "id": "1cafbbe0",
   "metadata": {},
   "source": [
    "### 7. Set up monitors"
   ]
  },
  {
   "cell_type": "code",
   "execution_count": null,
   "id": "95566c9d",
   "metadata": {},
   "outputs": [],
   "source": [
    "if GenerateInputVisuals:\n",
    "    SpikeMon_Input = SpikeMonitor(inputSpikesGen)    # Monitor the spikes from the input\n",
    "\n",
    "# IMPORTANT NOTE: The SpikeMonitor for the active neurons is moved to the simulation block to avoid memory issues.\n",
    "# The data is now broken down into smaller chunks and saved to disk\n",
    "\n",
    "# StateMon_Neurons = StateMonitor(neuronsGrid, variables=True, record=True)    # Monitor the state variables - True for all variables. NOTE: WARNING!! Excessive memory usage"
   ]
  },
  {
   "cell_type": "markdown",
   "id": "bc987400",
   "metadata": {},
   "source": [
    "### 8. Run the simulation"
   ]
  },
  {
   "cell_type": "code",
   "execution_count": null,
   "id": "3eef4113",
   "metadata": {},
   "outputs": [],
   "source": [
    "BrianLogger.log_level_error()    # Only log errors to avoid excessive output\n",
    "\n",
    "N = 10  # Number of runs\n",
    "run_time = simTime / N  # Duration of each run\n",
    "spikeTimeStamps = np.array([])\n",
    "spikeIndices = np.array([], dtype=int)\n",
    "\n",
    "# SpikeMon_Neurons = SpikeMonitor(neuronsGrid)    # Monitor the spikes from the neuron grid\n",
    "\n",
    "\n",
    "print(\"Starting simulation - Total time: \", simTime*ms)\n",
    "for i in range(N):\n",
    "    print(f\"Running simulation chunk {i+1}/{N} for {run_time} ms\")\n",
    "    SpikeMon_Neurons = SpikeMonitor(neuronsGrid)    # Monitor the spikes from the neuron grid\n",
    "    \n",
    "    if 'ipykernel' in sys.modules:\n",
    "        # Running in a Jupyter notebook\n",
    "        print(\"Running in a Jupyter notebook\")\n",
    "        run(run_time*ms, profile=True)\n",
    "        # profiling_summary(net)\n",
    "    else:\n",
    "        # Not running in a Jupyter notebook\n",
    "        print(\"Not running in a Jupyter notebook\")\n",
    "        run(run_time*ms, report=BrianHF.ProgressBar(), report_period=1*second, profile=True)\n",
    "        # print(profiling_summary(net))\n",
    "    \n",
    "    spikeTimeStamps = np.append(spikeTimeStamps, SpikeMon_Neurons.t[:])\n",
    "    spikeIndices = np.append(spikeIndices, SpikeMon_Neurons.i[:])\n",
    "    \n",
    "    del SpikeMon_Neurons\n",
    "    gc.collect()\n",
    "    \n",
    "# data = {'spikeTimeStamps': spikeTimeStamps, 'spikeIndices': spikeIndices}\n",
    "# filename = os.path.join(resultPath, 'spikeFrames', outputStr+'.data')\n",
    "# with open(filename, 'w') as f:\n",
    "#     pickle.dump(data, f)\n",
    "# del data\n",
    "print(\"Simulation complete\\n\")\n"
   ]
  },
  {
   "cell_type": "markdown",
   "id": "cf1f8ae8",
   "metadata": {},
   "source": [
    "#### _9. (Optional) Visualize the results_"
   ]
  },
  {
   "cell_type": "markdown",
   "id": "1d049713",
   "metadata": {
    "lines_to_next_cell": 2
   },
   "source": [
    "print(\"Generating Visualizable Outputs:\")\n",
    "BrianHF.visualise_connectivity(Syn_Input_Neurons)\n",
    "BrianHF.visualise_spikes([SpikeMon_Input, SpikeMon_Neurons])\n",
    "BrianHF.visualise_spike_difference(SpikeMon_Input, SpikeMon_Neurons)"
   ]
  },
  {
   "cell_type": "code",
   "execution_count": null,
   "id": "c428ce42",
   "metadata": {},
   "outputs": [],
   "source": [
    "# Generate the frames for input\n",
    "if GenerateInputVisuals:\n",
    "    print(\"Generating Frames for Input...\", end=' ')\n",
    "    inputFrames = BrianHF.generate_frames(SpikeMon_Input.t, SpikeMon_Input.i, grid_width, grid_height, num_neurons=N_Neurons)\n",
    "    print(\"Input Frames Generation Complete.\")\n",
    "\n",
    "    # Save the frames\n",
    "    if SaveNumpyFrames:\n",
    "        print(\"Saving Input Frames as Numpy Arrays...\")\n",
    "        filename = os.path.join(resultPath, 'numpyFrames', inputStr+'.npy')\n",
    "        if os.path.exists(filename):\n",
    "            filename = os.path.join(resultPath, 'numpyFrames', f\"{inputStr}_{int(time.time())}.npy\")\n",
    "        np.save(filename, inputFrames)\n",
    "        print(\"Input Numpy Array Saved.\")\n",
    "\n",
    "\n",
    "    # Generate the GIFs from the frames\n",
    "    if GenerateGIFs:\n",
    "        print(\"Generating Input GIFs...\")\n",
    "        filename = os.path.join(resultPath, 'gifs', inputStr+'.gif')\n",
    "        if os.path.exists(filename):\n",
    "            filename = os.path.join(resultPath, 'gifs', f\"{inputStr}_{int(time.time())}.gif\")\n",
    "        BrianHF.generate_gif(inputFrames, filename, simTime, replicateDuration=True, duration=1e-8)\n",
    "        print(\"Input GIF Generation Complete.\")\n",
    "\n",
    "\n",
    "    # Generate the Videos from the frames\n",
    "    if GenerateVideos:\n",
    "        print(\"Generating Videos...\")\n",
    "        filename = os.path.join(resultPath, 'videos', inputStr+'.mp4')\n",
    "        if os.path.exists(filename):\n",
    "            filename = os.path.join(resultPath, 'videos', f\"{inputStr}_{int(time.time())}.mp4\")\n",
    "        BrianHF.generate_video(inputFrames, filename, simTime/1000)\n",
    "        print(\"Input Video Generation Complete.\")\n",
    "\n",
    "    del inputFrames\n",
    "    del SpikeMon_Input\n",
    "    gc.collect()"
   ]
  },
  {
   "cell_type": "code",
   "execution_count": null,
   "id": "efdd57ca",
   "metadata": {
    "lines_to_next_cell": 2
   },
   "outputs": [],
   "source": [
    "if GenerateOutputVisuals:\n",
    "    print(\"Generating Frames for Output...\", end=' ')\n",
    "    #outputFrames = BrianHF.generate_frames(SpikeMon_Neurons.t/ms, SpikeMon_Neurons.i, grid_width, grid_height, num_neurons=N_Neurons)\n",
    "    outputFrames = BrianHF.generate_frames(spikeTimeStamps, spikeIndices, grid_width, grid_height, num_neurons=N_Neurons)\n",
    "    print(\"Output Frames Generation Complete.\")\n",
    "    videoTime = spikeTimeStamps[-1] if len(spikeTimeStamps) > 0 else simTime\n",
    "    print(f\"Video Time: {videoTime}\")\n",
    "    del spikeTimeStamps, spikeIndices\n",
    "    gc.collect()\n",
    "    \n",
    "    # if GenerateBimvee:\n",
    "    #     print(\"Generating Bimvee Output...\")\n",
    "    #     # Generate the Bimvee output\n",
    "    #     bimveeOutput = s2e({'ts': spikeTimeStamps, 'value': spikeIndices})\n",
    "    #     filename = os.path.join(resultPath, 'bimvee', outputStr+'.npy')\n",
    "    #     if os.path.exists(filename):\n",
    "    #         filename = os.path.join(resultPath, 'bimvee', f\"{outputStr}_{int(time.time())}.npy\")\n",
    "    #     np.save(filename, bimveeOutput)\n",
    "    #     print(\"Bimvee Output Generation Complete.\")\n",
    "    \n",
    "    # Save the frames\n",
    "    if SaveNumpyFrames:\n",
    "        print(\"Saving Input Frames as Numpy Arrays...\")\n",
    "        filename = os.path.join(resultPath, 'numpyFrames', outputStr+'.npy')\n",
    "        if os.path.exists(filename):\n",
    "            filename = os.path.join(resultPath, 'numpyFrames', f\"{outputStr}_{int(time.time())}.npy\")\n",
    "        np.save(filename, outputFrames)\n",
    "        print(\"Output Numpy Array Saved.\")\n",
    "\n",
    "\n",
    "    # Generate the GIFs from the frames\n",
    "    if GenerateGIFs:\n",
    "        print(\"Generating Input GIFs...\")\n",
    "        filename = os.path.join(resultPath, 'gifs', outputStr+'.gif')\n",
    "        if os.path.exists(filename):\n",
    "            filename = os.path.join(resultPath, 'gifs', f\"{outputStr}_{int(time.time())}.gif\")\n",
    "        BrianHF.generate_gif(outputFrames, filename, simTime, replicateDuration=True, duration=1e-8)\n",
    "        print(\"Output GIF Generation Complete.\")\n",
    "\n",
    "\n",
    "    # Generate the Videos from the frames\n",
    "    if GenerateVideos:\n",
    "        print(\"Generating Videos...\")\n",
    "        filename = os.path.join(resultPath, 'videos', outputStr+'.mp4')\n",
    "        if os.path.exists(filename):\n",
    "            filename = os.path.join(resultPath, 'videos', f\"{outputStr}_{int(time.time())}.mp4\")\n",
    "        BrianHF.generate_video(outputFrames, filename, videoTime)\n",
    "        print(\"Output Video Generation Complete.\")\n",
    "\n",
    "    del outputFrames"
   ]
  },
  {
   "cell_type": "code",
   "execution_count": null,
   "id": "33d82f77",
   "metadata": {},
   "outputs": [],
   "source": [
    "'''\n",
    "# Generate the frames for input and output\n",
    "print(\"Generating Frames for Input...\", end=' ')\n",
    "inputFrames = BrianHF.generate_frames(SpikeMon_Input, grid_width, grid_height, num_neurons=N_Neurons)\n",
    "print(\"Generation Complete.\")\n",
    "print(\"Generating Frames for Output...\", end=' ')\n",
    "outputFrames = BrianHF.generate_frames(SpikeMon_Neurons, grid_width, grid_height, num_neurons=N_Neurons)\n",
    "print(\"Generation Complete.\")\n",
    "\n",
    "if SaveNumpyFrames:\n",
    "    # Save the frames\n",
    "    np.save(os.path.join(resultPath, 'numpyFrames', inputStr+'.npy'), inputFrames)\n",
    "    np.save(os.path.join(resultPath, 'numpyFrames', outputStr+'.npy'), outputFrames)\n",
    "\n",
    "GenerateGifs = False\n",
    "if GenerateGIFs:\n",
    "    # Generate the GIFs from the frames\n",
    "    print(\"Generating Input GIF\", end=' ')\n",
    "    BrianHF.generate_gif(inputFrames, os.path.join(resultPath, 'gifs', inputStr+'.gif'), simTime, replicateDuration=True, duration=1e-8)\n",
    "    print(\"Generation Complete.\")\n",
    "    print(\"Generating Output GIF\", end=' ')\n",
    "    BrianHF.generate_gif(outputFrames, os.path.join(resultPath, 'gifs', outputStr+'.gif'), simTime, replicateDuration=True ,duration=1e-8)\n",
    "    print(\"Generation Complete.\")\n",
    "\n",
    "# Generate the Videos from the frames\n",
    "print(\"Generating Input Video\", end=' ')\n",
    "BrianHF.generate_video(outputFrames, os.path.join(resultPath, 'videos', inputStr+'.mp4'), simTime/1000)\n",
    "print(\"Generation Complete.\")\n",
    "print(\"Generating Output Video\", end=' ')\n",
    "BrianHF.generate_video(outputFrames, os.path.join(resultPath, 'videos', outputStr+'.mp4'), simTime/1000)\n",
    "print(\"Generation Complete.\")\n",
    "'''"
   ]
  },
  {
   "cell_type": "code",
   "execution_count": null,
   "id": "94f1801d",
   "metadata": {},
   "outputs": [],
   "source": [
    "# store('SimOut', 'SimulationOutput')   # Store the state of the simulation after running"
   ]
  }
 ],
 "metadata": {
  "jupytext": {
   "cell_metadata_filter": "-all",
   "formats": "ipynb,py"
  },
  "kernelspec": {
   "display_name": "IIT",
   "language": "python",
   "name": "python3"
  },
  "language_info": {
   "name": "python",
   "version": "3.10.14"
  }
 },
 "nbformat": 4,
 "nbformat_minor": 5
}
